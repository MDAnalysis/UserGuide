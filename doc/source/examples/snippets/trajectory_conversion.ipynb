{
 "cells": [
  {
   "cell_type": "markdown",
   "metadata": {},
   "source": [
    "# Converting between file formats\n",
    "\n",
    "A common use of MDAnalysis is to convert data between formats. This is simply a small demonstration of how to. Please see the user guide for more information.\n",
    "\n",
    "**See also:**\n",
    "\n",
    "* [Reading and writing files](../../reading_and_writing.rst)\n",
    "* [Format overview](../../formats/index.rst)\n",
    "* [Format reference](../../formats/format_reference.rst)"
   ]
  },
  {
   "cell_type": "code",
   "execution_count": 1,
   "metadata": {
    "ExecuteTime": {
     "end_time": "2020-12-28T03:15:49.879706Z",
     "start_time": "2020-12-28T03:15:48.632788Z"
    }
   },
   "outputs": [],
   "source": [
    "import MDAnalysis as mda\n",
    "from MDAnalysis.tests.datafiles import PRM, TRJ_bz2"
   ]
  },
  {
   "cell_type": "markdown",
   "metadata": {},
   "source": [
    "We first create a Universe from the example AMBER format files."
   ]
  },
  {
   "cell_type": "code",
   "execution_count": 2,
   "metadata": {
    "ExecuteTime": {
     "end_time": "2020-12-28T03:16:29.946332Z",
     "start_time": "2020-12-28T03:16:29.609901Z"
    }
   },
   "outputs": [],
   "source": [
    "u = mda.Universe(PRM, TRJ_bz2)"
   ]
  },
  {
   "cell_type": "markdown",
   "metadata": {},
   "source": [
    "MDAnalysis determines formats by extension. Below, we convert to DCD. We need the number of atoms as an argument. We then loop over the trajectory to write each frame out."
   ]
  },
  {
   "cell_type": "code",
   "execution_count": 4,
   "metadata": {
    "ExecuteTime": {
     "end_time": "2020-12-28T03:18:51.275546Z",
     "start_time": "2020-12-28T03:18:51.250424Z"
    }
   },
   "outputs": [],
   "source": [
    "with mda.Writer(\"output.dcd\", len(u.atoms)) as w: # number of atoms\n",
    "    for ts in u.trajectory:\n",
    "        w.write(u.atoms)"
   ]
  },
  {
   "cell_type": "markdown",
   "metadata": {},
   "source": [
    "Alternatively, we can write out a single frame as a PDB. We can also select a group of atoms to write out. Below we select only the atoms named \"H\"."
   ]
  },
  {
   "cell_type": "code",
   "execution_count": 8,
   "metadata": {
    "ExecuteTime": {
     "end_time": "2020-12-28T03:19:44.242719Z",
     "start_time": "2020-12-28T03:19:44.235889Z"
    }
   },
   "outputs": [
    {
     "data": {
      "text/plain": [
       "<AtomGroup with 13 atoms>"
      ]
     },
     "execution_count": 8,
     "metadata": {},
     "output_type": "execute_result"
    }
   ],
   "source": [
    "ag = u.select_atoms(\"name H\")\n",
    "ag"
   ]
  },
  {
   "cell_type": "markdown",
   "metadata": {},
   "source": [
    "We set the frame to the second frame (with index 1). Simply indexing the trajectory sets it to that frame."
   ]
  },
  {
   "cell_type": "code",
   "execution_count": 10,
   "metadata": {
    "ExecuteTime": {
     "end_time": "2020-12-28T03:20:51.606214Z",
     "start_time": "2020-12-28T03:20:51.590556Z"
    }
   },
   "outputs": [
    {
     "data": {
      "text/plain": [
       "< Timestep 1 with unit cell dimensions [0. 0. 0. 0. 0. 0.] >"
      ]
     },
     "execution_count": 10,
     "metadata": {},
     "output_type": "execute_result"
    }
   ],
   "source": [
    "u.trajectory[1]"
   ]
  },
  {
   "cell_type": "markdown",
   "metadata": {},
   "source": [
    "And now we can write it out:"
   ]
  },
  {
   "cell_type": "code",
   "execution_count": 9,
   "metadata": {
    "ExecuteTime": {
     "end_time": "2020-12-28T03:20:30.310969Z",
     "start_time": "2020-12-28T03:20:30.301742Z"
    }
   },
   "outputs": [],
   "source": [
    "with mda.Writer(\"h_atoms.pdb\", len(ag)) as w:\n",
    "    w.write(ag)"
   ]
  }
 ],
 "metadata": {
  "kernelspec": {
   "display_name": "Python (mda-user-guide)",
   "language": "python",
   "name": "mda-user-guide"
  },
  "language_info": {
   "codemirror_mode": {
    "name": "ipython",
    "version": 3
   },
   "file_extension": ".py",
   "mimetype": "text/x-python",
   "name": "python",
   "nbconvert_exporter": "python",
   "pygments_lexer": "ipython3",
   "version": "3.8.3"
  },
  "toc": {
   "base_numbering": 1,
   "nav_menu": {},
   "number_sections": true,
   "sideBar": true,
   "skip_h1_title": false,
   "title_cell": "Table of Contents",
   "title_sidebar": "Contents",
   "toc_cell": false,
   "toc_position": {},
   "toc_section_display": true,
   "toc_window_display": false
  }
 },
 "nbformat": 4,
 "nbformat_minor": 4
}
