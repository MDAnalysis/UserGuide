{
 "cells": [
  {
   "cell_type": "markdown",
   "metadata": {},
   "source": [
    "# Calculating and plotting the order parameter of a lipid\n",
    "\n",
    "This is a snippet demonstration of how to calculate the acyl chain order parameter (orientation of the C-H bond with respect to the bilayer normal) of a lipid. As it is not a full tutorial, we will not go into in-depth explanation of the analysis. Please see <a data-cite=\"piggot_calculation_2017\" href=\"https://doi.org/10.1021/acs.jctc.7b00643\">Piggot *et al.*, 2017</a> for more discussion on order parameters.\n",
    "\n",
    "**Last executed:** Dec 29, 2020 with MDAnalysis 2.0.0-dev0\n"
   ]
  },
  {
   "cell_type": "code",
   "execution_count": 1,
   "metadata": {
    "ExecuteTime": {
     "end_time": "2020-12-29T10:23:17.418662Z",
     "start_time": "2020-12-29T10:23:17.401104Z"
    }
   },
   "outputs": [],
   "source": [
    "import MDAnalysis as mda\n",
    "from MDAnalysis.tests.datafiles import GRO_MEMPROT\n",
    "import numpy as np\n",
    "import matplotlib.pyplot as plt\n",
    "%matplotlib inline"
   ]
  },
  {
   "cell_type": "markdown",
   "metadata": {},
   "source": [
    "We load in a frame of POPE and POPG lipids."
   ]
  },
  {
   "cell_type": "code",
   "execution_count": 2,
   "metadata": {
    "ExecuteTime": {
     "end_time": "2020-12-28T10:37:18.912954Z",
     "start_time": "2020-12-28T10:37:18.006212Z"
    }
   },
   "outputs": [],
   "source": [
    "u = mda.Universe(GRO_MEMPROT)"
   ]
  },
  {
   "cell_type": "markdown",
   "metadata": {},
   "source": [
    "For this example we focus on POPE."
   ]
  },
  {
   "cell_type": "code",
   "execution_count": 3,
   "metadata": {
    "ExecuteTime": {
     "end_time": "2020-12-28T10:37:47.134880Z",
     "start_time": "2020-12-28T10:37:47.081881Z"
    }
   },
   "outputs": [],
   "source": [
    "pope = u.select_atoms(\"resname POPE\")"
   ]
  },
  {
   "cell_type": "markdown",
   "metadata": {},
   "source": [
    "We examine the names of the carbon and hydrogen atoms to see how many, and which, tail carbons we should analyse."
   ]
  },
  {
   "cell_type": "code",
   "execution_count": 4,
   "metadata": {
    "ExecuteTime": {
     "end_time": "2020-12-29T05:46:50.475186Z",
     "start_time": "2020-12-29T05:46:50.467960Z"
    }
   },
   "outputs": [
    {
     "data": {
      "text/plain": [
       "array(['HN1', 'HN2', 'HN3', 'C12', 'H12A', 'H12B', 'C11', 'H11A', 'H11B',\n",
       "       'C1', 'HA', 'HB', 'C2', 'HS', 'C21', 'C22', 'H2R', 'H2S', 'C3',\n",
       "       'HX', 'HY', 'C31', 'C32', 'H2X', 'H2Y', 'C23', 'H3R', 'H3S', 'C24',\n",
       "       'H4R', 'H4S', 'C25', 'H5R', 'H5S', 'C26', 'H6R', 'H6S', 'C27',\n",
       "       'H7R', 'H7S', 'C28', 'H8R', 'H8S', 'C29', 'H91', 'C210', 'H101',\n",
       "       'C211', 'H11R', 'H11S', 'C212', 'H12R', 'H12S', 'C213', 'H13R',\n",
       "       'H13S', 'C214', 'H14R', 'H14S', 'C215', 'H15R', 'H15S', 'C216',\n",
       "       'H16R', 'H16S', 'C217', 'H17R', 'H17S', 'C218', 'H18R', 'H18S',\n",
       "       'H18T', 'C33', 'H3X', 'H3Y', 'C34', 'H4X', 'H4Y', 'C35', 'H5X',\n",
       "       'H5Y', 'C36', 'H6X', 'H6Y', 'C37', 'H7X', 'H7Y', 'C38', 'H8X',\n",
       "       'H8Y', 'C39', 'H9X', 'H9Y', 'C310', 'H10X', 'H10Y', 'C311', 'H11X',\n",
       "       'H11Y', 'C312', 'H12X', 'H12Y', 'C313', 'H13X', 'H13Y', 'C314',\n",
       "       'H14X', 'H14Y', 'C315', 'H15X', 'H15Y', 'C316', 'H16X', 'H16Y',\n",
       "       'H16Z'], dtype=object)"
      ]
     },
     "execution_count": 4,
     "metadata": {},
     "output_type": "execute_result"
    }
   ],
   "source": [
    "last = pope.residues[-1].atoms\n",
    "last.select_atoms(\"name C* H*\").names"
   ]
  },
  {
   "cell_type": "markdown",
   "metadata": {},
   "source": [
    "Tail carbons typically fit the pattern of C2-HR-HS and C3-HX-HY; as seen, so do the POPE molecules in this frame. From the names of the atoms, we can deduce that we should be looking at the tail carbons from 2 to 16.\n",
    "\n",
    "We set up an output array, ``order``, to hold the order parameter for each tail carbon."
   ]
  },
  {
   "cell_type": "code",
   "execution_count": 5,
   "metadata": {
    "ExecuteTime": {
     "end_time": "2020-12-29T08:45:37.892441Z",
     "start_time": "2020-12-29T08:45:37.885171Z"
    }
   },
   "outputs": [],
   "source": [
    "c_nums = np.arange(2, 16)\n",
    "order = np.zeros(len(c_nums))"
   ]
  },
  {
   "cell_type": "markdown",
   "metadata": {},
   "source": [
    "Below we iterate through each tail carbon number, select the hydrogens and carbons, and calculate the average bond parameter. In order to do this for a trajectory, you could repeat the below analysis by looping over each frame of a trajectory."
   ]
  },
  {
   "cell_type": "code",
   "execution_count": 6,
   "metadata": {
    "ExecuteTime": {
     "end_time": "2020-12-29T10:20:51.237399Z",
     "start_time": "2020-12-29T10:20:49.238263Z"
    }
   },
   "outputs": [],
   "source": [
    "for i, n in enumerate(c_nums):\n",
    "    c2 = pope.select_atoms(f\"name C2{n}\")\n",
    "    hr = pope.select_atoms(f\"name H{n}R\")\n",
    "    hs = pope.select_atoms(f\"name H{n}S\")\n",
    "    c3 = pope.select_atoms(f\"name C3{n}\")\n",
    "    hx = pope.select_atoms(f\"name H{n}X\")\n",
    "    hy = pope.select_atoms(f\"name H{n}Y\")\n",
    "    \n",
    "    # we know that the pattern should be C2-HR-HS and C3-HX-HY\n",
    "    # however, not all C2s and C3s have R/S/X/Ys attached\n",
    "    # so we add the position vectors only if there are the\n",
    "    # right numbers of Hs for each C\n",
    "    ch1 = []\n",
    "    ch2 = []\n",
    "    \n",
    "    if len(hr) == len(c2) and len(hs) == len(c2):\n",
    "        cxyz = c2.positions\n",
    "        ch1 += list(hr.positions - cxyz)\n",
    "        ch2 += list(hs.positions - cxyz)\n",
    "    \n",
    "    if len(hx) == len(c3) and len(hy) == len(c3):\n",
    "        cxyz = c3.positions\n",
    "        ch1 += list(hx.positions - cxyz)\n",
    "        ch2 += list(hy.positions - cxyz)\n",
    "    \n",
    "    # this gives us vectors from C to H\n",
    "    vecs = np.concatenate([ch1, ch2], axis=0)\n",
    "    norms = np.sum(vecs ** 2, axis=-1) ** 0.5\n",
    "    \n",
    "    # for this demonstration we take\n",
    "    # the bilayer normal to be the z-axis, i.e.\n",
    "    # only consider index 2 for the angles\n",
    "    cos_theta = vecs[..., 2]/norms\n",
    "\n",
    "    # equation 1 in Piggot et al., 2017\n",
    "    S_ch = 0.5 * (3 * cos_theta**2 - 1).mean()\n",
    "    order[i] = S_ch\n",
    "    "
   ]
  },
  {
   "cell_type": "markdown",
   "metadata": {
    "ExecuteTime": {
     "end_time": "2020-12-29T10:24:05.372213Z",
     "start_time": "2020-12-29T10:24:05.368930Z"
    }
   },
   "source": [
    "Below we plot the negative $S_{CH}$, as is conventional."
   ]
  },
  {
   "cell_type": "code",
   "execution_count": 7,
   "metadata": {
    "ExecuteTime": {
     "end_time": "2020-12-29T10:23:19.540674Z",
     "start_time": "2020-12-29T10:23:19.210823Z"
    }
   },
   "outputs": [
    {
     "data": {
      "image/png": "[encoded data removed]",
      "text/plain": [
       "<Figure size 432x288 with 1 Axes>"
      ]
     },
     "metadata": {
      "needs_background": "light"
     },
     "output_type": "display_data"
    }
   ],
   "source": [
    "plt.plot(c_nums, -order)\n",
    "plt.ylabel(r\"$-S_{CH}$\")\n",
    "plt.xlabel(\"Carbon number\")\n",
    "plt.show()"
   ]
  },
  {
   "cell_type": "markdown",
   "metadata": {},
   "source": [
    "## References\n",
    "\n",
    "[1] Thomas&nbsp;J. Piggot, Jane&nbsp;R. Allison, Richard&nbsp;B. Sessions, and Jonathan&nbsp;W. Essex.\n",
    "On the <span class=\"bibtex-protected\">Calculation</span> of <span class=\"bibtex-protected\">Acyl</span> <span class=\"bibtex-protected\">Chain</span> <span class=\"bibtex-protected\">Order</span> <span class=\"bibtex-protected\">Parameters</span> from <span class=\"bibtex-protected\">Lipid</span> <span class=\"bibtex-protected\">Simulations</span>.\n",
    "<em>Journal of Chemical Theory and Computation</em>, 13(11):5683–5696, November 2017.\n",
    "Publisher: American Chemical Society.\n",
    "URL: <a href=\"https://doi.org/10.1021/acs.jctc.7b00643\">https://doi.org/10.1021/acs.jctc.7b00643</a>, <a href=\"https://doi.org/10.1021/acs.jctc.7b00643\">doi:10.1021/acs.jctc.7b00643</a>."
   ]
  }
 ],
 "metadata": {
  "kernelspec": {
   "display_name": "Python (mda-user-guide)",
   "language": "python",
   "name": "mda-user-guide"
  },
  "language_info": {
   "codemirror_mode": {
    "name": "ipython",
    "version": 3
   },
   "file_extension": ".py",
   "mimetype": "text/x-python",
   "name": "python",
   "nbconvert_exporter": "python",
   "pygments_lexer": "ipython3",
   "version": "3.8.3"
  },
  "toc": {
   "base_numbering": 1,
   "nav_menu": {},
   "number_sections": true,
   "sideBar": true,
   "skip_h1_title": false,
   "title_cell": "Table of Contents",
   "title_sidebar": "Contents",
   "toc_cell": false,
   "toc_position": {},
   "toc_section_display": true,
   "toc_window_display": false
  }
 },
 "nbformat": 4,
 "nbformat_minor": 4
}
