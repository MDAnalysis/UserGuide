{
 "cells": [
  {
   "cell_type": "markdown",
   "metadata": {},
   "source": [
    "# Average radial distribution functions\n",
    "\n",
    "Here we calculate the average radial cumulative distribution functions between two groups of atoms.\n",
    "\n",
    "**Last executed:** May 18, 2021 with MDAnalysis 1.1.1\n",
    "\n",
    "**Last updated:** February 2020\n",
    "\n",
    "**Minimum version of MDAnalysis:** 0.17.0\n",
    "\n",
    "**Packages required:**\n",
    "    \n",
    "* MDAnalysis (<a data-cite=\"michaud-agrawal_mdanalysis_2011\" href=\"https://doi.org/10.1002/jcc.21787\">Michaud-Agrawal *et al.*, 2011</a>, <a data-cite=\"gowers_mdanalysis_2016\" href=\"https://doi.org/10.25080/Majora-629e541a-00e\">Gowers *et al.*, 2016</a>)\n",
    "* MDAnalysisTests\n",
    "\n",
    "**Optional packages for visualisation:**\n",
    "\n",
    "* [matplotlib](https://matplotlib.org)\n"
   ]
  },
  {
   "cell_type": "code",
   "execution_count": 1,
   "metadata": {
    "execution": {
     "iopub.execute_input": "2021-05-19T05:58:03.480971Z",
     "iopub.status.busy": "2021-05-19T05:58:03.479758Z",
     "iopub.status.idle": "2021-05-19T05:58:04.536877Z",
     "shell.execute_reply": "2021-05-19T05:58:04.537467Z"
    }
   },
   "outputs": [],
   "source": [
    "import MDAnalysis as mda\n",
    "from MDAnalysis.tests.datafiles import TPR, XTC\n",
    "from MDAnalysis.analysis import rdf\n",
    "import matplotlib.pyplot as plt\n",
    "%matplotlib inline"
   ]
  },
  {
   "cell_type": "markdown",
   "metadata": {},
   "source": [
    "## Loading files"
   ]
  },
  {
   "cell_type": "markdown",
   "metadata": {},
   "source": [
    "The test files we will be working with here feature adenylate kinase (AdK), a phosophotransferase enzyme. [[3]](#References)"
   ]
  },
  {
   "cell_type": "code",
   "execution_count": 2,
   "metadata": {
    "execution": {
     "iopub.execute_input": "2021-05-19T05:58:04.543088Z",
     "iopub.status.busy": "2021-05-19T05:58:04.542280Z",
     "iopub.status.idle": "2021-05-19T05:58:05.158492Z",
     "shell.execute_reply": "2021-05-19T05:58:05.159006Z"
    }
   },
   "outputs": [
    {
     "name": "stderr",
     "output_type": "stream",
     "text": [
      "/Users/lily/anaconda3/envs/mda-user-guide/lib/python3.7/site-packages/MDAnalysis/topology/tpr/utils.py:395: DeprecationWarning: TPR files index residues from 0. From MDAnalysis version 2.0, resids will start at 1 instead. If you wish to keep indexing resids from 0, please set `tpr_resid_from_one=False` as a keyword argument when you create a new Topology or Universe.\n",
      "  category=DeprecationWarning)\n"
     ]
    }
   ],
   "source": [
    "u = mda.Universe(TPR, XTC)"
   ]
  },
  {
   "cell_type": "markdown",
   "metadata": {},
   "source": [
    "## Calculating the average radial distribution function for two groups of atoms"
   ]
  },
  {
   "cell_type": "markdown",
   "metadata": {},
   "source": [
    "A radial distribution function $g_{ab}(r)$ describes the time-averaged density of particles in $b$ from the reference group $a$ at distance $r$. It is normalised so that it becomes 1 for large separations in a homogenous system.\n",
    "\n",
    "$$ g_{ab}(r) = (N_{a} N_{b})^{-1} \\sum_{i=1}^{N_a} \\sum_{j=1}^{N_b} \\langle \\delta(|\\mathbf{r}_i - \\mathbf{r}_j| - r) \\rangle$$\n",
    "\n",
    "The radial cumulative distribution function is \n",
    "\n",
    "$$G_{ab}(r) = \\int_0^r \\!\\!dr' 4\\pi r'^2 g_{ab}(r')$$.\n",
    "\n",
    "The average number of $b$ particles within radius $r$ at density $\\rho$ is:\n",
    "\n",
    "$$N_{ab}(r) = \\rho G_{ab}(r)$$\n",
    "\n",
    "The average number of particles can be used to compute coordination numbers, such as the number of neighbours in the first solvation shell.\n",
    "\n",
    "Below, I calculate the average RDF between each atom of residue 60 to each atom of water to look at the distribution of water over the trajectory. The RDF is limited to a spherical shell around each atom in residue 60 by `range`. Note that the range is defined around *each atom*, rather than the center-of-mass of the entire group.\n",
    "\n",
    "If you are after non-averaged radial distribution functions, have a look at the [site-specific RDF class](site_specific_rdf.ipynb). [The API docs for the InterRDF class are here.](https://docs.mdanalysis.org/stable/documentation_pages/analysis/rdf.html#MDAnalysis.analysis.rdf.InterRDF)"
   ]
  },
  {
   "cell_type": "code",
   "execution_count": 3,
   "metadata": {
    "execution": {
     "iopub.execute_input": "2021-05-19T05:58:05.163423Z",
     "iopub.status.busy": "2021-05-19T05:58:05.162297Z",
     "iopub.status.idle": "2021-05-19T05:58:05.459038Z",
     "shell.execute_reply": "2021-05-19T05:58:05.459489Z"
    }
   },
   "outputs": [
    {
     "data": {
      "text/plain": [
       "<MDAnalysis.analysis.rdf.InterRDF at 0x7fee86c56390>"
      ]
     },
     "execution_count": 1,
     "metadata": {},
     "output_type": "execute_result"
    }
   ],
   "source": [
    "res60 = u.select_atoms('resid 60')\n",
    "water = u.select_atoms('resname SOL')\n",
    "\n",
    "irdf = rdf.InterRDF(res60, water,\n",
    "                    nbins=75,  # default\n",
    "                    range=(0.0, 15.0),  # distance in angstroms\n",
    "                   )\n",
    "irdf.run()"
   ]
  },
  {
   "cell_type": "markdown",
   "metadata": {},
   "source": [
    "The distance bins are available at `irdf.bins` and the radial distribution function is at `irdf.rdf`. "
   ]
  },
  {
   "cell_type": "code",
   "execution_count": 4,
   "metadata": {
    "execution": {
     "iopub.execute_input": "2021-05-19T05:58:05.464585Z",
     "iopub.status.busy": "2021-05-19T05:58:05.463804Z",
     "iopub.status.idle": "2021-05-19T05:58:05.466368Z",
     "shell.execute_reply": "2021-05-19T05:58:05.466702Z"
    }
   },
   "outputs": [
    {
     "data": {
      "text/plain": [
       "array([ 0.1,  0.3,  0.5,  0.7,  0.9,  1.1,  1.3,  1.5,  1.7,  1.9,  2.1,\n",
       "        2.3,  2.5,  2.7,  2.9,  3.1,  3.3,  3.5,  3.7,  3.9,  4.1,  4.3,\n",
       "        4.5,  4.7,  4.9,  5.1,  5.3,  5.5,  5.7,  5.9,  6.1,  6.3,  6.5,\n",
       "        6.7,  6.9,  7.1,  7.3,  7.5,  7.7,  7.9,  8.1,  8.3,  8.5,  8.7,\n",
       "        8.9,  9.1,  9.3,  9.5,  9.7,  9.9, 10.1, 10.3, 10.5, 10.7, 10.9,\n",
       "       11.1, 11.3, 11.5, 11.7, 11.9, 12.1, 12.3, 12.5, 12.7, 12.9, 13.1,\n",
       "       13.3, 13.5, 13.7, 13.9, 14.1, 14.3, 14.5, 14.7, 14.9])"
      ]
     },
     "execution_count": 1,
     "metadata": {},
     "output_type": "execute_result"
    }
   ],
   "source": [
    "irdf.bins"
   ]
  },
  {
   "cell_type": "code",
   "execution_count": 5,
   "metadata": {
    "execution": {
     "iopub.execute_input": "2021-05-19T05:58:05.482640Z",
     "iopub.status.busy": "2021-05-19T05:58:05.481592Z",
     "iopub.status.idle": "2021-05-19T05:58:05.617137Z",
     "shell.execute_reply": "2021-05-19T05:58:05.617928Z"
    },
    "scrolled": false
   },
   "outputs": [
    {
     "data": {
      "text/plain": [
       "Text(0, 0.5, 'Radial distribution')"
      ]
     },
     "execution_count": 1,
     "metadata": {},
     "output_type": "execute_result"
    },
    {
     "data": {
      "image/png": "[encoded data removed]",
      "text/plain": [
       "<Figure size 432x288 with 1 Axes>"
      ]
     },
     "metadata": {
      "needs_background": "light"
     },
     "output_type": "display_data"
    }
   ],
   "source": [
    "plt.plot(irdf.bins, irdf.rdf)\n",
    "plt.xlabel('Radius (angstrom)')\n",
    "plt.ylabel('Radial distribution')"
   ]
  },
  {
   "cell_type": "markdown",
   "metadata": {},
   "source": [
    "The total number of atom pairs in each distance bin over the trajectory, before it gets normalised over the density, number of frames, and volume of each radial shell, is at `irdf.count`."
   ]
  },
  {
   "cell_type": "code",
   "execution_count": 6,
   "metadata": {
    "execution": {
     "iopub.execute_input": "2021-05-19T05:58:05.623967Z",
     "iopub.status.busy": "2021-05-19T05:58:05.623146Z",
     "iopub.status.idle": "2021-05-19T05:58:05.626277Z",
     "shell.execute_reply": "2021-05-19T05:58:05.626788Z"
    }
   },
   "outputs": [
    {
     "data": {
      "text/plain": [
       "array([0.000e+00, 0.000e+00, 0.000e+00, 0.000e+00, 0.000e+00, 0.000e+00,\n",
       "       0.000e+00, 4.000e+00, 2.900e+01, 1.800e+01, 1.600e+01, 2.000e+01,\n",
       "       8.300e+01, 1.130e+02, 1.080e+02, 1.530e+02, 1.620e+02, 2.090e+02,\n",
       "       2.430e+02, 2.200e+02, 2.590e+02, 2.690e+02, 3.750e+02, 4.100e+02,\n",
       "       4.080e+02, 4.760e+02, 4.820e+02, 5.260e+02, 5.630e+02, 6.060e+02,\n",
       "       6.390e+02, 7.100e+02, 6.780e+02, 7.770e+02, 8.810e+02, 9.440e+02,\n",
       "       1.003e+03, 1.074e+03, 1.204e+03, 1.237e+03, 1.265e+03, 1.471e+03,\n",
       "       1.513e+03, 1.526e+03, 1.678e+03, 1.780e+03, 1.782e+03, 2.021e+03,\n",
       "       1.998e+03, 2.133e+03, 2.309e+03, 2.241e+03, 2.429e+03, 2.535e+03,\n",
       "       2.713e+03, 2.718e+03, 2.845e+03, 3.021e+03, 3.117e+03, 3.201e+03,\n",
       "       3.491e+03, 3.673e+03, 3.765e+03, 3.948e+03, 4.096e+03, 4.351e+03,\n",
       "       4.348e+03, 4.511e+03, 4.748e+03, 4.995e+03, 5.148e+03, 5.503e+03,\n",
       "       5.600e+03, 5.678e+03, 6.085e+03])"
      ]
     },
     "execution_count": 1,
     "metadata": {},
     "output_type": "execute_result"
    }
   ],
   "source": [
    "irdf.count"
   ]
  },
  {
   "cell_type": "markdown",
   "metadata": {},
   "source": [
    "## Calculating the average radial distribution function for a group of atoms to itself"
   ]
  },
  {
   "cell_type": "markdown",
   "metadata": {},
   "source": [
    "You may want to calculate the average RDF for a group of atoms where atoms overlap; for instance, looking at residue 60 around itself. In this case you should avoid including contributions from atoms interacting with themselves. The `exclusion_block` keyword allows you to mask pairs within the same chunk of atoms. Here you can pass `exclusion_block=(1, 1)` to create chunks of size 1 and avoid computing the RDF to itself."
   ]
  },
  {
   "cell_type": "code",
   "execution_count": 7,
   "metadata": {
    "execution": {
     "iopub.execute_input": "2021-05-19T05:58:05.633431Z",
     "iopub.status.busy": "2021-05-19T05:58:05.632510Z",
     "iopub.status.idle": "2021-05-19T05:58:05.661421Z",
     "shell.execute_reply": "2021-05-19T05:58:05.661911Z"
    },
    "scrolled": false
   },
   "outputs": [
    {
     "data": {
      "text/plain": [
       "<MDAnalysis.analysis.rdf.InterRDF at 0x7fee87dbfed0>"
      ]
     },
     "execution_count": 1,
     "metadata": {},
     "output_type": "execute_result"
    }
   ],
   "source": [
    "irdf2 = rdf.InterRDF(res60, res60,\n",
    "                     exclusion_block=(1, 1))\n",
    "irdf2.run()"
   ]
  },
  {
   "cell_type": "code",
   "execution_count": 8,
   "metadata": {
    "execution": {
     "iopub.execute_input": "2021-05-19T05:58:05.676787Z",
     "iopub.status.busy": "2021-05-19T05:58:05.675804Z",
     "iopub.status.idle": "2021-05-19T05:58:05.778619Z",
     "shell.execute_reply": "2021-05-19T05:58:05.778128Z"
    },
    "scrolled": true
   },
   "outputs": [
    {
     "data": {
      "text/plain": [
       "Text(0, 0.5, 'Radial distribution')"
      ]
     },
     "execution_count": 1,
     "metadata": {},
     "output_type": "execute_result"
    },
    {
     "data": {
      "image/png": "[encoded data removed]",
      "text/plain": [
       "<Figure size 432x288 with 1 Axes>"
      ]
     },
     "metadata": {
      "needs_background": "light"
     },
     "output_type": "display_data"
    }
   ],
   "source": [
    "plt.plot(irdf2.bins, irdf2.rdf)\n",
    "plt.xlabel('Radius (angstrom)')\n",
    "plt.ylabel('Radial distribution')"
   ]
  },
  {
   "cell_type": "markdown",
   "metadata": {},
   "source": [
    "Similarly, you can apply this to residues. "
   ]
  },
  {
   "cell_type": "code",
   "execution_count": 9,
   "metadata": {
    "execution": {
     "iopub.execute_input": "2021-05-19T05:58:05.784616Z",
     "iopub.status.busy": "2021-05-19T05:58:05.783724Z",
     "iopub.status.idle": "2021-05-19T05:58:05.787045Z",
     "shell.execute_reply": "2021-05-19T05:58:05.787430Z"
    }
   },
   "outputs": [
    {
     "name": "stdout",
     "output_type": "stream",
     "text": [
      "There are 11 THR residues\n",
      "THR has 14 atoms\n"
     ]
    }
   ],
   "source": [
    "thr = u.select_atoms('resname THR')\n",
    "print('There are {} THR residues'.format(len(thr.residues)))\n",
    "print('THR has {} atoms'.format(len(thr.residues[0].atoms)))"
   ]
  },
  {
   "cell_type": "markdown",
   "metadata": {},
   "source": [
    "The code below calculates the RDF only using contributions from pairs of atoms where the two atoms are *not* in the same threonine residue."
   ]
  },
  {
   "cell_type": "code",
   "execution_count": 10,
   "metadata": {
    "execution": {
     "iopub.execute_input": "2021-05-19T05:58:05.792739Z",
     "iopub.status.busy": "2021-05-19T05:58:05.791152Z",
     "iopub.status.idle": "2021-05-19T05:58:05.836113Z",
     "shell.execute_reply": "2021-05-19T05:58:05.836485Z"
    },
    "scrolled": true
   },
   "outputs": [
    {
     "data": {
      "text/plain": [
       "<MDAnalysis.analysis.rdf.InterRDF at 0x7fee87aa7e50>"
      ]
     },
     "execution_count": 1,
     "metadata": {},
     "output_type": "execute_result"
    }
   ],
   "source": [
    "irdf3 = rdf.InterRDF(thr, thr,\n",
    "                     exclusion_block=(14, 14))\n",
    "irdf3.run()"
   ]
  },
  {
   "cell_type": "code",
   "execution_count": 11,
   "metadata": {
    "execution": {
     "iopub.execute_input": "2021-05-19T05:58:05.851189Z",
     "iopub.status.busy": "2021-05-19T05:58:05.839654Z",
     "iopub.status.idle": "2021-05-19T05:58:05.942905Z",
     "shell.execute_reply": "2021-05-19T05:58:05.943444Z"
    }
   },
   "outputs": [
    {
     "data": {
      "text/plain": [
       "Text(0, 0.5, 'Radial distribution')"
      ]
     },
     "execution_count": 1,
     "metadata": {},
     "output_type": "execute_result"
    },
    {
     "data": {
      "image/png": "[encoded data removed]",
      "text/plain": [
       "<Figure size 432x288 with 1 Axes>"
      ]
     },
     "metadata": {
      "needs_background": "light"
     },
     "output_type": "display_data"
    }
   ],
   "source": [
    "plt.plot(irdf3.bins, irdf3.rdf)\n",
    "plt.xlabel('Radius (angstrom)')\n",
    "plt.ylabel('Radial distribution')"
   ]
  },
  {
   "cell_type": "markdown",
   "metadata": {},
   "source": [
    "If you are splitting a residue over your two selections, you can discount pairs from the same residue by choosing appropriately sized exclusion blocks."
   ]
  },
  {
   "cell_type": "code",
   "execution_count": 12,
   "metadata": {
    "execution": {
     "iopub.execute_input": "2021-05-19T05:58:05.950402Z",
     "iopub.status.busy": "2021-05-19T05:58:05.949579Z",
     "iopub.status.idle": "2021-05-19T05:58:05.951698Z",
     "shell.execute_reply": "2021-05-19T05:58:05.952063Z"
    }
   },
   "outputs": [
    {
     "name": "stdout",
     "output_type": "stream",
     "text": [
      "THR has these atoms:  N, H, CA, HA, CB, HB, OG1, HG1, CG2, HG21, HG22, HG23, C, O\n",
      "THR has 4 carbons\n",
      "THR has 10 non carbons\n"
     ]
    }
   ],
   "source": [
    "first = thr.residues[0]\n",
    "print('THR has these atoms: ', ', '.join(first.atoms.names))\n",
    "thr_c1 = first.atoms.select_atoms('name C*')\n",
    "print('THR has {} carbons'.format(len(thr_c1)))\n",
    "thr_other1 = first.atoms.select_atoms('not name C*')\n",
    "print('THR has {} non carbons'.format(len(thr_other1)))"
   ]
  },
  {
   "cell_type": "markdown",
   "metadata": {},
   "source": [
    "The `exclusion_block` here ensures that the RDF is only computed from threonine carbons to atoms in different threonine residues."
   ]
  },
  {
   "cell_type": "code",
   "execution_count": 13,
   "metadata": {
    "execution": {
     "iopub.execute_input": "2021-05-19T05:58:05.956155Z",
     "iopub.status.busy": "2021-05-19T05:58:05.955633Z",
     "iopub.status.idle": "2021-05-19T05:58:05.983991Z",
     "shell.execute_reply": "2021-05-19T05:58:05.984524Z"
    }
   },
   "outputs": [
    {
     "data": {
      "text/plain": [
       "<MDAnalysis.analysis.rdf.InterRDF at 0x7fee8807db10>"
      ]
     },
     "execution_count": 1,
     "metadata": {},
     "output_type": "execute_result"
    }
   ],
   "source": [
    "thr_c = thr.select_atoms('name C*')\n",
    "thr_other = thr.select_atoms('not name C*')\n",
    "\n",
    "irdf4 = rdf.InterRDF(thr_c, thr_other,\n",
    "                     exclusion_block=(4, 10))\n",
    "irdf4.run()"
   ]
  },
  {
   "cell_type": "code",
   "execution_count": 14,
   "metadata": {
    "execution": {
     "iopub.execute_input": "2021-05-19T05:58:05.998799Z",
     "iopub.status.busy": "2021-05-19T05:58:05.998235Z",
     "iopub.status.idle": "2021-05-19T05:58:06.103732Z",
     "shell.execute_reply": "2021-05-19T05:58:06.104187Z"
    }
   },
   "outputs": [
    {
     "data": {
      "text/plain": [
       "Text(0, 0.5, 'Radial distribution')"
      ]
     },
     "execution_count": 1,
     "metadata": {},
     "output_type": "execute_result"
    },
    {
     "data": {
      "image/png": "[encoded data removed]",
      "text/plain": [
       "<Figure size 432x288 with 1 Axes>"
      ]
     },
     "metadata": {
      "needs_background": "light"
     },
     "output_type": "display_data"
    }
   ],
   "source": [
    "plt.plot(irdf4.bins, irdf4.rdf)\n",
    "plt.xlabel('Radius (angstrom)')\n",
    "plt.ylabel('Radial distribution')"
   ]
  },
  {
   "cell_type": "markdown",
   "metadata": {},
   "source": [
    "## References\n",
    "\n",
    "[1] Richard&nbsp;J. Gowers, Max Linke, Jonathan Barnoud, Tyler J.&nbsp;E. Reddy, Manuel&nbsp;N. Melo, Sean&nbsp;L. Seyler, Jan Domański, David&nbsp;L. Dotson, Sébastien Buchoux, Ian&nbsp;M. Kenney, and Oliver Beckstein.\n",
    "<span class=\"bibtex-protected\">MDAnalysis</span>: <span class=\"bibtex-protected\">A</span> <span class=\"bibtex-protected\">Python</span> <span class=\"bibtex-protected\">Package</span> for the <span class=\"bibtex-protected\">Rapid</span> <span class=\"bibtex-protected\">Analysis</span> of <span class=\"bibtex-protected\">Molecular</span> <span class=\"bibtex-protected\">Dynamics</span> <span class=\"bibtex-protected\">Simulations</span>.\n",
    "<em>Proceedings of the 15th Python in Science Conference</em>, pages 98–105, 2016.\n",
    "00152.\n",
    "URL: <a href=\"https://conference.scipy.org/proceedings/scipy2016/oliver_beckstein.html\">https://conference.scipy.org/proceedings/scipy2016/oliver_beckstein.html</a>, <a href=\"https://doi.org/10.25080/Majora-629e541a-00e\">doi:10.25080/Majora-629e541a-00e</a>.\n",
    "\n",
    "[2] Naveen Michaud-Agrawal, Elizabeth&nbsp;J. Denning, Thomas&nbsp;B. Woolf, and Oliver Beckstein.\n",
    "<span class=\"bibtex-protected\">MDAnalysis</span>: <span class=\"bibtex-protected\">A</span> toolkit for the analysis of molecular dynamics simulations.\n",
    "<em>Journal of Computational Chemistry</em>, 32(10):2319–2327, July 2011.\n",
    "00778.\n",
    "URL: <a href=\"http://doi.wiley.com/10.1002/jcc.21787\">http://doi.wiley.com/10.1002/jcc.21787</a>, <a href=\"https://doi.org/10.1002/jcc.21787\">doi:10.1002/jcc.21787</a>."
   ]
  }
 ],
 "metadata": {
  "kernelspec": {
   "display_name": "Python (mda-user-guide)",
   "language": "python",
   "name": "mda-user-guide"
  },
  "language_info": {
   "codemirror_mode": {
    "name": "ipython",
    "version": 3
   },
   "file_extension": ".py",
   "mimetype": "text/x-python",
   "name": "python",
   "nbconvert_exporter": "python",
   "pygments_lexer": "ipython3",
   "version": "3.8.3"
  },
  "toc": {
   "base_numbering": 1,
   "nav_menu": {},
   "number_sections": false,
   "sideBar": true,
   "skip_h1_title": false,
   "title_cell": "Table of Contents",
   "title_sidebar": "Contents",
   "toc_cell": false,
   "toc_position": {},
   "toc_section_display": true,
   "toc_window_display": false
  }
 },
 "nbformat": 4,
 "nbformat_minor": 2
}
