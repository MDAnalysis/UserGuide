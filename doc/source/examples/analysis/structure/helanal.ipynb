{
 "cells": [
  {
   "cell_type": "markdown",
   "metadata": {},
   "source": [
    "# Helix analysis\n",
    "\n",
    "We look at protein helices with HELANAL.\n",
    "\n",
    "**Last updated:** December 2022 with MDAnalysis 2.4.0-dev0\n",
    "\n",
    "**Minimum version of MDAnalysis:** 2.0.0\n",
    "\n",
    "**Packages required:**\n",
    "    \n",
    "* MDAnalysis (<a data-cite=\"michaud-agrawal_mdanalysis_2011\" href=\"https://doi.org/10.1002/jcc.21787\">Michaud-Agrawal *et al.*, 2011</a>, <a data-cite=\"gowers_mdanalysis_2016\" href=\"https://doi.org/10.25080/Majora-629e541a-00e\">Gowers *et al.*, 2016</a>)\n",
    "* MDAnalysisTests\n",
    "\n",
    "**Optional packages for visualisation:**\n",
    "\n",
    "* [matplotlib](https://matplotlib.org)\n",
    "* [nglview](http://nglviewer.org/nglview/latest/)\n",
    "\n",
    "Throughout this tutorial we will include cells for visualising Universes with the [NGLView](http://nglviewer.org/nglview/latest/api.html) library. However, these will be commented out, and we will show the expected images generated instead of the interactive widgets.\n",
    "\n",
    "<div class=\"alert alert-info\">\n",
    "    \n",
    "**Note**\n",
    "\n",
    "`MDAnalysis.analysis.helix_analysis.HELANAL` implements the HELANAL algorithm from <a data-cite=\"bansal_helanal_2000\" href=\"https://doi.org/10.1080/07391102.2000.10506570\">Bansal *et al.*, 2000</a>, which itself uses the method of <a data-cite=\"sugeta_general_1967\" href=\"https://doi.org/10.1002/bip.1967.360050708\">Sugeta and Miyazawa, 1967</a> to characterise each local axis. Please cite them when using this module in published work.\n",
    "\n",
    "</div>\n",
    "\n",
    "\n"
   ]
  },
  {
   "cell_type": "code",
   "execution_count": 1,
   "metadata": {
    "ExecuteTime": {
     "end_time": "2020-12-27T11:56:12.985716Z",
     "start_time": "2020-12-27T11:56:12.979131Z"
    }
   },
   "outputs": [],
   "source": [
    "import MDAnalysis as mda\n",
    "from MDAnalysis.tests.datafiles import PSF, DCD\n",
    "from MDAnalysis.analysis import helix_analysis as hel\n",
    "import matplotlib.pyplot as plt\n",
    "# import nglview as nv\n",
    "%matplotlib inline"
   ]
  },
  {
   "cell_type": "markdown",
   "metadata": {},
   "source": [
    "## Loading files\n",
    "\n",
    "The test files we will be working with here feature adenylate kinase (AdK), a phosophotransferase enzyme. (<a data-cite=\"beckstein_zipping_2009\" href=\"https://doi.org/10.1016/j.jmb.2009.09.009\">Beckstein *et al.*, 2009</a>)"
   ]
  },
  {
   "cell_type": "code",
   "execution_count": 2,
   "metadata": {
    "ExecuteTime": {
     "end_time": "2020-12-27T11:56:13.711285Z",
     "start_time": "2020-12-27T11:56:13.607121Z"
    }
   },
   "outputs": [
    {
     "name": "stderr",
     "output_type": "stream",
     "text": [
      "/Users/lily/pydev/mdanalysis/package/MDAnalysis/coordinates/DCD.py:165: DeprecationWarning: DCDReader currently makes independent timesteps by copying self.ts while other readers update self.ts inplace. This behavior will be changed in 3.0 to be the same as other readers. Read more at https://github.com/MDAnalysis/mdanalysis/issues/3889 to learn if this change in behavior might affect you.\n",
      "  warnings.warn(\"DCDReader currently makes independent timesteps\"\n"
     ]
    }
   ],
   "source": [
    "u = mda.Universe(PSF, DCD)"
   ]
  },
  {
   "cell_type": "markdown",
   "metadata": {},
   "source": [
    "## Helix analysis\n",
    "\n",
    "HELANAL can be used to characterize the geometry of helices with at least 9 residues. The geometry of an alpha helix is characterized by computing local helix axes and local helix origins for four contiguous C-alpha atoms, using the procedure of Sugeta and Miyazawa (<a data-cite=\"sugeta_general_1967\" href=\"https://doi.org/10.1002/bip.1967.360050708\">Sugeta and Miyazawa, 1967</a>) and sliding this window over the length of the helix in steps of one C-alpha atom.\n",
    "\n",
    "``HELANAL`` computes a number of properties.\n",
    "\n",
    "<center>\n",
    "<div style=\"width: 600px; text-align: center;\">\n",
    "\n",
    "![local properties](helanal_images/local_properties.png)\n",
    "   \n",
    "</div>\n",
    "</center>\n",
    "\n",
    "\n",
    "For each sliding window, it calculates:\n",
    "\n",
    "* ``local_rotation_vectors``: the vectors bisecting the angles of the middle 2 atoms\n",
    "* ``local_origins``: the projected origins of the helix\n",
    "* ``local_twists``: the twist of each window ($\\theta$)\n",
    "* ``residues_per_turn``: how many residues would fit in a turn, based on ``local_twist``\n",
    "* ``local_axes``: the axis of each local helix\n",
    "* ``local_heights``: the rise of each helix\n",
    "\n",
    "HELANAL calculates the bends between each ``local_axes`` and fits the vector ``global_axes`` to the ``local_origins``.\n",
    "\n",
    "<center>\n",
    "<div style=\"width: 150px; text-align: center;\">\n",
    "\n",
    "![local axes](helanal_images/local_axes_properties.png)\n",
    "   \n",
    "</div>\n",
    "</center>\n",
    "\n",
    "``all_bends`` contains the angles between every `local_axes` ($\\alpha$) in a pairwise matrix, whereas ``local_bends`` contains the angles between ``local_axes`` that are calculated 3 windows apart ($\\beta$). The ``global_tilts`` ($\\gamma$) are calculated as the angle between the ``global_axes`` and the user-given reference ``ref_axis``.\n",
    "\n",
    "<center>\n",
    "<div style=\"width: 200px; text-align: center;\">\n",
    "\n",
    "![screw angles](helanal_images/screw_angles.png)\n",
    "   \n",
    "</div>\n",
    "</center>\n",
    "\n",
    "Finally, ``local_screw`` angles are computed between the ``local_rotation_vectors`` and the normal plane of the ``global_axes``."
   ]
  },
  {
   "cell_type": "markdown",
   "metadata": {},
   "source": [
    "### Running the analysis\n",
    "\n",
    "As with most other analysis classes in MDAnalysis, pass in the universe and selection that you would to like to operate on. The default reference axis is the z-axis. You can also pass in a list of selection strings to run HELANAL on multiple helices at once."
   ]
  },
  {
   "cell_type": "code",
   "execution_count": 3,
   "metadata": {
    "ExecuteTime": {
     "end_time": "2020-12-27T11:56:15.019676Z",
     "start_time": "2020-12-27T11:56:14.929127Z"
    }
   },
   "outputs": [],
   "source": [
    "h = hel.HELANAL(u, select='name CA and resnum 161-187',\n",
    "                ref_axis=[0, 0, 1]).run()"
   ]
  },
  {
   "cell_type": "markdown",
   "metadata": {},
   "source": [
    "The properties described above are stored as attributes in `h.results`. For example, the ``all_bends`` matrix contains the bends in a `(n_frames, n_residues-3, n_residues-3)` array."
   ]
  },
  {
   "cell_type": "code",
   "execution_count": 4,
   "metadata": {
    "ExecuteTime": {
     "end_time": "2020-12-27T11:56:18.524268Z",
     "start_time": "2020-12-27T11:56:18.517882Z"
    }
   },
   "outputs": [
    {
     "data": {
      "text/plain": [
       "(98, 24, 24)"
      ]
     },
     "execution_count": 4,
     "metadata": {},
     "output_type": "execute_result"
    }
   ],
   "source": [
    "h.results.all_bends.shape"
   ]
  },
  {
   "cell_type": "markdown",
   "metadata": {},
   "source": [
    "Each property is also summarised with a mean value, the sample standard deviation, and the average deviation from the mean."
   ]
  },
  {
   "cell_type": "code",
   "execution_count": 5,
   "metadata": {},
   "outputs": [
    {
     "data": {
      "text/plain": [
       "dict_keys(['local_twists', 'local_bends', 'local_heights', 'local_nres_per_turn', 'local_origins', 'local_axes', 'local_helix_directions', 'local_screw_angles', 'global_axis', 'global_tilts', 'all_bends'])"
      ]
     },
     "execution_count": 5,
     "metadata": {},
     "output_type": "execute_result"
    }
   ],
   "source": [
    "h.results.summary.keys()"
   ]
  },
  {
   "cell_type": "code",
   "execution_count": 6,
   "metadata": {
    "ExecuteTime": {
     "end_time": "2020-12-27T11:56:22.520664Z",
     "start_time": "2020-12-27T11:56:22.516082Z"
    },
    "scrolled": true
   },
   "outputs": [
    {
     "name": "stdout",
     "output_type": "stream",
     "text": [
      "mean: 86.121\n",
      "sample_sd: 2.011\n",
      "abs_dev: 1.715\n"
     ]
    }
   ],
   "source": [
    "for key, val in h.results.summary['global_tilts'].items():\n",
    "    print(f\"{key}: {val:.3f}\")"
   ]
  },
  {
   "cell_type": "markdown",
   "metadata": {},
   "source": [
    "As the data is stored as arrays, it can easily be plotted."
   ]
  },
  {
   "cell_type": "code",
   "execution_count": 7,
   "metadata": {
    "ExecuteTime": {
     "end_time": "2020-12-27T11:56:24.061616Z",
     "start_time": "2020-12-27T11:56:23.950283Z"
    }
   },
   "outputs": [
    {
     "data": {
      "image/png": "[encoded data removed]",
      "text/plain": [
       "<Figure size 640x480 with 1 Axes>"
      ]
     },
     "metadata": {},
     "output_type": "display_data"
    }
   ],
   "source": [
    "plt.plot(h.results.local_twists.mean(axis=1))\n",
    "plt.xlabel('Frame')\n",
    "plt.ylabel('Average twist (degrees)');"
   ]
  },
  {
   "cell_type": "markdown",
   "metadata": {},
   "source": [
    "You can also create a Universe from the ``local_origins`` if you would like to save it as a file and visualise it in programs such as VMD."
   ]
  },
  {
   "cell_type": "code",
   "execution_count": 8,
   "metadata": {
    "ExecuteTime": {
     "end_time": "2020-12-27T11:56:25.706533Z",
     "start_time": "2020-12-27T11:56:25.697091Z"
    }
   },
   "outputs": [],
   "source": [
    "origins = h.universe_from_origins()"
   ]
  },
  {
   "cell_type": "code",
   "execution_count": 9,
   "metadata": {
    "ExecuteTime": {
     "end_time": "2020-12-27T11:56:26.348022Z",
     "start_time": "2020-12-27T11:56:26.286571Z"
    },
    "scrolled": true
   },
   "outputs": [],
   "source": [
    "# view = nv.show_mdanalysis(h.atomgroups[0])\n",
    "# view.add_trajectory(origins)\n",
    "# view"
   ]
  },
  {
   "cell_type": "markdown",
   "metadata": {},
   "source": [
    "Below we use NGLView to create a representative GIF."
   ]
  },
  {
   "cell_type": "code",
   "execution_count": 10,
   "metadata": {},
   "outputs": [],
   "source": [
    "# from nglview.contrib.movie import MovieMaker\n",
    "# movie = MovieMaker(\n",
    "#     view,\n",
    "#     step=4,  # keep every 4th step\n",
    "#     render_params={\"factor\": 3},  # controls quality\n",
    "#     output='helanal_images/helanal-view.gif',\n",
    "# )\n",
    "# movie.make()"
   ]
  },
  {
   "cell_type": "markdown",
   "metadata": {},
   "source": [
    "<center>\n",
    "<div style='width: 800px'>\n",
    "    \n",
    "![helanal gif](helanal_images/helanal-view.gif)\n",
    "    \n",
    "</div>\n",
    "</center>"
   ]
  },
  {
   "cell_type": "markdown",
   "metadata": {},
   "source": [
    "## References\n",
    "\n",
    "[1] M.&nbsp;Bansal, S.&nbsp;Kumar, and R.&nbsp;Velavan.\n",
    "<span class=\"bibtex-protected\">HELANAL</span>: a program to characterize helix geometry in proteins.\n",
    "<em>Journal of Biomolecular Structure &amp; Dynamics</em>, 17(5):811–819, April 2000.\n",
    "00175.\n",
    "<a href=\"https://doi.org/10.1080/07391102.2000.10506570\">doi:10.1080/07391102.2000.10506570</a>.\n",
    "\n",
    "[2] Oliver Beckstein, Elizabeth&nbsp;J. Denning, Juan&nbsp;R. Perilla, and Thomas&nbsp;B. Woolf.\n",
    "Zipping and <span class=\"bibtex-protected\">Unzipping</span> of <span class=\"bibtex-protected\">Adenylate</span> <span class=\"bibtex-protected\">Kinase</span>: <span class=\"bibtex-protected\">Atomistic</span> <span class=\"bibtex-protected\">Insights</span> into the <span class=\"bibtex-protected\">Ensemble</span> of <span class=\"bibtex-protected\">Open</span>↔<span class=\"bibtex-protected\">Closed</span> <span class=\"bibtex-protected\">Transitions</span>.\n",
    "<em>Journal of Molecular Biology</em>, 394(1):160–176, November 2009.\n",
    "00107.\n",
    "URL: <a href=\"https://linkinghub.elsevier.com/retrieve/pii/S0022283609011164\">https://linkinghub.elsevier.com/retrieve/pii/S0022283609011164</a>, <a href=\"https://doi.org/10.1016/j.jmb.2009.09.009\">doi:10.1016/j.jmb.2009.09.009</a>.\n",
    "\n",
    "[3] Richard&nbsp;J. Gowers, Max Linke, Jonathan Barnoud, Tyler J.&nbsp;E. Reddy, Manuel&nbsp;N. Melo, Sean&nbsp;L. Seyler, Jan Domański, David&nbsp;L. Dotson, Sébastien Buchoux, Ian&nbsp;M. Kenney, and Oliver Beckstein.\n",
    "<span class=\"bibtex-protected\">MDAnalysis</span>: <span class=\"bibtex-protected\">A</span> <span class=\"bibtex-protected\">Python</span> <span class=\"bibtex-protected\">Package</span> for the <span class=\"bibtex-protected\">Rapid</span> <span class=\"bibtex-protected\">Analysis</span> of <span class=\"bibtex-protected\">Molecular</span> <span class=\"bibtex-protected\">Dynamics</span> <span class=\"bibtex-protected\">Simulations</span>.\n",
    "<em>Proceedings of the 15th Python in Science Conference</em>, pages 98–105, 2016.\n",
    "00152.\n",
    "URL: <a href=\"https://conference.scipy.org/proceedings/scipy2016/oliver_beckstein.html\">https://conference.scipy.org/proceedings/scipy2016/oliver_beckstein.html</a>, <a href=\"https://doi.org/10.25080/Majora-629e541a-00e\">doi:10.25080/Majora-629e541a-00e</a>.\n",
    "\n",
    "[4] Naveen Michaud-Agrawal, Elizabeth&nbsp;J. Denning, Thomas&nbsp;B. Woolf, and Oliver Beckstein.\n",
    "<span class=\"bibtex-protected\">MDAnalysis</span>: <span class=\"bibtex-protected\">A</span> toolkit for the analysis of molecular dynamics simulations.\n",
    "<em>Journal of Computational Chemistry</em>, 32(10):2319–2327, July 2011.\n",
    "00778.\n",
    "URL: <a href=\"http://doi.wiley.com/10.1002/jcc.21787\">http://doi.wiley.com/10.1002/jcc.21787</a>, <a href=\"https://doi.org/10.1002/jcc.21787\">doi:10.1002/jcc.21787</a>."
   ]
  }
 ],
 "metadata": {
  "kernelspec": {
   "display_name": "Python 3 (ipykernel)",
   "language": "python",
   "name": "python3"
  },
  "language_info": {
   "codemirror_mode": {
    "name": "ipython",
    "version": 3
   },
   "file_extension": ".py",
   "mimetype": "text/x-python",
   "name": "python",
   "nbconvert_exporter": "python",
   "pygments_lexer": "ipython3",
   "version": "3.9.2"
  },
  "toc": {
   "base_numbering": 1,
   "nav_menu": {},
   "number_sections": false,
   "sideBar": true,
   "skip_h1_title": false,
   "title_cell": "Table of Contents",
   "title_sidebar": "Contents",
   "toc_cell": false,
   "toc_position": {},
   "toc_section_display": true,
   "toc_window_display": true
  },
  "vscode": {
   "interpreter": {
    "hash": "7b52aa17ef4e9358c0e91ff3f0bf50d10667bb8b55636d4b9fb967a2ff94bd8c"
   }
  }
 },
 "nbformat": 4,
 "nbformat_minor": 4
}
