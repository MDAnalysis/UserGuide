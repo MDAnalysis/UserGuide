{
 "cells": [
  {
   "cell_type": "markdown",
   "metadata": {},
   "source": [
    "# Helix analysis\n",
    "\n",
    "We look at protein helices with HELANAL.\n",
    "\n",
    "**Last executed:** Dec 27, 2020 with MDAnalysis 2.0.0-dev0\n",
    "\n",
    "**Last updated:** March 2020\n",
    "\n",
    "**Minimum version of MDAnalysis:** 2.0.0\n",
    "\n",
    "**Packages required:**\n",
    "    \n",
    "* MDAnalysis (<a data-cite=\"michaud-agrawal_mdanalysis_2011\" href=\"https://doi.org/10.1002/jcc.21787\">Michaud-Agrawal *et al.*, 2011</a>, <a data-cite=\"gowers_mdanalysis_2016\" href=\"https://doi.org/10.25080/Majora-629e541a-00e\">Gowers *et al.*, 2016</a>)\n",
    "* MDAnalysisTests\n",
    "\n",
    "**Optional packages for visualisation:**\n",
    "\n",
    "* [matplotlib](https://matplotlib.org)\n",
    "* [nglview](http://nglviewer.org/nglview/latest/)\n",
    "\n",
    "<div class=\"alert alert-info\">\n",
    "    \n",
    "**Note**\n",
    "\n",
    "`MDAnalysis.analysis.helix_analysis.HELANAL` implements the HELANAL algorithm from <a data-cite=\"bansal_helanal_2000\" href=\"https://doi.org/10.1080/07391102.2000.10506570\">Bansal *et al.*, 2000</a>, which itself uses the method of <a data-cite=\"sugeta_general_1967\" href=\"https://doi.org/10.1002/bip.1967.360050708\">Sugeta and Miyazawa, 1967</a> to characterise each local axis. Please cite them when using this module in published work.\n",
    "\n",
    "</div>\n",
    "\n",
    "\n"
   ]
  },
  {
   "cell_type": "code",
   "execution_count": 10,
   "metadata": {
    "ExecuteTime": {
     "end_time": "2020-12-27T11:56:12.985716Z",
     "start_time": "2020-12-27T11:56:12.979131Z"
    }
   },
   "outputs": [],
   "source": [
    "import MDAnalysis as mda\n",
    "from MDAnalysis.tests.datafiles import PSF, DCD\n",
    "from MDAnalysis.analysis import helix_analysis as hel\n",
    "import matplotlib.pyplot as plt\n",
    "import nglview as nv\n",
    "%matplotlib inline"
   ]
  },
  {
   "cell_type": "markdown",
   "metadata": {},
   "source": [
    "## Loading files\n",
    "\n",
    "The test files we will be working with here feature adenylate kinase (AdK), a phosophotransferase enzyme. (<a data-cite=\"beckstein_zipping_2009\" href=\"https://doi.org/10.1016/j.jmb.2009.09.009\">Beckstein *et al.*, 2009</a>)"
   ]
  },
  {
   "cell_type": "code",
   "execution_count": 11,
   "metadata": {
    "ExecuteTime": {
     "end_time": "2020-12-27T11:56:13.711285Z",
     "start_time": "2020-12-27T11:56:13.607121Z"
    }
   },
   "outputs": [],
   "source": [
    "u = mda.Universe(PSF, DCD)"
   ]
  },
  {
   "cell_type": "markdown",
   "metadata": {},
   "source": [
    "## Helix analysis\n",
    "\n",
    "HELANAL can be used to characterize the geometry of helices with at least 9 residues. The geometry of an alpha helix is characterized by computing local helix axes and local helix origins for four contiguous C-alpha atoms, using the procedure of Sugeta and Miyazawa (<a data-cite=\"sugeta_general_1967\" href=\"https://doi.org/10.1002/bip.1967.360050708\">Sugeta and Miyazawa, 1967</a>) and sliding this window over the length of the helix in steps of one C-alpha atom.\n",
    "\n",
    "``HELANAL`` computes a number of properties.\n",
    "\n",
    "<center>\n",
    "<div style=\"width: 600px; text-align: center;\">\n",
    "\n",
    "![local properties](helanal_images/local_properties.png)\n",
    "   \n",
    "</div>\n",
    "</center>\n",
    "\n",
    "\n",
    "For each sliding window, it calculates:\n",
    "\n",
    "* ``local_rotation_vectors``: the vectors bisecting the angles of the middle 2 atoms\n",
    "* ``local_origins``: the projected origins of the helix\n",
    "* ``local_twists``: the twist of each window ($\\theta$)\n",
    "* ``residues_per_turn``: how many residues would fit in a turn, based on ``local_twist``\n",
    "* ``local_axes``: the axis of each local helix\n",
    "* ``local_heights``: the rise of each helix\n",
    "\n",
    "HELANAL calculates the bends between each ``local_axes`` and fits the vector ``global_axes`` to the ``local_origins``.\n",
    "\n",
    "<center>\n",
    "<div style=\"width: 150px; text-align: center;\">\n",
    "\n",
    "![local axes](helanal_images/local_axes_properties.png)\n",
    "   \n",
    "</div>\n",
    "</center>\n",
    "\n",
    "``all_bends`` contains the angles between every `local_axes` ($\\alpha$) in a pairwise matrix, whereas ``local_bends`` contains the angles between ``local_axes`` that are calculated 3 windows apart ($\\beta$). The ``global_tilts`` ($\\gamma$) are calculated as the angle between the ``global_axes`` and the user-given reference ``ref_axis``.\n",
    "\n",
    "<center>\n",
    "<div style=\"width: 200px; text-align: center;\">\n",
    "\n",
    "![screw angles](helanal_images/screw_angles.png)\n",
    "   \n",
    "</div>\n",
    "</center>\n",
    "\n",
    "Finally, ``local_screw`` angles are computed between the ``local_rotation_vectors`` and the normal plane of the ``global_axes``."
   ]
  },
  {
   "cell_type": "markdown",
   "metadata": {},
   "source": [
    "### Running the analysis\n",
    "\n",
    "As with most other analysis classes in MDAnalysis, pass in the universe and selection that you would to like to operate on. The default reference axis is the z-axis. You can also pass in a list of selection strings to run HELANAL on multiple helices at once."
   ]
  },
  {
   "cell_type": "code",
   "execution_count": 12,
   "metadata": {
    "ExecuteTime": {
     "end_time": "2020-12-27T11:56:15.019676Z",
     "start_time": "2020-12-27T11:56:14.929127Z"
    }
   },
   "outputs": [],
   "source": [
    "h = hel.HELANAL(u, select='name CA and resnum 161-187',\n",
    "                ref_axis=[0, 0, 1]).run()"
   ]
  },
  {
   "cell_type": "markdown",
   "metadata": {},
   "source": [
    "The properties described above are stored as attributes in `h`. For example, the ``all_bends`` matrix contains the bends in a `(n_frames, n_residues-3, n_residues-3)` array."
   ]
  },
  {
   "cell_type": "code",
   "execution_count": 13,
   "metadata": {
    "ExecuteTime": {
     "end_time": "2020-12-27T11:56:18.524268Z",
     "start_time": "2020-12-27T11:56:18.517882Z"
    }
   },
   "outputs": [
    {
     "data": {
      "text/plain": [
       "(98, 24, 24)"
      ]
     },
     "execution_count": 13,
     "metadata": {},
     "output_type": "execute_result"
    }
   ],
   "source": [
    "h.all_bends.shape"
   ]
  },
  {
   "cell_type": "markdown",
   "metadata": {},
   "source": [
    "Each property is also summarised with a mean value, the sample standard deviation, and the average deviation from the mean."
   ]
  },
  {
   "cell_type": "code",
   "execution_count": 14,
   "metadata": {
    "ExecuteTime": {
     "end_time": "2020-12-27T11:56:22.055549Z",
     "start_time": "2020-12-27T11:56:22.049626Z"
    }
   },
   "outputs": [
    {
     "data": {
      "text/plain": [
       "dict_keys(['local_twists', 'local_bends', 'local_heights', 'local_nres_per_turn', 'local_origins', 'local_axes', 'local_helix_directions', 'local_screw_angles', 'global_axis', 'global_tilts', 'all_bends'])"
      ]
     },
     "execution_count": 14,
     "metadata": {},
     "output_type": "execute_result"
    }
   ],
   "source": [
    "h.summary.keys()"
   ]
  },
  {
   "cell_type": "code",
   "execution_count": 15,
   "metadata": {
    "ExecuteTime": {
     "end_time": "2020-12-27T11:56:22.520664Z",
     "start_time": "2020-12-27T11:56:22.516082Z"
    },
    "scrolled": true
   },
   "outputs": [
    {
     "data": {
      "text/plain": [
       "{'mean': 86.12100441254297,\n",
       " 'sample_sd': 2.0108377345768065,\n",
       " 'abs_dev': 1.7152381351099988}"
      ]
     },
     "execution_count": 15,
     "metadata": {},
     "output_type": "execute_result"
    }
   ],
   "source": [
    "h.summary['global_tilts']"
   ]
  },
  {
   "cell_type": "markdown",
   "metadata": {},
   "source": [
    "As the data is stored as arrays, it can easily be plotted."
   ]
  },
  {
   "cell_type": "code",
   "execution_count": 16,
   "metadata": {
    "ExecuteTime": {
     "end_time": "2020-12-27T11:56:24.061616Z",
     "start_time": "2020-12-27T11:56:23.950283Z"
    }
   },
   "outputs": [
    {
     "data": {
      "image/png": "[encoded data removed]",
      "text/plain": [
       "<Figure size 432x288 with 1 Axes>"
      ]
     },
     "metadata": {
      "needs_background": "light"
     },
     "output_type": "display_data"
    }
   ],
   "source": [
    "plt.plot(h.local_twists.mean(axis=1))\n",
    "plt.xlabel('Frame')\n",
    "plt.ylabel('Average twist (degrees)');"
   ]
  },
  {
   "cell_type": "markdown",
   "metadata": {},
   "source": [
    "You can also create a Universe from the ``local_origins`` if you would like to save it as a file and visualise it in programs such as VMD."
   ]
  },
  {
   "cell_type": "code",
   "execution_count": 17,
   "metadata": {
    "ExecuteTime": {
     "end_time": "2020-12-27T11:56:25.706533Z",
     "start_time": "2020-12-27T11:56:25.697091Z"
    }
   },
   "outputs": [],
   "source": [
    "origins = h.universe_from_origins()"
   ]
  },
  {
   "cell_type": "code",
   "execution_count": 18,
   "metadata": {
    "ExecuteTime": {
     "end_time": "2020-12-27T11:56:26.348022Z",
     "start_time": "2020-12-27T11:56:26.286571Z"
    },
    "scrolled": true
   },
   "outputs": [
    {
     "data": {
      "application/vnd.jupyter.widget-view+json": {
       "model_id": "756baa7f7a0e4360b062ef9a104ab750",
       "version_major": 2,
       "version_minor": 0
      },
      "text/plain": [
       "NGLWidget(max_frame=97)"
      ]
     },
     "metadata": {},
     "output_type": "display_data"
    }
   ],
   "source": [
    "view = nv.show_mdanalysis(h.atomgroups[0])\n",
    "view.add_trajectory(origins)\n",
    "view"
   ]
  },
  {
   "cell_type": "markdown",
   "metadata": {},
   "source": [
    "## References\n",
    "\n",
    "[1] M.&nbsp;Bansal, S.&nbsp;Kumar, and R.&nbsp;Velavan.\n",
    "<span class=\"bibtex-protected\">HELANAL</span>: a program to characterize helix geometry in proteins.\n",
    "<em>Journal of Biomolecular Structure &amp; Dynamics</em>, 17(5):811–819, April 2000.\n",
    "00175.\n",
    "<a href=\"https://doi.org/10.1080/07391102.2000.10506570\">doi:10.1080/07391102.2000.10506570</a>.\n",
    "\n",
    "[2] Oliver Beckstein, Elizabeth&nbsp;J. Denning, Juan&nbsp;R. Perilla, and Thomas&nbsp;B. Woolf.\n",
    "Zipping and <span class=\"bibtex-protected\">Unzipping</span> of <span class=\"bibtex-protected\">Adenylate</span> <span class=\"bibtex-protected\">Kinase</span>: <span class=\"bibtex-protected\">Atomistic</span> <span class=\"bibtex-protected\">Insights</span> into the <span class=\"bibtex-protected\">Ensemble</span> of <span class=\"bibtex-protected\">Open</span>↔<span class=\"bibtex-protected\">Closed</span> <span class=\"bibtex-protected\">Transitions</span>.\n",
    "<em>Journal of Molecular Biology</em>, 394(1):160–176, November 2009.\n",
    "00107.\n",
    "URL: <a href=\"https://linkinghub.elsevier.com/retrieve/pii/S0022283609011164\">https://linkinghub.elsevier.com/retrieve/pii/S0022283609011164</a>, <a href=\"https://doi.org/10.1016/j.jmb.2009.09.009\">doi:10.1016/j.jmb.2009.09.009</a>.\n",
    "\n",
    "[3] Richard&nbsp;J. Gowers, Max Linke, Jonathan Barnoud, Tyler J.&nbsp;E. Reddy, Manuel&nbsp;N. Melo, Sean&nbsp;L. Seyler, Jan Domański, David&nbsp;L. Dotson, Sébastien Buchoux, Ian&nbsp;M. Kenney, and Oliver Beckstein.\n",
    "<span class=\"bibtex-protected\">MDAnalysis</span>: <span class=\"bibtex-protected\">A</span> <span class=\"bibtex-protected\">Python</span> <span class=\"bibtex-protected\">Package</span> for the <span class=\"bibtex-protected\">Rapid</span> <span class=\"bibtex-protected\">Analysis</span> of <span class=\"bibtex-protected\">Molecular</span> <span class=\"bibtex-protected\">Dynamics</span> <span class=\"bibtex-protected\">Simulations</span>.\n",
    "<em>Proceedings of the 15th Python in Science Conference</em>, pages 98–105, 2016.\n",
    "00152.\n",
    "URL: <a href=\"https://conference.scipy.org/proceedings/scipy2016/oliver_beckstein.html\">https://conference.scipy.org/proceedings/scipy2016/oliver_beckstein.html</a>, <a href=\"https://doi.org/10.25080/Majora-629e541a-00e\">doi:10.25080/Majora-629e541a-00e</a>.\n",
    "\n",
    "[4] Naveen Michaud-Agrawal, Elizabeth&nbsp;J. Denning, Thomas&nbsp;B. Woolf, and Oliver Beckstein.\n",
    "<span class=\"bibtex-protected\">MDAnalysis</span>: <span class=\"bibtex-protected\">A</span> toolkit for the analysis of molecular dynamics simulations.\n",
    "<em>Journal of Computational Chemistry</em>, 32(10):2319–2327, July 2011.\n",
    "00778.\n",
    "URL: <a href=\"http://doi.wiley.com/10.1002/jcc.21787\">http://doi.wiley.com/10.1002/jcc.21787</a>, <a href=\"https://doi.org/10.1002/jcc.21787\">doi:10.1002/jcc.21787</a>."
   ]
  }
 ],
 "metadata": {
  "kernelspec": {
   "display_name": "Python (mda-dev)",
   "language": "python",
   "name": "mda-dev"
  },
  "language_info": {
   "codemirror_mode": {
    "name": "ipython",
    "version": 3
   },
   "file_extension": ".py",
   "mimetype": "text/x-python",
   "name": "python",
   "nbconvert_exporter": "python",
   "pygments_lexer": "ipython3",
   "version": "3.7.6"
  },
  "toc": {
   "base_numbering": 1,
   "nav_menu": {},
   "number_sections": false,
   "sideBar": true,
   "skip_h1_title": false,
   "title_cell": "Table of Contents",
   "title_sidebar": "Contents",
   "toc_cell": false,
   "toc_position": {},
   "toc_section_display": true,
   "toc_window_display": true
  },
  "widgets": {
   "application/vnd.jupyter.widget-state+json": {
    "state": {
     "02163408f7514b60887287e13b26ce68": {
      "model_module": "@jupyter-widgets/base",
      "model_module_version": "1.2.0",
      "model_name": "LayoutModel",
      "state": {
       "width": "34px"
      }
     },
     "051b510ffaa5443386fe7d9e08d0fe26": {
      "model_module": "@jupyter-widgets/base",
      "model_module_version": "1.2.0",
      "model_name": "LayoutModel",
      "state": {}
     },
     "0640203fb7694abfa947a6c4b6f1a88f": {
      "model_module": "nglview-js-widgets",
      "model_module_version": "2.7.7",
      "model_name": "ColormakerRegistryModel",
      "state": {
       "_msg_ar": [],
       "_msg_q": [],
       "_ready": true,
       "layout": "IPY_MODEL_c18d76adec964d1b9a82a24c3860e844"
      }
     },
     "06d792dd5b8346d6b9394c67f9b076a4": {
      "model_module": "@jupyter-widgets/base",
      "model_module_version": "1.2.0",
      "model_name": "LayoutModel",
      "state": {}
     },
     "0d28363ce7384a95b6d45d41a6bdcdc5": {
      "model_module": "@jupyter-widgets/controls",
      "model_module_version": "1.5.0",
      "model_name": "IntSliderModel",
      "state": {
       "layout": "IPY_MODEL_b50598526a204a5185821ca414a94ed0",
       "max": 97,
       "style": "IPY_MODEL_eede91af3ba246a6990646571b15adf8"
      }
     },
     "0f2c439c05094334b9ce1dc4ec42623b": {
      "model_module": "@jupyter-widgets/base",
      "model_module_version": "1.2.0",
      "model_name": "LayoutModel",
      "state": {}
     },
     "0f99db7beed945ee9e72532dcba025c7": {
      "model_module": "@jupyter-widgets/base",
      "model_module_version": "1.2.0",
      "model_name": "LayoutModel",
      "state": {}
     },
     "0fde7b1fd6f84a9182e1743db0440dff": {
      "model_module": "@jupyter-widgets/controls",
      "model_module_version": "1.5.0",
      "model_name": "ButtonModel",
      "state": {
       "icon": "compress",
       "layout": "IPY_MODEL_3613ad0dffc341c493899feaf1b92b6c",
       "style": "IPY_MODEL_3ee38686379846e68107dd1beacf66cd"
      }
     },
     "13c06701f00046fcb79c866aef944bda": {
      "model_module": "@jupyter-widgets/base",
      "model_module_version": "1.2.0",
      "model_name": "LayoutModel",
      "state": {}
     },
     "1603a0ef3678423fa7e1e3ea5f22a0e0": {
      "model_module": "@jupyter-widgets/controls",
      "model_module_version": "1.5.0",
      "model_name": "LinkModel",
      "state": {
       "source": [
        "IPY_MODEL_36aa20dbbd78459bb0f51ea6c133c488",
        "value"
       ],
       "target": [
        "IPY_MODEL_5710b75204a74851a8bc24389fe6084a",
        "value"
       ]
      }
     },
     "1e25f46f25fd4b3fa7bd13ba64f42712": {
      "model_module": "@jupyter-widgets/base",
      "model_module_version": "1.2.0",
      "model_name": "LayoutModel",
      "state": {
       "width": "34px"
      }
     },
     "1fca2573d2d643169782f8957cfbeb66": {
      "model_module": "@jupyter-widgets/controls",
      "model_module_version": "1.5.0",
      "model_name": "LinkModel",
      "state": {
       "source": [
        "IPY_MODEL_caca1b3bb22f4068a5338e94db0cbdc1",
        "max"
       ],
       "target": [
        "IPY_MODEL_756baa7f7a0e4360b062ef9a104ab750",
        "max_frame"
       ]
      }
     },
     "2264083887d943a68d05b4e7d8a03262": {
      "model_module": "@jupyter-widgets/controls",
      "model_module_version": "1.5.0",
      "model_name": "LinkModel",
      "state": {
       "source": [
        "IPY_MODEL_b9e37b2945574c6f81d33eeeba4ad4f9",
        "value"
       ],
       "target": [
        "IPY_MODEL_fa45e219d8564cdfb8305f5d991578a1",
        "frame"
       ]
      }
     },
     "2897005203a0445083ad0701c4e790a5": {
      "model_module": "@jupyter-widgets/base",
      "model_module_version": "1.2.0",
      "model_name": "LayoutModel",
      "state": {}
     },
     "3273f8d33f4f47349d80bbe39b17ccdb": {
      "model_module": "@jupyter-widgets/controls",
      "model_module_version": "1.5.0",
      "model_name": "DescriptionStyleModel",
      "state": {
       "description_width": ""
      }
     },
     "35e657718ced4c52adff3b590332366d": {
      "model_module": "@jupyter-widgets/controls",
      "model_module_version": "1.5.0",
      "model_name": "ButtonStyleModel",
      "state": {}
     },
     "3613ad0dffc341c493899feaf1b92b6c": {
      "model_module": "@jupyter-widgets/base",
      "model_module_version": "1.2.0",
      "model_name": "LayoutModel",
      "state": {
       "width": "34px"
      }
     },
     "36aa20dbbd78459bb0f51ea6c133c488": {
      "model_module": "@jupyter-widgets/controls",
      "model_module_version": "1.5.0",
      "model_name": "PlayModel",
      "state": {
       "layout": "IPY_MODEL_4e93a2486ab444b1b8173e129037fd13",
       "max": 97,
       "style": "IPY_MODEL_3273f8d33f4f47349d80bbe39b17ccdb"
      }
     },
     "3ee38686379846e68107dd1beacf66cd": {
      "model_module": "@jupyter-widgets/controls",
      "model_module_version": "1.5.0",
      "model_name": "ButtonStyleModel",
      "state": {}
     },
     "3fa09eb1597445e095da9dd90a264e96": {
      "model_module": "@jupyter-widgets/controls",
      "model_module_version": "1.5.0",
      "model_name": "HBoxModel",
      "state": {
       "children": [
        "IPY_MODEL_c3e6c467495e4c34aba64881f2212b7e",
        "IPY_MODEL_672bcbd9213840748fba6f87a7d3d16e"
       ],
       "layout": "IPY_MODEL_5b1b32d6daab4cb48088e90e8bb4aa51"
      }
     },
     "4121bd49a3564f93a656d8d1e8a094d4": {
      "model_module": "@jupyter-widgets/controls",
      "model_module_version": "1.5.0",
      "model_name": "IntSliderModel",
      "state": {
       "layout": "IPY_MODEL_6421ec4549a74be39ca2602aea140fa6",
       "max": 97,
       "style": "IPY_MODEL_7eb00e28173d437e8e08d3e0e7ea8395"
      }
     },
     "41d642e5d0f74938852f025173c60432": {
      "model_module": "@jupyter-widgets/base",
      "model_module_version": "1.2.0",
      "model_name": "LayoutModel",
      "state": {}
     },
     "461f83186e534f55a84dff6b52aaf1fc": {
      "model_module": "@jupyter-widgets/controls",
      "model_module_version": "1.5.0",
      "model_name": "LinkModel",
      "state": {
       "source": [
        "IPY_MODEL_caca1b3bb22f4068a5338e94db0cbdc1",
        "value"
       ],
       "target": [
        "IPY_MODEL_0d28363ce7384a95b6d45d41a6bdcdc5",
        "value"
       ]
      }
     },
     "481101fbbdd044cc8ad2941b3706227e": {
      "model_module": "@jupyter-widgets/base",
      "model_module_version": "1.2.0",
      "model_name": "LayoutModel",
      "state": {}
     },
     "4c0a2efc17394efd9994675e1cf67176": {
      "model_module": "@jupyter-widgets/controls",
      "model_module_version": "1.5.0",
      "model_name": "LinkModel",
      "state": {
       "source": [
        "IPY_MODEL_672bcbd9213840748fba6f87a7d3d16e",
        "max"
       ],
       "target": [
        "IPY_MODEL_c150041963d34a479cfafcc3f073d978",
        "max_frame"
       ]
      }
     },
     "4e93a2486ab444b1b8173e129037fd13": {
      "model_module": "@jupyter-widgets/base",
      "model_module_version": "1.2.0",
      "model_name": "LayoutModel",
      "state": {}
     },
     "529e1343fda84529ada9e83cf8123606": {
      "model_module": "@jupyter-widgets/controls",
      "model_module_version": "1.5.0",
      "model_name": "ButtonModel",
      "state": {
       "icon": "compress",
       "layout": "IPY_MODEL_1e25f46f25fd4b3fa7bd13ba64f42712",
       "style": "IPY_MODEL_35e657718ced4c52adff3b590332366d"
      }
     },
     "55cb6b5895eb4150bf7456c67fc89bcb": {
      "model_module": "@jupyter-widgets/controls",
      "model_module_version": "1.5.0",
      "model_name": "LinkModel",
      "state": {
       "source": [
        "IPY_MODEL_caca1b3bb22f4068a5338e94db0cbdc1",
        "value"
       ],
       "target": [
        "IPY_MODEL_756baa7f7a0e4360b062ef9a104ab750",
        "frame"
       ]
      }
     },
     "56179f5dd361412d8115a8174c9225fd": {
      "model_module": "@jupyter-widgets/base",
      "model_module_version": "1.2.0",
      "model_name": "LayoutModel",
      "state": {}
     },
     "5710b75204a74851a8bc24389fe6084a": {
      "model_module": "@jupyter-widgets/controls",
      "model_module_version": "1.5.0",
      "model_name": "IntSliderModel",
      "state": {
       "layout": "IPY_MODEL_adcc1460b2484c54a4660095dacce825",
       "max": 97,
       "style": "IPY_MODEL_5f11c57cd5ea4a57b57ab11d2df0654b"
      }
     },
     "58425747e5d44db2a0747c227ea72feb": {
      "model_module": "@jupyter-widgets/base",
      "model_module_version": "1.2.0",
      "model_name": "LayoutModel",
      "state": {}
     },
     "58bf5a694f794113836b3a45d69b5f18": {
      "model_module": "@jupyter-widgets/base",
      "model_module_version": "1.2.0",
      "model_name": "LayoutModel",
      "state": {
       "width": "34px"
      }
     },
     "5b1b32d6daab4cb48088e90e8bb4aa51": {
      "model_module": "@jupyter-widgets/base",
      "model_module_version": "1.2.0",
      "model_name": "LayoutModel",
      "state": {}
     },
     "5de9283ec16a40a6a2227ebd498de741": {
      "model_module": "@jupyter-widgets/controls",
      "model_module_version": "1.5.0",
      "model_name": "ImageModel",
      "state": {
       "layout": "IPY_MODEL_0f99db7beed945ee9e72532dcba025c7",
       "width": "900.0"
      }
     },
     "5f11c57cd5ea4a57b57ab11d2df0654b": {
      "model_module": "@jupyter-widgets/controls",
      "model_module_version": "1.5.0",
      "model_name": "SliderStyleModel",
      "state": {
       "description_width": ""
      }
     },
     "6421ec4549a74be39ca2602aea140fa6": {
      "model_module": "@jupyter-widgets/base",
      "model_module_version": "1.2.0",
      "model_name": "LayoutModel",
      "state": {}
     },
     "672bcbd9213840748fba6f87a7d3d16e": {
      "model_module": "@jupyter-widgets/controls",
      "model_module_version": "1.5.0",
      "model_name": "IntSliderModel",
      "state": {
       "layout": "IPY_MODEL_a6dc63e39129498290c2d6c9c5354014",
       "max": 97,
       "style": "IPY_MODEL_e82cfe723cc84b979b18520357b182e7"
      }
     },
     "6ce22df30b6d4875b88c0679c02f0c29": {
      "model_module": "@jupyter-widgets/controls",
      "model_module_version": "1.5.0",
      "model_name": "ButtonStyleModel",
      "state": {}
     },
     "731733d854c648b58cd95e4ccbca10d1": {
      "model_module": "@jupyter-widgets/base",
      "model_module_version": "1.2.0",
      "model_name": "LayoutModel",
      "state": {}
     },
     "7364d2687dc04f3bae93a1e8c8f77658": {
      "model_module": "@jupyter-widgets/controls",
      "model_module_version": "1.5.0",
      "model_name": "LinkModel",
      "state": {
       "source": [
        "IPY_MODEL_c3e6c467495e4c34aba64881f2212b7e",
        "value"
       ],
       "target": [
        "IPY_MODEL_672bcbd9213840748fba6f87a7d3d16e",
        "value"
       ]
      }
     },
     "756baa7f7a0e4360b062ef9a104ab750": {
      "model_module": "nglview-js-widgets",
      "model_module_version": "2.7.1",
      "model_name": "NGLModel",
      "state": {
       "_camera_orientation": [
        67.14728902589962,
        0,
        0,
        0,
        0,
        67.14728902589962,
        0,
        0,
        0,
        0,
        67.14728902589962,
        0,
        -3.309263229370117,
        0.5344781875610352,
        -12.719889879226685,
        1
       ],
       "_camera_str": "orthographic",
       "_gui_theme": null,
       "_ibtn_fullscreen": "IPY_MODEL_0fde7b1fd6f84a9182e1743db0440dff",
       "_igui": null,
       "_iplayer": "IPY_MODEL_7a8334606dfa4865ba21eefb6507f4f6",
       "_model_module_version": "2.7.1",
       "_ngl_color_dict": {},
       "_ngl_coordinate_resource": {},
       "_ngl_full_stage_parameters": {
        "ambientColor": 14540253,
        "ambientIntensity": 0.2,
        "backgroundColor": "white",
        "cameraEyeSep": 0.3,
        "cameraFov": 40,
        "cameraType": "perspective",
        "clipDist": 10,
        "clipFar": 100,
        "clipNear": 0,
        "fogFar": 100,
        "fogNear": 50,
        "hoverTimeout": 0,
        "impostor": true,
        "lightColor": 14540253,
        "lightIntensity": 1,
        "mousePreset": "default",
        "panSpeed": 1,
        "quality": "medium",
        "rotateSpeed": 2,
        "sampleLevel": 0,
        "tooltip": true,
        "workerDefault": true,
        "zoomSpeed": 1.2
       },
       "_ngl_msg_archive": [
        {
         "args": [
          {
           "binary": false,
           "data": "TITLE     MDANALYSIS FRAME 0: Created by PDBWriter\nCRYST1    0.000    0.000    0.000  90.00  90.00  90.00 P 1           1\nATOM      1  CA  GLU E 161     -14.118  -5.324  11.783  1.00  0.00      4AKE  \nATOM      2  CA  GLU E 162     -12.454  -8.405  13.231  1.00  0.00      4AKE  \nATOM      3  CA  THR E 163     -10.348  -9.202  10.160  1.00  0.00      4AKE  \nATOM      4  CA  VAL E 164      -9.153  -5.557  10.364  1.00  0.00      4AKE  \nATOM      5  CA  ARG E 165      -7.869  -6.416  13.868  1.00  0.00      4AKE  \nATOM      6  CA  LYS E 166      -5.506  -9.361  13.137  1.00  0.00      4AKE  \nATOM      7  CA  ARG E 167      -3.806  -7.511  10.274  1.00  0.00      4AKE  \nATOM      8  CA  LEU E 168      -3.058  -4.720  12.912  1.00  0.00      4AKE  \nATOM      9  CA  VAL E 169      -1.692  -7.365  15.287  1.00  0.00      4AKE  \nATOM     10  CA  GLU E 170       0.483  -8.771  12.560  1.00  0.00      4AKE  \nATOM     11  CA  TYR E 171       1.732  -5.191  11.681  1.00  0.00      4AKE  \nATOM     12  CA  HSD E 172       2.522  -4.065  15.391  1.00  0.00      4AKE  \nATOM     13  CA  GLN E 173       5.243  -6.798  15.447  1.00  0.00      4AKE  \nATOM     14  CA  MET E 174       6.402  -7.728  11.789  1.00  0.00      4AKE  \nATOM     15  CA  THR E 175       6.071  -4.350   9.817  1.00  0.00      4AKE  \nATOM     16  CA  ALA E 176       6.365  -1.863  12.726  1.00  0.00      4AKE  \nATOM     17  CA  PRO E 177      10.198  -2.058  13.145  1.00  0.00      4AKE  \nATOM     18  CA  LEU E 178      10.476  -0.967   9.435  1.00  0.00      4AKE  \nATOM     19  CA  ILE E 179      10.025   2.667  10.705  1.00  0.00      4AKE  \nATOM     20  CA  GLY E 180      13.354   2.305  12.587  1.00  0.00      4AKE  \nATOM     21  CA  TYR E 181      14.918   0.421   9.732  1.00  0.00      4AKE  \nATOM     22  CA  TYR E 182      14.134   3.155   7.088  1.00  0.00      4AKE  \nATOM     23  CA  SER E 183      15.000   5.840   9.506  1.00  0.00      4AKE  \nATOM     24  CA  LYS E 184      18.427   4.168   9.736  1.00  0.00      4AKE  \nATOM     25  CA  GLU E 185      18.723   4.217   5.898  1.00  0.00      4AKE  \nATOM     26  CA  ALA E 186      18.241   7.928   5.857  1.00  0.00      4AKE  \nATOM     27  CA  GLU E 187      20.777   8.473   8.764  1.00  0.00      4AKE  \nEND\n",
           "type": "blob"
          }
         ],
         "kwargs": {
          "defaultRepresentation": true,
          "ext": "pdb"
         },
         "methodName": "loadFile",
         "reconstruc_color_scheme": false,
         "target": "Stage",
         "type": "call_method"
        },
        {
         "args": [
          {
           "binary": false,
           "data": "TITLE     MDANALYSIS FRAME 0: Created by PDBWriter\nCRYST1    1.000    1.000    1.000  90.00  90.00  90.00 P 1           1\nREMARK     285 UNITARY VALUES FOR THE UNIT CELL AUTOMATICALLY SET\nREMARK     285 BY MDANALYSIS PDBWRITER BECAUSE UNIT CELL INFORMATION\nREMARK     285 WAS MISSING.\nREMARK     285 PROTEIN DATA BANK CONVENTIONS REQUIRE THAT\nREMARK     285 CRYST1 RECORD IS INCLUDED, BUT THE VALUES ON\nREMARK     285 THIS RECORD ARE MEANINGLESS.\nATOM      1  X   UNK     1     -12.257  -7.388  11.218  1.00  0.00            \nATOM      2  X   UNK     1     -10.699  -7.491  11.421  1.00  0.00            \nATOM      3  X   UNK     1      -9.117  -7.356  11.682  1.00  0.00            \nATOM      4  X   UNK     1      -7.340  -7.439  11.792  1.00  0.00            \nATOM      5  X   UNK     1      -5.787  -7.327  12.233  1.00  0.00            \nATOM      6  X   UNK     1      -4.186  -7.135  12.472  1.00  0.00            \nATOM      7  X   UNK     1      -2.797  -7.012  12.801  1.00  0.00            \nATOM      8  X   UNK     1      -1.334  -6.817  13.031  1.00  0.00            \nATOM      9  X   UNK     1       0.075  -6.577  13.374  1.00  0.00            \nATOM     10  X   UNK     1       1.545  -6.191  13.551  1.00  0.00            \nATOM     11  X   UNK     1       3.518  -6.057  13.506  1.00  0.00            \nATOM     12  X   UNK     1       4.245  -5.646  13.074  1.00  0.00            \nATOM     13  X   UNK     1       5.521  -5.180  12.786  1.00  0.00            \nATOM     14  X   UNK     1       6.314  -4.696  11.716  1.00  0.00            \nATOM     15  X   UNK     1       7.910  -3.033  11.639  1.00  0.00            \nATOM     16  X   UNK     1       8.981  -1.618  11.731  1.00  0.00            \nATOM     17  X   UNK     1      10.202  -0.010  11.309  1.00  0.00            \nATOM     18  X   UNK     1      11.674   0.924  10.972  1.00  0.00            \nATOM     19  X   UNK     1      12.588   1.645  10.532  1.00  0.00            \nATOM     20  X   UNK     1      13.846   2.529   9.829  1.00  0.00            \nATOM     21  X   UNK     1      14.818   3.135   9.187  1.00  0.00            \nATOM     22  X   UNK     1      16.039   4.072   8.618  1.00  0.00            \nATOM     23  X   UNK     1      17.166   4.861   8.098  1.00  0.00            \nATOM     24  X   UNK     1      18.371   5.876   7.618  1.00  0.00            \nATOM     25  X   UNK     1      19.623   6.479   7.207  1.00  0.00            \nEND\n",
           "type": "blob"
          }
         ],
         "kwargs": {
          "defaultRepresentation": true,
          "ext": "pdb"
         },
         "methodName": "loadFile",
         "reconstruc_color_scheme": false,
         "target": "Stage",
         "type": "call_method"
        }
       ],
       "_ngl_original_stage_parameters": {
        "ambientColor": 14540253,
        "ambientIntensity": 0.2,
        "backgroundColor": "white",
        "cameraEyeSep": 0.3,
        "cameraFov": 40,
        "cameraType": "perspective",
        "clipDist": 10,
        "clipFar": 100,
        "clipNear": 0,
        "fogFar": 100,
        "fogNear": 50,
        "hoverTimeout": 0,
        "impostor": true,
        "lightColor": 14540253,
        "lightIntensity": 1,
        "mousePreset": "default",
        "panSpeed": 1,
        "quality": "medium",
        "rotateSpeed": 2,
        "sampleLevel": 0,
        "tooltip": true,
        "workerDefault": true,
        "zoomSpeed": 1.2
       },
       "_ngl_repr_dict": {
        "0": {
         "0": {
          "params": {
           "aspectRatio": 5,
           "assembly": "default",
           "capped": true,
           "clipCenter": {
            "x": 0,
            "y": 0,
            "z": 0
           },
           "clipNear": 0,
           "clipRadius": 0,
           "colorMode": "hcl",
           "colorReverse": true,
           "colorScale": "spectral",
           "colorScheme": "residueindex",
           "colorValue": 9474192,
           "defaultAssembly": "",
           "depthWrite": true,
           "diffuse": 16777215,
           "diffuseInterior": false,
           "disablePicking": false,
           "flatShaded": false,
           "interiorColor": 2236962,
           "interiorDarkening": 0,
           "lazy": false,
           "matrix": {
            "elements": [
             1,
             0,
             0,
             0,
             0,
             1,
             0,
             0,
             0,
             0,
             1,
             0,
             0,
             0,
             0,
             1
            ]
           },
           "metalness": 0,
           "opacity": 1,
           "quality": "high",
           "radialSegments": 20,
           "radiusData": {},
           "radiusScale": 0.7,
           "radiusSize": 1,
           "radiusType": "sstruc",
           "roughness": 0.4,
           "sele": "",
           "side": "double",
           "smoothSheet": false,
           "subdiv": 6,
           "tension": null,
           "useInteriorColor": true,
           "visible": true,
           "wireframe": false
          },
          "type": "cartoon"
         },
         "1": {
          "params": {
           "aspectRatio": 1,
           "assembly": "default",
           "bondScale": 0.4,
           "clipCenter": {
            "x": 0,
            "y": 0,
            "z": 0
           },
           "clipNear": 0,
           "clipRadius": 0,
           "colorMode": "hcl",
           "colorReverse": true,
           "colorScale": "spectral",
           "colorScheme": "residueindex",
           "colorValue": 9474192,
           "cylinderOnly": false,
           "defaultAssembly": "",
           "depthWrite": true,
           "diffuse": 16777215,
           "diffuseInterior": false,
           "disableImpostor": false,
           "disablePicking": false,
           "flatShaded": false,
           "interiorColor": 2236962,
           "interiorDarkening": 0,
           "lazy": false,
           "lineOnly": false,
           "linewidth": 2,
           "matrix": {
            "elements": [
             1,
             0,
             0,
             0,
             0,
             1,
             0,
             0,
             0,
             0,
             1,
             0,
             0,
             0,
             0,
             1
            ]
           },
           "metalness": 0,
           "opacity": 1,
           "openEnded": true,
           "quality": "high",
           "radialSegments": 20,
           "radiusData": {},
           "radiusScale": 1,
           "radiusSize": 0.3,
           "radiusType": "size",
           "roughness": 0.4,
           "sele": "",
           "side": "double",
           "sphereDetail": 2,
           "useInteriorColor": true,
           "visible": true,
           "wireframe": false
          },
          "type": "base"
         },
         "2": {
          "params": {
           "aspectRatio": 1.5,
           "assembly": "default",
           "bondScale": 0.3,
           "bondSpacing": 0.75,
           "clipCenter": {
            "x": 0,
            "y": 0,
            "z": 0
           },
           "clipNear": 0,
           "clipRadius": 0,
           "colorMode": "hcl",
           "colorReverse": false,
           "colorScale": "",
           "colorScheme": "element",
           "colorValue": 9474192,
           "cylinderOnly": false,
           "defaultAssembly": "",
           "depthWrite": true,
           "diffuse": 16777215,
           "diffuseInterior": false,
           "disableImpostor": false,
           "disablePicking": false,
           "flatShaded": false,
           "interiorColor": 2236962,
           "interiorDarkening": 0,
           "lazy": false,
           "lineOnly": false,
           "linewidth": 2,
           "matrix": {
            "elements": [
             1,
             0,
             0,
             0,
             0,
             1,
             0,
             0,
             0,
             0,
             1,
             0,
             0,
             0,
             0,
             1
            ]
           },
           "metalness": 0,
           "multipleBond": "off",
           "opacity": 1,
           "openEnded": true,
           "quality": "high",
           "radialSegments": 20,
           "radiusData": {},
           "radiusScale": 2,
           "radiusSize": 0.15,
           "radiusType": "size",
           "roughness": 0.4,
           "sele": "ligand",
           "side": "double",
           "sphereDetail": 2,
           "useInteriorColor": true,
           "visible": true,
           "wireframe": false
          },
          "type": "ball+stick"
         }
        },
        "1": {
         "0": {
          "params": {
           "aspectRatio": 1.5,
           "assembly": "default",
           "bondScale": 0.3,
           "bondSpacing": 0.75,
           "clipCenter": {
            "x": 0,
            "y": 0,
            "z": 0
           },
           "clipNear": 0,
           "clipRadius": 0,
           "colorMode": "hcl",
           "colorReverse": false,
           "colorScale": "",
           "colorScheme": "element",
           "colorValue": 9474192,
           "cylinderOnly": false,
           "defaultAssembly": "",
           "depthWrite": true,
           "diffuse": 16777215,
           "diffuseInterior": false,
           "disableImpostor": false,
           "disablePicking": false,
           "flatShaded": false,
           "interiorColor": 2236962,
           "interiorDarkening": 0,
           "lazy": false,
           "lineOnly": false,
           "linewidth": 2,
           "matrix": {
            "elements": [
             1,
             0,
             0,
             0,
             0,
             1,
             0,
             0,
             0,
             0,
             1,
             0,
             0,
             0,
             0,
             1
            ]
           },
           "metalness": 0,
           "multipleBond": "off",
           "opacity": 1,
           "openEnded": true,
           "quality": "high",
           "radialSegments": 20,
           "radiusData": {},
           "radiusScale": 2,
           "radiusSize": 0.15,
           "radiusType": "size",
           "roughness": 0.4,
           "sele": "",
           "side": "double",
           "sphereDetail": 2,
           "useInteriorColor": true,
           "visible": true,
           "wireframe": false
          },
          "type": "ball+stick"
         }
        }
       },
       "_ngl_serialize": false,
       "_ngl_version": "2.0.0-dev.36",
       "_ngl_view_id": [
        "87D386A4-A295-4989-B495-D2C361A5ABE7"
       ],
       "_player_dict": {},
       "_scene_position": {},
       "_scene_rotation": {},
       "_synced_model_ids": [],
       "_synced_repr_model_ids": [],
       "_view_height": "",
       "_view_module_version": "2.7.1",
       "_view_width": "",
       "background": "white",
       "frame": 0,
       "gui_style": null,
       "layout": "IPY_MODEL_481101fbbdd044cc8ad2941b3706227e",
       "max_frame": 97,
       "n_components": 2,
       "picked": {}
      }
     },
     "7a0251b827164ed187552f3856c61ed3": {
      "model_module": "@jupyter-widgets/base",
      "model_module_version": "1.2.0",
      "model_name": "LayoutModel",
      "state": {}
     },
     "7a8334606dfa4865ba21eefb6507f4f6": {
      "model_module": "@jupyter-widgets/controls",
      "model_module_version": "1.5.0",
      "model_name": "HBoxModel",
      "state": {
       "children": [
        "IPY_MODEL_caca1b3bb22f4068a5338e94db0cbdc1",
        "IPY_MODEL_0d28363ce7384a95b6d45d41a6bdcdc5"
       ],
       "layout": "IPY_MODEL_58425747e5d44db2a0747c227ea72feb"
      }
     },
     "7eb00e28173d437e8e08d3e0e7ea8395": {
      "model_module": "@jupyter-widgets/controls",
      "model_module_version": "1.5.0",
      "model_name": "SliderStyleModel",
      "state": {
       "description_width": ""
      }
     },
     "7ed709f14ef04c10a1547dc5e97115a6": {
      "model_module": "nglview-js-widgets",
      "model_module_version": "2.7.7",
      "model_name": "ColormakerRegistryModel",
      "state": {
       "_msg_ar": [],
       "_msg_q": [],
       "_ready": true,
       "layout": "IPY_MODEL_fe12bbf97dc546f3baa97d082873b056"
      }
     },
     "7fa7025d3a2e40858734b2d307e4ca49": {
      "model_module": "@jupyter-widgets/base",
      "model_module_version": "1.2.0",
      "model_name": "LayoutModel",
      "state": {}
     },
     "83d1c8cd2b6241e7b39dd5e6631827c9": {
      "model_module": "@jupyter-widgets/controls",
      "model_module_version": "1.5.0",
      "model_name": "ImageModel",
      "state": {
       "layout": "IPY_MODEL_e3cbef0f42644e18aa13e8cf6c6d4860",
       "width": "900.0"
      }
     },
     "8c49750e5bc2486c893b9b793d8ae243": {
      "model_module": "@jupyter-widgets/controls",
      "model_module_version": "1.5.0",
      "model_name": "LinkModel",
      "state": {
       "source": [
        "IPY_MODEL_36aa20dbbd78459bb0f51ea6c133c488",
        "max"
       ],
       "target": [
        "IPY_MODEL_bb2ace277daa4a5a8f196c2840c49035",
        "max_frame"
       ]
      }
     },
     "8d717e0758124f3da1a4445ff183d1ca": {
      "model_module": "@jupyter-widgets/controls",
      "model_module_version": "1.5.0",
      "model_name": "LinkModel",
      "state": {
       "source": [
        "IPY_MODEL_c3e6c467495e4c34aba64881f2212b7e",
        "value"
       ],
       "target": [
        "IPY_MODEL_c150041963d34a479cfafcc3f073d978",
        "frame"
       ]
      }
     },
     "8e4a7428c44147aabbc5f0c0d2f5ca5e": {
      "model_module": "@jupyter-widgets/controls",
      "model_module_version": "1.5.0",
      "model_name": "ImageModel",
      "state": {
       "layout": "IPY_MODEL_a9ea22e9b8124f1c8a9116f2760979b4",
       "width": "900.0"
      }
     },
     "a27566d7a63342dd8a4624a85ab7c453": {
      "model_module": "@jupyter-widgets/controls",
      "model_module_version": "1.5.0",
      "model_name": "LinkModel",
      "state": {
       "source": [
        "IPY_MODEL_b9e37b2945574c6f81d33eeeba4ad4f9",
        "max"
       ],
       "target": [
        "IPY_MODEL_fa45e219d8564cdfb8305f5d991578a1",
        "max_frame"
       ]
      }
     },
     "a6dc63e39129498290c2d6c9c5354014": {
      "model_module": "@jupyter-widgets/base",
      "model_module_version": "1.2.0",
      "model_name": "LayoutModel",
      "state": {}
     },
     "a96aa8da0b4e4736a7165ece3f5e3bbc": {
      "model_module": "@jupyter-widgets/controls",
      "model_module_version": "1.5.0",
      "model_name": "HBoxModel",
      "state": {
       "children": [
        "IPY_MODEL_b9e37b2945574c6f81d33eeeba4ad4f9",
        "IPY_MODEL_4121bd49a3564f93a656d8d1e8a094d4"
       ],
       "layout": "IPY_MODEL_c4d04febd10d4104ba975b46ae70bcfb"
      }
     },
     "a9ea22e9b8124f1c8a9116f2760979b4": {
      "model_module": "@jupyter-widgets/base",
      "model_module_version": "1.2.0",
      "model_name": "LayoutModel",
      "state": {}
     },
     "aa3fe94b9a254a968efb045fb6c7765d": {
      "model_module": "@jupyter-widgets/controls",
      "model_module_version": "1.5.0",
      "model_name": "LinkModel",
      "state": {
       "source": [
        "IPY_MODEL_4121bd49a3564f93a656d8d1e8a094d4",
        "max"
       ],
       "target": [
        "IPY_MODEL_fa45e219d8564cdfb8305f5d991578a1",
        "max_frame"
       ]
      }
     },
     "abfbf9453a1d46a2a5d3553900f89592": {
      "model_module": "@jupyter-widgets/controls",
      "model_module_version": "1.5.0",
      "model_name": "LinkModel",
      "state": {
       "source": [
        "IPY_MODEL_b9e37b2945574c6f81d33eeeba4ad4f9",
        "value"
       ],
       "target": [
        "IPY_MODEL_4121bd49a3564f93a656d8d1e8a094d4",
        "value"
       ]
      }
     },
     "adcc1460b2484c54a4660095dacce825": {
      "model_module": "@jupyter-widgets/base",
      "model_module_version": "1.2.0",
      "model_name": "LayoutModel",
      "state": {}
     },
     "b1f5448bcaa74dfd86f22f53e3b575cf": {
      "model_module": "@jupyter-widgets/controls",
      "model_module_version": "1.5.0",
      "model_name": "LinkModel",
      "state": {
       "source": [
        "IPY_MODEL_36aa20dbbd78459bb0f51ea6c133c488",
        "value"
       ],
       "target": [
        "IPY_MODEL_bb2ace277daa4a5a8f196c2840c49035",
        "frame"
       ]
      }
     },
     "b21c2139cf4c4f12afb350447a08a75a": {
      "model_module": "@jupyter-widgets/controls",
      "model_module_version": "1.5.0",
      "model_name": "DescriptionStyleModel",
      "state": {
       "description_width": ""
      }
     },
     "b50598526a204a5185821ca414a94ed0": {
      "model_module": "@jupyter-widgets/base",
      "model_module_version": "1.2.0",
      "model_name": "LayoutModel",
      "state": {}
     },
     "b80711a0d3b54ad0b08baf8b653a14a1": {
      "model_module": "nglview-js-widgets",
      "model_module_version": "2.7.7",
      "model_name": "ColormakerRegistryModel",
      "state": {
       "_msg_ar": [],
       "_msg_q": [],
       "_ready": true,
       "layout": "IPY_MODEL_06d792dd5b8346d6b9394c67f9b076a4"
      }
     },
     "b9e37b2945574c6f81d33eeeba4ad4f9": {
      "model_module": "@jupyter-widgets/controls",
      "model_module_version": "1.5.0",
      "model_name": "PlayModel",
      "state": {
       "layout": "IPY_MODEL_7a0251b827164ed187552f3856c61ed3",
       "max": 97,
       "style": "IPY_MODEL_cf5939b5dd264be98becd66a1a9a5a77"
      }
     },
     "ba4fe909ef884dfeb5b00b95d4569f9f": {
      "model_module": "@jupyter-widgets/controls",
      "model_module_version": "1.5.0",
      "model_name": "LinkModel",
      "state": {
       "source": [
        "IPY_MODEL_5710b75204a74851a8bc24389fe6084a",
        "max"
       ],
       "target": [
        "IPY_MODEL_bb2ace277daa4a5a8f196c2840c49035",
        "max_frame"
       ]
      }
     },
     "bb2ace277daa4a5a8f196c2840c49035": {
      "model_module": "nglview-js-widgets",
      "model_module_version": "2.7.1",
      "model_name": "NGLModel",
      "state": {
       "_camera_orientation": [
        67.14728902589962,
        0,
        0,
        0,
        0,
        67.14728902589962,
        0,
        0,
        0,
        0,
        67.14728902589962,
        0,
        -3.309263229370117,
        0.5344781875610352,
        -12.719889879226685,
        1
       ],
       "_camera_str": "orthographic",
       "_gui_theme": null,
       "_ibtn_fullscreen": "IPY_MODEL_de151f29a8794404b6860482219e5a82",
       "_igui": null,
       "_iplayer": "IPY_MODEL_dd86648e1a4744e9863339311496720f",
       "_model_module_version": "2.7.1",
       "_ngl_color_dict": {},
       "_ngl_coordinate_resource": {},
       "_ngl_full_stage_parameters": {
        "ambientColor": 14540253,
        "ambientIntensity": 0.2,
        "backgroundColor": "white",
        "cameraEyeSep": 0.3,
        "cameraFov": 40,
        "cameraType": "perspective",
        "clipDist": 10,
        "clipFar": 100,
        "clipNear": 0,
        "fogFar": 100,
        "fogNear": 50,
        "hoverTimeout": 0,
        "impostor": true,
        "lightColor": 14540253,
        "lightIntensity": 1,
        "mousePreset": "default",
        "panSpeed": 1,
        "quality": "medium",
        "rotateSpeed": 2,
        "sampleLevel": 0,
        "tooltip": true,
        "workerDefault": true,
        "zoomSpeed": 1.2
       },
       "_ngl_msg_archive": [
        {
         "args": [
          {
           "binary": false,
           "data": "TITLE     MDANALYSIS FRAME 0: Created by PDBWriter\nCRYST1    0.000    0.000    0.000  90.00  90.00  90.00 P 1           1\nATOM      1  CA  GLU E 161     -14.118  -5.324  11.783  1.00  0.00      4AKE  \nATOM      2  CA  GLU E 162     -12.454  -8.405  13.231  1.00  0.00      4AKE  \nATOM      3  CA  THR E 163     -10.348  -9.202  10.160  1.00  0.00      4AKE  \nATOM      4  CA  VAL E 164      -9.153  -5.557  10.364  1.00  0.00      4AKE  \nATOM      5  CA  ARG E 165      -7.869  -6.416  13.868  1.00  0.00      4AKE  \nATOM      6  CA  LYS E 166      -5.506  -9.361  13.137  1.00  0.00      4AKE  \nATOM      7  CA  ARG E 167      -3.806  -7.511  10.274  1.00  0.00      4AKE  \nATOM      8  CA  LEU E 168      -3.058  -4.720  12.912  1.00  0.00      4AKE  \nATOM      9  CA  VAL E 169      -1.692  -7.365  15.287  1.00  0.00      4AKE  \nATOM     10  CA  GLU E 170       0.483  -8.771  12.560  1.00  0.00      4AKE  \nATOM     11  CA  TYR E 171       1.732  -5.191  11.681  1.00  0.00      4AKE  \nATOM     12  CA  HSD E 172       2.522  -4.065  15.391  1.00  0.00      4AKE  \nATOM     13  CA  GLN E 173       5.243  -6.798  15.447  1.00  0.00      4AKE  \nATOM     14  CA  MET E 174       6.402  -7.728  11.789  1.00  0.00      4AKE  \nATOM     15  CA  THR E 175       6.071  -4.350   9.817  1.00  0.00      4AKE  \nATOM     16  CA  ALA E 176       6.365  -1.863  12.726  1.00  0.00      4AKE  \nATOM     17  CA  PRO E 177      10.198  -2.058  13.145  1.00  0.00      4AKE  \nATOM     18  CA  LEU E 178      10.476  -0.967   9.435  1.00  0.00      4AKE  \nATOM     19  CA  ILE E 179      10.025   2.667  10.705  1.00  0.00      4AKE  \nATOM     20  CA  GLY E 180      13.354   2.305  12.587  1.00  0.00      4AKE  \nATOM     21  CA  TYR E 181      14.918   0.421   9.732  1.00  0.00      4AKE  \nATOM     22  CA  TYR E 182      14.134   3.155   7.088  1.00  0.00      4AKE  \nATOM     23  CA  SER E 183      15.000   5.840   9.506  1.00  0.00      4AKE  \nATOM     24  CA  LYS E 184      18.427   4.168   9.736  1.00  0.00      4AKE  \nATOM     25  CA  GLU E 185      18.723   4.217   5.898  1.00  0.00      4AKE  \nATOM     26  CA  ALA E 186      18.241   7.928   5.857  1.00  0.00      4AKE  \nATOM     27  CA  GLU E 187      20.777   8.473   8.764  1.00  0.00      4AKE  \nEND\n",
           "type": "blob"
          }
         ],
         "kwargs": {
          "defaultRepresentation": true,
          "ext": "pdb"
         },
         "methodName": "loadFile",
         "reconstruc_color_scheme": false,
         "target": "Stage",
         "type": "call_method"
        },
        {
         "args": [
          {
           "binary": false,
           "data": "TITLE     MDANALYSIS FRAME 0: Created by PDBWriter\nCRYST1    1.000    1.000    1.000  90.00  90.00  90.00 P 1           1\nREMARK     285 UNITARY VALUES FOR THE UNIT CELL AUTOMATICALLY SET\nREMARK     285 BY MDANALYSIS PDBWRITER BECAUSE UNIT CELL INFORMATION\nREMARK     285 WAS MISSING.\nREMARK     285 PROTEIN DATA BANK CONVENTIONS REQUIRE THAT\nREMARK     285 CRYST1 RECORD IS INCLUDED, BUT THE VALUES ON\nREMARK     285 THIS RECORD ARE MEANINGLESS.\nATOM      1  X   UNK     1     -12.257  -7.388  11.218  1.00  0.00            \nATOM      2  X   UNK     1     -10.699  -7.491  11.421  1.00  0.00            \nATOM      3  X   UNK     1      -9.117  -7.356  11.682  1.00  0.00            \nATOM      4  X   UNK     1      -7.340  -7.439  11.792  1.00  0.00            \nATOM      5  X   UNK     1      -5.787  -7.327  12.233  1.00  0.00            \nATOM      6  X   UNK     1      -4.186  -7.135  12.472  1.00  0.00            \nATOM      7  X   UNK     1      -2.797  -7.012  12.801  1.00  0.00            \nATOM      8  X   UNK     1      -1.334  -6.817  13.031  1.00  0.00            \nATOM      9  X   UNK     1       0.075  -6.577  13.374  1.00  0.00            \nATOM     10  X   UNK     1       1.545  -6.191  13.551  1.00  0.00            \nATOM     11  X   UNK     1       3.518  -6.057  13.506  1.00  0.00            \nATOM     12  X   UNK     1       4.245  -5.646  13.074  1.00  0.00            \nATOM     13  X   UNK     1       5.521  -5.180  12.786  1.00  0.00            \nATOM     14  X   UNK     1       6.314  -4.696  11.716  1.00  0.00            \nATOM     15  X   UNK     1       7.910  -3.033  11.639  1.00  0.00            \nATOM     16  X   UNK     1       8.981  -1.618  11.731  1.00  0.00            \nATOM     17  X   UNK     1      10.202  -0.010  11.309  1.00  0.00            \nATOM     18  X   UNK     1      11.674   0.924  10.972  1.00  0.00            \nATOM     19  X   UNK     1      12.588   1.645  10.532  1.00  0.00            \nATOM     20  X   UNK     1      13.846   2.529   9.829  1.00  0.00            \nATOM     21  X   UNK     1      14.818   3.135   9.187  1.00  0.00            \nATOM     22  X   UNK     1      16.039   4.072   8.618  1.00  0.00            \nATOM     23  X   UNK     1      17.166   4.861   8.098  1.00  0.00            \nATOM     24  X   UNK     1      18.371   5.876   7.618  1.00  0.00            \nATOM     25  X   UNK     1      19.623   6.479   7.207  1.00  0.00            \nEND\n",
           "type": "blob"
          }
         ],
         "kwargs": {
          "defaultRepresentation": true,
          "ext": "pdb"
         },
         "methodName": "loadFile",
         "reconstruc_color_scheme": false,
         "target": "Stage",
         "type": "call_method"
        }
       ],
       "_ngl_original_stage_parameters": {
        "ambientColor": 14540253,
        "ambientIntensity": 0.2,
        "backgroundColor": "white",
        "cameraEyeSep": 0.3,
        "cameraFov": 40,
        "cameraType": "perspective",
        "clipDist": 10,
        "clipFar": 100,
        "clipNear": 0,
        "fogFar": 100,
        "fogNear": 50,
        "hoverTimeout": 0,
        "impostor": true,
        "lightColor": 14540253,
        "lightIntensity": 1,
        "mousePreset": "default",
        "panSpeed": 1,
        "quality": "medium",
        "rotateSpeed": 2,
        "sampleLevel": 0,
        "tooltip": true,
        "workerDefault": true,
        "zoomSpeed": 1.2
       },
       "_ngl_repr_dict": {
        "0": {
         "0": {
          "params": {
           "aspectRatio": 5,
           "assembly": "default",
           "capped": true,
           "clipCenter": {
            "x": 0,
            "y": 0,
            "z": 0
           },
           "clipNear": 0,
           "clipRadius": 0,
           "colorMode": "hcl",
           "colorReverse": true,
           "colorScale": "spectral",
           "colorScheme": "residueindex",
           "colorValue": 9474192,
           "defaultAssembly": "",
           "depthWrite": true,
           "diffuse": 16777215,
           "diffuseInterior": false,
           "disablePicking": false,
           "flatShaded": false,
           "interiorColor": 2236962,
           "interiorDarkening": 0,
           "lazy": false,
           "matrix": {
            "elements": [
             1,
             0,
             0,
             0,
             0,
             1,
             0,
             0,
             0,
             0,
             1,
             0,
             0,
             0,
             0,
             1
            ]
           },
           "metalness": 0,
           "opacity": 1,
           "quality": "high",
           "radialSegments": 20,
           "radiusData": {},
           "radiusScale": 0.7,
           "radiusSize": 1,
           "radiusType": "sstruc",
           "roughness": 0.4,
           "sele": "",
           "side": "double",
           "smoothSheet": false,
           "subdiv": 6,
           "tension": null,
           "useInteriorColor": true,
           "visible": true,
           "wireframe": false
          },
          "type": "cartoon"
         },
         "1": {
          "params": {
           "aspectRatio": 1,
           "assembly": "default",
           "bondScale": 0.4,
           "clipCenter": {
            "x": 0,
            "y": 0,
            "z": 0
           },
           "clipNear": 0,
           "clipRadius": 0,
           "colorMode": "hcl",
           "colorReverse": true,
           "colorScale": "spectral",
           "colorScheme": "residueindex",
           "colorValue": 9474192,
           "cylinderOnly": false,
           "defaultAssembly": "",
           "depthWrite": true,
           "diffuse": 16777215,
           "diffuseInterior": false,
           "disableImpostor": false,
           "disablePicking": false,
           "flatShaded": false,
           "interiorColor": 2236962,
           "interiorDarkening": 0,
           "lazy": false,
           "lineOnly": false,
           "linewidth": 2,
           "matrix": {
            "elements": [
             1,
             0,
             0,
             0,
             0,
             1,
             0,
             0,
             0,
             0,
             1,
             0,
             0,
             0,
             0,
             1
            ]
           },
           "metalness": 0,
           "opacity": 1,
           "openEnded": true,
           "quality": "high",
           "radialSegments": 20,
           "radiusData": {},
           "radiusScale": 1,
           "radiusSize": 0.3,
           "radiusType": "size",
           "roughness": 0.4,
           "sele": "",
           "side": "double",
           "sphereDetail": 2,
           "useInteriorColor": true,
           "visible": true,
           "wireframe": false
          },
          "type": "base"
         },
         "2": {
          "params": {
           "aspectRatio": 1.5,
           "assembly": "default",
           "bondScale": 0.3,
           "bondSpacing": 0.75,
           "clipCenter": {
            "x": 0,
            "y": 0,
            "z": 0
           },
           "clipNear": 0,
           "clipRadius": 0,
           "colorMode": "hcl",
           "colorReverse": false,
           "colorScale": "",
           "colorScheme": "element",
           "colorValue": 9474192,
           "cylinderOnly": false,
           "defaultAssembly": "",
           "depthWrite": true,
           "diffuse": 16777215,
           "diffuseInterior": false,
           "disableImpostor": false,
           "disablePicking": false,
           "flatShaded": false,
           "interiorColor": 2236962,
           "interiorDarkening": 0,
           "lazy": false,
           "lineOnly": false,
           "linewidth": 2,
           "matrix": {
            "elements": [
             1,
             0,
             0,
             0,
             0,
             1,
             0,
             0,
             0,
             0,
             1,
             0,
             0,
             0,
             0,
             1
            ]
           },
           "metalness": 0,
           "multipleBond": "off",
           "opacity": 1,
           "openEnded": true,
           "quality": "high",
           "radialSegments": 20,
           "radiusData": {},
           "radiusScale": 2,
           "radiusSize": 0.15,
           "radiusType": "size",
           "roughness": 0.4,
           "sele": "ligand",
           "side": "double",
           "sphereDetail": 2,
           "useInteriorColor": true,
           "visible": true,
           "wireframe": false
          },
          "type": "ball+stick"
         }
        },
        "1": {
         "0": {
          "params": {
           "aspectRatio": 1.5,
           "assembly": "default",
           "bondScale": 0.3,
           "bondSpacing": 0.75,
           "clipCenter": {
            "x": 0,
            "y": 0,
            "z": 0
           },
           "clipNear": 0,
           "clipRadius": 0,
           "colorMode": "hcl",
           "colorReverse": false,
           "colorScale": "",
           "colorScheme": "element",
           "colorValue": 9474192,
           "cylinderOnly": false,
           "defaultAssembly": "",
           "depthWrite": true,
           "diffuse": 16777215,
           "diffuseInterior": false,
           "disableImpostor": false,
           "disablePicking": false,
           "flatShaded": false,
           "interiorColor": 2236962,
           "interiorDarkening": 0,
           "lazy": false,
           "lineOnly": false,
           "linewidth": 2,
           "matrix": {
            "elements": [
             1,
             0,
             0,
             0,
             0,
             1,
             0,
             0,
             0,
             0,
             1,
             0,
             0,
             0,
             0,
             1
            ]
           },
           "metalness": 0,
           "multipleBond": "off",
           "opacity": 1,
           "openEnded": true,
           "quality": "high",
           "radialSegments": 20,
           "radiusData": {},
           "radiusScale": 2,
           "radiusSize": 0.15,
           "radiusType": "size",
           "roughness": 0.4,
           "sele": "",
           "side": "double",
           "sphereDetail": 2,
           "useInteriorColor": true,
           "visible": true,
           "wireframe": false
          },
          "type": "ball+stick"
         }
        }
       },
       "_ngl_serialize": false,
       "_ngl_version": "2.0.0-dev.36",
       "_ngl_view_id": [
        "A8E79826-03F6-43A2-A9F1-7EB7E4D06929"
       ],
       "_player_dict": {},
       "_scene_position": {},
       "_scene_rotation": {},
       "_synced_model_ids": [],
       "_synced_repr_model_ids": [],
       "_view_height": "",
       "_view_module_version": "2.7.1",
       "_view_width": "",
       "background": "white",
       "frame": 0,
       "gui_style": null,
       "layout": "IPY_MODEL_731733d854c648b58cd95e4ccbca10d1",
       "max_frame": 97,
       "n_components": 2,
       "picked": {}
      }
     },
     "c150041963d34a479cfafcc3f073d978": {
      "model_module": "nglview-js-widgets",
      "model_module_version": "2.7.7",
      "model_name": "NGLModel",
      "state": {
       "_camera_orientation": [
        67.14728902589962,
        0,
        0,
        0,
        0,
        67.14728902589962,
        0,
        0,
        0,
        0,
        67.14728902589962,
        0,
        -3.309263229370117,
        0.5344781875610352,
        -12.719889879226685,
        1
       ],
       "_camera_str": "orthographic",
       "_gui_theme": null,
       "_ibtn_fullscreen": "IPY_MODEL_529e1343fda84529ada9e83cf8123606",
       "_igui": null,
       "_iplayer": "IPY_MODEL_3fa09eb1597445e095da9dd90a264e96",
       "_ngl_color_dict": {},
       "_ngl_coordinate_resource": {},
       "_ngl_full_stage_parameters": {
        "ambientColor": 14540253,
        "ambientIntensity": 0.2,
        "backgroundColor": "white",
        "cameraEyeSep": 0.3,
        "cameraFov": 40,
        "cameraType": "perspective",
        "clipDist": 10,
        "clipFar": 100,
        "clipNear": 0,
        "fogFar": 100,
        "fogNear": 50,
        "hoverTimeout": 0,
        "impostor": true,
        "lightColor": 14540253,
        "lightIntensity": 1,
        "mousePreset": "default",
        "panSpeed": 1,
        "quality": "medium",
        "rotateSpeed": 2,
        "sampleLevel": 0,
        "tooltip": true,
        "workerDefault": true,
        "zoomSpeed": 1.2
       },
       "_ngl_msg_archive": [
        {
         "args": [
          {
           "binary": false,
           "data": "TITLE     MDANALYSIS FRAME 0: Created by PDBWriter\nCRYST1    0.000    0.000    0.000  90.00  90.00  90.00 P 1           1\nATOM      1  CA  GLU E 161     -14.118  -5.324  11.783  1.00  0.00      4AKE C\nATOM      2  CA  GLU E 162     -12.454  -8.405  13.231  1.00  0.00      4AKE C\nATOM      3  CA  THR E 163     -10.348  -9.202  10.160  1.00  0.00      4AKE C\nATOM      4  CA  VAL E 164      -9.153  -5.557  10.364  1.00  0.00      4AKE C\nATOM      5  CA  ARG E 165      -7.869  -6.416  13.868  1.00  0.00      4AKE C\nATOM      6  CA  LYS E 166      -5.506  -9.361  13.137  1.00  0.00      4AKE C\nATOM      7  CA  ARG E 167      -3.806  -7.511  10.274  1.00  0.00      4AKE C\nATOM      8  CA  LEU E 168      -3.058  -4.720  12.912  1.00  0.00      4AKE C\nATOM      9  CA  VAL E 169      -1.692  -7.365  15.287  1.00  0.00      4AKE C\nATOM     10  CA  GLU E 170       0.483  -8.771  12.560  1.00  0.00      4AKE C\nATOM     11  CA  TYR E 171       1.732  -5.191  11.681  1.00  0.00      4AKE C\nATOM     12  CA  HSD E 172       2.522  -4.065  15.391  1.00  0.00      4AKE C\nATOM     13  CA  GLN E 173       5.243  -6.798  15.447  1.00  0.00      4AKE C\nATOM     14  CA  MET E 174       6.402  -7.728  11.789  1.00  0.00      4AKE C\nATOM     15  CA  THR E 175       6.071  -4.350   9.817  1.00  0.00      4AKE C\nATOM     16  CA  ALA E 176       6.365  -1.863  12.726  1.00  0.00      4AKE C\nATOM     17  CA  PRO E 177      10.198  -2.058  13.145  1.00  0.00      4AKE C\nATOM     18  CA  LEU E 178      10.476  -0.967   9.435  1.00  0.00      4AKE C\nATOM     19  CA  ILE E 179      10.025   2.667  10.705  1.00  0.00      4AKE C\nATOM     20  CA  GLY E 180      13.354   2.305  12.587  1.00  0.00      4AKE C\nATOM     21  CA  TYR E 181      14.918   0.421   9.732  1.00  0.00      4AKE C\nATOM     22  CA  TYR E 182      14.134   3.155   7.088  1.00  0.00      4AKE C\nATOM     23  CA  SER E 183      15.000   5.840   9.506  1.00  0.00      4AKE C\nATOM     24  CA  LYS E 184      18.427   4.168   9.736  1.00  0.00      4AKE C\nATOM     25  CA  GLU E 185      18.723   4.217   5.898  1.00  0.00      4AKE C\nATOM     26  CA  ALA E 186      18.241   7.928   5.857  1.00  0.00      4AKE C\nATOM     27  CA  GLU E 187      20.777   8.473   8.764  1.00  0.00      4AKE C\nEND\n",
           "type": "blob"
          }
         ],
         "kwargs": {
          "defaultRepresentation": true,
          "ext": "pdb"
         },
         "methodName": "loadFile",
         "reconstruc_color_scheme": false,
         "target": "Stage",
         "type": "call_method"
        },
        {
         "args": [
          {
           "binary": false,
           "data": "TITLE     MDANALYSIS FRAME 0: Created by PDBWriter\nCRYST1    0.000    0.000    0.000   0.00   0.00   0.00 P 1           1\nATOM      1  X   UNK     1     -12.257  -7.388  11.218  1.00  0.00           X\nATOM      2  X   UNK     1     -10.699  -7.491  11.421  1.00  0.00           X\nATOM      3  X   UNK     1      -9.117  -7.356  11.682  1.00  0.00           X\nATOM      4  X   UNK     1      -7.340  -7.439  11.792  1.00  0.00           X\nATOM      5  X   UNK     1      -5.787  -7.327  12.233  1.00  0.00           X\nATOM      6  X   UNK     1      -4.186  -7.135  12.472  1.00  0.00           X\nATOM      7  X   UNK     1      -2.797  -7.012  12.801  1.00  0.00           X\nATOM      8  X   UNK     1      -1.334  -6.817  13.031  1.00  0.00           X\nATOM      9  X   UNK     1       0.075  -6.577  13.374  1.00  0.00           X\nATOM     10  X   UNK     1       1.545  -6.191  13.551  1.00  0.00           X\nATOM     11  X   UNK     1       3.518  -6.057  13.506  1.00  0.00           X\nATOM     12  X   UNK     1       4.245  -5.646  13.074  1.00  0.00           X\nATOM     13  X   UNK     1       5.521  -5.180  12.786  1.00  0.00           X\nATOM     14  X   UNK     1       6.314  -4.696  11.716  1.00  0.00           X\nATOM     15  X   UNK     1       7.910  -3.033  11.639  1.00  0.00           X\nATOM     16  X   UNK     1       8.981  -1.618  11.731  1.00  0.00           X\nATOM     17  X   UNK     1      10.202  -0.010  11.309  1.00  0.00           X\nATOM     18  X   UNK     1      11.674   0.924  10.972  1.00  0.00           X\nATOM     19  X   UNK     1      12.588   1.645  10.532  1.00  0.00           X\nATOM     20  X   UNK     1      13.846   2.529   9.829  1.00  0.00           X\nATOM     21  X   UNK     1      14.818   3.135   9.187  1.00  0.00           X\nATOM     22  X   UNK     1      16.039   4.072   8.618  1.00  0.00           X\nATOM     23  X   UNK     1      17.166   4.861   8.098  1.00  0.00           X\nATOM     24  X   UNK     1      18.371   5.876   7.618  1.00  0.00           X\nATOM     25  X   UNK     1      19.623   6.479   7.207  1.00  0.00           X\nEND\n",
           "type": "blob"
          }
         ],
         "kwargs": {
          "defaultRepresentation": true,
          "ext": "pdb"
         },
         "methodName": "loadFile",
         "reconstruc_color_scheme": false,
         "target": "Stage",
         "type": "call_method"
        }
       ],
       "_ngl_original_stage_parameters": {
        "ambientColor": 14540253,
        "ambientIntensity": 0.2,
        "backgroundColor": "white",
        "cameraEyeSep": 0.3,
        "cameraFov": 40,
        "cameraType": "perspective",
        "clipDist": 10,
        "clipFar": 100,
        "clipNear": 0,
        "fogFar": 100,
        "fogNear": 50,
        "hoverTimeout": 0,
        "impostor": true,
        "lightColor": 14540253,
        "lightIntensity": 1,
        "mousePreset": "default",
        "panSpeed": 1,
        "quality": "medium",
        "rotateSpeed": 2,
        "sampleLevel": 0,
        "tooltip": true,
        "workerDefault": true,
        "zoomSpeed": 1.2
       },
       "_ngl_repr_dict": {
        "0": {
         "0": {
          "params": {
           "aspectRatio": 5,
           "assembly": "default",
           "capped": true,
           "clipCenter": {
            "x": 0,
            "y": 0,
            "z": 0
           },
           "clipNear": 0,
           "clipRadius": 0,
           "colorMode": "hcl",
           "colorReverse": true,
           "colorScale": "spectral",
           "colorScheme": "residueindex",
           "colorValue": 9474192,
           "defaultAssembly": "",
           "depthWrite": true,
           "diffuse": 16777215,
           "diffuseInterior": false,
           "disablePicking": false,
           "flatShaded": false,
           "interiorColor": 2236962,
           "interiorDarkening": 0,
           "lazy": false,
           "matrix": {
            "elements": [
             1,
             0,
             0,
             0,
             0,
             1,
             0,
             0,
             0,
             0,
             1,
             0,
             0,
             0,
             0,
             1
            ]
           },
           "metalness": 0,
           "opacity": 1,
           "quality": "high",
           "radialSegments": 20,
           "radiusData": {},
           "radiusScale": 0.7,
           "radiusSize": 1,
           "radiusType": "sstruc",
           "roughness": 0.4,
           "sele": "",
           "side": "double",
           "smoothSheet": false,
           "subdiv": 6,
           "tension": null,
           "useInteriorColor": true,
           "visible": true,
           "wireframe": false
          },
          "type": "cartoon"
         },
         "1": {
          "params": {
           "aspectRatio": 1,
           "assembly": "default",
           "bondScale": 0.4,
           "clipCenter": {
            "x": 0,
            "y": 0,
            "z": 0
           },
           "clipNear": 0,
           "clipRadius": 0,
           "colorMode": "hcl",
           "colorReverse": true,
           "colorScale": "spectral",
           "colorScheme": "residueindex",
           "colorValue": 9474192,
           "cylinderOnly": false,
           "defaultAssembly": "",
           "depthWrite": true,
           "diffuse": 16777215,
           "diffuseInterior": false,
           "disableImpostor": false,
           "disablePicking": false,
           "flatShaded": false,
           "interiorColor": 2236962,
           "interiorDarkening": 0,
           "lazy": false,
           "lineOnly": false,
           "linewidth": 2,
           "matrix": {
            "elements": [
             1,
             0,
             0,
             0,
             0,
             1,
             0,
             0,
             0,
             0,
             1,
             0,
             0,
             0,
             0,
             1
            ]
           },
           "metalness": 0,
           "opacity": 1,
           "openEnded": true,
           "quality": "high",
           "radialSegments": 20,
           "radiusData": {},
           "radiusScale": 1,
           "radiusSize": 0.3,
           "radiusType": "size",
           "roughness": 0.4,
           "sele": "",
           "side": "double",
           "sphereDetail": 2,
           "useInteriorColor": true,
           "visible": true,
           "wireframe": false
          },
          "type": "base"
         },
         "2": {
          "params": {
           "aspectRatio": 1.5,
           "assembly": "default",
           "bondScale": 0.3,
           "bondSpacing": 0.75,
           "clipCenter": {
            "x": 0,
            "y": 0,
            "z": 0
           },
           "clipNear": 0,
           "clipRadius": 0,
           "colorMode": "hcl",
           "colorReverse": false,
           "colorScale": "",
           "colorScheme": "element",
           "colorValue": 9474192,
           "cylinderOnly": false,
           "defaultAssembly": "",
           "depthWrite": true,
           "diffuse": 16777215,
           "diffuseInterior": false,
           "disableImpostor": false,
           "disablePicking": false,
           "flatShaded": false,
           "interiorColor": 2236962,
           "interiorDarkening": 0,
           "lazy": false,
           "lineOnly": false,
           "linewidth": 2,
           "matrix": {
            "elements": [
             1,
             0,
             0,
             0,
             0,
             1,
             0,
             0,
             0,
             0,
             1,
             0,
             0,
             0,
             0,
             1
            ]
           },
           "metalness": 0,
           "multipleBond": "off",
           "opacity": 1,
           "openEnded": true,
           "quality": "high",
           "radialSegments": 20,
           "radiusData": {},
           "radiusScale": 2,
           "radiusSize": 0.15,
           "radiusType": "size",
           "roughness": 0.4,
           "sele": "ligand",
           "side": "double",
           "sphereDetail": 2,
           "useInteriorColor": true,
           "visible": true,
           "wireframe": false
          },
          "type": "ball+stick"
         }
        },
        "1": {
         "0": {
          "params": {
           "aspectRatio": 1.5,
           "assembly": "default",
           "bondScale": 0.3,
           "bondSpacing": 0.75,
           "clipCenter": {
            "x": 0,
            "y": 0,
            "z": 0
           },
           "clipNear": 0,
           "clipRadius": 0,
           "colorMode": "hcl",
           "colorReverse": false,
           "colorScale": "",
           "colorScheme": "element",
           "colorValue": 9474192,
           "cylinderOnly": false,
           "defaultAssembly": "",
           "depthWrite": true,
           "diffuse": 16777215,
           "diffuseInterior": false,
           "disableImpostor": false,
           "disablePicking": false,
           "flatShaded": false,
           "interiorColor": 2236962,
           "interiorDarkening": 0,
           "lazy": false,
           "lineOnly": false,
           "linewidth": 2,
           "matrix": {
            "elements": [
             1,
             0,
             0,
             0,
             0,
             1,
             0,
             0,
             0,
             0,
             1,
             0,
             0,
             0,
             0,
             1
            ]
           },
           "metalness": 0,
           "multipleBond": "off",
           "opacity": 1,
           "openEnded": true,
           "quality": "high",
           "radialSegments": 20,
           "radiusData": {},
           "radiusScale": 2,
           "radiusSize": 0.15,
           "radiusType": "size",
           "roughness": 0.4,
           "sele": "",
           "side": "double",
           "sphereDetail": 2,
           "useInteriorColor": true,
           "visible": true,
           "wireframe": false
          },
          "type": "ball+stick"
         }
        }
       },
       "_ngl_serialize": false,
       "_ngl_version": "2.0.0-dev.36",
       "_ngl_view_id": [
        "E6150735-97BE-411B-8DC4-FB06E5170CD7"
       ],
       "_player_dict": {},
       "_scene_position": {},
       "_scene_rotation": {},
       "_synced_model_ids": [],
       "_synced_repr_model_ids": [],
       "_view_height": "",
       "_view_width": "",
       "background": "white",
       "frame": 0,
       "gui_style": null,
       "layout": "IPY_MODEL_051b510ffaa5443386fe7d9e08d0fe26",
       "max_frame": 97,
       "n_components": 2,
       "picked": {}
      }
     },
     "c18d76adec964d1b9a82a24c3860e844": {
      "model_module": "@jupyter-widgets/base",
      "model_module_version": "1.2.0",
      "model_name": "LayoutModel",
      "state": {}
     },
     "c30dbb81f724419a95b7d7596c48fb3b": {
      "model_module": "@jupyter-widgets/controls",
      "model_module_version": "1.5.0",
      "model_name": "LinkModel",
      "state": {
       "source": [
        "IPY_MODEL_0d28363ce7384a95b6d45d41a6bdcdc5",
        "max"
       ],
       "target": [
        "IPY_MODEL_756baa7f7a0e4360b062ef9a104ab750",
        "max_frame"
       ]
      }
     },
     "c3e6c467495e4c34aba64881f2212b7e": {
      "model_module": "@jupyter-widgets/controls",
      "model_module_version": "1.5.0",
      "model_name": "PlayModel",
      "state": {
       "layout": "IPY_MODEL_56179f5dd361412d8115a8174c9225fd",
       "max": 97,
       "style": "IPY_MODEL_b21c2139cf4c4f12afb350447a08a75a"
      }
     },
     "c4d04febd10d4104ba975b46ae70bcfb": {
      "model_module": "@jupyter-widgets/base",
      "model_module_version": "1.2.0",
      "model_name": "LayoutModel",
      "state": {}
     },
     "c985df9ca8364373bcf99df86e7b17bc": {
      "model_module": "@jupyter-widgets/controls",
      "model_module_version": "1.5.0",
      "model_name": "ButtonModel",
      "state": {
       "icon": "compress",
       "layout": "IPY_MODEL_02163408f7514b60887287e13b26ce68",
       "style": "IPY_MODEL_ea2e7c536f874a159d0db44ddff48231"
      }
     },
     "caca1b3bb22f4068a5338e94db0cbdc1": {
      "model_module": "@jupyter-widgets/controls",
      "model_module_version": "1.5.0",
      "model_name": "PlayModel",
      "state": {
       "layout": "IPY_MODEL_13c06701f00046fcb79c866aef944bda",
       "max": 97,
       "style": "IPY_MODEL_dad352c2678744e2b3a03969252f036b"
      }
     },
     "cf5939b5dd264be98becd66a1a9a5a77": {
      "model_module": "@jupyter-widgets/controls",
      "model_module_version": "1.5.0",
      "model_name": "DescriptionStyleModel",
      "state": {
       "description_width": ""
      }
     },
     "d8b0d2c2889a43f891a5a47a3c465a76": {
      "model_module": "nglview-js-widgets",
      "model_module_version": "2.7.1",
      "model_name": "ColormakerRegistryModel",
      "state": {
       "_model_module_version": "2.7.1",
       "_msg_ar": [],
       "_msg_q": [],
       "_ready": true,
       "_view_module_version": "2.7.1",
       "layout": "IPY_MODEL_0f2c439c05094334b9ce1dc4ec42623b"
      }
     },
     "dad352c2678744e2b3a03969252f036b": {
      "model_module": "@jupyter-widgets/controls",
      "model_module_version": "1.5.0",
      "model_name": "DescriptionStyleModel",
      "state": {
       "description_width": ""
      }
     },
     "dd86648e1a4744e9863339311496720f": {
      "model_module": "@jupyter-widgets/controls",
      "model_module_version": "1.5.0",
      "model_name": "HBoxModel",
      "state": {
       "children": [
        "IPY_MODEL_36aa20dbbd78459bb0f51ea6c133c488",
        "IPY_MODEL_5710b75204a74851a8bc24389fe6084a"
       ],
       "layout": "IPY_MODEL_2897005203a0445083ad0701c4e790a5"
      }
     },
     "de151f29a8794404b6860482219e5a82": {
      "model_module": "@jupyter-widgets/controls",
      "model_module_version": "1.5.0",
      "model_name": "ButtonModel",
      "state": {
       "icon": "compress",
       "layout": "IPY_MODEL_58bf5a694f794113836b3a45d69b5f18",
       "style": "IPY_MODEL_6ce22df30b6d4875b88c0679c02f0c29"
      }
     },
     "e3cbef0f42644e18aa13e8cf6c6d4860": {
      "model_module": "@jupyter-widgets/base",
      "model_module_version": "1.2.0",
      "model_name": "LayoutModel",
      "state": {}
     },
     "e82cfe723cc84b979b18520357b182e7": {
      "model_module": "@jupyter-widgets/controls",
      "model_module_version": "1.5.0",
      "model_name": "SliderStyleModel",
      "state": {
       "description_width": ""
      }
     },
     "ea2e7c536f874a159d0db44ddff48231": {
      "model_module": "@jupyter-widgets/controls",
      "model_module_version": "1.5.0",
      "model_name": "ButtonStyleModel",
      "state": {}
     },
     "eede91af3ba246a6990646571b15adf8": {
      "model_module": "@jupyter-widgets/controls",
      "model_module_version": "1.5.0",
      "model_name": "SliderStyleModel",
      "state": {
       "description_width": ""
      }
     },
     "ef865f6a0f6940068b34f5cf4ed2db10": {
      "model_module": "@jupyter-widgets/controls",
      "model_module_version": "1.5.0",
      "model_name": "LinkModel",
      "state": {
       "source": [
        "IPY_MODEL_c3e6c467495e4c34aba64881f2212b7e",
        "max"
       ],
       "target": [
        "IPY_MODEL_c150041963d34a479cfafcc3f073d978",
        "max_frame"
       ]
      }
     },
     "f79c774bb5484abd949268224ef1fa1a": {
      "model_module": "@jupyter-widgets/controls",
      "model_module_version": "1.5.0",
      "model_name": "ImageModel",
      "state": {
       "layout": "IPY_MODEL_7fa7025d3a2e40858734b2d307e4ca49",
       "width": "900.0"
      }
     },
     "fa45e219d8564cdfb8305f5d991578a1": {
      "model_module": "nglview-js-widgets",
      "model_module_version": "2.7.7",
      "model_name": "NGLModel",
      "state": {
       "_camera_orientation": [
        45.21254036081188,
        -3.738532480686249,
        -1.1220676712142355,
        0,
        3.8587451348122994,
        40.84475708968273,
        19.39652987303054,
        0,
        -0.5880025106177358,
        -19.42005818790612,
        41.011279666353374,
        0,
        -3.309263229370117,
        0.5344781875610352,
        -12.719889879226685,
        1
       ],
       "_camera_str": "orthographic",
       "_gui_theme": null,
       "_ibtn_fullscreen": "IPY_MODEL_c985df9ca8364373bcf99df86e7b17bc",
       "_igui": null,
       "_iplayer": "IPY_MODEL_a96aa8da0b4e4736a7165ece3f5e3bbc",
       "_ngl_color_dict": {},
       "_ngl_coordinate_resource": {},
       "_ngl_full_stage_parameters": {
        "ambientColor": 14540253,
        "ambientIntensity": 0.2,
        "backgroundColor": "white",
        "cameraEyeSep": 0.3,
        "cameraFov": 40,
        "cameraType": "perspective",
        "clipDist": 10,
        "clipFar": 100,
        "clipNear": 0,
        "fogFar": 100,
        "fogNear": 50,
        "hoverTimeout": 0,
        "impostor": true,
        "lightColor": 14540253,
        "lightIntensity": 1,
        "mousePreset": "default",
        "panSpeed": 1,
        "quality": "medium",
        "rotateSpeed": 2,
        "sampleLevel": 0,
        "tooltip": true,
        "workerDefault": true,
        "zoomSpeed": 1.2
       },
       "_ngl_msg_archive": [
        {
         "args": [
          {
           "binary": false,
           "data": "TITLE     MDANALYSIS FRAME 0: Created by PDBWriter\nCRYST1    0.000    0.000    0.000  90.00  90.00  90.00 P 1           1\nATOM      1  CA  GLU E 161     -14.118  -5.324  11.783  1.00  0.00      4AKE C\nATOM      2  CA  GLU E 162     -12.454  -8.405  13.231  1.00  0.00      4AKE C\nATOM      3  CA  THR E 163     -10.348  -9.202  10.160  1.00  0.00      4AKE C\nATOM      4  CA  VAL E 164      -9.153  -5.557  10.364  1.00  0.00      4AKE C\nATOM      5  CA  ARG E 165      -7.869  -6.416  13.868  1.00  0.00      4AKE C\nATOM      6  CA  LYS E 166      -5.506  -9.361  13.137  1.00  0.00      4AKE C\nATOM      7  CA  ARG E 167      -3.806  -7.511  10.274  1.00  0.00      4AKE C\nATOM      8  CA  LEU E 168      -3.058  -4.720  12.912  1.00  0.00      4AKE C\nATOM      9  CA  VAL E 169      -1.692  -7.365  15.287  1.00  0.00      4AKE C\nATOM     10  CA  GLU E 170       0.483  -8.771  12.560  1.00  0.00      4AKE C\nATOM     11  CA  TYR E 171       1.732  -5.191  11.681  1.00  0.00      4AKE C\nATOM     12  CA  HSD E 172       2.522  -4.065  15.391  1.00  0.00      4AKE C\nATOM     13  CA  GLN E 173       5.243  -6.798  15.447  1.00  0.00      4AKE C\nATOM     14  CA  MET E 174       6.402  -7.728  11.789  1.00  0.00      4AKE C\nATOM     15  CA  THR E 175       6.071  -4.350   9.817  1.00  0.00      4AKE C\nATOM     16  CA  ALA E 176       6.365  -1.863  12.726  1.00  0.00      4AKE C\nATOM     17  CA  PRO E 177      10.198  -2.058  13.145  1.00  0.00      4AKE C\nATOM     18  CA  LEU E 178      10.476  -0.967   9.435  1.00  0.00      4AKE C\nATOM     19  CA  ILE E 179      10.025   2.667  10.705  1.00  0.00      4AKE C\nATOM     20  CA  GLY E 180      13.354   2.305  12.587  1.00  0.00      4AKE C\nATOM     21  CA  TYR E 181      14.918   0.421   9.732  1.00  0.00      4AKE C\nATOM     22  CA  TYR E 182      14.134   3.155   7.088  1.00  0.00      4AKE C\nATOM     23  CA  SER E 183      15.000   5.840   9.506  1.00  0.00      4AKE C\nATOM     24  CA  LYS E 184      18.427   4.168   9.736  1.00  0.00      4AKE C\nATOM     25  CA  GLU E 185      18.723   4.217   5.898  1.00  0.00      4AKE C\nATOM     26  CA  ALA E 186      18.241   7.928   5.857  1.00  0.00      4AKE C\nATOM     27  CA  GLU E 187      20.777   8.473   8.764  1.00  0.00      4AKE C\nEND\n",
           "type": "blob"
          }
         ],
         "kwargs": {
          "defaultRepresentation": true,
          "ext": "pdb"
         },
         "methodName": "loadFile",
         "reconstruc_color_scheme": false,
         "target": "Stage",
         "type": "call_method"
        },
        {
         "args": [
          {
           "binary": false,
           "data": "TITLE     MDANALYSIS FRAME 0: Created by PDBWriter\nCRYST1    0.000    0.000    0.000   0.00   0.00   0.00 P 1           1\nATOM      1  X   UNK     1     -12.257  -7.388  11.218  1.00  0.00           X\nATOM      2  X   UNK     1     -10.699  -7.491  11.421  1.00  0.00           X\nATOM      3  X   UNK     1      -9.117  -7.356  11.682  1.00  0.00           X\nATOM      4  X   UNK     1      -7.340  -7.439  11.792  1.00  0.00           X\nATOM      5  X   UNK     1      -5.787  -7.327  12.233  1.00  0.00           X\nATOM      6  X   UNK     1      -4.186  -7.135  12.472  1.00  0.00           X\nATOM      7  X   UNK     1      -2.797  -7.012  12.801  1.00  0.00           X\nATOM      8  X   UNK     1      -1.334  -6.817  13.031  1.00  0.00           X\nATOM      9  X   UNK     1       0.075  -6.577  13.374  1.00  0.00           X\nATOM     10  X   UNK     1       1.545  -6.191  13.551  1.00  0.00           X\nATOM     11  X   UNK     1       3.518  -6.057  13.506  1.00  0.00           X\nATOM     12  X   UNK     1       4.245  -5.646  13.074  1.00  0.00           X\nATOM     13  X   UNK     1       5.521  -5.180  12.786  1.00  0.00           X\nATOM     14  X   UNK     1       6.314  -4.696  11.716  1.00  0.00           X\nATOM     15  X   UNK     1       7.910  -3.033  11.639  1.00  0.00           X\nATOM     16  X   UNK     1       8.981  -1.618  11.731  1.00  0.00           X\nATOM     17  X   UNK     1      10.202  -0.010  11.309  1.00  0.00           X\nATOM     18  X   UNK     1      11.674   0.924  10.972  1.00  0.00           X\nATOM     19  X   UNK     1      12.588   1.645  10.532  1.00  0.00           X\nATOM     20  X   UNK     1      13.846   2.529   9.829  1.00  0.00           X\nATOM     21  X   UNK     1      14.818   3.135   9.187  1.00  0.00           X\nATOM     22  X   UNK     1      16.039   4.072   8.618  1.00  0.00           X\nATOM     23  X   UNK     1      17.166   4.861   8.098  1.00  0.00           X\nATOM     24  X   UNK     1      18.371   5.876   7.618  1.00  0.00           X\nATOM     25  X   UNK     1      19.623   6.479   7.207  1.00  0.00           X\nEND\n",
           "type": "blob"
          }
         ],
         "kwargs": {
          "defaultRepresentation": true,
          "ext": "pdb"
         },
         "methodName": "loadFile",
         "reconstruc_color_scheme": false,
         "target": "Stage",
         "type": "call_method"
        }
       ],
       "_ngl_original_stage_parameters": {
        "ambientColor": 14540253,
        "ambientIntensity": 0.2,
        "backgroundColor": "white",
        "cameraEyeSep": 0.3,
        "cameraFov": 40,
        "cameraType": "perspective",
        "clipDist": 10,
        "clipFar": 100,
        "clipNear": 0,
        "fogFar": 100,
        "fogNear": 50,
        "hoverTimeout": 0,
        "impostor": true,
        "lightColor": 14540253,
        "lightIntensity": 1,
        "mousePreset": "default",
        "panSpeed": 1,
        "quality": "medium",
        "rotateSpeed": 2,
        "sampleLevel": 0,
        "tooltip": true,
        "workerDefault": true,
        "zoomSpeed": 1.2
       },
       "_ngl_repr_dict": {
        "0": {
         "0": {
          "params": {
           "aspectRatio": 5,
           "assembly": "default",
           "capped": true,
           "clipCenter": {
            "x": 0,
            "y": 0,
            "z": 0
           },
           "clipNear": 0,
           "clipRadius": 0,
           "colorMode": "hcl",
           "colorReverse": true,
           "colorScale": "spectral",
           "colorScheme": "residueindex",
           "colorValue": 9474192,
           "defaultAssembly": "",
           "depthWrite": true,
           "diffuse": 16777215,
           "diffuseInterior": false,
           "disablePicking": false,
           "flatShaded": false,
           "interiorColor": 2236962,
           "interiorDarkening": 0,
           "lazy": false,
           "matrix": {
            "elements": [
             1,
             0,
             0,
             0,
             0,
             1,
             0,
             0,
             0,
             0,
             1,
             0,
             0,
             0,
             0,
             1
            ]
           },
           "metalness": 0,
           "opacity": 1,
           "quality": "high",
           "radialSegments": 20,
           "radiusData": {},
           "radiusScale": 0.7,
           "radiusSize": 1,
           "radiusType": "sstruc",
           "roughness": 0.4,
           "sele": "",
           "side": "double",
           "smoothSheet": false,
           "subdiv": 6,
           "tension": null,
           "useInteriorColor": true,
           "visible": true,
           "wireframe": false
          },
          "type": "cartoon"
         },
         "1": {
          "params": {
           "aspectRatio": 1,
           "assembly": "default",
           "bondScale": 0.4,
           "clipCenter": {
            "x": 0,
            "y": 0,
            "z": 0
           },
           "clipNear": 0,
           "clipRadius": 0,
           "colorMode": "hcl",
           "colorReverse": true,
           "colorScale": "spectral",
           "colorScheme": "residueindex",
           "colorValue": 9474192,
           "cylinderOnly": false,
           "defaultAssembly": "",
           "depthWrite": true,
           "diffuse": 16777215,
           "diffuseInterior": false,
           "disableImpostor": false,
           "disablePicking": false,
           "flatShaded": false,
           "interiorColor": 2236962,
           "interiorDarkening": 0,
           "lazy": false,
           "lineOnly": false,
           "linewidth": 2,
           "matrix": {
            "elements": [
             1,
             0,
             0,
             0,
             0,
             1,
             0,
             0,
             0,
             0,
             1,
             0,
             0,
             0,
             0,
             1
            ]
           },
           "metalness": 0,
           "opacity": 1,
           "openEnded": true,
           "quality": "high",
           "radialSegments": 20,
           "radiusData": {},
           "radiusScale": 1,
           "radiusSize": 0.3,
           "radiusType": "size",
           "roughness": 0.4,
           "sele": "",
           "side": "double",
           "sphereDetail": 2,
           "useInteriorColor": true,
           "visible": true,
           "wireframe": false
          },
          "type": "base"
         },
         "2": {
          "params": {
           "aspectRatio": 1.5,
           "assembly": "default",
           "bondScale": 0.3,
           "bondSpacing": 0.75,
           "clipCenter": {
            "x": 0,
            "y": 0,
            "z": 0
           },
           "clipNear": 0,
           "clipRadius": 0,
           "colorMode": "hcl",
           "colorReverse": false,
           "colorScale": "",
           "colorScheme": "element",
           "colorValue": 9474192,
           "cylinderOnly": false,
           "defaultAssembly": "",
           "depthWrite": true,
           "diffuse": 16777215,
           "diffuseInterior": false,
           "disableImpostor": false,
           "disablePicking": false,
           "flatShaded": false,
           "interiorColor": 2236962,
           "interiorDarkening": 0,
           "lazy": false,
           "lineOnly": false,
           "linewidth": 2,
           "matrix": {
            "elements": [
             1,
             0,
             0,
             0,
             0,
             1,
             0,
             0,
             0,
             0,
             1,
             0,
             0,
             0,
             0,
             1
            ]
           },
           "metalness": 0,
           "multipleBond": "off",
           "opacity": 1,
           "openEnded": true,
           "quality": "high",
           "radialSegments": 20,
           "radiusData": {},
           "radiusScale": 2,
           "radiusSize": 0.15,
           "radiusType": "size",
           "roughness": 0.4,
           "sele": "ligand",
           "side": "double",
           "sphereDetail": 2,
           "useInteriorColor": true,
           "visible": true,
           "wireframe": false
          },
          "type": "ball+stick"
         }
        },
        "1": {
         "0": {
          "params": {
           "aspectRatio": 1.5,
           "assembly": "default",
           "bondScale": 0.3,
           "bondSpacing": 0.75,
           "clipCenter": {
            "x": 0,
            "y": 0,
            "z": 0
           },
           "clipNear": 0,
           "clipRadius": 0,
           "colorMode": "hcl",
           "colorReverse": false,
           "colorScale": "",
           "colorScheme": "element",
           "colorValue": 9474192,
           "cylinderOnly": false,
           "defaultAssembly": "",
           "depthWrite": true,
           "diffuse": 16777215,
           "diffuseInterior": false,
           "disableImpostor": false,
           "disablePicking": false,
           "flatShaded": false,
           "interiorColor": 2236962,
           "interiorDarkening": 0,
           "lazy": false,
           "lineOnly": false,
           "linewidth": 2,
           "matrix": {
            "elements": [
             1,
             0,
             0,
             0,
             0,
             1,
             0,
             0,
             0,
             0,
             1,
             0,
             0,
             0,
             0,
             1
            ]
           },
           "metalness": 0,
           "multipleBond": "off",
           "opacity": 1,
           "openEnded": true,
           "quality": "high",
           "radialSegments": 20,
           "radiusData": {},
           "radiusScale": 2,
           "radiusSize": 0.15,
           "radiusType": "size",
           "roughness": 0.4,
           "sele": "",
           "side": "double",
           "sphereDetail": 2,
           "useInteriorColor": true,
           "visible": true,
           "wireframe": false
          },
          "type": "ball+stick"
         }
        }
       },
       "_ngl_serialize": false,
       "_ngl_version": "2.0.0-dev.36",
       "_ngl_view_id": [
        "615AB93D-41DB-4A0E-800B-81A35D4D0C50"
       ],
       "_player_dict": {},
       "_scene_position": {},
       "_scene_rotation": {},
       "_synced_model_ids": [],
       "_synced_repr_model_ids": [],
       "_view_height": "",
       "_view_width": "",
       "background": "white",
       "frame": 0,
       "gui_style": null,
       "layout": "IPY_MODEL_41d642e5d0f74938852f025173c60432",
       "max_frame": 97,
       "n_components": 2,
       "picked": {}
      }
     },
     "fe12bbf97dc546f3baa97d082873b056": {
      "model_module": "@jupyter-widgets/base",
      "model_module_version": "1.2.0",
      "model_name": "LayoutModel",
      "state": {}
     }
    },
    "version_major": 2,
    "version_minor": 0
   }
  }
 },
 "nbformat": 4,
 "nbformat_minor": 4
}
