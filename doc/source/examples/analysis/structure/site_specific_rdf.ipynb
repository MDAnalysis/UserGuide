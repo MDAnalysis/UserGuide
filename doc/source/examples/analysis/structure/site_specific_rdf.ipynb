{
 "cells": [
  {
   "cell_type": "markdown",
   "metadata": {},
   "source": [
    "# Calculating the RDF atom-to-atom\n",
    "\n",
    "We calculate the site-specific radial distribution functions of solvent around certain atoms.\n",
    "\n",
    "**Last executed:** May 18, 2021 with MDAnalysis 1.1.1\n",
    "\n",
    "**Last updated:** February 2020\n",
    "\n",
    "**Minimum version of MDAnalysis:** 0.19.0\n",
    "\n",
    "**Packages required:**\n",
    "    \n",
    "* MDAnalysis (<a data-cite=\"michaud-agrawal_mdanalysis_2011\" href=\"https://doi.org/10.1002/jcc.21787\">Michaud-Agrawal *et al.*, 2011</a>, <a data-cite=\"gowers_mdanalysis_2016\" href=\"https://doi.org/10.25080/Majora-629e541a-00e\">Gowers *et al.*, 2016</a>)\n",
    "* MDAnalysisTests\n",
    "\n",
    "**Optional packages for visualisation:**\n",
    "\n",
    "* [matplotlib](https://matplotlib.org)\n"
   ]
  },
  {
   "cell_type": "code",
   "execution_count": 1,
   "metadata": {
    "execution": {
     "iopub.execute_input": "2021-05-19T05:58:29.353011Z",
     "iopub.status.busy": "2021-05-19T05:58:29.352352Z",
     "iopub.status.idle": "2021-05-19T05:58:30.289550Z",
     "shell.execute_reply": "2021-05-19T05:58:30.290032Z"
    }
   },
   "outputs": [],
   "source": [
    "import MDAnalysis as mda\n",
    "from MDAnalysis.tests.datafiles import TPR, XTC\n",
    "from MDAnalysis.analysis import rdf\n",
    "import matplotlib.pyplot as plt\n",
    "import numpy as np\n",
    "%matplotlib inline"
   ]
  },
  {
   "cell_type": "markdown",
   "metadata": {},
   "source": [
    "## Loading files"
   ]
  },
  {
   "cell_type": "markdown",
   "metadata": {},
   "source": [
    "The test files we will be working with here feature adenylate kinase (AdK), a phosophotransferase enzyme. (<a data-cite=\"beckstein_zipping_2009\" href=\"https://doi.org/10.1016/j.jmb.2009.09.009\">Beckstein *et al.*, 2009</a>)"
   ]
  },
  {
   "cell_type": "code",
   "execution_count": 2,
   "metadata": {
    "execution": {
     "iopub.execute_input": "2021-05-19T05:58:30.294493Z",
     "iopub.status.busy": "2021-05-19T05:58:30.293625Z",
     "iopub.status.idle": "2021-05-19T05:58:31.229943Z",
     "shell.execute_reply": "2021-05-19T05:58:31.229178Z"
    }
   },
   "outputs": [
    {
     "name": "stderr",
     "output_type": "stream",
     "text": [
      "/Users/lily/anaconda3/envs/mda-user-guide/lib/python3.7/site-packages/MDAnalysis/topology/tpr/utils.py:395: DeprecationWarning: TPR files index residues from 0. From MDAnalysis version 2.0, resids will start at 1 instead. If you wish to keep indexing resids from 0, please set `tpr_resid_from_one=False` as a keyword argument when you create a new Topology or Universe.\n",
      "  category=DeprecationWarning)\n"
     ]
    }
   ],
   "source": [
    "u = mda.Universe(TPR, XTC)"
   ]
  },
  {
   "cell_type": "markdown",
   "metadata": {},
   "source": [
    "## Calculating the site-specific radial distribution function"
   ]
  },
  {
   "cell_type": "markdown",
   "metadata": {},
   "source": [
    "A radial distribution function $g_{ab}(r)$ describes the time-averaged density of particles in $b$ from the reference group $a$ at distance $r$. It is normalised so that it becomes 1 for large separations in a homogenous system. See [the tutorial on averaged RDFs](average_rdf.ipynb) for more information. The `InterRDF_s` class ([API docs](https://docs.mdanalysis.org/stable/documentation_pages/analysis/rdf.html#MDAnalysis.analysis.rdf.InterRDF_s)) allows you to compute RDFs on an atom-to-atom basis, rather than simply giving the averaged RDF as in `InterRDF`.\n",
    "\n",
    "Below, I calculate the RDF between selected alpha-carbons and the water atoms within 15 angstroms of CA60, *in the first frame of the trajectory*. The water group does not update over the trajectory as the water moves towards and away from the alpha-carbon. \n",
    "\n",
    "The RDF is limited to a spherical shell around each atom by `range`. Note that the range is defined around *each atom*, rather than the center-of-mass of the entire group.\n",
    "\n",
    "If `density=True`, the final RDF is over the average density of the selected atoms in the trajectory box, making it comparable to the output of `rdf.InterRDF`. If `density=False`, the density is not taken into account. This can make it difficult to compare RDFs between AtomGroups that contain different numbers of atoms."
   ]
  },
  {
   "cell_type": "code",
   "execution_count": 3,
   "metadata": {
    "execution": {
     "iopub.execute_input": "2021-05-19T05:58:31.235366Z",
     "iopub.status.busy": "2021-05-19T05:58:31.234786Z",
     "iopub.status.idle": "2021-05-19T05:58:31.854793Z",
     "shell.execute_reply": "2021-05-19T05:58:31.855177Z"
    }
   },
   "outputs": [
    {
     "data": {
      "text/plain": [
       "<MDAnalysis.analysis.rdf.InterRDF_s at 0x7fe8a0ab7090>"
      ]
     },
     "execution_count": 1,
     "metadata": {},
     "output_type": "execute_result"
    }
   ],
   "source": [
    "ca60 = u.select_atoms('resid 60 and name CA')\n",
    "ca61 = u.select_atoms('resid 61 and name CA')\n",
    "ca62 = u.select_atoms('resid 62 and name CA')\n",
    "water = u.select_atoms('resname SOL and sphzone 15 group sel_a', sel_a=ca60)\n",
    "\n",
    "ags = [[ca60+ca61, water], [ca62, water]]\n",
    "\n",
    "ss_rdf = rdf.InterRDF_s(u, ags,\n",
    "                    nbins=75,  # default\n",
    "                    range=(0.0, 15.0),  # distance\n",
    "                    density=True,\n",
    "                   )\n",
    "ss_rdf.run();"
   ]
  },
  {
   "cell_type": "markdown",
   "metadata": {},
   "source": [
    "Like `rdf.InterRDF`, the distance bins are available at `ss_rdf.bins`."
   ]
  },
  {
   "cell_type": "code",
   "execution_count": 4,
   "metadata": {
    "execution": {
     "iopub.execute_input": "2021-05-19T05:58:31.859860Z",
     "iopub.status.busy": "2021-05-19T05:58:31.859307Z",
     "iopub.status.idle": "2021-05-19T05:58:31.861752Z",
     "shell.execute_reply": "2021-05-19T05:58:31.862184Z"
    }
   },
   "outputs": [
    {
     "data": {
      "text/plain": [
       "array([ 0.1,  0.3,  0.5,  0.7,  0.9,  1.1,  1.3,  1.5,  1.7,  1.9,  2.1,\n",
       "        2.3,  2.5,  2.7,  2.9,  3.1,  3.3,  3.5,  3.7,  3.9,  4.1,  4.3,\n",
       "        4.5,  4.7,  4.9,  5.1,  5.3,  5.5,  5.7,  5.9,  6.1,  6.3,  6.5,\n",
       "        6.7,  6.9,  7.1,  7.3,  7.5,  7.7,  7.9,  8.1,  8.3,  8.5,  8.7,\n",
       "        8.9,  9.1,  9.3,  9.5,  9.7,  9.9, 10.1, 10.3, 10.5, 10.7, 10.9,\n",
       "       11.1, 11.3, 11.5, 11.7, 11.9, 12.1, 12.3, 12.5, 12.7, 12.9, 13.1,\n",
       "       13.3, 13.5, 13.7, 13.9, 14.1, 14.3, 14.5, 14.7, 14.9])"
      ]
     },
     "execution_count": 1,
     "metadata": {},
     "output_type": "execute_result"
    }
   ],
   "source": [
    "ss_rdf.bins"
   ]
  },
  {
   "cell_type": "markdown",
   "metadata": {},
   "source": [
    "`ss_rdf.rdf` contains the atom-pairwise RDF for each of your pairs of AtomGroups. It is a list with the same length as your list of pairs `ags`. A result array has the shape `(len(ag1), len(ag2), nbins)` for the AtomGroup pair `(ag1, ag2)`. "
   ]
  },
  {
   "cell_type": "code",
   "execution_count": 5,
   "metadata": {
    "execution": {
     "iopub.execute_input": "2021-05-19T05:58:31.867176Z",
     "iopub.status.busy": "2021-05-19T05:58:31.866041Z",
     "iopub.status.idle": "2021-05-19T05:58:31.868917Z",
     "shell.execute_reply": "2021-05-19T05:58:31.868467Z"
    },
    "scrolled": true
   },
   "outputs": [
    {
     "name": "stdout",
     "output_type": "stream",
     "text": [
      "There are 1041 water atoms\n",
      "The first result array has shape: (2, 1041, 75)\n",
      "The second result array has shape: (1, 1041, 75)\n"
     ]
    }
   ],
   "source": [
    "print('There are {} water atoms'.format(len(water)))\n",
    "print('The first result array has shape: {}'.format(ss_rdf.rdf[0].shape))\n",
    "print('The second result array has shape: {}'.format(ss_rdf.rdf[1].shape))"
   ]
  },
  {
   "cell_type": "markdown",
   "metadata": {},
   "source": [
    "Index the results array to get the RDF for a particular pair of atoms. `ss_rdf.rdf[i][j][k]` will return the RDF between atoms $j$ and $k$ in the $i$th pair of atom groups. For example, below we get the RDF between the alpha-carbon in residue 61 (i.e. the second atom of the first atom group) and the 571st atom of water."
   ]
  },
  {
   "cell_type": "code",
   "execution_count": 6,
   "metadata": {
    "execution": {
     "iopub.execute_input": "2021-05-19T05:58:31.872815Z",
     "iopub.status.busy": "2021-05-19T05:58:31.872315Z",
     "iopub.status.idle": "2021-05-19T05:58:31.874585Z",
     "shell.execute_reply": "2021-05-19T05:58:31.874939Z"
    },
    "scrolled": true
   },
   "outputs": [
    {
     "data": {
      "text/plain": [
       "array([0.        , 0.        , 0.        , 0.        , 0.        ,\n",
       "       0.        , 0.        , 0.        , 0.        , 0.        ,\n",
       "       0.        , 0.        , 0.        , 0.        , 0.        ,\n",
       "       0.        , 0.        , 0.        , 0.        , 0.        ,\n",
       "       0.0023665 , 0.        , 0.        , 0.        , 0.        ,\n",
       "       0.        , 0.        , 0.        , 0.        , 0.00114292,\n",
       "       0.00106921, 0.        , 0.00094167, 0.        , 0.        ,\n",
       "       0.        , 0.0007466 , 0.        , 0.        , 0.        ,\n",
       "       0.        , 0.        , 0.00055068, 0.        , 0.        ,\n",
       "       0.        , 0.        , 0.        , 0.        , 0.        ,\n",
       "       0.        , 0.        , 0.        , 0.        , 0.        ,\n",
       "       0.        , 0.0003116 , 0.        , 0.        , 0.        ,\n",
       "       0.        , 0.        , 0.00025464, 0.00024669, 0.        ,\n",
       "       0.        , 0.        , 0.        , 0.        , 0.        ,\n",
       "       0.        , 0.        , 0.        , 0.        , 0.        ])"
      ]
     },
     "execution_count": 1,
     "metadata": {},
     "output_type": "execute_result"
    }
   ],
   "source": [
    "ca61_h2o_571 = ss_rdf.rdf[0][1][570]\n",
    "ca61_h2o_571"
   ]
  },
  {
   "cell_type": "code",
   "execution_count": 7,
   "metadata": {
    "execution": {
     "iopub.execute_input": "2021-05-19T05:58:31.889621Z",
     "iopub.status.busy": "2021-05-19T05:58:31.888908Z",
     "iopub.status.idle": "2021-05-19T05:58:31.994719Z",
     "shell.execute_reply": "2021-05-19T05:58:31.995133Z"
    }
   },
   "outputs": [
    {
     "data": {
      "text/plain": [
       "Text(0.5, 1.0, 'RDF between CA61 and MW6364')"
      ]
     },
     "execution_count": 1,
     "metadata": {},
     "output_type": "execute_result"
    },
    {
     "data": {
      "image/png": "[encoded data removed]",
      "text/plain": [
       "<Figure size 432x288 with 1 Axes>"
      ]
     },
     "metadata": {
      "needs_background": "light"
     },
     "output_type": "display_data"
    }
   ],
   "source": [
    "plt.plot(ss_rdf.bins, ca61_h2o_571)\n",
    "w570 = water[570]\n",
    "plt.xlabel('Radius (angstrom)')\n",
    "plt.ylabel('Radial distribution')\n",
    "plt.title('RDF between CA61 and {}{}'.format(w570.name, w570.resid));"
   ]
  },
  {
   "cell_type": "markdown",
   "metadata": {},
   "source": [
    "If you are having trouble finding pairs of atoms where the results are not simply 0, you can use Numpy functions to find the indices of the nonzero values. Below we count the nonzero entries in the first `rdf` array."
   ]
  },
  {
   "cell_type": "code",
   "execution_count": 8,
   "metadata": {
    "execution": {
     "iopub.execute_input": "2021-05-19T05:58:31.999184Z",
     "iopub.status.busy": "2021-05-19T05:58:31.998414Z",
     "iopub.status.idle": "2021-05-19T05:58:32.002173Z",
     "shell.execute_reply": "2021-05-19T05:58:32.002636Z"
    }
   },
   "outputs": [
    {
     "name": "stdout",
     "output_type": "stream",
     "text": [
      "4374 4374 4374\n"
     ]
    }
   ],
   "source": [
    "j, k, nbin = np.nonzero(ss_rdf.rdf[0])\n",
    "print(len(j), len(k), len(nbin))"
   ]
  },
  {
   "cell_type": "markdown",
   "metadata": {},
   "source": [
    "Each triplet of `[j, k, nbin]` indices is a nonzero value, corresponding to the `nbin`th bin between atoms $j$ and $k$. For example:"
   ]
  },
  {
   "cell_type": "code",
   "execution_count": 9,
   "metadata": {
    "execution": {
     "iopub.execute_input": "2021-05-19T05:58:32.007000Z",
     "iopub.status.busy": "2021-05-19T05:58:32.006227Z",
     "iopub.status.idle": "2021-05-19T05:58:32.009198Z",
     "shell.execute_reply": "2021-05-19T05:58:32.009731Z"
    }
   },
   "outputs": [
    {
     "data": {
      "text/plain": [
       "0.00028096744025732525"
      ]
     },
     "execution_count": 1,
     "metadata": {},
     "output_type": "execute_result"
    }
   ],
   "source": [
    "ss_rdf.rdf[0][j[0], k[0], nbin[0]]"
   ]
  },
  {
   "cell_type": "markdown",
   "metadata": {},
   "source": [
    "Right now, we don't care which particular bin has a nonzero value. Let's find which water atom is the most present around the alpha-carbon of residue 60, i.e. the first atom."
   ]
  },
  {
   "cell_type": "code",
   "execution_count": 10,
   "metadata": {
    "execution": {
     "iopub.execute_input": "2021-05-19T05:58:32.014116Z",
     "iopub.status.busy": "2021-05-19T05:58:32.013437Z",
     "iopub.status.idle": "2021-05-19T05:58:32.016651Z",
     "shell.execute_reply": "2021-05-19T05:58:32.017050Z"
    }
   },
   "outputs": [
    {
     "name": "stdout",
     "output_type": "stream",
     "text": [
      "The water atom with the highest distribution around CA60 has index 568\n"
     ]
    }
   ],
   "source": [
    "# where j == 0, representing the first atom\n",
    "water_for_ca60 = k[j==0]\n",
    "# count how many of each atom index are in array\n",
    "k_values, k_counts = np.unique(water_for_ca60, \n",
    "                               return_counts=True)\n",
    "# get the first k value with the most counts\n",
    "k_max = k_values[np.argmax(k_counts)]\n",
    "print('The water atom with the highest distribution '\n",
    "      'around CA60 has index {}'.format(k_max))"
   ]
  },
  {
   "cell_type": "markdown",
   "metadata": {},
   "source": [
    "You can also calculate a cumulative distribution function for each of your results with `ss_rdf.get_cdf()`. This is the actual count of atoms within the given range, averaged over the trajectory; the volume of each radial shell is not taken into account. The result then gets saved into `ss_rdf.cdf`. The CDF has the same shape as the corresponding RDF array."
   ]
  },
  {
   "cell_type": "code",
   "execution_count": 11,
   "metadata": {
    "execution": {
     "iopub.execute_input": "2021-05-19T05:58:32.020554Z",
     "iopub.status.busy": "2021-05-19T05:58:32.019986Z",
     "iopub.status.idle": "2021-05-19T05:58:32.023642Z",
     "shell.execute_reply": "2021-05-19T05:58:32.024163Z"
    }
   },
   "outputs": [
    {
     "name": "stdout",
     "output_type": "stream",
     "text": [
      "(2, 1041, 75)\n"
     ]
    }
   ],
   "source": [
    "cdf = ss_rdf.get_cdf()\n",
    "print(cdf[0].shape)"
   ]
  },
  {
   "cell_type": "code",
   "execution_count": 12,
   "metadata": {
    "execution": {
     "iopub.execute_input": "2021-05-19T05:58:32.037826Z",
     "iopub.status.busy": "2021-05-19T05:58:32.037243Z",
     "iopub.status.idle": "2021-05-19T05:58:32.136373Z",
     "shell.execute_reply": "2021-05-19T05:58:32.137071Z"
    },
    "scrolled": true
   },
   "outputs": [
    {
     "data": {
      "text/plain": [
       "Text(0.5, 1.0, 'RDF between CA60 and HW16364')"
      ]
     },
     "execution_count": 1,
     "metadata": {},
     "output_type": "execute_result"
    },
    {
     "data": {
      "image/png": "[encoded data removed]",
      "text/plain": [
       "<Figure size 432x288 with 1 Axes>"
      ]
     },
     "metadata": {
      "needs_background": "light"
     },
     "output_type": "display_data"
    }
   ],
   "source": [
    "plt.plot(ss_rdf.bins, ss_rdf.cdf[0][0][568])\n",
    "w568 = water[568]\n",
    "plt.xlabel('Radius (angstrom)')\n",
    "plt.ylabel('Radial cumulative distribution')\n",
    "plt.title('RDF between CA60 and {}{}'.format(w568.name, w568.resid));"
   ]
  },
  {
   "cell_type": "markdown",
   "metadata": {},
   "source": [
    "## The site-specific RDF without densities"
   ]
  },
  {
   "cell_type": "markdown",
   "metadata": {},
   "source": [
    "When the `density` of the selected atom groups over the box volume is not accounted for, your distribution values will be proportionally lower."
   ]
  },
  {
   "cell_type": "code",
   "execution_count": 13,
   "metadata": {
    "execution": {
     "iopub.execute_input": "2021-05-19T05:58:32.143814Z",
     "iopub.status.busy": "2021-05-19T05:58:32.142562Z",
     "iopub.status.idle": "2021-05-19T05:58:32.700402Z",
     "shell.execute_reply": "2021-05-19T05:58:32.700861Z"
    }
   },
   "outputs": [
    {
     "data": {
      "text/plain": [
       "[array([[[0. , 0. , 0. , ..., 0.1, 0.1, 0.1],\n",
       "         [0. , 0. , 0. , ..., 0.1, 0.1, 0.1],\n",
       "         [0. , 0. , 0. , ..., 0.1, 0.1, 0.1],\n",
       "         ...,\n",
       "         [0. , 0. , 0. , ..., 0.1, 0.1, 0.1],\n",
       "         [0. , 0. , 0. , ..., 0.1, 0.1, 0.1],\n",
       "         [0. , 0. , 0. , ..., 0.1, 0.1, 0.1]],\n",
       " \n",
       "        [[0. , 0. , 0. , ..., 0. , 0.1, 0.1],\n",
       "         [0. , 0. , 0. , ..., 0. , 0. , 0. ],\n",
       "         [0. , 0. , 0. , ..., 0.1, 0.1, 0.1],\n",
       "         ...,\n",
       "         [0. , 0. , 0. , ..., 0.1, 0.1, 0.1],\n",
       "         [0. , 0. , 0. , ..., 0.1, 0.1, 0.1],\n",
       "         [0. , 0. , 0. , ..., 0.1, 0.1, 0.1]]]),\n",
       " array([[[0. , 0. , 0. , ..., 0. , 0.1, 0.1],\n",
       "         [0. , 0. , 0. , ..., 0. , 0. , 0. ],\n",
       "         [0. , 0. , 0. , ..., 0.1, 0.1, 0.1],\n",
       "         ...,\n",
       "         [0. , 0. , 0. , ..., 0. , 0. , 0.1],\n",
       "         [0. , 0. , 0. , ..., 0. , 0. , 0. ],\n",
       "         [0. , 0. , 0. , ..., 0. , 0. , 0. ]]])]"
      ]
     },
     "execution_count": 1,
     "metadata": {},
     "output_type": "execute_result"
    }
   ],
   "source": [
    "ss_rdf_nodensity = rdf.InterRDF_s(u, ags,\n",
    "                    nbins=75,  # default\n",
    "                    range=(0.0, 15.0),  # distance\n",
    "                    density=False,\n",
    "                   )\n",
    "ss_rdf_nodensity.run();\n",
    "ss_rdf_nodensity.get_cdf();"
   ]
  },
  {
   "cell_type": "code",
   "execution_count": 14,
   "metadata": {
    "execution": {
     "iopub.execute_input": "2021-05-19T05:58:32.717827Z",
     "iopub.status.busy": "2021-05-19T05:58:32.717256Z",
     "iopub.status.idle": "2021-05-19T05:58:32.823568Z",
     "shell.execute_reply": "2021-05-19T05:58:32.823941Z"
    }
   },
   "outputs": [
    {
     "data": {
      "text/plain": [
       "Text(0.5, 1.0, 'RDF between CA61 and MW6364')"
      ]
     },
     "execution_count": 1,
     "metadata": {},
     "output_type": "execute_result"
    },
    {
     "data": {
      "image/png": "[encoded data removed]",
      "text/plain": [
       "<Figure size 432x288 with 1 Axes>"
      ]
     },
     "metadata": {
      "needs_background": "light"
     },
     "output_type": "display_data"
    }
   ],
   "source": [
    "plt.plot(ss_rdf_nodensity.bins, \n",
    "         ss_rdf_nodensity.rdf[0][1][570])\n",
    "plt.xlabel('Radius (angstrom)')\n",
    "plt.ylabel('Radial distribution')\n",
    "plt.title('RDF between CA61 and {}{}'.format(w570.name, w570.resid));"
   ]
  },
  {
   "cell_type": "markdown",
   "metadata": {},
   "source": [
    "## References\n",
    "\n",
    "[1] Oliver Beckstein, Elizabeth&nbsp;J. Denning, Juan&nbsp;R. Perilla, and Thomas&nbsp;B. Woolf.\n",
    "Zipping and <span class=\"bibtex-protected\">Unzipping</span> of <span class=\"bibtex-protected\">Adenylate</span> <span class=\"bibtex-protected\">Kinase</span>: <span class=\"bibtex-protected\">Atomistic</span> <span class=\"bibtex-protected\">Insights</span> into the <span class=\"bibtex-protected\">Ensemble</span> of <span class=\"bibtex-protected\">Open</span>↔<span class=\"bibtex-protected\">Closed</span> <span class=\"bibtex-protected\">Transitions</span>.\n",
    "<em>Journal of Molecular Biology</em>, 394(1):160–176, November 2009.\n",
    "00107.\n",
    "URL: <a href=\"https://linkinghub.elsevier.com/retrieve/pii/S0022283609011164\">https://linkinghub.elsevier.com/retrieve/pii/S0022283609011164</a>, <a href=\"https://doi.org/10.1016/j.jmb.2009.09.009\">doi:10.1016/j.jmb.2009.09.009</a>.\n",
    "\n",
    "[2] Richard&nbsp;J. Gowers, Max Linke, Jonathan Barnoud, Tyler J.&nbsp;E. Reddy, Manuel&nbsp;N. Melo, Sean&nbsp;L. Seyler, Jan Domański, David&nbsp;L. Dotson, Sébastien Buchoux, Ian&nbsp;M. Kenney, and Oliver Beckstein.\n",
    "<span class=\"bibtex-protected\">MDAnalysis</span>: <span class=\"bibtex-protected\">A</span> <span class=\"bibtex-protected\">Python</span> <span class=\"bibtex-protected\">Package</span> for the <span class=\"bibtex-protected\">Rapid</span> <span class=\"bibtex-protected\">Analysis</span> of <span class=\"bibtex-protected\">Molecular</span> <span class=\"bibtex-protected\">Dynamics</span> <span class=\"bibtex-protected\">Simulations</span>.\n",
    "<em>Proceedings of the 15th Python in Science Conference</em>, pages 98–105, 2016.\n",
    "00152.\n",
    "URL: <a href=\"https://conference.scipy.org/proceedings/scipy2016/oliver_beckstein.html\">https://conference.scipy.org/proceedings/scipy2016/oliver_beckstein.html</a>, <a href=\"https://doi.org/10.25080/Majora-629e541a-00e\">doi:10.25080/Majora-629e541a-00e</a>.\n",
    "\n",
    "[3] Naveen Michaud-Agrawal, Elizabeth&nbsp;J. Denning, Thomas&nbsp;B. Woolf, and Oliver Beckstein.\n",
    "<span class=\"bibtex-protected\">MDAnalysis</span>: <span class=\"bibtex-protected\">A</span> toolkit for the analysis of molecular dynamics simulations.\n",
    "<em>Journal of Computational Chemistry</em>, 32(10):2319–2327, July 2011.\n",
    "00778.\n",
    "URL: <a href=\"http://doi.wiley.com/10.1002/jcc.21787\">http://doi.wiley.com/10.1002/jcc.21787</a>, <a href=\"https://doi.org/10.1002/jcc.21787\">doi:10.1002/jcc.21787</a>."
   ]
  }
 ],
 "metadata": {
  "celltoolbar": "Raw Cell Format",
  "kernelspec": {
   "display_name": "Python (mda-user-guide)",
   "language": "python",
   "name": "mda-user-guide"
  },
  "language_info": {
   "codemirror_mode": {
    "name": "ipython",
    "version": 3
   },
   "file_extension": ".py",
   "mimetype": "text/x-python",
   "name": "python",
   "nbconvert_exporter": "python",
   "pygments_lexer": "ipython3",
   "version": "3.8.3"
  },
  "toc": {
   "base_numbering": 1,
   "nav_menu": {},
   "number_sections": false,
   "sideBar": true,
   "skip_h1_title": false,
   "title_cell": "Table of Contents",
   "title_sidebar": "Contents",
   "toc_cell": false,
   "toc_position": {},
   "toc_section_display": true,
   "toc_window_display": false
  }
 },
 "nbformat": 4,
 "nbformat_minor": 2
}
