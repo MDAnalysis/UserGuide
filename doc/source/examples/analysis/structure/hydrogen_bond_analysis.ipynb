{
 "cells": [
  {
   "cell_type": "markdown",
   "metadata": {},
   "source": [
    "# Finding hydrogen bonds\n",
    "\n",
    "Here we find hydrogen bond data over a trajectory.\n",
    "\n",
    "**Last executed:** Feb 06, 2020 with MDAnalysis 0.20.2-dev0\n",
    "\n",
    "**Last updated:** January 2020\n",
    "\n",
    "**Minimum version of MDAnalysis:** 0.21.0\n",
    "\n",
    "**Packages required:**\n",
    "    \n",
    "* MDAnalysis (<a data-cite=\"michaud-agrawal_mdanalysis_2011\" href=\"https://doi.org/10.1002/jcc.21787\">Michaud-Agrawal *et al.*, 2011</a>, <a data-cite=\"gowers_mdanalysis_2016\" href=\"https://doi.org/10.25080/Majora-629e541a-00e\">Gowers *et al.*, 2016</a>)\n",
    "* MDAnalysisTests\n",
    "   \n",
    "**Optional packages for visualisation:**\n",
    "\n",
    "* [pandas](https://pandas.pydata.org)\n",
    "\n",
    "<div class=\"alert alert-info\">\n",
    "    \n",
    "**Note**\n",
    "\n",
    "The implementation of the hydrogen bond analysis is from (<a data-cite=\"smith_interaction_2019\" href=\"https://doi.org/10.1039/C9CP01532A\">Smith *et al.*, 2019</a>). Please cite them when using ``MDAnalysis.analysis.hydrogenbonds.HydrogenBondAnalysis`` in published work.\n",
    "\n",
    "</div>\n"
   ]
  },
  {
   "cell_type": "code",
   "execution_count": 1,
   "metadata": {
    "ExecuteTime": {
     "end_time": "2020-12-27T05:21:18.603124Z",
     "start_time": "2020-12-27T05:21:16.982398Z"
    }
   },
   "outputs": [],
   "source": [
    "import MDAnalysis as mda\n",
    "from MDAnalysis.tests.datafiles import TPR, XTC\n",
    "from MDAnalysis.analysis import hydrogenbonds as hb\n",
    "\n",
    "import pandas as pd\n",
    "import matplotlib.pyplot as plt\n",
    "%matplotlib inline"
   ]
  },
  {
   "cell_type": "markdown",
   "metadata": {},
   "source": [
    "## Loading files"
   ]
  },
  {
   "cell_type": "markdown",
   "metadata": {},
   "source": [
    "The test files we will be working with here feature adenylate kinase (AdK), a phosophotransferase enzyme. (<a data-cite=\"beckstein_zipping_2009\" href=\"https://doi.org/10.1016/j.jmb.2009.09.009\">Beckstein *et al.*, 2009</a>)"
   ]
  },
  {
   "cell_type": "code",
   "execution_count": 2,
   "metadata": {
    "ExecuteTime": {
     "end_time": "2020-12-27T05:21:24.531491Z",
     "start_time": "2020-12-27T05:21:22.061140Z"
    }
   },
   "outputs": [],
   "source": [
    "u = mda.Universe(TPR, XTC)"
   ]
  },
  {
   "cell_type": "markdown",
   "metadata": {},
   "source": [
    "## Specifying acceptor and hydrogen atoms"
   ]
  },
  {
   "cell_type": "markdown",
   "metadata": {},
   "source": [
    "### Guessing the acceptor, donor, and hydrogen atoms"
   ]
  },
  {
   "cell_type": "markdown",
   "metadata": {},
   "source": [
    "The easiest way to use HydrogenBondAnalysis is to allow it to guess potential acceptor and hydrogen atoms, and to then identify the donor-hydrogen pairs via bonding information.\n",
    "\n",
    "Hydrogen atoms are guessed based having a lower mass than 1.1 and a higher charge than 0.3; acceptor atoms are guessed based on having a lower charge than -0.5. "
   ]
  },
  {
   "cell_type": "code",
   "execution_count": 3,
   "metadata": {
    "ExecuteTime": {
     "end_time": "2020-12-27T05:22:47.989676Z",
     "start_time": "2020-12-27T05:21:26.236806Z"
    }
   },
   "outputs": [
    {
     "data": {
      "text/plain": [
       "<MDAnalysis.analysis.hydrogenbonds.hbond_analysis.HydrogenBondAnalysis at 0x7fb0e5cd1ee0>"
      ]
     },
     "execution_count": 3,
     "metadata": {},
     "output_type": "execute_result"
    }
   ],
   "source": [
    "hbonds = hb.HydrogenBondAnalysis(u)\n",
    "hbonds.run()"
   ]
  },
  {
   "cell_type": "markdown",
   "metadata": {},
   "source": [
    "### Specifying selection strings"
   ]
  },
  {
   "cell_type": "markdown",
   "metadata": {},
   "source": [
    "You can also specify which hydrogens and acceptor atoms to use by passing in selection strings. For example, to restrict the selection to the water only:"
   ]
  },
  {
   "cell_type": "code",
   "execution_count": 4,
   "metadata": {
    "ExecuteTime": {
     "end_time": "2020-12-27T05:24:10.852614Z",
     "start_time": "2020-12-27T05:23:29.581555Z"
    }
   },
   "outputs": [
    {
     "data": {
      "text/plain": [
       "<MDAnalysis.analysis.hydrogenbonds.hbond_analysis.HydrogenBondAnalysis at 0x7fb0e8c12460>"
      ]
     },
     "execution_count": 4,
     "metadata": {},
     "output_type": "execute_result"
    }
   ],
   "source": [
    "water_h = 'resname SOL and name HW1 HW2'\n",
    "water_acc = 'resname SOL and name OW'\n",
    "hbonds_sel = hb.HydrogenBondAnalysis(u,\n",
    "                                     hydrogens_sel=water_h,\n",
    "                                     acceptors_sel=water_acc)\n",
    "hbonds_sel.run()"
   ]
  },
  {
   "cell_type": "markdown",
   "metadata": {},
   "source": [
    "This is also a good way to restrict your analysis to a specific region of your trajectory. Below, we only look at the water that's within 10 angstrom of the protein."
   ]
  },
  {
   "cell_type": "code",
   "execution_count": 5,
   "metadata": {
    "ExecuteTime": {
     "end_time": "2020-12-27T05:24:39.571916Z",
     "start_time": "2020-12-27T05:24:14.079119Z"
    }
   },
   "outputs": [
    {
     "data": {
      "text/plain": [
       "<MDAnalysis.analysis.hydrogenbonds.hbond_analysis.HydrogenBondAnalysis at 0x7fb0e97615b0>"
      ]
     },
     "execution_count": 5,
     "metadata": {},
     "output_type": "execute_result"
    }
   ],
   "source": [
    "water_h2 = water_h + ' and around 10 protein'\n",
    "water_acc2 = water_acc + ' and around 10 protein'\n",
    "\n",
    "hbonds_sel2 = hb.HydrogenBondAnalysis(u,\n",
    "                                      hydrogens_sel=water_h2,\n",
    "                                      acceptors_sel=water_acc2)\n",
    "hbonds_sel2.run()"
   ]
  },
  {
   "cell_type": "markdown",
   "metadata": {},
   "source": [
    "### Guessing from a selection"
   ]
  },
  {
   "cell_type": "markdown",
   "metadata": {},
   "source": [
    "A hybrid method is to use HydrogenBondAnalysis's guessing capabilities on a selection of atoms, by calling `HydrogenBondAnalysis.guess_hydrogens` and `HydrogenBondAnalysis.guess_acceptors` directly (after initialising the analysis class).\n",
    "\n",
    "For example, to guess hydrogen and acceptor atoms based on mass and charge from the proteins only:"
   ]
  },
  {
   "cell_type": "code",
   "execution_count": 6,
   "metadata": {
    "ExecuteTime": {
     "end_time": "2020-12-27T05:26:34.373725Z",
     "start_time": "2020-12-27T05:25:11.650240Z"
    }
   },
   "outputs": [
    {
     "data": {
      "text/plain": [
       "<MDAnalysis.analysis.hydrogenbonds.hbond_analysis.HydrogenBondAnalysis at 0x7fb0ea524c40>"
      ]
     },
     "execution_count": 6,
     "metadata": {},
     "output_type": "execute_result"
    }
   ],
   "source": [
    "hbonds_hyb = hb.HydrogenBondAnalysis(u)\n",
    "hbonds_hyb.guess_hydrogens('protein')\n",
    "hbonds_hyb.guess_acceptors('protein')\n",
    "hbonds_hyb.run()"
   ]
  },
  {
   "cell_type": "markdown",
   "metadata": {},
   "source": [
    "## Running the analysis"
   ]
  },
  {
   "cell_type": "markdown",
   "metadata": {},
   "source": [
    "So you now have acceptor and hydrogen atoms figured out.\n",
    "\n",
    "If you have bond information, potential donor atoms are determined to be atoms bonded to hydrogens. If you do not, potential donor atoms are the atoms within a `d_h_cutoff` distance away from hydrogens (default: 1.2 angstrom).\n",
    "\n",
    "After finding these potential acceptors and donors, HydrogenBondAnalysis determines hydrogen bonds where the donor and acceptor are within `d_a_cutoff` distance (default: 3 angstrom) and  further than 1.0 angstrom apart. In addition, the angle from the Donor-Hydrogen-Acceptor must be greater than the `d_h_a_angle_cutoff` (default: 150 degrees)."
   ]
  },
  {
   "cell_type": "code",
   "execution_count": 7,
   "metadata": {
    "ExecuteTime": {
     "end_time": "2020-12-27T05:27:55.651943Z",
     "start_time": "2020-12-27T05:26:34.375309Z"
    }
   },
   "outputs": [
    {
     "data": {
      "text/plain": [
       "<MDAnalysis.analysis.hydrogenbonds.hbond_analysis.HydrogenBondAnalysis at 0x7fb0e843d520>"
      ]
     },
     "execution_count": 7,
     "metadata": {},
     "output_type": "execute_result"
    }
   ],
   "source": [
    "hbonds = hb.HydrogenBondAnalysis(u,\n",
    "                                 d_h_cutoff=1.2,\n",
    "                                 d_a_cutoff=3,\n",
    "                                 d_h_a_angle_cutoff=150)\n",
    "hbonds.run()"
   ]
  },
  {
   "cell_type": "markdown",
   "metadata": {},
   "source": [
    "The data is found at `HydrogenBondAnalysis.hbonds`. Each row of the array describes the frame number, the donor atom index, the hydrogen atom index, the acceptor atom index, the distance between the donor and acceptor, and the Donor-Hydrogen-Acceptor angle value."
   ]
  },
  {
   "cell_type": "code",
   "execution_count": 8,
   "metadata": {
    "ExecuteTime": {
     "end_time": "2020-12-27T05:27:55.667329Z",
     "start_time": "2020-12-27T05:27:55.654304Z"
    }
   },
   "outputs": [
    {
     "data": {
      "text/html": [
       "<div>\n",
       "<style scoped>\n",
       "    .dataframe tbody tr th:only-of-type {\n",
       "        vertical-align: middle;\n",
       "    }\n",
       "\n",
       "    .dataframe tbody tr th {\n",
       "        vertical-align: top;\n",
       "    }\n",
       "\n",
       "    .dataframe thead th {\n",
       "        text-align: right;\n",
       "    }\n",
       "</style>\n",
       "<table border=\"1\" class=\"dataframe\">\n",
       "  <thead>\n",
       "    <tr style=\"text-align: right;\">\n",
       "      <th></th>\n",
       "      <th>Frame</th>\n",
       "      <th>Donor index</th>\n",
       "      <th>Hydrogen index</th>\n",
       "      <th>Acceptor index</th>\n",
       "      <th>Distance</th>\n",
       "      <th>Angle</th>\n",
       "    </tr>\n",
       "  </thead>\n",
       "  <tbody>\n",
       "    <tr>\n",
       "      <th>0</th>\n",
       "      <td>0.0</td>\n",
       "      <td>38.0</td>\n",
       "      <td>39.0</td>\n",
       "      <td>15640.0</td>\n",
       "      <td>2.674082</td>\n",
       "      <td>169.904529</td>\n",
       "    </tr>\n",
       "    <tr>\n",
       "      <th>1</th>\n",
       "      <td>0.0</td>\n",
       "      <td>43.0</td>\n",
       "      <td>44.0</td>\n",
       "      <td>30572.0</td>\n",
       "      <td>2.840758</td>\n",
       "      <td>162.471062</td>\n",
       "    </tr>\n",
       "    <tr>\n",
       "      <th>2</th>\n",
       "      <td>0.0</td>\n",
       "      <td>81.0</td>\n",
       "      <td>82.0</td>\n",
       "      <td>40096.0</td>\n",
       "      <td>2.952457</td>\n",
       "      <td>160.087200</td>\n",
       "    </tr>\n",
       "    <tr>\n",
       "      <th>3</th>\n",
       "      <td>0.0</td>\n",
       "      <td>126.0</td>\n",
       "      <td>127.0</td>\n",
       "      <td>41316.0</td>\n",
       "      <td>2.895187</td>\n",
       "      <td>166.660443</td>\n",
       "    </tr>\n",
       "    <tr>\n",
       "      <th>4</th>\n",
       "      <td>0.0</td>\n",
       "      <td>190.0</td>\n",
       "      <td>191.0</td>\n",
       "      <td>34076.0</td>\n",
       "      <td>2.871793</td>\n",
       "      <td>157.486892</td>\n",
       "    </tr>\n",
       "  </tbody>\n",
       "</table>\n",
       "</div>"
      ],
      "text/plain": [
       "   Frame  Donor index  Hydrogen index  Acceptor index  Distance       Angle\n",
       "0    0.0         38.0            39.0         15640.0  2.674082  169.904529\n",
       "1    0.0         43.0            44.0         30572.0  2.840758  162.471062\n",
       "2    0.0         81.0            82.0         40096.0  2.952457  160.087200\n",
       "3    0.0        126.0           127.0         41316.0  2.895187  166.660443\n",
       "4    0.0        190.0           191.0         34076.0  2.871793  157.486892"
      ]
     },
     "execution_count": 8,
     "metadata": {},
     "output_type": "execute_result"
    }
   ],
   "source": [
    "df = pd.DataFrame(hbonds.hbonds,\n",
    "                  columns=['Frame',\n",
    "                           'Donor index',\n",
    "                           'Hydrogen index',\n",
    "                           'Acceptor index',\n",
    "                           'Distance',\n",
    "                           'Angle'])\n",
    "df.head()"
   ]
  },
  {
   "cell_type": "markdown",
   "metadata": {},
   "source": [
    "## Further analysis"
   ]
  },
  {
   "cell_type": "markdown",
   "metadata": {},
   "source": [
    "You can now conduct your own further analysis. For example, to find out how many hydrogen bonds are in a given frame:"
   ]
  },
  {
   "cell_type": "code",
   "execution_count": 9,
   "metadata": {
    "ExecuteTime": {
     "end_time": "2020-12-27T05:28:05.193307Z",
     "start_time": "2020-12-27T05:28:05.178087Z"
    }
   },
   "outputs": [
    {
     "data": {
      "text/html": [
       "<div>\n",
       "<style scoped>\n",
       "    .dataframe tbody tr th:only-of-type {\n",
       "        vertical-align: middle;\n",
       "    }\n",
       "\n",
       "    .dataframe tbody tr th {\n",
       "        vertical-align: top;\n",
       "    }\n",
       "\n",
       "    .dataframe thead th {\n",
       "        text-align: right;\n",
       "    }\n",
       "</style>\n",
       "<table border=\"1\" class=\"dataframe\">\n",
       "  <thead>\n",
       "    <tr style=\"text-align: right;\">\n",
       "      <th></th>\n",
       "      <th>Frame</th>\n",
       "      <th># hydrogen bonds</th>\n",
       "    </tr>\n",
       "  </thead>\n",
       "  <tbody>\n",
       "    <tr>\n",
       "      <th>8</th>\n",
       "      <td>0.0</td>\n",
       "      <td>11328</td>\n",
       "    </tr>\n",
       "    <tr>\n",
       "      <th>7</th>\n",
       "      <td>1.0</td>\n",
       "      <td>11369</td>\n",
       "    </tr>\n",
       "    <tr>\n",
       "      <th>3</th>\n",
       "      <td>2.0</td>\n",
       "      <td>11404</td>\n",
       "    </tr>\n",
       "    <tr>\n",
       "      <th>6</th>\n",
       "      <td>3.0</td>\n",
       "      <td>11371</td>\n",
       "    </tr>\n",
       "    <tr>\n",
       "      <th>2</th>\n",
       "      <td>4.0</td>\n",
       "      <td>11405</td>\n",
       "    </tr>\n",
       "  </tbody>\n",
       "</table>\n",
       "</div>"
      ],
      "text/plain": [
       "   Frame  # hydrogen bonds\n",
       "8    0.0             11328\n",
       "7    1.0             11369\n",
       "3    2.0             11404\n",
       "6    3.0             11371\n",
       "2    4.0             11405"
      ]
     },
     "execution_count": 9,
     "metadata": {},
     "output_type": "execute_result"
    }
   ],
   "source": [
    "frame_hbs = df['Frame'].value_counts().reset_index()\n",
    "frame_hbs.columns = ['Frame', '# hydrogen bonds']\n",
    "frame_hbs = frame_hbs.sort_values('Frame')\n",
    "frame_hbs.head()"
   ]
  },
  {
   "cell_type": "code",
   "execution_count": 10,
   "metadata": {
    "ExecuteTime": {
     "end_time": "2020-12-27T05:28:06.982334Z",
     "start_time": "2020-12-27T05:28:06.839327Z"
    }
   },
   "outputs": [
    {
     "data": {
      "image/png": "[encoded data removed]",
      "text/plain": [
       "<Figure size 432x288 with 1 Axes>"
      ]
     },
     "metadata": {
      "needs_background": "light"
     },
     "output_type": "display_data"
    }
   ],
   "source": [
    "frame_hbs.plot(x='Frame', y='# hydrogen bonds');"
   ]
  },
  {
   "cell_type": "markdown",
   "metadata": {},
   "source": [
    "## References\n",
    "\n",
    "[1] Oliver Beckstein, Elizabeth&nbsp;J. Denning, Juan&nbsp;R. Perilla, and Thomas&nbsp;B. Woolf.\n",
    "Zipping and <span class=\"bibtex-protected\">Unzipping</span> of <span class=\"bibtex-protected\">Adenylate</span> <span class=\"bibtex-protected\">Kinase</span>: <span class=\"bibtex-protected\">Atomistic</span> <span class=\"bibtex-protected\">Insights</span> into the <span class=\"bibtex-protected\">Ensemble</span> of <span class=\"bibtex-protected\">Open</span>↔<span class=\"bibtex-protected\">Closed</span> <span class=\"bibtex-protected\">Transitions</span>.\n",
    "<em>Journal of Molecular Biology</em>, 394(1):160–176, November 2009.\n",
    "00107.\n",
    "URL: <a href=\"https://linkinghub.elsevier.com/retrieve/pii/S0022283609011164\">https://linkinghub.elsevier.com/retrieve/pii/S0022283609011164</a>, <a href=\"https://doi.org/10.1016/j.jmb.2009.09.009\">doi:10.1016/j.jmb.2009.09.009</a>.\n",
    "\n",
    "[2] Richard&nbsp;J. Gowers, Max Linke, Jonathan Barnoud, Tyler J.&nbsp;E. Reddy, Manuel&nbsp;N. Melo, Sean&nbsp;L. Seyler, Jan Domański, David&nbsp;L. Dotson, Sébastien Buchoux, Ian&nbsp;M. Kenney, and Oliver Beckstein.\n",
    "<span class=\"bibtex-protected\">MDAnalysis</span>: <span class=\"bibtex-protected\">A</span> <span class=\"bibtex-protected\">Python</span> <span class=\"bibtex-protected\">Package</span> for the <span class=\"bibtex-protected\">Rapid</span> <span class=\"bibtex-protected\">Analysis</span> of <span class=\"bibtex-protected\">Molecular</span> <span class=\"bibtex-protected\">Dynamics</span> <span class=\"bibtex-protected\">Simulations</span>.\n",
    "<em>Proceedings of the 15th Python in Science Conference</em>, pages 98–105, 2016.\n",
    "00152.\n",
    "URL: <a href=\"https://conference.scipy.org/proceedings/scipy2016/oliver_beckstein.html\">https://conference.scipy.org/proceedings/scipy2016/oliver_beckstein.html</a>, <a href=\"https://doi.org/10.25080/Majora-629e541a-00e\">doi:10.25080/Majora-629e541a-00e</a>.\n",
    "\n",
    "[3] Naveen Michaud-Agrawal, Elizabeth&nbsp;J. Denning, Thomas&nbsp;B. Woolf, and Oliver Beckstein.\n",
    "<span class=\"bibtex-protected\">MDAnalysis</span>: <span class=\"bibtex-protected\">A</span> toolkit for the analysis of molecular dynamics simulations.\n",
    "<em>Journal of Computational Chemistry</em>, 32(10):2319–2327, July 2011.\n",
    "00778.\n",
    "URL: <a href=\"http://doi.wiley.com/10.1002/jcc.21787\">http://doi.wiley.com/10.1002/jcc.21787</a>, <a href=\"https://doi.org/10.1002/jcc.21787\">doi:10.1002/jcc.21787</a>.\n",
    "\n",
    "[4] Paul Smith, Robert&nbsp;M. Ziolek, Elena Gazzarrini, Dylan&nbsp;M. Owen, and Christian&nbsp;D. Lorenz.\n",
    "On the interaction of hyaluronic acid with synovial fluid lipid membranes.\n",
    "<em>Physical Chemistry Chemical Physics</em>, 21(19):9845–9857, May 2019.\n",
    "00003.\n",
    "URL: <a href=\"https://pubs.rsc.org/en/content/articlelanding/2019/cp/c9cp01532a\">https://pubs.rsc.org/en/content/articlelanding/2019/cp/c9cp01532a</a>, <a href=\"https://doi.org/10.1039/C9CP01532A\">doi:10.1039/C9CP01532A</a>."
   ]
  }
 ],
 "metadata": {
  "kernelspec": {
   "display_name": "Python (mda-user-guide)",
   "language": "python",
   "name": "mda-user-guide"
  },
  "language_info": {
   "codemirror_mode": {
    "name": "ipython",
    "version": 3
   },
   "file_extension": ".py",
   "mimetype": "text/x-python",
   "name": "python",
   "nbconvert_exporter": "python",
   "pygments_lexer": "ipython3",
   "version": "3.8.3"
  },
  "toc": {
   "base_numbering": 1,
   "nav_menu": {},
   "number_sections": false,
   "sideBar": true,
   "skip_h1_title": false,
   "title_cell": "Table of Contents",
   "title_sidebar": "Contents",
   "toc_cell": false,
   "toc_position": {},
   "toc_section_display": true,
   "toc_window_display": false
  }
 },
 "nbformat": 4,
 "nbformat_minor": 2
}
