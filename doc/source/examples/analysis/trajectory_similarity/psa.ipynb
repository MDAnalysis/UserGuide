{
 "cells": [
  {
   "cell_type": "markdown",
   "metadata": {},
   "source": [
    "# Comparing the geometric similarity of trajectories\n",
    "\n",
    "Here we compare the geometric similarity of trajectories using the following path metrics:\n",
    "\n",
    " - the Hausdorff distance\n",
    " - the discrete Fréchet\n",
    "\n",
    "**Last executed:** May 18, 2021 with MDAnalysis 1.1.1\n",
    "\n",
    "**Last updated:** January 2020\n",
    "\n",
    "**Minimum version of MDAnalysis:** 0.18.0\n",
    "\n",
    "**Packages required:**\n",
    "    \n",
    "* MDAnalysis (<a data-cite=\"michaud-agrawal_mdanalysis_2011\" href=\"https://doi.org/10.1002/jcc.21787\">Michaud-Agrawal *et al.*, 2011</a>, <a data-cite=\"gowers_mdanalysis_2016\" href=\"https://doi.org/10.25080/Majora-629e541a-00e\">Gowers *et al.*, 2016</a>)\n",
    "* MDAnalysisTests\n",
    "   \n",
    "**Optional packages for visualisation:**\n",
    "\n",
    "* [matplotlib](https://matplotlib.org)\n",
    "* [seaborn](https://seaborn.pydata.org)\n",
    "\n",
    "\n",
    "<div class=\"alert alert-info\">\n",
    "    \n",
    "**Note**\n",
    "\n",
    "The metrics and methods in the `psa` path similarity analysis module are from (<a data-cite=\"seyler_path_2015\" href=\"https://doi.org/10.1371/journal.pcbi.1004568\">Seyler *et al.*, 2015</a>). Please cite them when using the ``MDAnalysis.analysis.psa`` module in published work.\n",
    "\n",
    "</div>"
   ]
  },
  {
   "cell_type": "code",
   "execution_count": 1,
   "metadata": {
    "execution": {
     "iopub.execute_input": "2021-05-19T06:24:48.802025Z",
     "iopub.status.busy": "2021-05-19T06:24:48.800867Z",
     "iopub.status.idle": "2021-05-19T06:24:49.737046Z",
     "shell.execute_reply": "2021-05-19T06:24:49.737419Z"
    }
   },
   "outputs": [],
   "source": [
    "import MDAnalysis as mda\n",
    "from MDAnalysis.tests.datafiles import (PSF, DCD, DCD2, GRO, XTC, \n",
    "                                        PSF_NAMD_GBIS, DCD_NAMD_GBIS,\n",
    "                                        PDB_small, CRD)\n",
    "from MDAnalysis.analysis import psa\n",
    "\n",
    "import numpy as np\n",
    "import matplotlib.pyplot as plt\n",
    "%matplotlib inline"
   ]
  },
  {
   "cell_type": "markdown",
   "metadata": {},
   "source": [
    "## Loading files"
   ]
  },
  {
   "cell_type": "markdown",
   "metadata": {},
   "source": [
    "The test files we will be working with here feature adenylate kinase (AdK), a phosophotransferase enzyme. (<a data-cite=\"beckstein_zipping_2009\" href=\"https://doi.org/10.1016/j.jmb.2009.09.009\">Beckstein *et al.*, 2009</a>) "
   ]
  },
  {
   "cell_type": "code",
   "execution_count": 2,
   "metadata": {
    "execution": {
     "iopub.execute_input": "2021-05-19T06:24:49.741567Z",
     "iopub.status.busy": "2021-05-19T06:24:49.740941Z",
     "iopub.status.idle": "2021-05-19T06:24:50.620439Z",
     "shell.execute_reply": "2021-05-19T06:24:50.620888Z"
    }
   },
   "outputs": [],
   "source": [
    "u1 = mda.Universe(PSF, DCD)\n",
    "u2 = mda.Universe(PSF, DCD2)\n",
    "u3 = mda.Universe(GRO, XTC)\n",
    "u4 = mda.Universe(PSF_NAMD_GBIS, DCD_NAMD_GBIS)\n",
    "u5 = mda.Universe(PDB_small, CRD, PDB_small, \n",
    "                  CRD, PDB_small, CRD, PDB_small)\n",
    "\n",
    "ref = mda.Universe(PDB_small)\n",
    "\n",
    "\n",
    "labels = ['DCD', 'DCD2', 'XTC', 'NAMD', 'mixed']"
   ]
  },
  {
   "cell_type": "markdown",
   "metadata": {},
   "source": [
    "The trajectories can have different lengths, as seen below."
   ]
  },
  {
   "cell_type": "code",
   "execution_count": 3,
   "metadata": {
    "execution": {
     "iopub.execute_input": "2021-05-19T06:24:50.625339Z",
     "iopub.status.busy": "2021-05-19T06:24:50.624517Z",
     "iopub.status.idle": "2021-05-19T06:24:50.628686Z",
     "shell.execute_reply": "2021-05-19T06:24:50.629076Z"
    }
   },
   "outputs": [
    {
     "name": "stdout",
     "output_type": "stream",
     "text": [
      "98 102 10\n"
     ]
    }
   ],
   "source": [
    "print(len(u1.trajectory), len(u2.trajectory), len(u3.trajectory))"
   ]
  },
  {
   "cell_type": "markdown",
   "metadata": {},
   "source": [
    "## Aligning trajectories"
   ]
  },
  {
   "cell_type": "markdown",
   "metadata": {},
   "source": [
    "We set up the PSAnalysis ([API docs](https://docs.mdanalysis.org/stable/documentation_pages/analysis/psa.html#MDAnalysis.analysis.psa.PSAnalysis)) with our list of Universes and labels. While `path_select` determines which atoms to calculate the path similarities for, `select` determines which atoms to use to align each Universe to `reference`."
   ]
  },
  {
   "cell_type": "code",
   "execution_count": 4,
   "metadata": {
    "execution": {
     "iopub.execute_input": "2021-05-19T06:24:50.634287Z",
     "iopub.status.busy": "2021-05-19T06:24:50.633624Z",
     "iopub.status.idle": "2021-05-19T06:24:50.636599Z",
     "shell.execute_reply": "2021-05-19T06:24:50.637297Z"
    }
   },
   "outputs": [],
   "source": [
    "CORE_sel = 'name CA and (resid 1:29 or resid 60:121 or resid 160:214)'\n",
    "\n",
    "ps = psa.PSAnalysis([u1, u2, u3, u4, u5],\n",
    "                    labels=labels,\n",
    "                    reference=ref,\n",
    "                    select=CORE_sel,\n",
    "                    path_select='name CA')"
   ]
  },
  {
   "cell_type": "markdown",
   "metadata": {},
   "source": [
    "## Generating paths"
   ]
  },
  {
   "cell_type": "markdown",
   "metadata": {},
   "source": [
    "For each Universe, we will generate a transition path containing each conformation from a trajectory using `generate_paths` ([API docs](https://docs.mdanalysis.org/stable/documentation_pages/analysis/psa.html#MDAnalysis.analysis.psa.PSAnalysis.generate_paths)).\n",
    "\n",
    "\n",
    "First, we will do a mass-weighted alignment of each trajectory to the reference structure `reference`, along the atoms in `select`. To turn off the mass weighting, set `weights=None`. If your trajectories are already aligned, you can skip the alignment with `align=False`."
   ]
  },
  {
   "cell_type": "code",
   "execution_count": 5,
   "metadata": {
    "execution": {
     "iopub.execute_input": "2021-05-19T06:24:50.649919Z",
     "iopub.status.busy": "2021-05-19T06:24:50.649271Z",
     "iopub.status.idle": "2021-05-19T06:24:52.124155Z",
     "shell.execute_reply": "2021-05-19T06:24:52.124683Z"
    }
   },
   "outputs": [],
   "source": [
    "ps.generate_paths(align=True, save=False, weights='mass')"
   ]
  },
  {
   "cell_type": "markdown",
   "metadata": {},
   "source": [
    "## Hausdorff method"
   ]
  },
  {
   "cell_type": "markdown",
   "metadata": {},
   "source": [
    "Now we can compute the similarity of each path. The default metric is to use the Hausdorff method. [[5]](#References) The Hausdorff distance between two conformation transition paths $P$ and $Q$ is:\n",
    "\n",
    "$$\\delta_H(P,Q) = \\max{(\\delta_h(P|Q), \\delta_h(Q|P))}$$\n",
    "\n",
    "$\\delta_h(P|Q)$ is the directed Hausdorff distance from $P$ to $Q$, and is defined as:\n",
    "\n",
    "$$\\delta_h(P|Q) = \\max_{p \\in P}\\min_{q \\in Q} d(p,q)$$\n",
    "\n",
    "The directed Hausdorff distance of $P$ to $Q$ is the distance between the two points, $p \\in P$ and its structural nearest neighbour $q \\in Q$, for the point $p$ where the distance is greatest. This is not commutative, i.e. the directed Hausdorff distance from $Q$ to $P$ is not the same. (See [scipy.spatial.distance.directed_hausdorff](https://docs.scipy.org/doc/scipy/reference/generated/scipy.spatial.distance.directed_hausdorff.html) for more information).\n",
    "\n",
    "In MDAnalysis, the Hausdorff distance is the RMSD between a pair of conformations in $P$ and $Q$, where the one of the conformations in the pair has the least similar nearest neighbour."
   ]
  },
  {
   "cell_type": "code",
   "execution_count": 6,
   "metadata": {
    "execution": {
     "iopub.execute_input": "2021-05-19T06:24:52.129757Z",
     "iopub.status.busy": "2021-05-19T06:24:52.128708Z",
     "iopub.status.idle": "2021-05-19T06:24:52.149655Z",
     "shell.execute_reply": "2021-05-19T06:24:52.150028Z"
    }
   },
   "outputs": [],
   "source": [
    "ps.run(metric='hausdorff')"
   ]
  },
  {
   "cell_type": "markdown",
   "metadata": {},
   "source": [
    "The distance matrix is saved in `ps.D`."
   ]
  },
  {
   "cell_type": "code",
   "execution_count": 7,
   "metadata": {
    "execution": {
     "iopub.execute_input": "2021-05-19T06:24:52.156938Z",
     "iopub.status.busy": "2021-05-19T06:24:52.156154Z",
     "iopub.status.idle": "2021-05-19T06:24:52.161226Z",
     "shell.execute_reply": "2021-05-19T06:24:52.161955Z"
    }
   },
   "outputs": [
    {
     "data": {
      "text/plain": [
       "array([[ 0.        ,  1.33312648, 22.37206002,  2.04737477,  7.55204678],\n",
       "       [ 1.33312648,  0.        , 22.3991666 ,  2.07957562,  7.55032598],\n",
       "       [22.37206002, 22.3991666 ,  0.        , 22.42282661, 25.74534554],\n",
       "       [ 2.04737477,  2.07957562, 22.42282661,  0.        ,  7.67052252],\n",
       "       [ 7.55204678,  7.55032598, 25.74534554,  7.67052252,  0.        ]])"
      ]
     },
     "execution_count": 1,
     "metadata": {},
     "output_type": "execute_result"
    }
   ],
   "source": [
    "ps.D"
   ]
  },
  {
   "cell_type": "markdown",
   "metadata": {},
   "source": [
    "### Plotting"
   ]
  },
  {
   "cell_type": "markdown",
   "metadata": {},
   "source": [
    "`psa.PSAnalysis` provides two convenience methods for plotting this data. The first is to plot a heat-map dendrogram from clustering the trajectories based on their path similarity. You can use any clustering method supported by [scipy.cluster.hierarchy.linkage](https://docs.scipy.org/doc/scipy/reference/generated/scipy.cluster.hierarchy.linkage.html); the default is 'ward'."
   ]
  },
  {
   "cell_type": "code",
   "execution_count": 8,
   "metadata": {
    "execution": {
     "iopub.execute_input": "2021-05-19T06:24:52.189881Z",
     "iopub.status.busy": "2021-05-19T06:24:52.188852Z",
     "iopub.status.idle": "2021-05-19T06:24:52.363638Z",
     "shell.execute_reply": "2021-05-19T06:24:52.364556Z"
    }
   },
   "outputs": [
    {
     "data": {
      "text/plain": [
       "(array([[ 0.        ,  1.        ,  1.33312648,  2.        ],\n",
       "        [ 3.        ,  5.        ,  2.25503365,  3.        ],\n",
       "        [ 4.        ,  6.        ,  9.20452463,  4.        ],\n",
       "        [ 2.        ,  7.        , 29.13448037,  5.        ]]),\n",
       " {'icoord': [[35.0, 35.0, 45.0, 45.0],\n",
       "   [25.0, 25.0, 40.0, 40.0],\n",
       "   [15.0, 15.0, 32.5, 32.5],\n",
       "   [5.0, 5.0, 23.75, 23.75]],\n",
       "  'dcoord': [[0.0, 1.3331264831939273, 1.3331264831939273, 0.0],\n",
       "   [0.0, 2.2550336453918844, 2.2550336453918844, 1.3331264831939273],\n",
       "   [0.0, 9.204524628710315, 9.204524628710315, 2.2550336453918844],\n",
       "   [0.0, 29.134480368642226, 29.134480368642226, 9.204524628710315]],\n",
       "  'ivl': ['2', '4', '3', '0', '1'],\n",
       "  'leaves': [2, 4, 3, 0, 1],\n",
       "  'color_list': ['C1', 'C1', 'C0', 'C0'],\n",
       "  'leaves_color_list': ['C0', 'C0', 'C1', 'C1', 'C1']},\n",
       " array([[ 0.        , 25.74534554, 22.42282661, 22.37206002, 22.3991666 ],\n",
       "        [25.74534554,  0.        ,  7.67052252,  7.55204678,  7.55032598],\n",
       "        [22.42282661,  7.67052252,  0.        ,  2.04737477,  2.07957562],\n",
       "        [22.37206002,  7.55204678,  2.04737477,  0.        ,  1.33312648],\n",
       "        [22.3991666 ,  7.55032598,  2.07957562,  1.33312648,  0.        ]]))"
      ]
     },
     "execution_count": 1,
     "metadata": {},
     "output_type": "execute_result"
    },
    {
     "data": {
      "text/plain": [
       "<Figure size 432x288 with 0 Axes>"
      ]
     },
     "metadata": {},
     "output_type": "display_data"
    },
    {
     "data": {
      "image/png": "[encoded data removed]",
      "text/plain": [
       "<Figure size 405x324 with 3 Axes>"
      ]
     },
     "metadata": {
      "needs_background": "light"
     },
     "output_type": "display_data"
    }
   ],
   "source": [
    "ps.plot(linkage='ward')"
   ]
  },
  {
   "cell_type": "markdown",
   "metadata": {},
   "source": [
    "The other is to plot a heatmap annotated with the distance values. Again, the trajectories are displayed in an arrangement that fits the clustering method.\n",
    "\n",
    "<div class=\"alert alert-info\">\n",
    "    \n",
    "**Note**\n",
    "\n",
    "You will need to install the data visualisation library [Seaborn](https://seaborn.pydata.org/installing.html) for this function.\n",
    "\n",
    "</div>"
   ]
  },
  {
   "cell_type": "code",
   "execution_count": 9,
   "metadata": {
    "execution": {
     "iopub.execute_input": "2021-05-19T06:24:52.369679Z",
     "iopub.status.busy": "2021-05-19T06:24:52.369035Z",
     "iopub.status.idle": "2021-05-19T06:24:53.236726Z",
     "shell.execute_reply": "2021-05-19T06:24:53.237186Z"
    },
    "scrolled": false
   },
   "outputs": [
    {
     "data": {
      "text/plain": [
       "(array([[ 0.        ,  1.        ,  1.33312648,  2.        ],\n",
       "        [ 3.        ,  5.        ,  2.04737477,  3.        ],\n",
       "        [ 4.        ,  6.        ,  7.55032598,  4.        ],\n",
       "        [ 2.        ,  7.        , 22.37206002,  5.        ]]),\n",
       " {'icoord': [[35.0, 35.0, 45.0, 45.0],\n",
       "   [25.0, 25.0, 40.0, 40.0],\n",
       "   [15.0, 15.0, 32.5, 32.5],\n",
       "   [5.0, 5.0, 23.75, 23.75]],\n",
       "  'dcoord': [[0.0, 1.3331264831939273, 1.3331264831939273, 0.0],\n",
       "   [0.0, 2.047374774767044, 2.047374774767044, 1.3331264831939273],\n",
       "   [0.0, 7.550325981004795, 7.550325981004795, 2.047374774767044],\n",
       "   [0.0, 22.372060021101248, 22.372060021101248, 7.550325981004795]],\n",
       "  'ivl': ['2', '4', '3', '0', '1'],\n",
       "  'leaves': [2, 4, 3, 0, 1],\n",
       "  'color_list': ['C1', 'C1', 'C0', 'C0'],\n",
       "  'leaves_color_list': ['C0', 'C0', 'C1', 'C1', 'C1']},\n",
       " array([[ 0.        , 25.74534554, 22.42282661, 22.37206002, 22.3991666 ],\n",
       "        [25.74534554,  0.        ,  7.67052252,  7.55204678,  7.55032598],\n",
       "        [22.42282661,  7.67052252,  0.        ,  2.04737477,  2.07957562],\n",
       "        [22.37206002,  7.55204678,  2.04737477,  0.        ,  1.33312648],\n",
       "        [22.3991666 ,  7.55032598,  2.07957562,  1.33312648,  0.        ]]))"
      ]
     },
     "execution_count": 1,
     "metadata": {},
     "output_type": "execute_result"
    },
    {
     "data": {
      "text/plain": [
       "<Figure size 432x288 with 0 Axes>"
      ]
     },
     "metadata": {},
     "output_type": "display_data"
    },
    {
     "data": {
      "image/png": "[encoded data removed]",
      "text/plain": [
       "<Figure size 720x576 with 2 Axes>"
      ]
     },
     "metadata": {
      "needs_background": "light"
     },
     "output_type": "display_data"
    }
   ],
   "source": [
    "ps.plot_annotated_heatmap(linkage='single')"
   ]
  },
  {
   "cell_type": "markdown",
   "metadata": {},
   "source": [
    "## Discrete Fréchet distances"
   ]
  },
  {
   "cell_type": "markdown",
   "metadata": {},
   "source": [
    "The discrete Fréchet distance between two conformation transition paths $P$ and $Q$ is:\n",
    "\n",
    "$$\\delta_{dF}(P,Q) = \\min_{C \\in \\Gamma_{P,Q}} \\|C\\|$$\n",
    "\n",
    "where $C$ is  a coupling in the set of all couplings $\\Gamma_{P,Q}$ between $P$ and $Q$. A coupling $C(P,Q)$ is a sequence of pairs of conformations in $P$ and $Q$, where the first/last pairs are the first/last points of the respective paths, and for each successive pair, at least one point in $P$ or $Q$ must advance to the next frame.\n",
    "\n",
    "$$ C(P,Q) \\equiv  (p_{a_1}, q_{b_1}), (p_{a_2}, q_{b_2}), ..., (p_{a_L}, q_{b_L}) $$\n",
    "\n",
    "The coupling distance $\\|C\\|$ is the largest distance between a pair of points in such a sequence.\n",
    "\n",
    "$$\\|C\\| \\equiv \\max_{i=1, ..., L} d(p_{a_i}, q_{b_i})$$\n",
    "\n",
    "\n",
    "In MDAnalysis, the discrete Fréchet distance is the lowest possible RMSD between a conformation from $P$ and a conformation from $Q$, where the two frames are at similar points along the trajectory, and they are the least structurally similar in that particular coupling sequence. [[6-9]](#References)"
   ]
  },
  {
   "cell_type": "code",
   "execution_count": 10,
   "metadata": {
    "execution": {
     "iopub.execute_input": "2021-05-19T06:24:53.240448Z",
     "iopub.status.busy": "2021-05-19T06:24:53.239882Z",
     "iopub.status.idle": "2021-05-19T06:24:53.390496Z",
     "shell.execute_reply": "2021-05-19T06:24:53.390988Z"
    }
   },
   "outputs": [
    {
     "data": {
      "text/plain": [
       "array([[ 0.        ,  1.33312649, 22.37205967,  2.04737475,  7.55204694],\n",
       "       [ 1.33312649,  0.        , 22.39916723,  2.07957565,  7.55032613],\n",
       "       [22.37205967, 22.39916723,  0.        , 22.42282569, 25.74534511],\n",
       "       [ 2.04737475,  2.07957565, 22.42282569,  0.        ,  7.67052241],\n",
       "       [ 7.55204694,  7.55032613, 25.74534511,  7.67052241,  0.        ]])"
      ]
     },
     "execution_count": 1,
     "metadata": {},
     "output_type": "execute_result"
    }
   ],
   "source": [
    "ps.run(metric='discrete_frechet')\n",
    "ps.D"
   ]
  },
  {
   "cell_type": "markdown",
   "metadata": {},
   "source": [
    "### Plotting"
   ]
  },
  {
   "cell_type": "code",
   "execution_count": 11,
   "metadata": {
    "execution": {
     "iopub.execute_input": "2021-05-19T06:24:53.432713Z",
     "iopub.status.busy": "2021-05-19T06:24:53.394237Z",
     "iopub.status.idle": "2021-05-19T06:24:53.559942Z",
     "shell.execute_reply": "2021-05-19T06:24:53.560407Z"
    }
   },
   "outputs": [
    {
     "data": {
      "text/plain": [
       "(array([[ 0.        ,  1.        ,  1.33312649,  2.        ],\n",
       "        [ 3.        ,  5.        ,  2.25503365,  3.        ],\n",
       "        [ 4.        ,  6.        ,  9.20452471,  4.        ],\n",
       "        [ 2.        ,  7.        , 29.13448001,  5.        ]]),\n",
       " {'icoord': [[35.0, 35.0, 45.0, 45.0],\n",
       "   [25.0, 25.0, 40.0, 40.0],\n",
       "   [15.0, 15.0, 32.5, 32.5],\n",
       "   [5.0, 5.0, 23.75, 23.75]],\n",
       "  'dcoord': [[0.0, 1.3331264917717554, 1.3331264917717554, 0.0],\n",
       "   [0.0, 2.2550336465704057, 2.2550336465704057, 1.3331264917717554],\n",
       "   [0.0, 9.204524708552725, 9.204524708552725, 2.2550336465704057],\n",
       "   [0.0, 29.134480014437507, 29.134480014437507, 9.204524708552725]],\n",
       "  'ivl': ['2', '4', '3', '0', '1'],\n",
       "  'leaves': [2, 4, 3, 0, 1],\n",
       "  'color_list': ['C1', 'C1', 'C0', 'C0'],\n",
       "  'leaves_color_list': ['C0', 'C0', 'C1', 'C1', 'C1']},\n",
       " array([[ 0.        , 25.74534511, 22.42282569, 22.37205967, 22.39916723],\n",
       "        [25.74534511,  0.        ,  7.67052241,  7.55204694,  7.55032613],\n",
       "        [22.42282569,  7.67052241,  0.        ,  2.04737475,  2.07957565],\n",
       "        [22.37205967,  7.55204694,  2.04737475,  0.        ,  1.33312649],\n",
       "        [22.39916723,  7.55032613,  2.07957565,  1.33312649,  0.        ]]))"
      ]
     },
     "execution_count": 1,
     "metadata": {},
     "output_type": "execute_result"
    },
    {
     "data": {
      "text/plain": [
       "<Figure size 432x288 with 0 Axes>"
      ]
     },
     "metadata": {},
     "output_type": "display_data"
    },
    {
     "data": {
      "image/png": "[encoded data removed]",
      "text/plain": [
       "<Figure size 405x324 with 3 Axes>"
      ]
     },
     "metadata": {
      "needs_background": "light"
     },
     "output_type": "display_data"
    }
   ],
   "source": [
    "ps.plot(linkage='ward')"
   ]
  },
  {
   "cell_type": "code",
   "execution_count": 12,
   "metadata": {
    "execution": {
     "iopub.execute_input": "2021-05-19T06:24:53.590497Z",
     "iopub.status.busy": "2021-05-19T06:24:53.585943Z",
     "iopub.status.idle": "2021-05-19T06:24:53.722090Z",
     "shell.execute_reply": "2021-05-19T06:24:53.722499Z"
    },
    "scrolled": false
   },
   "outputs": [
    {
     "data": {
      "text/plain": [
       "(array([[ 0.        ,  1.        ,  1.33312649,  2.        ],\n",
       "        [ 3.        ,  5.        ,  2.04737475,  3.        ],\n",
       "        [ 4.        ,  6.        ,  7.55032613,  4.        ],\n",
       "        [ 2.        ,  7.        , 22.37205967,  5.        ]]),\n",
       " {'icoord': [[35.0, 35.0, 45.0, 45.0],\n",
       "   [25.0, 25.0, 40.0, 40.0],\n",
       "   [15.0, 15.0, 32.5, 32.5],\n",
       "   [5.0, 5.0, 23.75, 23.75]],\n",
       "  'dcoord': [[0.0, 1.3331264917717554, 1.3331264917717554, 0.0],\n",
       "   [0.0, 2.047374750604888, 2.047374750604888, 1.3331264917717554],\n",
       "   [0.0, 7.550326126269361, 7.550326126269361, 2.047374750604888],\n",
       "   [0.0, 22.37205966687729, 22.37205966687729, 7.550326126269361]],\n",
       "  'ivl': ['2', '4', '3', '0', '1'],\n",
       "  'leaves': [2, 4, 3, 0, 1],\n",
       "  'color_list': ['C1', 'C1', 'C0', 'C0'],\n",
       "  'leaves_color_list': ['C0', 'C0', 'C1', 'C1', 'C1']},\n",
       " array([[ 0.        , 25.74534511, 22.42282569, 22.37205967, 22.39916723],\n",
       "        [25.74534511,  0.        ,  7.67052241,  7.55204694,  7.55032613],\n",
       "        [22.42282569,  7.67052241,  0.        ,  2.04737475,  2.07957565],\n",
       "        [22.37205967,  7.55204694,  2.04737475,  0.        ,  1.33312649],\n",
       "        [22.39916723,  7.55032613,  2.07957565,  1.33312649,  0.        ]]))"
      ]
     },
     "execution_count": 1,
     "metadata": {},
     "output_type": "execute_result"
    },
    {
     "data": {
      "text/plain": [
       "<Figure size 432x288 with 0 Axes>"
      ]
     },
     "metadata": {},
     "output_type": "display_data"
    },
    {
     "data": {
      "image/png": "[encoded data removed]",
      "text/plain": [
       "<Figure size 720x576 with 2 Axes>"
      ]
     },
     "metadata": {
      "needs_background": "light"
     },
     "output_type": "display_data"
    }
   ],
   "source": [
    "ps.plot_annotated_heatmap(linkage='single')"
   ]
  },
  {
   "cell_type": "markdown",
   "metadata": {},
   "source": [
    "## References\n",
    "\n",
    "[1] Oliver Beckstein, Elizabeth&nbsp;J. Denning, Juan&nbsp;R. Perilla, and Thomas&nbsp;B. Woolf.\n",
    "Zipping and <span class=\"bibtex-protected\">Unzipping</span> of <span class=\"bibtex-protected\">Adenylate</span> <span class=\"bibtex-protected\">Kinase</span>: <span class=\"bibtex-protected\">Atomistic</span> <span class=\"bibtex-protected\">Insights</span> into the <span class=\"bibtex-protected\">Ensemble</span> of <span class=\"bibtex-protected\">Open</span>↔<span class=\"bibtex-protected\">Closed</span> <span class=\"bibtex-protected\">Transitions</span>.\n",
    "<em>Journal of Molecular Biology</em>, 394(1):160–176, November 2009.\n",
    "00107.\n",
    "URL: <a href=\"https://linkinghub.elsevier.com/retrieve/pii/S0022283609011164\">https://linkinghub.elsevier.com/retrieve/pii/S0022283609011164</a>, <a href=\"https://doi.org/10.1016/j.jmb.2009.09.009\">doi:10.1016/j.jmb.2009.09.009</a>.\n",
    "\n",
    "[2] Richard&nbsp;J. Gowers, Max Linke, Jonathan Barnoud, Tyler J.&nbsp;E. Reddy, Manuel&nbsp;N. Melo, Sean&nbsp;L. Seyler, Jan Domański, David&nbsp;L. Dotson, Sébastien Buchoux, Ian&nbsp;M. Kenney, and Oliver Beckstein.\n",
    "<span class=\"bibtex-protected\">MDAnalysis</span>: <span class=\"bibtex-protected\">A</span> <span class=\"bibtex-protected\">Python</span> <span class=\"bibtex-protected\">Package</span> for the <span class=\"bibtex-protected\">Rapid</span> <span class=\"bibtex-protected\">Analysis</span> of <span class=\"bibtex-protected\">Molecular</span> <span class=\"bibtex-protected\">Dynamics</span> <span class=\"bibtex-protected\">Simulations</span>.\n",
    "<em>Proceedings of the 15th Python in Science Conference</em>, pages 98–105, 2016.\n",
    "00152.\n",
    "URL: <a href=\"https://conference.scipy.org/proceedings/scipy2016/oliver_beckstein.html\">https://conference.scipy.org/proceedings/scipy2016/oliver_beckstein.html</a>, <a href=\"https://doi.org/10.25080/Majora-629e541a-00e\">doi:10.25080/Majora-629e541a-00e</a>.\n",
    "\n",
    "[3] Naveen Michaud-Agrawal, Elizabeth&nbsp;J. Denning, Thomas&nbsp;B. Woolf, and Oliver Beckstein.\n",
    "<span class=\"bibtex-protected\">MDAnalysis</span>: <span class=\"bibtex-protected\">A</span> toolkit for the analysis of molecular dynamics simulations.\n",
    "<em>Journal of Computational Chemistry</em>, 32(10):2319–2327, July 2011.\n",
    "00778.\n",
    "URL: <a href=\"http://doi.wiley.com/10.1002/jcc.21787\">http://doi.wiley.com/10.1002/jcc.21787</a>, <a href=\"https://doi.org/10.1002/jcc.21787\">doi:10.1002/jcc.21787</a>.\n",
    "\n",
    "[4] Sean&nbsp;L. Seyler, Avishek Kumar, M.&nbsp;F. Thorpe, and Oliver Beckstein.\n",
    "Path <span class=\"bibtex-protected\">Similarity</span> <span class=\"bibtex-protected\">Analysis</span>: <span class=\"bibtex-protected\">A</span> <span class=\"bibtex-protected\">Method</span> for <span class=\"bibtex-protected\">Quantifying</span> <span class=\"bibtex-protected\">Macromolecular</span> <span class=\"bibtex-protected\">Pathways</span>.\n",
    "<em>PLOS Computational Biology</em>, 11(10):e1004568, October 2015.\n",
    "URL: <a href=\"https://dx.plos.org/10.1371/journal.pcbi.1004568\">https://dx.plos.org/10.1371/journal.pcbi.1004568</a>, <a href=\"https://doi.org/10.1371/journal.pcbi.1004568\">doi:10.1371/journal.pcbi.1004568</a>."
   ]
  }
 ],
 "metadata": {
  "kernelspec": {
   "display_name": "Python (mda-user-guide)",
   "language": "python",
   "name": "mda-user-guide"
  },
  "language_info": {
   "codemirror_mode": {
    "name": "ipython",
    "version": 3
   },
   "file_extension": ".py",
   "mimetype": "text/x-python",
   "name": "python",
   "nbconvert_exporter": "python",
   "pygments_lexer": "ipython3",
   "version": "3.7.10"
  },
  "toc": {
   "base_numbering": 1,
   "nav_menu": {},
   "number_sections": false,
   "sideBar": true,
   "skip_h1_title": false,
   "title_cell": "Table of Contents",
   "title_sidebar": "Contents",
   "toc_cell": false,
   "toc_position": {},
   "toc_section_display": true,
   "toc_window_display": false
  }
 },
 "nbformat": 4,
 "nbformat_minor": 2
}
