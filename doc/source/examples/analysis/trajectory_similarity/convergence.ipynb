{
 "cells": [
  {
   "cell_type": "markdown",
   "metadata": {},
   "source": [
    "# Evaluating convergence\n",
    "\n",
    "Here we evaluate the convergence of a trajectory using the clustering ensemble similarity method and the dimensionality reduction ensemble similarity methods.\n",
    "\n",
    "**Last executed:** May 18, 2021 with MDAnalysis 1.1.1\n",
    "\n",
    "**Last updated:** September 2020\n",
    "\n",
    "**Minimum version of MDAnalysis:** 1.0.0\n",
    "\n",
    "**Packages required:**\n",
    "    \n",
    "* MDAnalysis (<a data-cite=\"michaud-agrawal_mdanalysis_2011\" href=\"https://doi.org/10.1002/jcc.21787\">Michaud-Agrawal *et al.*, 2011</a>, <a data-cite=\"gowers_mdanalysis_2016\" href=\"https://doi.org/10.25080/Majora-629e541a-00e\">Gowers *et al.*, 2016</a>)\n",
    "* MDAnalysisTests\n",
    "* [scikit-learn](https://scikit-learn.org/stable/)\n",
    "   \n",
    "**Optional packages for visualisation:**\n",
    "\n",
    "* [matplotlib](https://matplotlib.org)\n",
    "\n",
    "\n",
    "<div class=\"alert alert-info\">\n",
    "    \n",
    "**Note**\n",
    "\n",
    "The metrics and methods in the `encore` module are from (<a data-cite=\"tiberti_encore_2015\" href=\"https://doi.org/10.1371/journal.pcbi.1004415\">Tiberti *et al.*, 2015</a>). Please cite them when using the ``MDAnalysis.analysis.encore`` module in published work.\n",
    "\n",
    "</div>"
   ]
  },
  {
   "cell_type": "code",
   "execution_count": 1,
   "metadata": {
    "execution": {
     "iopub.execute_input": "2021-05-19T05:59:55.164483Z",
     "iopub.status.busy": "2021-05-19T05:59:55.163573Z",
     "iopub.status.idle": "2021-05-19T05:59:56.540827Z",
     "shell.execute_reply": "2021-05-19T05:59:56.541182Z"
    }
   },
   "outputs": [],
   "source": [
    "import MDAnalysis as mda\n",
    "from MDAnalysis.tests.datafiles import PSF, DCD\n",
    "from MDAnalysis.analysis import encore\n",
    "from MDAnalysis.analysis.encore.clustering import ClusteringMethod as clm\n",
    "from MDAnalysis.analysis.encore.dimensionality_reduction import DimensionalityReductionMethod as drm\n",
    "\n",
    "import numpy as np\n",
    "import matplotlib.pyplot as plt\n",
    "%matplotlib inline"
   ]
  },
  {
   "cell_type": "markdown",
   "metadata": {},
   "source": [
    "## Loading files"
   ]
  },
  {
   "cell_type": "markdown",
   "metadata": {},
   "source": [
    "The test files we will be working with here feature adenylate kinase (AdK), a phosophotransferase enzyme. (<a data-cite=\"beckstein_zipping_2009\" href=\"https://doi.org/10.1016/j.jmb.2009.09.009\">Beckstein *et al.*, 2009</a>)"
   ]
  },
  {
   "cell_type": "code",
   "execution_count": 2,
   "metadata": {
    "execution": {
     "iopub.execute_input": "2021-05-19T05:59:56.546291Z",
     "iopub.status.busy": "2021-05-19T05:59:56.545647Z",
     "iopub.status.idle": "2021-05-19T05:59:56.785608Z",
     "shell.execute_reply": "2021-05-19T05:59:56.786089Z"
    }
   },
   "outputs": [],
   "source": [
    "u = mda.Universe(PSF, DCD)"
   ]
  },
  {
   "cell_type": "markdown",
   "metadata": {},
   "source": [
    "## Evaluating convergence with similarity measures"
   ]
  },
  {
   "cell_type": "markdown",
   "metadata": {},
   "source": [
    "The convergence of the trajectory is evaluated by the similarity of the conformation ensembles in windows of the trajectory. The trajectory is divided into windows that increase by `window_size` frames. For example, if your trajectory had 13 frames and you specified a `window_size=3`, your windows would be:\n",
    "\n",
    "    - Window 1: ---\n",
    "    - Window 2: ------\n",
    "    - Window 3: ---------\n",
    "    - Window 4: -------------\n",
    "    \n",
    "Where `-` represents 1 frame.\n",
    "\n",
    "These are compared using either the similarity of their clusters (`ces_convergence`) or their reduced dimension coordinates (`dres_convergence`). The rate at which the similarity values drop to 0 is indicative of how much the trajectory keeps on resampling the same regions of the conformational space, and therefore is the rate of convergence. "
   ]
  },
  {
   "cell_type": "markdown",
   "metadata": {},
   "source": [
    "### Using default arguments with clustering ensemble similarity"
   ]
  },
  {
   "cell_type": "markdown",
   "metadata": {},
   "source": [
    "See [clustering_ensemble_similarity.ipynb](clustering_ensemble_similarity.ipynb#Calculating-clustering-similarity-with-default-settings) for an introduction to comparing trajectories via clustering. See the [API documentation for ces_convergence](https://docs.mdanalysis.org/stable/documentation_pages/analysis/encore/similarity.html#MDAnalysis.analysis.encore.similarity.ces_convergence) for more information."
   ]
  },
  {
   "cell_type": "code",
   "execution_count": 3,
   "metadata": {
    "execution": {
     "iopub.execute_input": "2021-05-19T05:59:56.791388Z",
     "iopub.status.busy": "2021-05-19T05:59:56.790617Z",
     "iopub.status.idle": "2021-05-19T05:59:58.964292Z",
     "shell.execute_reply": "2021-05-19T05:59:58.964732Z"
    }
   },
   "outputs": [],
   "source": [
    "ces_conv = encore.ces_convergence(u,  # universe\n",
    "                                  10,  # window size\n",
    "                                  select='name CA')  # default"
   ]
  },
  {
   "cell_type": "markdown",
   "metadata": {},
   "source": [
    "The output is an array of similarity values, with the shape (`number_of_windows`, `number_of_clustering_methods`)."
   ]
  },
  {
   "cell_type": "code",
   "execution_count": 4,
   "metadata": {
    "execution": {
     "iopub.execute_input": "2021-05-19T05:59:58.970797Z",
     "iopub.status.busy": "2021-05-19T05:59:58.969750Z",
     "iopub.status.idle": "2021-05-19T05:59:58.974402Z",
     "shell.execute_reply": "2021-05-19T05:59:58.975378Z"
    }
   },
   "outputs": [
    {
     "data": {
      "text/plain": [
       "array([[0.48194205],\n",
       "       [0.40284672],\n",
       "       [0.31699026],\n",
       "       [0.25220447],\n",
       "       [0.19829817],\n",
       "       [0.14642725],\n",
       "       [0.09911411],\n",
       "       [0.05667391],\n",
       "       [0.        ]])"
      ]
     },
     "execution_count": 1,
     "metadata": {},
     "output_type": "execute_result"
    }
   ],
   "source": [
    "ces_conv"
   ]
  },
  {
   "cell_type": "markdown",
   "metadata": {},
   "source": [
    "This can be easily plotted as a line."
   ]
  },
  {
   "cell_type": "code",
   "execution_count": 5,
   "metadata": {
    "execution": {
     "iopub.execute_input": "2021-05-19T05:59:58.991618Z",
     "iopub.status.busy": "2021-05-19T05:59:58.990939Z",
     "iopub.status.idle": "2021-05-19T05:59:59.088137Z",
     "shell.execute_reply": "2021-05-19T05:59:59.088508Z"
    },
    "scrolled": true
   },
   "outputs": [
    {
     "data": {
      "text/plain": [
       "Text(0, 0.5, 'Jensen-Shannon divergence')"
      ]
     },
     "execution_count": 1,
     "metadata": {},
     "output_type": "execute_result"
    },
    {
     "data": {
      "image/png": "[encoded data removed]",
      "text/plain": [
       "<Figure size 432x288 with 1 Axes>"
      ]
     },
     "metadata": {
      "needs_background": "light"
     },
     "output_type": "display_data"
    }
   ],
   "source": [
    "ces_fig, ces_ax = plt.subplots()\n",
    "plt.plot(ces_conv)\n",
    "ces_ax.set_xlabel('Window')\n",
    "ces_ax.set_ylabel('Jensen-Shannon divergence')"
   ]
  },
  {
   "cell_type": "markdown",
   "metadata": {},
   "source": [
    "### Comparing different clustering methods"
   ]
  },
  {
   "cell_type": "markdown",
   "metadata": {},
   "source": [
    "You may want to try different clustering methods, or use different parameters within the methods. `encore.ces_convergence` allows you to pass a list of `clustering_methods` to be applied, much like [normal clustering ensemble similarity methods](clustering_ensemble_similarity.ipynb#Calculating-clustering-similarity-with-multiple-methods).\n",
    "\n",
    "<div class=\"alert alert-info\">\n",
    "    \n",
    "**Note**\n",
    "\n",
    "To use the other ENCORE methods available, you need to install [scikit-learn](https://scikit-learn.org/stable/).\n",
    "\n",
    "</div>"
   ]
  },
  {
   "cell_type": "markdown",
   "metadata": {},
   "source": [
    "The KMeans clustering algorithm separates samples into $n$ groups of equal variance, with centroids that minimise the inertia. You must choose how many clusters to partition. [(See the scikit-learn user guide for more information.)](https://scikit-learn.org/stable/modules/clustering.html#k-means)"
   ]
  },
  {
   "cell_type": "code",
   "execution_count": 6,
   "metadata": {
    "execution": {
     "iopub.execute_input": "2021-05-19T05:59:59.094046Z",
     "iopub.status.busy": "2021-05-19T05:59:59.093346Z",
     "iopub.status.idle": "2021-05-19T05:59:59.095367Z",
     "shell.execute_reply": "2021-05-19T05:59:59.094973Z"
    }
   },
   "outputs": [],
   "source": [
    "km1 = clm.KMeans(12,  # no. clusters\n",
    "                 init = 'k-means++',  # default\n",
    "                 algorithm=\"auto\")    # default\n",
    "\n",
    "km2 = clm.KMeans(6,  # no. clusters\n",
    "                 init = 'k-means++',  # default\n",
    "                 algorithm=\"auto\")    # default\n",
    "\n",
    "km3 = clm.KMeans(3,  # no. clusters\n",
    "                 init = 'k-means++',  # default\n",
    "                 algorithm=\"auto\")    # default"
   ]
  },
  {
   "cell_type": "markdown",
   "metadata": {},
   "source": [
    "When we pass a list of clustering methods to `encore.ces_convergence`, the similarity values get saved in `ces_conv2` in order."
   ]
  },
  {
   "cell_type": "code",
   "execution_count": 7,
   "metadata": {
    "execution": {
     "iopub.execute_input": "2021-05-19T05:59:59.099109Z",
     "iopub.status.busy": "2021-05-19T05:59:59.098472Z",
     "iopub.status.idle": "2021-05-19T06:00:01.094005Z",
     "shell.execute_reply": "2021-05-19T06:00:01.094590Z"
    }
   },
   "outputs": [
    {
     "data": {
      "text/plain": [
       "(9, 3)"
      ]
     },
     "execution_count": 1,
     "metadata": {},
     "output_type": "execute_result"
    }
   ],
   "source": [
    "ces_conv2 = encore.ces_convergence(u,  # universe\n",
    "                                  10,  # window size\n",
    "                                  select='name CA',\n",
    "                                  clustering_method=[km1, km2, km3]\n",
    "                                 )\n",
    "ces_conv2.shape"
   ]
  },
  {
   "cell_type": "markdown",
   "metadata": {},
   "source": [
    "As you can see, the number of clusters partitioned by KMeans has an effect on the resulting rate of convergence."
   ]
  },
  {
   "cell_type": "code",
   "execution_count": 8,
   "metadata": {
    "execution": {
     "iopub.execute_input": "2021-05-19T06:00:01.112454Z",
     "iopub.status.busy": "2021-05-19T06:00:01.108370Z",
     "iopub.status.idle": "2021-05-19T06:00:01.241556Z",
     "shell.execute_reply": "2021-05-19T06:00:01.242120Z"
    }
   },
   "outputs": [
    {
     "data": {
      "text/plain": [
       "<matplotlib.legend.Legend at 0x7fea09bd5090>"
      ]
     },
     "execution_count": 1,
     "metadata": {},
     "output_type": "execute_result"
    },
    {
     "data": {
      "image/png": "[encoded data removed]",
      "text/plain": [
       "<Figure size 432x288 with 1 Axes>"
      ]
     },
     "metadata": {
      "needs_background": "light"
     },
     "output_type": "display_data"
    }
   ],
   "source": [
    "labels = ['12 clusters', '6 clusters', '3 clusters']\n",
    "\n",
    "ces_fig2, ces_ax2 = plt.subplots()\n",
    "for data, label in zip(ces_conv2.T, labels):\n",
    "    plt.plot(data, label=label)\n",
    "ces_ax2.set_xlabel('Window')\n",
    "ces_ax2.set_ylabel('Jensen-Shannon divergence')\n",
    "plt.legend()"
   ]
  },
  {
   "cell_type": "markdown",
   "metadata": {},
   "source": [
    "### Using default arguments with dimension reduction ensemble similarity"
   ]
  },
  {
   "cell_type": "markdown",
   "metadata": {},
   "source": [
    "See [dimension_reduction_ensemble_similarity.ipynb](dimension_reduction_ensemble_similarity.ipynb#Calculating-dimension-reduction-similarity-with-default-settings) for an introduction on comparing trajectories via dimensionality reduction. We now use the `dres_convergence` function ([API docs](https://docs.mdanalysis.org/stable/documentation_pages/analysis/encore/similarity.html#MDAnalysis.analysis.encore.similarity.dres_convergence))."
   ]
  },
  {
   "cell_type": "code",
   "execution_count": 9,
   "metadata": {
    "execution": {
     "iopub.execute_input": "2021-05-19T06:00:01.247319Z",
     "iopub.status.busy": "2021-05-19T06:00:01.246438Z",
     "iopub.status.idle": "2021-05-19T06:00:03.689365Z",
     "shell.execute_reply": "2021-05-19T06:00:03.689783Z"
    }
   },
   "outputs": [],
   "source": [
    "dres_conv = encore.dres_convergence(u,  # universe\n",
    "                                  10,  # window size\n",
    "                                  select='name CA')  # default"
   ]
  },
  {
   "cell_type": "markdown",
   "metadata": {},
   "source": [
    "Much like `ces_convergence`, the output is an array of similarity values."
   ]
  },
  {
   "cell_type": "code",
   "execution_count": 10,
   "metadata": {
    "execution": {
     "iopub.execute_input": "2021-05-19T06:00:03.696587Z",
     "iopub.status.busy": "2021-05-19T06:00:03.695214Z",
     "iopub.status.idle": "2021-05-19T06:00:03.699634Z",
     "shell.execute_reply": "2021-05-19T06:00:03.699083Z"
    }
   },
   "outputs": [
    {
     "data": {
      "text/plain": [
       "array([[0.5480449 ],\n",
       "       [0.40686249],\n",
       "       [0.32580422],\n",
       "       [0.25577172],\n",
       "       [0.1872541 ],\n",
       "       [0.11802003],\n",
       "       [0.06266304],\n",
       "       [0.03212954],\n",
       "       [0.        ]])"
      ]
     },
     "execution_count": 1,
     "metadata": {},
     "output_type": "execute_result"
    }
   ],
   "source": [
    "dres_conv"
   ]
  },
  {
   "cell_type": "code",
   "execution_count": 11,
   "metadata": {
    "execution": {
     "iopub.execute_input": "2021-05-19T06:00:03.710016Z",
     "iopub.status.busy": "2021-05-19T06:00:03.709181Z",
     "iopub.status.idle": "2021-05-19T06:00:03.815587Z",
     "shell.execute_reply": "2021-05-19T06:00:03.816008Z"
    },
    "scrolled": true
   },
   "outputs": [
    {
     "data": {
      "text/plain": [
       "Text(0, 0.5, 'Jensen-Shannon divergence')"
      ]
     },
     "execution_count": 1,
     "metadata": {},
     "output_type": "execute_result"
    },
    {
     "data": {
      "image/png": "[encoded data removed]",
      "text/plain": [
       "<Figure size 432x288 with 1 Axes>"
      ]
     },
     "metadata": {
      "needs_background": "light"
     },
     "output_type": "display_data"
    }
   ],
   "source": [
    "dres_fig, dres_ax = plt.subplots()\n",
    "plt.plot(dres_conv)\n",
    "dres_ax.set_xlabel('Window')\n",
    "dres_ax.set_ylabel('Jensen-Shannon divergence')"
   ]
  },
  {
   "cell_type": "markdown",
   "metadata": {},
   "source": [
    "### Comparing different dimensionality reduction methods"
   ]
  },
  {
   "cell_type": "markdown",
   "metadata": {},
   "source": [
    "Again, you may want to compare the performance of different methods.\n",
    "\n",
    "Principal component analysis uses singular value decomposition to project data onto a lower dimensional space. [(See the scikit-learn user guide for more information.)](https://scikit-learn.org/stable/modules/decomposition.html#pca)\n",
    "\n",
    "The method provided by MDAnalysis.encore accepts any of the keyword arguments of [sklearn.decomposition.PCA](https://scikit-learn.org/stable/modules/generated/sklearn.decomposition.PCA.html) *except* `n_components`. Instead, use `dimension` to specify how many components to keep."
   ]
  },
  {
   "cell_type": "code",
   "execution_count": 12,
   "metadata": {
    "execution": {
     "iopub.execute_input": "2021-05-19T06:00:03.820777Z",
     "iopub.status.busy": "2021-05-19T06:00:03.820060Z",
     "iopub.status.idle": "2021-05-19T06:00:03.821891Z",
     "shell.execute_reply": "2021-05-19T06:00:03.822264Z"
    }
   },
   "outputs": [],
   "source": [
    "pc1 = drm.PrincipalComponentAnalysis(dimension=1,\n",
    "                                     svd_solver='auto')\n",
    "pc2 = drm.PrincipalComponentAnalysis(dimension=2,\n",
    "                                     svd_solver='auto')\n",
    "pc3 = drm.PrincipalComponentAnalysis(dimension=3,\n",
    "                                     svd_solver='auto')"
   ]
  },
  {
   "cell_type": "code",
   "execution_count": 13,
   "metadata": {
    "execution": {
     "iopub.execute_input": "2021-05-19T06:00:03.826293Z",
     "iopub.status.busy": "2021-05-19T06:00:03.825752Z",
     "iopub.status.idle": "2021-05-19T06:00:05.200317Z",
     "shell.execute_reply": "2021-05-19T06:00:05.200683Z"
    },
    "scrolled": true
   },
   "outputs": [
    {
     "data": {
      "text/plain": [
       "(9, 3)"
      ]
     },
     "execution_count": 1,
     "metadata": {},
     "output_type": "execute_result"
    }
   ],
   "source": [
    "dres_conv2 = encore.dres_convergence(u,  # universe\n",
    "                                  10,  # window size\n",
    "                                  select='name CA',\n",
    "                                  dimensionality_reduction_method=[pc1, pc2, pc3]\n",
    "                                 )\n",
    "dres_conv2.shape"
   ]
  },
  {
   "cell_type": "markdown",
   "metadata": {},
   "source": [
    "Again, the size of the subspace you choose to include in your similarity comparison, affects the apparent rate of convergence over the trajectory."
   ]
  },
  {
   "cell_type": "code",
   "execution_count": 14,
   "metadata": {
    "execution": {
     "iopub.execute_input": "2021-05-19T06:00:05.216927Z",
     "iopub.status.busy": "2021-05-19T06:00:05.216371Z",
     "iopub.status.idle": "2021-05-19T06:00:05.325075Z",
     "shell.execute_reply": "2021-05-19T06:00:05.325585Z"
    },
    "scrolled": true
   },
   "outputs": [
    {
     "data": {
      "text/plain": [
       "<matplotlib.legend.Legend at 0x7fea0d700510>"
      ]
     },
     "execution_count": 1,
     "metadata": {},
     "output_type": "execute_result"
    },
    {
     "data": {
      "image/png": "[encoded data removed]",
      "text/plain": [
       "<Figure size 432x288 with 1 Axes>"
      ]
     },
     "metadata": {
      "needs_background": "light"
     },
     "output_type": "display_data"
    }
   ],
   "source": [
    "labels = ['1D', '2D', '3D']\n",
    "\n",
    "dres_fig2, dres_ax2 = plt.subplots()\n",
    "for data, label in zip(dres_conv2.T, labels):\n",
    "    plt.plot(data, label=label)\n",
    "dres_ax2.set_xlabel('Window')\n",
    "dres_ax2.set_ylabel('Jensen-Shannon divergence')\n",
    "plt.legend()"
   ]
  },
  {
   "cell_type": "markdown",
   "metadata": {},
   "source": [
    "## References\n",
    "\n",
    "[1] Oliver Beckstein, Elizabeth&nbsp;J. Denning, Juan&nbsp;R. Perilla, and Thomas&nbsp;B. Woolf.\n",
    "Zipping and <span class=\"bibtex-protected\">Unzipping</span> of <span class=\"bibtex-protected\">Adenylate</span> <span class=\"bibtex-protected\">Kinase</span>: <span class=\"bibtex-protected\">Atomistic</span> <span class=\"bibtex-protected\">Insights</span> into the <span class=\"bibtex-protected\">Ensemble</span> of <span class=\"bibtex-protected\">Open</span>↔<span class=\"bibtex-protected\">Closed</span> <span class=\"bibtex-protected\">Transitions</span>.\n",
    "<em>Journal of Molecular Biology</em>, 394(1):160–176, November 2009.\n",
    "00107.\n",
    "URL: <a href=\"https://linkinghub.elsevier.com/retrieve/pii/S0022283609011164\">https://linkinghub.elsevier.com/retrieve/pii/S0022283609011164</a>, <a href=\"https://doi.org/10.1016/j.jmb.2009.09.009\">doi:10.1016/j.jmb.2009.09.009</a>.\n",
    "\n",
    "[2] Richard&nbsp;J. Gowers, Max Linke, Jonathan Barnoud, Tyler J.&nbsp;E. Reddy, Manuel&nbsp;N. Melo, Sean&nbsp;L. Seyler, Jan Domański, David&nbsp;L. Dotson, Sébastien Buchoux, Ian&nbsp;M. Kenney, and Oliver Beckstein.\n",
    "<span class=\"bibtex-protected\">MDAnalysis</span>: <span class=\"bibtex-protected\">A</span> <span class=\"bibtex-protected\">Python</span> <span class=\"bibtex-protected\">Package</span> for the <span class=\"bibtex-protected\">Rapid</span> <span class=\"bibtex-protected\">Analysis</span> of <span class=\"bibtex-protected\">Molecular</span> <span class=\"bibtex-protected\">Dynamics</span> <span class=\"bibtex-protected\">Simulations</span>.\n",
    "<em>Proceedings of the 15th Python in Science Conference</em>, pages 98–105, 2016.\n",
    "00152.\n",
    "URL: <a href=\"https://conference.scipy.org/proceedings/scipy2016/oliver_beckstein.html\">https://conference.scipy.org/proceedings/scipy2016/oliver_beckstein.html</a>, <a href=\"https://doi.org/10.25080/Majora-629e541a-00e\">doi:10.25080/Majora-629e541a-00e</a>.\n",
    "\n",
    "[3] Naveen Michaud-Agrawal, Elizabeth&nbsp;J. Denning, Thomas&nbsp;B. Woolf, and Oliver Beckstein.\n",
    "<span class=\"bibtex-protected\">MDAnalysis</span>: <span class=\"bibtex-protected\">A</span> toolkit for the analysis of molecular dynamics simulations.\n",
    "<em>Journal of Computational Chemistry</em>, 32(10):2319–2327, July 2011.\n",
    "00778.\n",
    "URL: <a href=\"http://doi.wiley.com/10.1002/jcc.21787\">http://doi.wiley.com/10.1002/jcc.21787</a>, <a href=\"https://doi.org/10.1002/jcc.21787\">doi:10.1002/jcc.21787</a>.\n",
    "\n",
    "[4] Matteo Tiberti, Elena Papaleo, Tone Bengtsen, Wouter Boomsma, and Kresten Lindorff-Larsen.\n",
    "<span class=\"bibtex-protected\">ENCORE</span>: <span class=\"bibtex-protected\">Software</span> for <span class=\"bibtex-protected\">Quantitative</span> <span class=\"bibtex-protected\">Ensemble</span> <span class=\"bibtex-protected\">Comparison</span>.\n",
    "<em>PLOS Computational Biology</em>, 11(10):e1004415, October 2015.\n",
    "00031.\n",
    "URL: <a href=\"https://journals.plos.org/ploscompbiol/article?id=10.1371/journal.pcbi.1004415\">https://journals.plos.org/ploscompbiol/article?id=10.1371/journal.pcbi.1004415</a>, <a href=\"https://doi.org/10.1371/journal.pcbi.1004415\">doi:10.1371/journal.pcbi.1004415</a>."
   ]
  }
 ],
 "metadata": {
  "kernelspec": {
   "display_name": "Python (mda-user-guide)",
   "language": "python",
   "name": "mda-user-guide"
  },
  "language_info": {
   "codemirror_mode": {
    "name": "ipython",
    "version": 3
   },
   "file_extension": ".py",
   "mimetype": "text/x-python",
   "name": "python",
   "nbconvert_exporter": "python",
   "pygments_lexer": "ipython3",
   "version": "3.8.3"
  },
  "toc": {
   "base_numbering": 1,
   "nav_menu": {},
   "number_sections": false,
   "sideBar": true,
   "skip_h1_title": false,
   "title_cell": "Table of Contents",
   "title_sidebar": "Contents",
   "toc_cell": false,
   "toc_position": {},
   "toc_section_display": true,
   "toc_window_display": false
  }
 },
 "nbformat": 4,
 "nbformat_minor": 2
}
