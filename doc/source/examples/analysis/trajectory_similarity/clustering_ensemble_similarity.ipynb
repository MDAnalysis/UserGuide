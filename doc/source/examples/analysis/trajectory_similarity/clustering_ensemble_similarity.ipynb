{
 "cells": [
  {
   "attachments": {},
   "cell_type": "markdown",
   "metadata": {},
   "source": [
    "# Calculating the Clustering Ensemble Similarity between ensembles\n",
    "\n",
    "Here we compare the conformational ensembles of proteins in three trajectories, using the clustering ensemble similarity method.\n",
    "\n",
    "**Last updated:** December 2022 with MDAnalysis 2.4.0-dev0\n",
    "\n",
    "**Minimum version of MDAnalysis:** 1.0.0\n",
    "\n",
    "**Packages required:**\n",
    "    \n",
    "* MDAnalysis (<a data-cite=\"michaud-agrawal_mdanalysis_2011\" href=\"https://doi.org/10.1002/jcc.21787\">Michaud-Agrawal *et al.*, 2011</a>, <a data-cite=\"gowers_mdanalysis_2016\" href=\"https://doi.org/10.25080/Majora-629e541a-00e\">Gowers *et al.*, 2016</a>)\n",
    "* MDAnalysisTests\n",
    "* [scikit-learn](https://scikit-learn.org/stable/)\n",
    "   \n",
    "**Optional packages for visualisation:**\n",
    "\n",
    "* [matplotlib](https://matplotlib.org)\n",
    "\n",
    "\n",
    "<div class=\"alert alert-info\">\n",
    "    \n",
    "**Note**\n",
    "\n",
    "The metrics and methods in the `encore` module are from (<a data-cite=\"tiberti_encore_2015\" href=\"https://doi.org/10.1371/journal.pcbi.1004415\">Tiberti *et al.*, 2015</a>). Please cite them when using the ``MDAnalysis.analysis.encore`` module in published work.\n",
    "\n",
    "</div>"
   ]
  },
  {
   "cell_type": "code",
   "execution_count": 1,
   "metadata": {
    "execution": {
     "iopub.execute_input": "2021-05-19T05:58:33.918909Z",
     "iopub.status.busy": "2021-05-19T05:58:33.918383Z",
     "iopub.status.idle": "2021-05-19T05:58:40.714699Z",
     "shell.execute_reply": "2021-05-19T05:58:40.715153Z"
    }
   },
   "outputs": [],
   "source": [
    "import numpy as np\n",
    "import matplotlib.pyplot as plt\n",
    "%matplotlib inline\n",
    "\n",
    "import MDAnalysis as mda\n",
    "from MDAnalysis.tests.datafiles import (PSF, DCD, DCD2, GRO, XTC, \n",
    "                                        PSF_NAMD_GBIS, DCD_NAMD_GBIS)\n",
    "from MDAnalysis.analysis import encore\n",
    "from MDAnalysis.analysis.encore.clustering import ClusteringMethod as clm"
   ]
  },
  {
   "cell_type": "markdown",
   "metadata": {},
   "source": [
    "## Loading files"
   ]
  },
  {
   "cell_type": "markdown",
   "metadata": {},
   "source": [
    "The test files we will be working with here feature adenylate kinase (AdK), a phosophotransferase enzyme. (<a data-cite=\"beckstein_zipping_2009\" href=\"https://doi.org/10.1016/j.jmb.2009.09.009\">Beckstein *et al.*, 2009</a>)\n"
   ]
  },
  {
   "cell_type": "code",
   "execution_count": 2,
   "metadata": {
    "execution": {
     "iopub.execute_input": "2021-05-19T05:58:40.719200Z",
     "iopub.status.busy": "2021-05-19T05:58:40.718403Z",
     "iopub.status.idle": "2021-05-19T05:58:41.114718Z",
     "shell.execute_reply": "2021-05-19T05:58:41.115207Z"
    }
   },
   "outputs": [
    {
     "name": "stderr",
     "output_type": "stream",
     "text": [
      "/home/pbarletta/mambaforge/envs/mda-user-guide/lib/python3.9/site-packages/MDAnalysis/coordinates/DCD.py:165: DeprecationWarning: DCDReader currently makes independent timesteps by copying self.ts while other readers update self.ts inplace. This behaviour will be changed in 3.0 to be the same as other readers\n",
      "  warnings.warn(\"DCDReader currently makes independent timesteps\"\n"
     ]
    }
   ],
   "source": [
    "u1 = mda.Universe(PSF, DCD)\n",
    "u2 = mda.Universe(PSF, DCD2)\n",
    "u3 = mda.Universe(PSF_NAMD_GBIS, DCD_NAMD_GBIS)\n",
    "\n",
    "labels = ['DCD', 'DCD2', 'NAMD']"
   ]
  },
  {
   "cell_type": "markdown",
   "metadata": {},
   "source": [
    "The trajectories can have different lengths, as seen below."
   ]
  },
  {
   "cell_type": "code",
   "execution_count": 3,
   "metadata": {
    "execution": {
     "iopub.execute_input": "2021-05-19T05:58:41.119363Z",
     "iopub.status.busy": "2021-05-19T05:58:41.118802Z",
     "iopub.status.idle": "2021-05-19T05:58:41.124886Z",
     "shell.execute_reply": "2021-05-19T05:58:41.125313Z"
    }
   },
   "outputs": [
    {
     "name": "stdout",
     "output_type": "stream",
     "text": [
      "98 102 100\n"
     ]
    }
   ],
   "source": [
    "print(len(u1.trajectory), len(u2.trajectory), len(u3.trajectory))"
   ]
  },
  {
   "cell_type": "markdown",
   "metadata": {},
   "source": [
    "## Calculating clustering similarity with default settings"
   ]
  },
  {
   "cell_type": "markdown",
   "metadata": {},
   "source": [
    "The clustering ensemble similarity method (`ces`, [API docs here](https://docs.mdanalysis.org/stable/documentation_pages/analysis/encore/similarity.html#MDAnalysis.analysis.encore.similarity.ces)) combines every trajectory into a whole space of conformations, and then uses a user-specified `clustering_method` to partition this into clusters. The population of each trajectory ensemble within each cluster is taken as a probability density function.\n",
    "\n",
    "The similarity of each probability density function is compared using the Jensen-Shannon divergence. This divergence has an upper bound of $\\ln{(2)}$, representing no similarity between the ensembles, and a lower bound of 0.0, representing identical conformational ensembles.\n",
    "\n",
    "You do not need to align your trajectories, as the function will align it for you (along your `select`ion atoms, which are `select='name CA'` by default). "
   ]
  },
  {
   "cell_type": "code",
   "execution_count": 4,
   "metadata": {
    "execution": {
     "iopub.execute_input": "2021-05-19T05:58:41.129471Z",
     "iopub.status.busy": "2021-05-19T05:58:41.128816Z",
     "iopub.status.idle": "2021-05-19T05:58:56.201064Z",
     "shell.execute_reply": "2021-05-19T05:58:56.201734Z"
    }
   },
   "outputs": [],
   "source": [
    "ces0, details0 = encore.ces([u1, u2, u3])"
   ]
  },
  {
   "cell_type": "markdown",
   "metadata": {},
   "source": [
    "`encore.ces` returns two outputs. `ces0` is the similarity matrix for the ensemble of trajectories."
   ]
  },
  {
   "cell_type": "code",
   "execution_count": 5,
   "metadata": {
    "execution": {
     "iopub.execute_input": "2021-05-19T05:58:56.208851Z",
     "iopub.status.busy": "2021-05-19T05:58:56.208233Z",
     "iopub.status.idle": "2021-05-19T05:58:56.211153Z",
     "shell.execute_reply": "2021-05-19T05:58:56.210606Z"
    }
   },
   "outputs": [
    {
     "data": {
      "text/plain": [
       "array([[0.        , 0.68070702, 0.69314718],\n",
       "       [0.68070702, 0.        , 0.69314718],\n",
       "       [0.69314718, 0.69314718, 0.        ]])"
      ]
     },
     "execution_count": 5,
     "metadata": {},
     "output_type": "execute_result"
    }
   ],
   "source": [
    "ces0"
   ]
  },
  {
   "cell_type": "markdown",
   "metadata": {},
   "source": [
    "`details0` contains the calculated clusters as a `encore.clustering.ClusterCollection.ClusterCollection`."
   ]
  },
  {
   "cell_type": "code",
   "execution_count": 6,
   "metadata": {
    "execution": {
     "iopub.execute_input": "2021-05-19T05:58:56.215494Z",
     "iopub.status.busy": "2021-05-19T05:58:56.214962Z",
     "iopub.status.idle": "2021-05-19T05:58:56.216798Z",
     "shell.execute_reply": "2021-05-19T05:58:56.217249Z"
    }
   },
   "outputs": [
    {
     "name": "stdout",
     "output_type": "stream",
     "text": [
      "<class 'MDAnalysis.analysis.encore.clustering.ClusterCollection.ClusterCollection'>\n",
      "We have found 49 clusters\n"
     ]
    }
   ],
   "source": [
    "cluster_collection = details0['clustering'][0]\n",
    "print(type(cluster_collection))\n",
    "print('We have found {} clusters'.format(len(cluster_collection)))"
   ]
  },
  {
   "cell_type": "markdown",
   "metadata": {},
   "source": [
    "We can access each Cluster at `cluster_collection.clusters`. For example, the first one has these elements:"
   ]
  },
  {
   "cell_type": "code",
   "execution_count": 7,
   "metadata": {
    "execution": {
     "iopub.execute_input": "2021-05-19T05:58:56.221314Z",
     "iopub.status.busy": "2021-05-19T05:58:56.220791Z",
     "iopub.status.idle": "2021-05-19T05:58:56.222935Z",
     "shell.execute_reply": "2021-05-19T05:58:56.223367Z"
    }
   },
   "outputs": [
    {
     "data": {
      "text/plain": [
       "<Cluster with 5 elements, centroid=1, id=0>"
      ]
     },
     "execution_count": 7,
     "metadata": {},
     "output_type": "execute_result"
    }
   ],
   "source": [
    "first_cluster = cluster_collection.clusters[0]\n",
    "first_cluster"
   ]
  },
  {
   "cell_type": "code",
   "execution_count": 8,
   "metadata": {
    "execution": {
     "iopub.execute_input": "2021-05-19T05:58:56.226988Z",
     "iopub.status.busy": "2021-05-19T05:58:56.226422Z",
     "iopub.status.idle": "2021-05-19T05:58:56.228781Z",
     "shell.execute_reply": "2021-05-19T05:58:56.229232Z"
    }
   },
   "outputs": [
    {
     "data": {
      "text/plain": [
       "array([ 0,  1,  2,  3, 98])"
      ]
     },
     "execution_count": 8,
     "metadata": {},
     "output_type": "execute_result"
    }
   ],
   "source": [
    "first_cluster.elements"
   ]
  },
  {
   "cell_type": "markdown",
   "metadata": {},
   "source": [
    "Each cluster has an ID number and a centroid conformation."
   ]
  },
  {
   "cell_type": "code",
   "execution_count": 9,
   "metadata": {
    "execution": {
     "iopub.execute_input": "2021-05-19T05:58:56.233428Z",
     "iopub.status.busy": "2021-05-19T05:58:56.232486Z",
     "iopub.status.idle": "2021-05-19T05:58:56.234876Z",
     "shell.execute_reply": "2021-05-19T05:58:56.235257Z"
    }
   },
   "outputs": [
    {
     "name": "stdout",
     "output_type": "stream",
     "text": [
      "The ID of this cluster is: 0\n",
      "The centroid is 1\n"
     ]
    }
   ],
   "source": [
    "print('The ID of this cluster is:', first_cluster.id)\n",
    "print('The centroid is', first_cluster.centroid)"
   ]
  },
  {
   "cell_type": "markdown",
   "metadata": {},
   "source": [
    "### Plotting"
   ]
  },
  {
   "cell_type": "code",
   "execution_count": 10,
   "metadata": {
    "execution": {
     "iopub.execute_input": "2021-05-19T05:58:56.265187Z",
     "iopub.status.busy": "2021-05-19T05:58:56.264683Z",
     "iopub.status.idle": "2021-05-19T05:58:56.358001Z",
     "shell.execute_reply": "2021-05-19T05:58:56.358366Z"
    }
   },
   "outputs": [
    {
     "data": {
      "image/png": "[encoded data removed]",
      "text/plain": [
       "<Figure size 640x480 with 2 Axes>"
      ]
     },
     "metadata": {},
     "output_type": "display_data"
    }
   ],
   "source": [
    "fig0, ax0 = plt.subplots()\n",
    "im0 = plt.imshow(ces0, vmax=np.log(2), vmin=0)\n",
    "plt.xticks(np.arange(3), labels)\n",
    "plt.yticks(np.arange(3), labels)\n",
    "plt.title('Clustering ensemble similarity')\n",
    "cbar0 = fig0.colorbar(im0)\n",
    "cbar0.set_label('Jensen-Shannon divergence');"
   ]
  },
  {
   "cell_type": "markdown",
   "metadata": {},
   "source": [
    "## Calculating clustering similarity with one method"
   ]
  },
  {
   "cell_type": "markdown",
   "metadata": {},
   "source": [
    "Clustering methods should be subclasses of `analysis.encore.clustering.ClusteringMethod`, initialised with your chosen parameters. Below, we set up an affinity progragation scheme, which uses message-passing to choose a number of 'exemplar' points to represent the data and updates these points until they converge. The `preference` parameter controls how many exemplars are used -- a higher value results in more clusters, while a lower value results in fewer clusters. The `damping` factor damps the message passing to avoid numerical oscillations. [(See the scikit-learn user guide for more information.)](https://scikit-learn.org/stable/modules/clustering.html#affinity-propagation)\n",
    "\n",
    "The other keyword arguments control when to stop clustering. Adding noise to the data can also avoid numerical oscillations."
   ]
  },
  {
   "cell_type": "code",
   "execution_count": 11,
   "metadata": {
    "execution": {
     "iopub.execute_input": "2021-05-19T05:58:56.361927Z",
     "iopub.status.busy": "2021-05-19T05:58:56.361305Z",
     "iopub.status.idle": "2021-05-19T05:58:56.362810Z",
     "shell.execute_reply": "2021-05-19T05:58:56.363302Z"
    }
   },
   "outputs": [],
   "source": [
    "clustering_method = clm.AffinityPropagationNative(preference=-1.0,\n",
    "                                                  damping=0.9,\n",
    "                                                  max_iter=200,\n",
    "                                                  convergence_iter=30,\n",
    "                                                  add_noise=True)"
   ]
  },
  {
   "cell_type": "markdown",
   "metadata": {},
   "source": [
    "By default, MDAnalysis will run the job on one core. If it is taking too long and you have the resources, you can increase the number of cores used."
   ]
  },
  {
   "cell_type": "code",
   "execution_count": 12,
   "metadata": {
    "execution": {
     "iopub.execute_input": "2021-05-19T05:58:56.366632Z",
     "iopub.status.busy": "2021-05-19T05:58:56.366133Z",
     "iopub.status.idle": "2021-05-19T05:59:11.617771Z",
     "shell.execute_reply": "2021-05-19T05:59:11.618485Z"
    }
   },
   "outputs": [],
   "source": [
    "ces1, details1 = encore.ces([u1, u2, u3],\n",
    "                         select='name CA',\n",
    "                         clustering_method=clustering_method,\n",
    "                         ncores=4)"
   ]
  },
  {
   "cell_type": "markdown",
   "metadata": {},
   "source": [
    "### Plotting"
   ]
  },
  {
   "cell_type": "code",
   "execution_count": 13,
   "metadata": {
    "execution": {
     "iopub.execute_input": "2021-05-19T05:59:11.663743Z",
     "iopub.status.busy": "2021-05-19T05:59:11.652585Z",
     "iopub.status.idle": "2021-05-19T05:59:11.747479Z",
     "shell.execute_reply": "2021-05-19T05:59:11.747805Z"
    },
    "scrolled": true
   },
   "outputs": [
    {
     "data": {
      "image/png": "[encoded data removed]",
      "text/plain": [
       "<Figure size 640x480 with 2 Axes>"
      ]
     },
     "metadata": {},
     "output_type": "display_data"
    }
   ],
   "source": [
    "fig1, ax1 = plt.subplots()\n",
    "im1 = plt.imshow(ces1, vmax=np.log(2), vmin=0)\n",
    "plt.xticks(np.arange(3), labels)\n",
    "plt.yticks(np.arange(3), labels)\n",
    "plt.title('Clustering ensemble similarity')\n",
    "cbar1 = fig1.colorbar(im1)\n",
    "cbar1.set_label('Jensen-Shannon divergence');"
   ]
  },
  {
   "cell_type": "markdown",
   "metadata": {},
   "source": [
    "## Calculating clustering similarity with multiple methods"
   ]
  },
  {
   "cell_type": "markdown",
   "metadata": {},
   "source": [
    "You may want to try different clustering methods, or use different parameters within the methods. `encore.ces` allows you to pass a list of `clustering_method`s to be applied.\n",
    "\n",
    "<div class=\"alert alert-info\">\n",
    "    \n",
    "**Note**\n",
    "\n",
    "To use the other ENCORE methods available, you need to install [scikit-learn](https://scikit-learn.org/stable/).\n",
    "\n",
    "</div>"
   ]
  },
  {
   "cell_type": "markdown",
   "metadata": {},
   "source": [
    "### Trying out different clustering parameters"
   ]
  },
  {
   "cell_type": "markdown",
   "metadata": {},
   "source": [
    "The KMeans clustering algorithm separates samples into $n$ groups of equal variance, with centroids that minimise the inertia. You must choose how many clusters to partition. [(See the scikit-learn user guide for more information.)](https://scikit-learn.org/stable/modules/clustering.html#k-means)"
   ]
  },
  {
   "cell_type": "code",
   "execution_count": 14,
   "metadata": {
    "execution": {
     "iopub.execute_input": "2021-05-19T05:59:11.753051Z",
     "iopub.status.busy": "2021-05-19T05:59:11.752181Z",
     "iopub.status.idle": "2021-05-19T05:59:11.753899Z",
     "shell.execute_reply": "2021-05-19T05:59:11.754308Z"
    }
   },
   "outputs": [],
   "source": [
    "km1 = clm.KMeans(12,  # no. clusters\n",
    "                 init = 'k-means++',  # default\n",
    "                 algorithm=\"auto\")    # default\n",
    "\n",
    "km2 = clm.KMeans(6,  # no. clusters\n",
    "                 init = 'k-means++',  # default\n",
    "                 algorithm=\"auto\")    # default"
   ]
  },
  {
   "cell_type": "markdown",
   "metadata": {},
   "source": [
    "The DBSCAN algorithm is a density-based clustering method that defines clusters as 'high density' areas, separated by low density areas. The parameters `min_samples` and `eps` define how dense an area should be to form a cluster. Clusters are defined around core points which have at least `min_samples` neighbours within a distance of `eps`. Points that are at least `eps` in distance from any core point are considered outliers.\n",
    "[(See the scikit-learn user guide for more information.)](https://scikit-learn.org/stable/modules/clustering.html#dbscan)\n",
    "\n",
    "A higher `min_samples` or lower `eps` mean that data points must be more dense to form a cluster. You should consider your `eps` carefully. In MDAnalysis, `eps` can be interpreted as the distance between two points in Angstrom.\n",
    "\n",
    "<div class=\"alert alert-info\">\n",
    "    \n",
    "**Note**\n",
    "\n",
    "DBSCAN is an algorithm that can identify outliers, or data points that don't fit into any cluster. ``dres()`` and ``dres_convergence()`` treat the outliers as their own cluster. This means that the Jensen-Shannon divergence will be lower than it should be for trajectories that have outliers. Do not use this clustering method unless you are certain that your trajectories will not have outliers.\n",
    "\n",
    "</div>"
   ]
  },
  {
   "cell_type": "code",
   "execution_count": 15,
   "metadata": {
    "execution": {
     "iopub.execute_input": "2021-05-19T05:59:11.758909Z",
     "iopub.status.busy": "2021-05-19T05:59:11.758146Z",
     "iopub.status.idle": "2021-05-19T05:59:11.760546Z",
     "shell.execute_reply": "2021-05-19T05:59:11.761059Z"
    }
   },
   "outputs": [],
   "source": [
    "db1 = clm.DBSCAN(eps=0.5,\n",
    "                 min_samples=5,\n",
    "                 algorithm='auto',\n",
    "                 leaf_size=30)\n",
    "\n",
    "db2 = clm.DBSCAN(eps=1,\n",
    "                 min_samples=5,\n",
    "                 algorithm='auto',\n",
    "                 leaf_size=30)"
   ]
  },
  {
   "cell_type": "markdown",
   "metadata": {},
   "source": [
    "When we pass a list of clustering methods to `encore.ces`, the results get saved in `ces2` and `details2` in order."
   ]
  },
  {
   "cell_type": "code",
   "execution_count": 16,
   "metadata": {
    "execution": {
     "iopub.execute_input": "2021-05-19T05:59:11.765943Z",
     "iopub.status.busy": "2021-05-19T05:59:11.764853Z",
     "iopub.status.idle": "2021-05-19T05:59:36.044484Z",
     "shell.execute_reply": "2021-05-19T05:59:36.045322Z"
    }
   },
   "outputs": [
    {
     "name": "stdout",
     "output_type": "stream",
     "text": [
      "4 4\n"
     ]
    }
   ],
   "source": [
    "ces2, details2 = encore.ces([u1, u2, u3],\n",
    "                         select='name CA',\n",
    "                         clustering_method=[km1, km2, db1, db2],\n",
    "                         ncores=4)\n",
    "print(len(ces2), len(details2['clustering']))"
   ]
  },
  {
   "cell_type": "markdown",
   "metadata": {},
   "source": [
    "### Plotting"
   ]
  },
  {
   "cell_type": "code",
   "execution_count": 17,
   "metadata": {
    "execution": {
     "iopub.execute_input": "2021-05-19T05:59:36.063450Z",
     "iopub.status.busy": "2021-05-19T05:59:36.062503Z",
     "iopub.status.idle": "2021-05-19T05:59:36.291957Z",
     "shell.execute_reply": "2021-05-19T05:59:36.292407Z"
    }
   },
   "outputs": [
    {
     "data": {
      "image/png": "[encoded data removed]",
      "text/plain": [
       "<Figure size 1500x300 with 5 Axes>"
      ]
     },
     "metadata": {},
     "output_type": "display_data"
    }
   ],
   "source": [
    "titles = ['Kmeans 12 clusters', 'Kmeans 6 clusters', 'DBSCAN eps=0.5', 'DBSCAN eps=1']\n",
    "fig2, axes = plt.subplots(1, 4, sharey=True, figsize=(15, 3))\n",
    "for i, (data, title) in enumerate(zip(ces2, titles)):\n",
    "    imi = axes[i].imshow(data, vmax=np.log(2), vmin=0)\n",
    "    axes[i].set_xticks(np.arange(3))\n",
    "    axes[i].set_xticklabels(labels)\n",
    "    axes[i].set_title(title)\n",
    "plt.yticks(np.arange(3), labels)\n",
    "cbar2 = fig2.colorbar(imi, ax=axes.ravel().tolist())\n",
    "cbar2.set_label('Jensen-Shannon divergence');"
   ]
  },
  {
   "cell_type": "markdown",
   "metadata": {},
   "source": [
    "As can be seen, reducing the number of clusters in the K-means method emphasises that DCD2 is more similar to the NAMD trajectory than DCD. Meanwhile, increasing `eps` in DBSCAN clearly lowered the density required to form a cluster so much that every trajectory is in the same cluster, and therefore they have identical probability distributions."
   ]
  },
  {
   "cell_type": "code",
   "execution_count": 18,
   "metadata": {
    "execution": {
     "iopub.execute_input": "2021-05-19T05:59:36.296767Z",
     "iopub.status.busy": "2021-05-19T05:59:36.295874Z",
     "iopub.status.idle": "2021-05-19T05:59:36.299257Z",
     "shell.execute_reply": "2021-05-19T05:59:36.299843Z"
    }
   },
   "outputs": [
    {
     "name": "stdout",
     "output_type": "stream",
     "text": [
      "Number of clusters in DBSCAN eps=1: 1\n"
     ]
    }
   ],
   "source": [
    "n_db = len(details2['clustering'][-1])\n",
    "\n",
    "print('Number of clusters in DBSCAN eps=1: {}'.format(n_db))"
   ]
  },
  {
   "cell_type": "markdown",
   "metadata": {},
   "source": [
    "## Estimating the error in a clustering ensemble similarity analysis"
   ]
  },
  {
   "cell_type": "markdown",
   "metadata": {},
   "source": [
    "`encore.ces` also allows for error estimation using a bootstrapping method. This returns the average Jensen-Shannon divergence, and standard deviation over the samples. "
   ]
  },
  {
   "cell_type": "code",
   "execution_count": 19,
   "metadata": {
    "execution": {
     "iopub.execute_input": "2021-05-19T05:59:36.305891Z",
     "iopub.status.busy": "2021-05-19T05:59:36.304998Z",
     "iopub.status.idle": "2021-05-19T05:59:53.573227Z",
     "shell.execute_reply": "2021-05-19T05:59:53.573615Z"
    }
   },
   "outputs": [],
   "source": [
    "avgs, stds = encore.ces([u1, u2, u3],\n",
    "                         select='name CA',\n",
    "                         clustering_method=clustering_method,\n",
    "                         estimate_error=True,\n",
    "                         ncores=4)"
   ]
  },
  {
   "cell_type": "code",
   "execution_count": 20,
   "metadata": {
    "execution": {
     "iopub.execute_input": "2021-05-19T05:59:53.578610Z",
     "iopub.status.busy": "2021-05-19T05:59:53.577979Z",
     "iopub.status.idle": "2021-05-19T05:59:53.580320Z",
     "shell.execute_reply": "2021-05-19T05:59:53.580683Z"
    },
    "tags": [
     "nbval-ignore-output"
    ]
   },
   "outputs": [
    {
     "data": {
      "text/plain": [
       "array([[0.        , 0.68682809, 0.69314718],\n",
       "       [0.68682809, 0.        , 0.69314718],\n",
       "       [0.69314718, 0.69314718, 0.        ]])"
      ]
     },
     "execution_count": 20,
     "metadata": {},
     "output_type": "execute_result"
    }
   ],
   "source": [
    "avgs"
   ]
  },
  {
   "cell_type": "code",
   "execution_count": 21,
   "metadata": {
    "execution": {
     "iopub.execute_input": "2021-05-19T05:59:53.584635Z",
     "iopub.status.busy": "2021-05-19T05:59:53.583983Z",
     "iopub.status.idle": "2021-05-19T05:59:53.586188Z",
     "shell.execute_reply": "2021-05-19T05:59:53.586538Z"
    },
    "tags": [
     "nbval-ignore-output"
    ]
   },
   "outputs": [
    {
     "data": {
      "text/plain": [
       "array([[0.00000000e+00, 5.26432545e-03, 7.02166694e-17],\n",
       "       [5.26432545e-03, 0.00000000e+00, 8.59975057e-17],\n",
       "       [7.02166694e-17, 8.59975057e-17, 0.00000000e+00]])"
      ]
     },
     "execution_count": 21,
     "metadata": {},
     "output_type": "execute_result"
    }
   ],
   "source": [
    "stds"
   ]
  },
  {
   "cell_type": "markdown",
   "metadata": {},
   "source": [
    "## References\n",
    "\n",
    "[1] Oliver Beckstein, Elizabeth&nbsp;J. Denning, Juan&nbsp;R. Perilla, and Thomas&nbsp;B. Woolf.\n",
    "Zipping and <span class=\"bibtex-protected\">Unzipping</span> of <span class=\"bibtex-protected\">Adenylate</span> <span class=\"bibtex-protected\">Kinase</span>: <span class=\"bibtex-protected\">Atomistic</span> <span class=\"bibtex-protected\">Insights</span> into the <span class=\"bibtex-protected\">Ensemble</span> of <span class=\"bibtex-protected\">Open</span>↔<span class=\"bibtex-protected\">Closed</span> <span class=\"bibtex-protected\">Transitions</span>.\n",
    "<em>Journal of Molecular Biology</em>, 394(1):160–176, November 2009.\n",
    "00107.\n",
    "URL: <a href=\"https://linkinghub.elsevier.com/retrieve/pii/S0022283609011164\">https://linkinghub.elsevier.com/retrieve/pii/S0022283609011164</a>, <a href=\"https://doi.org/10.1016/j.jmb.2009.09.009\">doi:10.1016/j.jmb.2009.09.009</a>.\n",
    "\n",
    "[2] Richard&nbsp;J. Gowers, Max Linke, Jonathan Barnoud, Tyler J.&nbsp;E. Reddy, Manuel&nbsp;N. Melo, Sean&nbsp;L. Seyler, Jan Domański, David&nbsp;L. Dotson, Sébastien Buchoux, Ian&nbsp;M. Kenney, and Oliver Beckstein.\n",
    "<span class=\"bibtex-protected\">MDAnalysis</span>: <span class=\"bibtex-protected\">A</span> <span class=\"bibtex-protected\">Python</span> <span class=\"bibtex-protected\">Package</span> for the <span class=\"bibtex-protected\">Rapid</span> <span class=\"bibtex-protected\">Analysis</span> of <span class=\"bibtex-protected\">Molecular</span> <span class=\"bibtex-protected\">Dynamics</span> <span class=\"bibtex-protected\">Simulations</span>.\n",
    "<em>Proceedings of the 15th Python in Science Conference</em>, pages 98–105, 2016.\n",
    "00152.\n",
    "URL: <a href=\"https://conference.scipy.org/proceedings/scipy2016/oliver_beckstein.html\">https://conference.scipy.org/proceedings/scipy2016/oliver_beckstein.html</a>, <a href=\"https://doi.org/10.25080/Majora-629e541a-00e\">doi:10.25080/Majora-629e541a-00e</a>.\n",
    "\n",
    "[3] Naveen Michaud-Agrawal, Elizabeth&nbsp;J. Denning, Thomas&nbsp;B. Woolf, and Oliver Beckstein.\n",
    "<span class=\"bibtex-protected\">MDAnalysis</span>: <span class=\"bibtex-protected\">A</span> toolkit for the analysis of molecular dynamics simulations.\n",
    "<em>Journal of Computational Chemistry</em>, 32(10):2319–2327, July 2011.\n",
    "00778.\n",
    "URL: <a href=\"http://doi.wiley.com/10.1002/jcc.21787\">http://doi.wiley.com/10.1002/jcc.21787</a>, <a href=\"https://doi.org/10.1002/jcc.21787\">doi:10.1002/jcc.21787</a>.\n",
    "\n",
    "[4] Matteo Tiberti, Elena Papaleo, Tone Bengtsen, Wouter Boomsma, and Kresten Lindorff-Larsen.\n",
    "<span class=\"bibtex-protected\">ENCORE</span>: <span class=\"bibtex-protected\">Software</span> for <span class=\"bibtex-protected\">Quantitative</span> <span class=\"bibtex-protected\">Ensemble</span> <span class=\"bibtex-protected\">Comparison</span>.\n",
    "<em>PLOS Computational Biology</em>, 11(10):e1004415, October 2015.\n",
    "00031.\n",
    "URL: <a href=\"https://journals.plos.org/ploscompbiol/article?id=10.1371/journal.pcbi.1004415\">https://journals.plos.org/ploscompbiol/article?id=10.1371/journal.pcbi.1004415</a>, <a href=\"https://doi.org/10.1371/journal.pcbi.1004415\">doi:10.1371/journal.pcbi.1004415</a>."
   ]
  }
 ],
 "metadata": {
  "kernelspec": {
   "display_name": "Python 3.9.15 ('mda-user-guide')",
   "language": "python",
   "name": "python3"
  },
  "language_info": {
   "codemirror_mode": {
    "name": "ipython",
    "version": 3
   },
   "file_extension": ".py",
   "mimetype": "text/x-python",
   "name": "python",
   "nbconvert_exporter": "python",
   "pygments_lexer": "ipython3",
   "version": "3.9.15"
  },
  "toc": {
   "base_numbering": 1,
   "nav_menu": {},
   "number_sections": false,
   "sideBar": true,
   "skip_h1_title": false,
   "title_cell": "Table of Contents",
   "title_sidebar": "Contents",
   "toc_cell": false,
   "toc_position": {},
   "toc_section_display": true,
   "toc_window_display": false
  },
  "vscode": {
   "interpreter": {
    "hash": "7b52aa17ef4e9358c0e91ff3f0bf50d10667bb8b55636d4b9fb967a2ff94bd8c"
   }
  }
 },
 "nbformat": 4,
 "nbformat_minor": 2
}
