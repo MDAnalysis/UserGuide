{
 "cells": [
  {
   "cell_type": "markdown",
   "metadata": {},
   "source": [
    "# Calculating hydrogen bond lifetimes\n",
    "\n",
    "We will calculate the lifetime of intramolecular hydrogen bonds in a protein.\n",
    "\n",
    "**Last updated:** June 23, 2021 with MDAnalysis 2.0.0-dev\n",
    "\n",
    "**Minimum version of MDAnalysis:** 2.0.0-dev0\n",
    "\n",
    "**Packages required:**\n",
    "    \n",
    "* MDAnalysis (<a data-cite=\"michaud-agrawal_mdanalysis_2011\" href=\"https://doi.org/10.1002/jcc.21787\">Michaud-Agrawal *et al.*, 2011</a>, <a data-cite=\"gowers_mdanalysis_2016\" href=\"https://doi.org/10.25080/Majora-629e541a-00e\">Gowers *et al.*, 2016</a>)\n",
    "* MDAnalysisTests\n",
    "* [numpy](https://numpy.org)\n",
    "* [matplotlib](https://matplotlib.org)\n",
    "\n",
    "**See also**\n",
    "\n",
    "* [Calculating hydrogen bonds: the basics](hbonds.ipynb)\n",
    "* [Calculating hydrogen bonds: advanced selections](hbonds-selections.ipynb)\n",
    "\n",
    "<div class=\"alert alert-info\">\n",
    " \n",
    "**Note**\n",
    "\n",
    "Please cite [Smith et al. (2018)](http://dx.doi.org/10.1039/C9CP01532A) when using HydrogenBondAnaysis in published work.\n",
    "\n",
    "</div>"
   ]
  },
  {
   "cell_type": "code",
   "execution_count": 1,
   "metadata": {},
   "outputs": [],
   "source": [
    "from tqdm.auto import tqdm\n",
    "import numpy as np\n",
    "import matplotlib.pyplot as plt\n",
    "\n",
    "import MDAnalysis as mda\n",
    "from MDAnalysis.tests.datafiles import PSF, DCD\n",
    "from MDAnalysis.analysis.hydrogenbonds import HydrogenBondAnalysis\n"
   ]
  },
  {
   "cell_type": "markdown",
   "metadata": {},
   "source": [
    "## Loading files"
   ]
  },
  {
   "cell_type": "code",
   "execution_count": 2,
   "metadata": {},
   "outputs": [],
   "source": [
    "u = mda.Universe(PSF, DCD)"
   ]
  },
  {
   "cell_type": "markdown",
   "metadata": {},
   "source": [
    "The test files we will be working with here feature adenylate kinase (AdK), a phosophotransferase enzyme. (<a data-cite=\"beckstein_zipping_2009\" href=\"https://doi.org/10.1016/j.jmb.2009.09.009\">Beckstein *et al.*, 2009</a>)"
   ]
  },
  {
   "cell_type": "markdown",
   "metadata": {},
   "source": [
    "## Find all hydrogen bonds\n",
    "First, find the hydrogen bonds.\n"
   ]
  },
  {
   "cell_type": "code",
   "execution_count": 3,
   "metadata": {},
   "outputs": [],
   "source": [
    "hbonds = HydrogenBondAnalysis(universe=u)"
   ]
  },
  {
   "cell_type": "code",
   "execution_count": 4,
   "metadata": {},
   "outputs": [
    {
     "data": {
      "application/vnd.jupyter.widget-view+json": {
       "model_id": "4f1c80f3c4e648cc85947ba076286828",
       "version_major": 2,
       "version_minor": 0
      },
      "text/plain": [
       "  0%|          | 0/98 [00:00<?, ?it/s]"
      ]
     },
     "metadata": {},
     "output_type": "display_data"
    }
   ],
   "source": [
    "hbonds.run(verbose=True)"
   ]
  },
  {
   "cell_type": "markdown",
   "metadata": {},
   "source": [
    "## Calculate hydrogen bond lifetimes\n",
    "\n",
    "The hydrogen bond lifetime is calculated via the time autocorrelation function of the presence of a hydrogen bond:\n",
    "<center>\n",
    "$$\n",
    "C(\\tau) = \\bigg\\langle \\frac{h_{ij}(t_0) h_{ij}(t_0 + \\tau)}{h_{ij}(t_0)^2} \\bigg\\rangle\n",
    "$$\n",
    "</center>\n",
    "\n",
    "where $h_{ij}$ indicates the presence of a hydrogen bond between atoms $i$ and $j$:\n",
    "\n",
    "* $h_{ij}=1$ if there is a hydrogen bond\n",
    "* $h_{ij}=0$ if there is no hydrogen bond\n",
    "\n",
    "$h_{ij}(t_0)=1$ indicates there is a hydrogen bond between atoms $i$ and $j$ at a time origin $t_0$, and $h_{ij}(t_0+\\tau)=1$ indicates these atoms remain hydrogen bonded throughout the period $t_0$ to $t_0+\\tau$. To improve statistics, multiple time origins, $t_0$, are used in the calculation and the average is taken over all time origins. \n",
    "\n",
    "See [Gowers and Carbonne (2015)](https://doi.org/10.1063/1.4922445) for further discussion on hydrogen bonds lifetimes.\n"
   ]
  },
  {
   "cell_type": "markdown",
   "metadata": {},
   "source": [
    "<div class=\"alert alert-info\">\n",
    "    \n",
    "**Note**\n",
    "    \n",
    "The period between time origins, $t_0$, should be chosen such that consecutive $t_0$ are uncorrelated.\n",
    "    \n",
    "</div>"
   ]
  },
  {
   "cell_type": "markdown",
   "metadata": {},
   "source": [
    "The `hbonds.lifetime` method calculates the above time autocorrelation function. The period between time origins is set using `window_step`, and the maximum value of $\\tau$ (in frames) is set using `tau_max`. "
   ]
  },
  {
   "cell_type": "code",
   "execution_count": 5,
   "metadata": {},
   "outputs": [],
   "source": [
    "tau_max = 25\n",
    "window_step = 1"
   ]
  },
  {
   "cell_type": "code",
   "execution_count": 6,
   "metadata": {},
   "outputs": [],
   "source": [
    "tau_frames, hbond_lifetime = hbonds.lifetime(\n",
    "    tau_max=tau_max,\n",
    "    window_step=window_step\n",
    ")\n"
   ]
  },
  {
   "cell_type": "code",
   "execution_count": 7,
   "metadata": {},
   "outputs": [
    {
     "data": {
      "image/png": "[encoded data removed]",
      "text/plain": [
       "<Figure size 432x288 with 1 Axes>"
      ]
     },
     "metadata": {
      "needs_background": "light"
     },
     "output_type": "display_data"
    }
   ],
   "source": [
    "tau_times = tau_frames * u.trajectory.dt\n",
    "plt.plot(tau_times, hbond_lifetime, lw=2)\n",
    "\n",
    "plt.title(r\"Hydrogen bond lifetime\", weight=\"bold\")\n",
    "plt.xlabel(r\"$\\tau\\ \\rm (ps)$\")\n",
    "plt.ylabel(r\"$C(\\tau)$\")\n",
    "\n",
    "plt.show()\n"
   ]
  },
  {
   "cell_type": "markdown",
   "metadata": {},
   "source": [
    "## Calculating the time constant\n",
    "\n",
    "To obtain the hydrogen bond lifetime, you can fit a biexponential to the time autocorrelation curve. We will fit the following biexponential:\n",
    "\n",
    "<center>\n",
    "$$\n",
    "A\\exp(-t / \\tau_1) + B\\exp(-t / \\tau_2)\n",
    "$$\n",
    "</center>\n",
    "\n",
    "where $\\tau_1$ and $\\tau_2$ represent two time constants - one corresponding to a short-timescale process and the other to a longer timescale process. $A$ and $B$ will sum to $1$, and they represent the relative importance of the short- and longer-timescale processes in the overall autocorrelation curve.\n"
   ]
  },
  {
   "cell_type": "code",
   "execution_count": 8,
   "metadata": {},
   "outputs": [],
   "source": [
    "def fit_biexponential(tau_timeseries, ac_timeseries):\n",
    "    \"\"\"Fit a biexponential function to a hydrogen bond time autocorrelation function\n",
    "    \n",
    "    Return the two time constants\n",
    "    \"\"\"\n",
    "    from scipy.optimize import curve_fit\n",
    "    \n",
    "    def model(t, A, tau1, B, tau2):\n",
    "        \"\"\"Fit data to a biexponential function.\n",
    "        \"\"\"\n",
    "        return A * np.exp(-t / tau1) + B * np.exp(-t / tau2)\n",
    "\n",
    "    params, params_covariance = curve_fit(model, tau_timeseries, ac_timeseries, [1, 0.5, 1, 2])\n",
    "    \n",
    "    fit_t = np.linspace(tau_timeseries[0], tau_timeseries[-1], 1000)\n",
    "    fit_ac = model(fit_t, *params)\n",
    "\n",
    "    return params, fit_t, fit_ac\n"
   ]
  },
  {
   "cell_type": "code",
   "execution_count": 9,
   "metadata": {},
   "outputs": [],
   "source": [
    "params, fit_t, fit_ac = fit_biexponential(tau_frames, hbond_lifetime)"
   ]
  },
  {
   "cell_type": "code",
   "execution_count": 10,
   "metadata": {},
   "outputs": [
    {
     "data": {
      "image/png": "[encoded data removed]",
      "text/plain": [
       "<Figure size 432x288 with 1 Axes>"
      ]
     },
     "metadata": {
      "needs_background": "light"
     },
     "output_type": "display_data"
    }
   ],
   "source": [
    "# Plot the fit\n",
    "plt.plot(tau_times, hbond_lifetime, label=\"data\")\n",
    "plt.plot(fit_t, fit_ac, label=\"fit\")\n",
    "\n",
    "plt.title(r\"Hydrogen bond lifetime\", weight=\"bold\")\n",
    "plt.xlabel(r\"$\\tau\\ \\rm (ps)$\")\n",
    "plt.ylabel(r\"$C(\\tau)$\")\n",
    "\n",
    "plt.legend()\n",
    "plt.show()\n"
   ]
  },
  {
   "cell_type": "code",
   "execution_count": 11,
   "metadata": {},
   "outputs": [
    {
     "name": "stdout",
     "output_type": "stream",
     "text": [
      "time_constant = 6.14 ps\n"
     ]
    }
   ],
   "source": [
    "# Check the decay time constant\n",
    "A, tau1, B, tau2 = params\n",
    "time_constant = A * tau1 + B * tau2\n",
    "print(f\"time_constant = {time_constant:.2f} ps\")\n"
   ]
  },
  {
   "cell_type": "markdown",
   "metadata": {},
   "source": [
    "## Intermittent lifetime\n",
    "\n",
    "The above example shows you how to calculate the continuous hydrogen bond lifetime. This means that the hydrogen bond must be present at every frame from $t_0$ to $t_0 + \\tau$. To allow for small fluctuations in the DA distance or DHA angle, the intermittent hydrogen bond lifetime may be calculated. This allows a hydrogen bond to break for up to a specified number of frames and still be considered present.\n",
    "\n",
    "In the `lifetime` method, the `intermittency` argument is used to set the maxium number of frames for which a hydrogen bond is allowed to break. The default is `intermittency=0`, which means that if a hydrogen bond is missing at any frame between $t_0$ and $t_0 + \\tau$, it will not be considered present at $t_0+\\tau$. This is equivalent to the continuous lifetime. However, with a value of `intermittency=2`, all hydrogen bonds are allowed to break for up to a maximum of consecutive two frames.\n",
    "\n",
    "Below we see how changing the intermittency affects the hydrogen bond lifetime.\n"
   ]
  },
  {
   "cell_type": "code",
   "execution_count": 12,
   "metadata": {},
   "outputs": [],
   "source": [
    "tau_max = 25\n",
    "window_step = 1\n",
    "intermittencies = [0, 1, 10, 100]\n"
   ]
  },
  {
   "cell_type": "code",
   "execution_count": 13,
   "metadata": {},
   "outputs": [
    {
     "data": {
      "image/png": "[encoded data removed]",
      "text/plain": [
       "<Figure size 432x288 with 1 Axes>"
      ]
     },
     "metadata": {
      "needs_background": "light"
     },
     "output_type": "display_data"
    }
   ],
   "source": [
    "for intermittency in intermittencies:\n",
    "    \n",
    "    tau_frames, hbond_lifetime = hbonds.lifetime(\n",
    "        tau_max=tau_max,\n",
    "        window_step=window_step,\n",
    "        intermittency=intermittency\n",
    "    )\n",
    "    \n",
    "    times_times = tau_frames * u.trajectory.dt\n",
    "    plt.plot(times_times, hbond_lifetime, lw=2, label=intermittency)\n",
    "    \n",
    "plt.title(r\"Hydrogen bond lifetime\", weight=\"bold\")\n",
    "plt.xlabel(r\"$\\tau\\ \\rm (ps)$\")\n",
    "plt.ylabel(r\"$C(\\tau)$\")\n",
    "    \n",
    "plt.legend(title=\"Intermittency=\", loc=(1.02, 0.0))\n",
    "plt.show()\n"
   ]
  },
  {
   "cell_type": "markdown",
   "metadata": {},
   "source": [
    "## Hydrogen bond lifetime of individual hydrogen bonds"
   ]
  },
  {
   "cell_type": "markdown",
   "metadata": {},
   "source": [
    "Let's first find the 10 most prevalent hydrogen bonds."
   ]
  },
  {
   "cell_type": "code",
   "execution_count": 14,
   "metadata": {},
   "outputs": [],
   "source": [
    "hbonds = HydrogenBondAnalysis(universe=u)"
   ]
  },
  {
   "cell_type": "code",
   "execution_count": 15,
   "metadata": {},
   "outputs": [
    {
     "data": {
      "application/vnd.jupyter.widget-view+json": {
       "model_id": "de30837230194797baead4244790a675",
       "version_major": 2,
       "version_minor": 0
      },
      "text/plain": [
       "  0%|          | 0/98 [00:00<?, ?it/s]"
      ]
     },
     "metadata": {},
     "output_type": "display_data"
    }
   ],
   "source": [
    "hbonds.run(verbose=True)"
   ]
  },
  {
   "cell_type": "code",
   "execution_count": 16,
   "metadata": {},
   "outputs": [
    {
     "name": "stdout",
     "output_type": "stream",
     "text": [
      "ARG-71-NH2\tHH22\tASP-76-OD1\tcount=98\n",
      "TYR-193-OH\tHH\tGLU-108-OE1\tcount=97\n",
      "ARG-2-NH1\tHH11\tASP-104-OD1\tcount=96\n",
      "THR-199-OG1\tHG1\tASP-197-OD1\tcount=95\n",
      "TYR-24-OH\tHH\tGLY-214-OT2\tcount=95\n",
      "TYR-133-OH\tHH\tASP-146-OD1\tcount=95\n",
      "ARG-206-NE\tHE\tGLU-210-OE1\tcount=93\n",
      "ARG-124-NH2\tHH22\tGLU-143-OE1\tcount=93\n",
      "LYS-200-NZ\tHZ2\tASP-208-OD2\tcount=93\n",
      "LYS-211-NZ\tHZ3\tGLU-204-OE1\tcount=92\n"
     ]
    }
   ],
   "source": [
    "# Print donor, hydrogen, acceptor and count info for these hbonds\n",
    "counts = hbonds.count_by_ids()\n",
    "for donor, hydrogen, acceptor, count in counts[:10]:\n",
    "    d, h, a = u.atoms[donor], u.atoms[hydrogen], u.atoms[acceptor]\n",
    "    print(f\"{d.resname}-{d.resid}-{d.name}\\t{h.name}\\t{a.resname}-{a.resid}-{a.name}\\tcount={count}\")\n"
   ]
  },
  {
   "cell_type": "markdown",
   "metadata": {},
   "source": [
    "Now we'll calculate the lifetime of these hydrogen bonds. To do this, the simplest way is to run `HydrogenBondAnalysis` for each hydrogen bond then use the `lifetime` method. It is very efficient to find hydrogen bonds between two specific atoms, especially with `update_selections=False`."
   ]
  },
  {
   "cell_type": "code",
   "execution_count": 17,
   "metadata": {},
   "outputs": [],
   "source": [
    "tau_max = 25\n",
    "window_step = 1\n",
    "intermittency = 0\n"
   ]
  },
  {
   "cell_type": "code",
   "execution_count": 18,
   "metadata": {},
   "outputs": [],
   "source": [
    "hbond_lifetimes = []\n",
    "labels = [] # for plotting\n",
    "\n",
    "for hbond in counts[:10]:\n",
    "        \n",
    "        # find hbonds between specific atoms\n",
    "        d_ix, h_ix, a_ix = hbond[:3]\n",
    "        tmp_hbonds = HydrogenBondAnalysis(\n",
    "            universe=u,\n",
    "            hydrogens_sel=f\"index {h_ix}\",\n",
    "            acceptors_sel=f\"index {a_ix}\",\n",
    "            update_selections=False\n",
    "        )\n",
    "        tmp_hbonds.run()\n",
    "        \n",
    "        # calculate lifetime\n",
    "        taus, hbl, = tmp_hbonds.lifetime(\n",
    "            tau_max=tau_max,\n",
    "            intermittency=intermittency\n",
    "        )\n",
    "        hbond_lifetimes.append(hbl)\n",
    "        \n",
    "        # label for plotting\n",
    "        donor, acceptor = u.atoms[d_ix], u.atoms[a_ix]\n",
    "        label = f\"{donor.resname}:{donor.resid} to {acceptor.resname}:{acceptor.resid}\"\n",
    "        labels.append(label)\n",
    "\n",
    "hbond_lifetimes = np.array(hbond_lifetimes)\n",
    "labels = np.array(labels)\n"
   ]
  },
  {
   "cell_type": "code",
   "execution_count": 19,
   "metadata": {},
   "outputs": [
    {
     "data": {
      "image/png": "[encoded data removed]",
      "text/plain": [
       "<Figure size 432x288 with 1 Axes>"
      ]
     },
     "metadata": {
      "needs_background": "light"
     },
     "output_type": "display_data"
    }
   ],
   "source": [
    "# Plot the lifetimes\n",
    "times = taus * u.trajectory.dt\n",
    "for hbl, label in zip(hbond_lifetimes, labels):\n",
    "    plt.plot(times, hbl, label=label, lw=2)\n",
    "\n",
    "plt.title(r\"Hydrogen bond lifetime of specific hbonds\", weight=\"bold\")\n",
    "plt.xlabel(r\"$\\tau\\ \\rm (ps)$\")\n",
    "plt.ylabel(r\"$C(\\tau)$\")\n",
    "\n",
    "plt.legend(ncol=1, loc=(1.02, 0))\n",
    "plt.show()\n"
   ]
  },
  {
   "cell_type": "markdown",
   "metadata": {},
   "source": [
    "<div class=\"alert alert-info\">\n",
    "    \n",
    "**Note**\n",
    "    \n",
    "The shape of these curves indicates we have poor statistics in our lifetime calculations - we used only 100 frames and consider a single hydrogen bond.\n",
    "    \n",
    "The curve should decay smoothly toward 0, as seen in the first hydrogen bond lifetime plot we produced in this notebook. If the curve does not decay smoothly, more statistics are required either by increasing the value of `tau_max`, using a greater number of time origins, or increasing the length of your simulation.\n",
    "    \n",
    "See [Gowers and Carbonne (2015)](https://doi.org/10.1063/1.4922445) for further discussion on hydrogen bonds lifetimes.\n",
    "</div>"
   ]
  },
  {
   "cell_type": "markdown",
   "metadata": {},
   "source": [
    "## References\n",
    "\n",
    "[1] Richard&nbsp;J. Gowers, Max Linke, Jonathan Barnoud, Tyler J.&nbsp;E. Reddy, Manuel&nbsp;N. Melo, Sean&nbsp;L. Seyler, Jan Domański, David&nbsp;L. Dotson, Sébastien Buchoux, Ian&nbsp;M. Kenney, and Oliver Beckstein.\n",
    "<span class=\"bibtex-protected\">MDAnalysis</span>: <span class=\"bibtex-protected\">A</span> <span class=\"bibtex-protected\">Python</span> <span class=\"bibtex-protected\">Package</span> for the <span class=\"bibtex-protected\">Rapid</span> <span class=\"bibtex-protected\">Analysis</span> of <span class=\"bibtex-protected\">Molecular</span> <span class=\"bibtex-protected\">Dynamics</span> <span class=\"bibtex-protected\">Simulations</span>.\n",
    "<em>Proceedings of the 15th Python in Science Conference</em>, pages 98–105, 2016.\n",
    "00152.\n",
    "URL: <a href=\"https://conference.scipy.org/proceedings/scipy2016/oliver_beckstein.html\">https://conference.scipy.org/proceedings/scipy2016/oliver_beckstein.html</a>, <a href=\"https://doi.org/10.25080/Majora-629e541a-00e\">doi:10.25080/Majora-629e541a-00e</a>.\n",
    "\n",
    "[2] Naveen Michaud-Agrawal, Elizabeth&nbsp;J. Denning, Thomas&nbsp;B. Woolf, and Oliver Beckstein.\n",
    "<span class=\"bibtex-protected\">MDAnalysis</span>: <span class=\"bibtex-protected\">A</span> toolkit for the analysis of molecular dynamics simulations.\n",
    "<em>Journal of Computational Chemistry</em>, 32(10):2319–2327, July 2011.\n",
    "00778.\n",
    "URL: <a href=\"http://doi.wiley.com/10.1002/jcc.21787\">http://doi.wiley.com/10.1002/jcc.21787</a>, <a href=\"https://doi.org/10.1002/jcc.21787\">doi:10.1002/jcc.21787</a>.\n",
    "\n",
    "[3] Paul Smith, Robert&nbsp;M. Ziolek, Elena Gazzarrini, Dylan&nbsp;M. Owen, and Christian&nbsp;D. Lorenz.\n",
    "On the interaction of hyaluronic acid with synovial fluid lipid membranes.\n",
    "<em>Phys. Chem. Chem. Phys.</em>, 21(19):9845-9857, 2018.\n",
    "URL: <a href=\"http://dx.doi.org/10.1039/C9CP01532A\">http://dx.doi.org/10.1039/C9CP01532A\n",
    "\n",
    "[4] Oliver Beckstein, Elizabeth&nbsp;J. Denning, Juan&nbsp;R. Perilla, and Thomas&nbsp;B. Woolf.\n",
    "Zipping and <span class=\"bibtex-protected\">Unzipping</span> of <span class=\"bibtex-protected\">Adenylate</span> <span class=\"bibtex-protected\">Kinase</span>: <span class=\"bibtex-protected\">Atomistic</span> <span class=\"bibtex-protected\">Insights</span> into the <span class=\"bibtex-protected\">Ensemble</span> of <span class=\"bibtex-protected\">Open</span>↔<span class=\"bibtex-protected\">Closed</span> <span class=\"bibtex-protected\">Transitions</span>.\n",
    "<em>Journal of Molecular Biology</em>, 394(1):160–176, November 2009.\n",
    "00107.\n",
    "URL: <a href=\"https://linkinghub.elsevier.com/retrieve/pii/S0022283609011164\">https://linkinghub.elsevier.com/retrieve/pii/S0022283609011164</a>, <a href=\"https://doi.org/10.1016/j.jmb.2009.09.009\">doi:10.1016/j.jmb.2009.09.009</a>.\n",
    "\n",
    "[5] Richard&nbsp;J. Gowers and Paola Carbonne.\n",
    "A multiscale approach to model hydrogen bonding: The case of polyamide.\n",
    "<em>J. Chem. Phys.</em>, 142:224907, June 2015.\n",
    "URL: <a href=\"https://doi.org/10.1063/1.4922445\">https://doi.org/10.1063/1.4922445"
   ]
  }
 ],
 "metadata": {
  "celltoolbar": "Raw Cell Format",
  "kernelspec": {
   "display_name": "Python [conda env:mda-user-guide]",
   "language": "python",
   "name": "conda-env-mda-user-guide-py"
  },
  "language_info": {
   "codemirror_mode": {
    "name": "ipython",
    "version": 3
   },
   "file_extension": ".py",
   "mimetype": "text/x-python",
   "name": "python",
   "nbconvert_exporter": "python",
   "pygments_lexer": "ipython3",
   "version": "3.8.5"
  },
  "toc": {
   "base_numbering": 1,
   "nav_menu": {},
   "number_sections": false,
   "sideBar": true,
   "skip_h1_title": false,
   "title_cell": "Table of Contents",
   "title_sidebar": "Contents",
   "toc_cell": false,
   "toc_position": {},
   "toc_section_display": true,
   "toc_window_display": true
  },
  "widgets": {
   "application/vnd.jupyter.widget-state+json": {
    "state": {
     "046bce8d09354bdf9628178fb9adefbe": {
      "model_module": "@jupyter-widgets/controls",
      "model_module_version": "1.5.0",
      "model_name": "FloatProgressModel",
      "state": {
       "bar_style": "success",
       "layout": "IPY_MODEL_858634797dcb4855b1bd0bfde2d1d0a0",
       "max": 98,
       "style": "IPY_MODEL_61f64941ac1a481e91e2f04ce6f9e4f0",
       "value": 98
      }
     },
     "066aed08b43549b4bd5d50959ed23dbd": {
      "model_module": "@jupyter-widgets/controls",
      "model_module_version": "1.5.0",
      "model_name": "DescriptionStyleModel",
      "state": {
       "description_width": ""
      }
     },
     "105de2bdac074bffaa10c6c0e4140759": {
      "model_module": "@jupyter-widgets/base",
      "model_module_version": "1.2.0",
      "model_name": "LayoutModel",
      "state": {}
     },
     "1773a876dcce4f10aac477df9ad0a3cf": {
      "model_module": "@jupyter-widgets/base",
      "model_module_version": "1.2.0",
      "model_name": "LayoutModel",
      "state": {}
     },
     "25f481488e4943d2803c60ccf127b9e2": {
      "model_module": "@jupyter-widgets/base",
      "model_module_version": "1.2.0",
      "model_name": "LayoutModel",
      "state": {}
     },
     "4f1c80f3c4e648cc85947ba076286828": {
      "model_module": "@jupyter-widgets/controls",
      "model_module_version": "1.5.0",
      "model_name": "HBoxModel",
      "state": {
       "children": [
        "IPY_MODEL_70964d54958f4477921081b823f4a9ab",
        "IPY_MODEL_046bce8d09354bdf9628178fb9adefbe",
        "IPY_MODEL_5fcaace7b1be400e8b68164b10f23394"
       ],
       "layout": "IPY_MODEL_25f481488e4943d2803c60ccf127b9e2"
      }
     },
     "5344b853dc904b549861f616cd3dcee7": {
      "model_module": "@jupyter-widgets/controls",
      "model_module_version": "1.5.0",
      "model_name": "DescriptionStyleModel",
      "state": {
       "description_width": ""
      }
     },
     "5fcaace7b1be400e8b68164b10f23394": {
      "model_module": "@jupyter-widgets/controls",
      "model_module_version": "1.5.0",
      "model_name": "HTMLModel",
      "state": {
       "layout": "IPY_MODEL_1773a876dcce4f10aac477df9ad0a3cf",
       "style": "IPY_MODEL_066aed08b43549b4bd5d50959ed23dbd",
       "value": " 98/98 [00:09&lt;00:00, 10.64it/s]"
      }
     },
     "61f64941ac1a481e91e2f04ce6f9e4f0": {
      "model_module": "@jupyter-widgets/controls",
      "model_module_version": "1.5.0",
      "model_name": "ProgressStyleModel",
      "state": {
       "description_width": ""
      }
     },
     "70964d54958f4477921081b823f4a9ab": {
      "model_module": "@jupyter-widgets/controls",
      "model_module_version": "1.5.0",
      "model_name": "HTMLModel",
      "state": {
       "layout": "IPY_MODEL_ae418b4fbf674ef7876e5b61dce33b8d",
       "style": "IPY_MODEL_ed886ef192184d63b0b958cdf0d096ef",
       "value": "100%"
      }
     },
     "858634797dcb4855b1bd0bfde2d1d0a0": {
      "model_module": "@jupyter-widgets/base",
      "model_module_version": "1.2.0",
      "model_name": "LayoutModel",
      "state": {}
     },
     "86962b10ba5043ba8bce06c5ee81a9f8": {
      "model_module": "@jupyter-widgets/controls",
      "model_module_version": "1.5.0",
      "model_name": "HTMLModel",
      "state": {
       "layout": "IPY_MODEL_105de2bdac074bffaa10c6c0e4140759",
       "style": "IPY_MODEL_91a4decfffb94aa8a30c29159935ae4d",
       "value": "100%"
      }
     },
     "8c78ff85e8614acdb5b4ba2fa369a5c3": {
      "model_module": "@jupyter-widgets/controls",
      "model_module_version": "1.5.0",
      "model_name": "FloatProgressModel",
      "state": {
       "bar_style": "success",
       "layout": "IPY_MODEL_c7e3f6f60fa1445f998d5211c6e6a3a2",
       "max": 98,
       "style": "IPY_MODEL_ebfadc6a9bca4c3494c58cf2e9230993",
       "value": 98
      }
     },
     "91a4decfffb94aa8a30c29159935ae4d": {
      "model_module": "@jupyter-widgets/controls",
      "model_module_version": "1.5.0",
      "model_name": "DescriptionStyleModel",
      "state": {
       "description_width": ""
      }
     },
     "ac7cfd7427364f0b95f6106bb94aadef": {
      "model_module": "@jupyter-widgets/base",
      "model_module_version": "1.2.0",
      "model_name": "LayoutModel",
      "state": {}
     },
     "ae05ea7136274d20966331fa9d70950b": {
      "model_module": "@jupyter-widgets/base",
      "model_module_version": "1.2.0",
      "model_name": "LayoutModel",
      "state": {}
     },
     "ae418b4fbf674ef7876e5b61dce33b8d": {
      "model_module": "@jupyter-widgets/base",
      "model_module_version": "1.2.0",
      "model_name": "LayoutModel",
      "state": {}
     },
     "c51cb691e6ee4b26bafe2e5af45f673a": {
      "model_module": "@jupyter-widgets/controls",
      "model_module_version": "1.5.0",
      "model_name": "HTMLModel",
      "state": {
       "layout": "IPY_MODEL_ac7cfd7427364f0b95f6106bb94aadef",
       "style": "IPY_MODEL_5344b853dc904b549861f616cd3dcee7",
       "value": " 98/98 [00:10&lt;00:00,  9.56it/s]"
      }
     },
     "c7e3f6f60fa1445f998d5211c6e6a3a2": {
      "model_module": "@jupyter-widgets/base",
      "model_module_version": "1.2.0",
      "model_name": "LayoutModel",
      "state": {}
     },
     "de30837230194797baead4244790a675": {
      "model_module": "@jupyter-widgets/controls",
      "model_module_version": "1.5.0",
      "model_name": "HBoxModel",
      "state": {
       "children": [
        "IPY_MODEL_86962b10ba5043ba8bce06c5ee81a9f8",
        "IPY_MODEL_8c78ff85e8614acdb5b4ba2fa369a5c3",
        "IPY_MODEL_c51cb691e6ee4b26bafe2e5af45f673a"
       ],
       "layout": "IPY_MODEL_ae05ea7136274d20966331fa9d70950b"
      }
     },
     "ebfadc6a9bca4c3494c58cf2e9230993": {
      "model_module": "@jupyter-widgets/controls",
      "model_module_version": "1.5.0",
      "model_name": "ProgressStyleModel",
      "state": {
       "description_width": ""
      }
     },
     "ed886ef192184d63b0b958cdf0d096ef": {
      "model_module": "@jupyter-widgets/controls",
      "model_module_version": "1.5.0",
      "model_name": "DescriptionStyleModel",
      "state": {
       "description_width": ""
      }
     }
    },
    "version_major": 2,
    "version_minor": 0
   }
  }
 },
 "nbformat": 4,
 "nbformat_minor": 4
}
