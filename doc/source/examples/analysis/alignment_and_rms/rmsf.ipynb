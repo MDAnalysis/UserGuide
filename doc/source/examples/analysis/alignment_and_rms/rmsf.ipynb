{
 "cells": [
  {
   "attachments": {},
   "cell_type": "markdown",
   "metadata": {},
   "source": [
    "# Calculating the root mean square fluctuation over a trajectory\n",
    "\n",
    "We calculate the RMSF of the alpha-carbons in adenylate kinase (AdK) as it transitions from an open to closed structure, with reference to the average conformation of AdK.\n",
    "\n",
    "**Last updated:** December 2022 with MDAnalysis 2.4.0-dev0\n",
    "\n",
    "**Minimum version of MDAnalysis:** 1.0.0\n",
    "\n",
    "**Packages required:**\n",
    "    \n",
    "* MDAnalysis (<a data-cite=\"michaud-agrawal_mdanalysis_2011\" href=\"https://doi.org/10.1002/jcc.21787\">Michaud-Agrawal *et al.*, 2011</a>, <a data-cite=\"gowers_mdanalysis_2016\" href=\"https://doi.org/10.25080/Majora-629e541a-00e\">Gowers *et al.*, 2016</a>)\n",
    "* [MDAnalysisData](https://www.mdanalysis.org/MDAnalysisData/)\n",
    "* [matplotlib](https://matplotlib.org/)\n",
    "\n",
    "**Optional packages for visualisation:**\n",
    "* [nglview](http://nglviewer.org/nglview/latest/)\n",
    "\n",
    "Throughout this tutorial we will include cells for visualising Universes with the [NGLView](http://nglviewer.org/nglview/latest/api.html) library. However, these will be commented out, and we will show the expected images generated instead of the interactive widgets.\n",
    "\n",
    "**See also**\n",
    "\n",
    "* [RMSD](rmsd.ipynb)\n",
    "* [Pairwise (2D) RMSD](pairwise_rmsd.ipynb)\n",
    "\n",
    "<div class=\"alert alert-info\">\n",
    "    \n",
    "**Note**\n",
    "\n",
    "MDAnalysis implements RMSD calculation using the fast QCP algorithm (<a data-cite=\"theobald_rapid_2005\" href=\"https://doi.org/10.1107/S0108767305015266\">Theobald, 2005</a>) and a rotation matrix *R* that minimises the RMSD (<a data-cite=\"liu_fast_2009\" href=\"https://doi.org/10.1002/jcc.21439\">Liu *et al.*, 2009</a>). Please cite (<a data-cite=\"theobald_rapid_2005\" href=\"https://doi.org/10.1107/S0108767305015266\">Theobald, 2005</a>) and (<a data-cite=\"liu_fast_2009\" href=\"https://doi.org/10.1002/jcc.21439\">Liu *et al.*, 2009</a>) when using the ``MDAnalysis.analysis.align`` and ``MDAnalysis.analysis.rms`` modules in published work.\n",
    "\n",
    "</div>"
   ]
  },
  {
   "cell_type": "code",
   "execution_count": 1,
   "metadata": {
    "ExecuteTime": {
     "end_time": "2021-05-19T06:12:10.226826Z",
     "start_time": "2021-05-19T06:12:09.689178Z"
    },
    "execution": {
     "iopub.execute_input": "2021-05-19T05:56:48.163358Z",
     "iopub.status.busy": "2021-05-19T05:56:48.162807Z",
     "iopub.status.idle": "2021-05-19T05:56:48.739465Z",
     "shell.execute_reply": "2021-05-19T05:56:48.739853Z"
    }
   },
   "outputs": [
    {
     "data": {
      "application/vnd.jupyter.widget-view+json": {
       "model_id": "9859aa4d287a433b9bf60bc9d0614419",
       "version_major": 2,
       "version_minor": 0
      },
      "text/plain": []
     },
     "metadata": {},
     "output_type": "display_data"
    }
   ],
   "source": [
    "import MDAnalysis as mda\n",
    "from MDAnalysisData import datasets\n",
    "from MDAnalysis.analysis import rms, align\n",
    "import nglview as nv\n",
    "\n",
    "import warnings\n",
    "# suppress some MDAnalysis warnings about writing PDB files\n",
    "warnings.filterwarnings('ignore')"
   ]
  },
  {
   "cell_type": "markdown",
   "metadata": {},
   "source": [
    "## Loading files\n",
    "\n",
    "The test files we will be working with here are an equilibrium trajectory of adenylate kinase (AdK), a phosophotransferase enzyme. (<a data-cite=\"seyler_molecular_2017\" href=\"https://doi.org/10.6084/m9.figshare.5108170.v1\">Seyler and Beckstein, 2017</a>) AdK has three domains: \n",
    "\n",
    "  * CORE\n",
    "  * LID: an ATP-binding domain\n",
    "  * NMP: an AMP-binding domain\n",
    "  \n",
    "The LID and NMP domains move around the stable CORE as the enzyme transitions between the opened and closed conformations. We therefore might wonder whether the LID and NMP residues are more mobile than the CORE residues. One way to quantify this flexibility is by calculating the root mean square fluctuation (RMSF) of atomic positions.\n",
    "\n",
    "Note: downloading these datasets from MDAnalysisData may take some time."
   ]
  },
  {
   "cell_type": "code",
   "execution_count": 2,
   "metadata": {
    "tags": [
     "nbval-ignore-output"
    ]
   },
   "outputs": [],
   "source": [
    "adk = datasets.fetch_adk_equilibrium()"
   ]
  },
  {
   "cell_type": "code",
   "execution_count": 3,
   "metadata": {
    "ExecuteTime": {
     "end_time": "2021-05-19T06:12:11.117211Z",
     "start_time": "2021-05-19T06:12:10.948583Z"
    },
    "execution": {
     "iopub.execute_input": "2021-05-19T05:56:48.743695Z",
     "iopub.status.busy": "2021-05-19T05:56:48.743128Z",
     "iopub.status.idle": "2021-05-19T05:56:48.937784Z",
     "shell.execute_reply": "2021-05-19T05:56:48.936941Z"
    }
   },
   "outputs": [],
   "source": [
    "u = mda.Universe(adk.topology, adk.trajectory)"
   ]
  },
  {
   "cell_type": "markdown",
   "metadata": {},
   "source": [
    "## Background\n",
    "\n",
    "The root-mean-square-fluctuation (RMSF) of a structure is the time average of the [RMSD](rmsd.ipynb). It is calculated according to the below equation, where $\\mathbf{x}_i$ is the coordinates of particle $i$, and $\\langle\\mathbf{x}_i\\rangle$ is the ensemble average position of $i$.\n",
    "\n",
    "$$\\rho_i = \\sqrt{\\left\\langle (\\mathbf{x}_i - \\langle\\mathbf{x}_i\\rangle)^2 \\right\\rangle}$$\n",
    "\n",
    "Where the RMSD quantifies how much a structure diverges from a reference over time, the RSMF can reveal which areas of the system are the most mobile. While RMSD is frequently calculated to an initial state, the RMSF should be calculated to an average structure of the simulation. An area of the structure with high RMSF values frequently diverges from the average, indicating high mobility. When RMSF analysis is carried out on proteins, it is typically restricted to backbone or alpha-carbon atoms; these are more characteristic of conformational changes than the more flexible side-chains. "
   ]
  },
  {
   "cell_type": "markdown",
   "metadata": {},
   "source": [
    "## Creating an average structure"
   ]
  },
  {
   "cell_type": "markdown",
   "metadata": {},
   "source": [
    "We can generate an average structure to align to with the ``align.AverageStructure`` class. Here we first align to the first frame (`ref_frame=0`), and then average the coordinates."
   ]
  },
  {
   "cell_type": "code",
   "execution_count": 4,
   "metadata": {
    "ExecuteTime": {
     "end_time": "2021-05-19T06:12:15.540693Z",
     "start_time": "2021-05-19T06:12:12.952210Z"
    },
    "execution": {
     "iopub.execute_input": "2021-05-19T05:56:48.944069Z",
     "iopub.status.busy": "2021-05-19T05:56:48.943330Z",
     "iopub.status.idle": "2021-05-19T05:56:52.123021Z",
     "shell.execute_reply": "2021-05-19T05:56:52.123424Z"
    }
   },
   "outputs": [],
   "source": [
    "average = align.AverageStructure(u, u, select='protein and name CA',\n",
    "                                 ref_frame=0).run()\n",
    "ref = average.results.universe"
   ]
  },
  {
   "cell_type": "markdown",
   "metadata": {},
   "source": [
    "## Aligning the trajectory to a reference"
   ]
  },
  {
   "cell_type": "markdown",
   "metadata": {},
   "source": [
    "``rms.RMSF`` does not allow on-the-fly alignment to a reference, and presumes that you have already aligned the trajectory. Therefore we need to first align our trajectory to the average conformation."
   ]
  },
  {
   "cell_type": "code",
   "execution_count": 5,
   "metadata": {
    "ExecuteTime": {
     "end_time": "2021-05-19T06:12:18.227462Z",
     "start_time": "2021-05-19T06:12:15.543304Z"
    },
    "execution": {
     "iopub.execute_input": "2021-05-19T05:56:52.128108Z",
     "iopub.status.busy": "2021-05-19T05:56:52.127348Z",
     "iopub.status.idle": "2021-05-19T05:56:55.198054Z",
     "shell.execute_reply": "2021-05-19T05:56:55.198804Z"
    }
   },
   "outputs": [],
   "source": [
    "aligner = align.AlignTraj(u, ref,\n",
    "                          select='protein and name CA',\n",
    "                          in_memory=True).run()"
   ]
  },
  {
   "cell_type": "markdown",
   "metadata": {},
   "source": [
    "You may not have enough memory to load the trajectory into memory. In that case, save this aligned trajectory to a file and re-load it into MDAnalysis by uncommenting the code below."
   ]
  },
  {
   "cell_type": "code",
   "execution_count": 6,
   "metadata": {
    "ExecuteTime": {
     "end_time": "2021-05-19T06:12:18.846864Z",
     "start_time": "2021-05-19T06:12:18.844793Z"
    },
    "execution": {
     "iopub.execute_input": "2021-05-19T05:56:55.207444Z",
     "iopub.status.busy": "2021-05-19T05:56:55.206250Z",
     "iopub.status.idle": "2021-05-19T05:56:55.209104Z",
     "shell.execute_reply": "2021-05-19T05:56:55.209521Z"
    }
   },
   "outputs": [],
   "source": [
    "# aligner = align.AlignTraj(u, ref,\n",
    "#                           select='protein and name CA',\n",
    "#                           filename='aligned_traj.dcd',\n",
    "#                           in_memory=False).run()\n",
    "# u = mda.Universe(PSF, 'aligned_traj.dcd')"
   ]
  },
  {
   "cell_type": "markdown",
   "metadata": {},
   "source": [
    "## Calculating RMSF"
   ]
  },
  {
   "cell_type": "markdown",
   "metadata": {},
   "source": [
    "The trajectory is now fitted to the reference, and the RMSF ([API docs](https://docs.mdanalysis.org/stable/documentation_pages/analysis/rms.html#MDAnalysis.analysis.rms.RMSF)) can be calculated.\n",
    "\n",
    "<div class=\"alert alert-info\">\n",
    "    \n",
    "**Note**\n",
    "\n",
    "MDAnalysis implements an algorithm that computes sums of squares and avoids underflows or overflows. Please cite (<a data-cite=\"welford_note_1962\" href=\"https://doi.org/10.1080/00401706.1962.10490022\">Welford, 1962</a>) when using the ``MDAnalysis.analysis.rms.RMSF`` class in published work.\n",
    "\n",
    "</div>\n",
    "\n"
   ]
  },
  {
   "cell_type": "code",
   "execution_count": 7,
   "metadata": {
    "ExecuteTime": {
     "end_time": "2021-05-19T06:12:20.784083Z",
     "start_time": "2021-05-19T06:12:20.646692Z"
    },
    "execution": {
     "iopub.execute_input": "2021-05-19T05:56:55.215361Z",
     "iopub.status.busy": "2021-05-19T05:56:55.214140Z",
     "iopub.status.idle": "2021-05-19T05:56:55.395243Z",
     "shell.execute_reply": "2021-05-19T05:56:55.395626Z"
    }
   },
   "outputs": [],
   "source": [
    "c_alphas = u.select_atoms('protein and name CA')\n",
    "R = rms.RMSF(c_alphas).run()"
   ]
  },
  {
   "cell_type": "markdown",
   "metadata": {},
   "source": [
    "## Plotting RMSF"
   ]
  },
  {
   "cell_type": "markdown",
   "metadata": {},
   "source": [
    "We can now plot the RMSF using the common plotting package [matplotlib](https://matplotlib.org/3.1.1/gallery/index.html)."
   ]
  },
  {
   "cell_type": "code",
   "execution_count": 8,
   "metadata": {
    "ExecuteTime": {
     "end_time": "2021-05-19T06:12:22.404839Z",
     "start_time": "2021-05-19T06:12:22.162449Z"
    },
    "execution": {
     "iopub.execute_input": "2021-05-19T05:56:55.400911Z",
     "iopub.status.busy": "2021-05-19T05:56:55.399931Z",
     "iopub.status.idle": "2021-05-19T05:56:55.621049Z",
     "shell.execute_reply": "2021-05-19T05:56:55.621757Z"
    }
   },
   "outputs": [],
   "source": [
    "import matplotlib.pyplot as plt\n",
    "%matplotlib inline"
   ]
  },
  {
   "cell_type": "markdown",
   "metadata": {},
   "source": [
    "As we can see, the LID and NMP residues indeed move much more compared to the rest of the enzyme."
   ]
  },
  {
   "cell_type": "code",
   "execution_count": 9,
   "metadata": {
    "ExecuteTime": {
     "end_time": "2021-05-19T06:12:23.885795Z",
     "start_time": "2021-05-19T06:12:23.482258Z"
    },
    "execution": {
     "iopub.execute_input": "2021-05-19T05:56:55.670632Z",
     "iopub.status.busy": "2021-05-19T05:56:55.667978Z",
     "iopub.status.idle": "2021-05-19T05:56:56.018681Z",
     "shell.execute_reply": "2021-05-19T05:56:56.019069Z"
    },
    "scrolled": false
   },
   "outputs": [
    {
     "data": {
      "text/plain": [
       "<matplotlib.legend.Legend at 0x7fd5c3603af0>"
      ]
     },
     "execution_count": 9,
     "metadata": {},
     "output_type": "execute_result"
    },
    {
     "data": {
      "image/png": "[encoded data removed]",
      "text/plain": [
       "<Figure size 640x480 with 1 Axes>"
      ]
     },
     "metadata": {},
     "output_type": "display_data"
    }
   ],
   "source": [
    "plt.plot(c_alphas.resids, R.results.rmsf)\n",
    "plt.xlabel('Residue number')\n",
    "plt.ylabel('RMSF ($\\AA$)')\n",
    "plt.axvspan(122, 159, zorder=0, alpha=0.2, color='orange', label='LID')\n",
    "plt.axvspan(30, 59, zorder=0, alpha=0.2, color='green', label='NMP')\n",
    "plt.legend()"
   ]
  },
  {
   "cell_type": "markdown",
   "metadata": {},
   "source": [
    "## Visualising RMSF as B-factors\n",
    "\n",
    "Colouring a protein by RMSF allows you to visually identify regions of high fluctuation. This is commonly done by setting temperature factor (also known as b-factor) values, writing out to a format with B-factor specification (e.g. PDB), and visualising the file in a program such as [VMD](https://www.ks.uiuc.edu/Research/vmd/) or nglview.\n",
    "\n",
    "MDAnalysis uses the `tempfactor` topology attribute for this information. Below, we iterate through each residue of the protein and set the `tempfactor` attribute for *every* atom in the residue to the alpha-carbon RMSF value; this is necessary so every atom in the residue is coloured with the alpha-carbon RMSF."
   ]
  },
  {
   "cell_type": "code",
   "execution_count": 10,
   "metadata": {
    "ExecuteTime": {
     "end_time": "2021-05-19T06:12:24.715593Z",
     "start_time": "2021-05-19T06:12:24.704274Z"
    },
    "execution": {
     "iopub.execute_input": "2021-05-19T05:56:56.023420Z",
     "iopub.status.busy": "2021-05-19T05:56:56.022690Z",
     "iopub.status.idle": "2021-05-19T05:56:56.029481Z",
     "shell.execute_reply": "2021-05-19T05:56:56.029937Z"
    }
   },
   "outputs": [],
   "source": [
    "u.add_TopologyAttr('tempfactors') # add empty attribute for all atoms\n",
    "protein = u.select_atoms('protein') # select protein atoms\n",
    "for residue, r_value in zip(protein.residues, R.results.rmsf):\n",
    "    residue.atoms.tempfactors = r_value"
   ]
  },
  {
   "cell_type": "markdown",
   "metadata": {},
   "source": [
    "Below we visualise these values with a rainbow colour scheme. Purple values correspond to low RMSF values, whereas red values correspond to high RMSFs."
   ]
  },
  {
   "cell_type": "code",
   "execution_count": 11,
   "metadata": {
    "ExecuteTime": {
     "end_time": "2021-05-19T06:12:26.639298Z",
     "start_time": "2021-05-19T06:12:26.056797Z"
    },
    "execution": {
     "iopub.execute_input": "2021-05-19T05:56:56.041838Z",
     "iopub.status.busy": "2021-05-19T05:56:56.037830Z",
     "iopub.status.idle": "2021-05-19T05:56:56.675271Z",
     "shell.execute_reply": "2021-05-19T05:56:56.663125Z"
    }
   },
   "outputs": [],
   "source": [
    "# view = nv.show_mdanalysis(u)\n",
    "# view.update_representation(color_scheme='bfactor')\n",
    "# view"
   ]
  },
  {
   "cell_type": "code",
   "execution_count": 12,
   "metadata": {
    "scrolled": true
   },
   "outputs": [],
   "source": [
    "# from nglview.contrib.movie import MovieMaker\n",
    "# movie = MovieMaker(\n",
    "#     view,\n",
    "#     step=100,  # keep every 100th frame\n",
    "#     output='images/rmsf-view.gif',\n",
    "#     render_params={\"factor\": 3},  # set to 4 for highest quality\n",
    "# )\n",
    "# movie.make()"
   ]
  },
  {
   "cell_type": "markdown",
   "metadata": {},
   "source": [
    "<center>\n",
    "<div style='width: 800px'>\n",
    "    \n",
    "![rmsf-bfactor-view](images/rmsf-view.gif)\n",
    "    \n",
    "</div>\n",
    "</center>"
   ]
  },
  {
   "cell_type": "markdown",
   "metadata": {},
   "source": [
    "You can also write the atoms to a file and visualise it in another program. As the original Universe did not contain `altLocs`, `icodes` or `occupancies` for each atom, some warnings will be printed (which are not visible here)."
   ]
  },
  {
   "cell_type": "code",
   "execution_count": 13,
   "metadata": {
    "ExecuteTime": {
     "end_time": "2021-05-19T06:12:30.853608Z",
     "start_time": "2021-05-19T06:12:30.272242Z"
    },
    "execution": {
     "iopub.execute_input": "2021-05-19T05:56:56.679766Z",
     "iopub.status.busy": "2021-05-19T05:56:56.679019Z",
     "iopub.status.idle": "2021-05-19T05:56:57.296240Z",
     "shell.execute_reply": "2021-05-19T05:56:57.296614Z"
    }
   },
   "outputs": [],
   "source": [
    "u.atoms.write('rmsf_tempfactors.pdb')"
   ]
  },
  {
   "cell_type": "markdown",
   "metadata": {},
   "source": [
    "## References\n",
    "\n",
    "[1] Richard&nbsp;J. Gowers, Max Linke, Jonathan Barnoud, Tyler J.&nbsp;E. Reddy, Manuel&nbsp;N. Melo, Sean&nbsp;L. Seyler, Jan Domański, David&nbsp;L. Dotson, Sébastien Buchoux, Ian&nbsp;M. Kenney, and Oliver Beckstein.\n",
    "<span class=\"bibtex-protected\">MDAnalysis</span>: <span class=\"bibtex-protected\">A</span> <span class=\"bibtex-protected\">Python</span> <span class=\"bibtex-protected\">Package</span> for the <span class=\"bibtex-protected\">Rapid</span> <span class=\"bibtex-protected\">Analysis</span> of <span class=\"bibtex-protected\">Molecular</span> <span class=\"bibtex-protected\">Dynamics</span> <span class=\"bibtex-protected\">Simulations</span>.\n",
    "<em>Proceedings of the 15th Python in Science Conference</em>, pages 98–105, 2016.\n",
    "00152.\n",
    "URL: <a href=\"https://conference.scipy.org/proceedings/scipy2016/oliver_beckstein.html\">https://conference.scipy.org/proceedings/scipy2016/oliver_beckstein.html</a>, <a href=\"https://doi.org/10.25080/Majora-629e541a-00e\">doi:10.25080/Majora-629e541a-00e</a>.\n",
    "\n",
    "[2] Pu&nbsp;Liu, Dimitris&nbsp;K. Agrafiotis, and Douglas&nbsp;L. Theobald.\n",
    "Fast determination of the optimal rotational matrix for macromolecular superpositions.\n",
    "<em>Journal of Computational Chemistry</em>, pages n/a–n/a, 2009.\n",
    "URL: <a href=\"http://doi.wiley.com/10.1002/jcc.21439\">http://doi.wiley.com/10.1002/jcc.21439</a>, <a href=\"https://doi.org/10.1002/jcc.21439\">doi:10.1002/jcc.21439</a>.\n",
    "\n",
    "[3] Naveen Michaud-Agrawal, Elizabeth&nbsp;J. Denning, Thomas&nbsp;B. Woolf, and Oliver Beckstein.\n",
    "<span class=\"bibtex-protected\">MDAnalysis</span>: <span class=\"bibtex-protected\">A</span> toolkit for the analysis of molecular dynamics simulations.\n",
    "<em>Journal of Computational Chemistry</em>, 32(10):2319–2327, July 2011.\n",
    "00778.\n",
    "URL: <a href=\"http://doi.wiley.com/10.1002/jcc.21787\">http://doi.wiley.com/10.1002/jcc.21787</a>, <a href=\"https://doi.org/10.1002/jcc.21787\">doi:10.1002/jcc.21787</a>.\n",
    "\n",
    "[4] Sean Seyler and Oliver Beckstein.\n",
    "Molecular dynamics trajectory for benchmarking <span class=\"bibtex-protected\">MDAnalysis</span>.\n",
    "June 2017.\n",
    "00002.\n",
    "URL: <a href=\"https://figshare.com/articles/Molecular_dynamics_trajectory_for_benchmarking_MDAnalysis/5108170\">https://figshare.com/articles/Molecular_dynamics_trajectory_for_benchmarking_MDAnalysis/5108170</a>, <a href=\"https://doi.org/10.6084/m9.figshare.5108170.v1\">doi:10.6084/m9.figshare.5108170.v1</a>.\n",
    "\n",
    "[5] Douglas&nbsp;L. Theobald.\n",
    "Rapid calculation of <span class=\"bibtex-protected\">RMSDs</span> using a quaternion-based characteristic polynomial.\n",
    "<em>Acta Crystallographica Section A Foundations of Crystallography</em>, 61(4):478–480, July 2005.\n",
    "00127.\n",
    "URL: <a href=\"http://scripts.iucr.org/cgi-bin/paper?S0108767305015266\">http://scripts.iucr.org/cgi-bin/paper?S0108767305015266</a>, <a href=\"https://doi.org/10.1107/S0108767305015266\">doi:10.1107/S0108767305015266</a>.\n",
    "\n",
    "[6] B.&nbsp;P. Welford.\n",
    "Note on a <span class=\"bibtex-protected\">Method</span> for <span class=\"bibtex-protected\">Calculating</span> <span class=\"bibtex-protected\">Corrected</span> <span class=\"bibtex-protected\">Sums</span> of <span class=\"bibtex-protected\">Squares</span> and <span class=\"bibtex-protected\">Products</span>.\n",
    "<em>Technometrics</em>, 4(3):419–420, August 1962.\n",
    "URL: <a href=\"https://amstat.tandfonline.com/doi/abs/10.1080/00401706.1962.10490022\">https://amstat.tandfonline.com/doi/abs/10.1080/00401706.1962.10490022</a>, <a href=\"https://doi.org/10.1080/00401706.1962.10490022\">doi:10.1080/00401706.1962.10490022</a>."
   ]
  }
 ],
 "metadata": {
  "kernelspec": {
   "display_name": "guide",
   "language": "python",
   "name": "python3"
  },
  "language_info": {
   "codemirror_mode": {
    "name": "ipython",
    "version": 3
   },
   "file_extension": ".py",
   "mimetype": "text/x-python",
   "name": "python",
   "nbconvert_exporter": "python",
   "pygments_lexer": "ipython3",
   "version": "3.9.15"
  },
  "toc": {
   "base_numbering": 1,
   "nav_menu": {},
   "number_sections": false,
   "sideBar": true,
   "skip_h1_title": false,
   "title_cell": "Table of Contents",
   "title_sidebar": "Contents",
   "toc_cell": false,
   "toc_position": {},
   "toc_section_display": true,
   "toc_window_display": false
  },
  "vscode": {
   "interpreter": {
    "hash": "5edc5d8d8cbc0935a054a8e44024f729bc376180aae27775d15f2ff38c68f892"
   }
  }
 },
 "nbformat": 4,
 "nbformat_minor": 2
}
