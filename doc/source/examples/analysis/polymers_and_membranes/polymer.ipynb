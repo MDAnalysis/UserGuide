{
 "cells": [
  {
   "attachments": {},
   "cell_type": "markdown",
   "metadata": {},
   "source": [
    "# Determining the persistence length of a polymer\n",
    "\n",
    "Here we determine the persistence length of a polymer.\n",
    "\n",
    "**Last updated:** December 2022 with MDAnalysis 2.4.0-dev0\n",
    "\n",
    "**Minimum version of MDAnalysis:** 1.0.0\n",
    "\n",
    "**Packages required:**\n",
    "    \n",
    "* MDAnalysis (<a data-cite=\"michaud-agrawal_mdanalysis_2011\" href=\"https://doi.org/10.1002/jcc.21787\">Michaud-Agrawal *et al.*, 2011</a>, <a data-cite=\"gowers_mdanalysis_2016\" href=\"https://doi.org/10.25080/Majora-629e541a-00e\">Gowers *et al.*, 2016</a>)\n",
    "* MDAnalysisTests"
   ]
  },
  {
   "cell_type": "code",
   "execution_count": 1,
   "metadata": {
    "execution": {
     "iopub.execute_input": "2021-05-19T06:17:36.116304Z",
     "iopub.status.busy": "2021-05-19T06:17:36.115254Z",
     "iopub.status.idle": "2021-05-19T06:17:37.222491Z",
     "shell.execute_reply": "2021-05-19T06:17:37.222862Z"
    }
   },
   "outputs": [],
   "source": [
    "import MDAnalysis as mda\n",
    "from MDAnalysis.tests.datafiles import TRZ_psf, TRZ\n",
    "from MDAnalysis.analysis import polymer\n",
    "%matplotlib inline"
   ]
  },
  {
   "cell_type": "markdown",
   "metadata": {},
   "source": [
    "## Loading files"
   ]
  },
  {
   "cell_type": "markdown",
   "metadata": {},
   "source": [
    "The test files we will be working with here feature a pure polymer melt of a polyamide."
   ]
  },
  {
   "cell_type": "code",
   "execution_count": 2,
   "metadata": {
    "execution": {
     "iopub.execute_input": "2021-05-19T06:17:37.227353Z",
     "iopub.status.busy": "2021-05-19T06:17:37.226573Z",
     "iopub.status.idle": "2021-05-19T06:17:37.381502Z",
     "shell.execute_reply": "2021-05-19T06:17:37.380891Z"
    }
   },
   "outputs": [],
   "source": [
    "u = mda.Universe(TRZ_psf, TRZ)"
   ]
  },
  {
   "cell_type": "markdown",
   "metadata": {},
   "source": [
    "## Choosing the chains and backbone atoms"
   ]
  },
  {
   "cell_type": "markdown",
   "metadata": {},
   "source": [
    "We can define the chains of polyamide to be the common definition of a molecule: where each atom is bonded to at least one other in the group, and not bonded to any atom outside the group. MDAnalysis provides these as `fragments`."
   ]
  },
  {
   "cell_type": "code",
   "execution_count": 3,
   "metadata": {
    "execution": {
     "iopub.execute_input": "2021-05-19T06:17:37.425154Z",
     "iopub.status.busy": "2021-05-19T06:17:37.424424Z",
     "iopub.status.idle": "2021-05-19T06:17:37.535938Z",
     "shell.execute_reply": "2021-05-19T06:17:37.536374Z"
    }
   },
   "outputs": [],
   "source": [
    "chains = u.atoms.fragments"
   ]
  },
  {
   "cell_type": "markdown",
   "metadata": {},
   "source": [
    "We then want to select only the backbone atoms for each chain, i.e. only the carbons and nitrogens."
   ]
  },
  {
   "cell_type": "code",
   "execution_count": 4,
   "metadata": {
    "execution": {
     "iopub.execute_input": "2021-05-19T06:17:37.540838Z",
     "iopub.status.busy": "2021-05-19T06:17:37.540263Z",
     "iopub.status.idle": "2021-05-19T06:17:37.545444Z",
     "shell.execute_reply": "2021-05-19T06:17:37.545942Z"
    }
   },
   "outputs": [],
   "source": [
    "backbones = [ch.select_atoms('not name O* H*') for ch in chains]"
   ]
  },
  {
   "cell_type": "markdown",
   "metadata": {},
   "source": [
    "This should give us AtomGroups where the spatial arrangement is linear. However, the atoms are in index order. We can use `sort_backbone` to arrange our atom groups into their linear arrangement order."
   ]
  },
  {
   "cell_type": "code",
   "execution_count": 5,
   "metadata": {
    "execution": {
     "iopub.execute_input": "2021-05-19T06:17:37.553562Z",
     "iopub.status.busy": "2021-05-19T06:17:37.552437Z",
     "iopub.status.idle": "2021-05-19T06:17:40.714834Z",
     "shell.execute_reply": "2021-05-19T06:17:40.715215Z"
    }
   },
   "outputs": [],
   "source": [
    "sorted_bb = [polymer.sort_backbone(bb) for bb in backbones]"
   ]
  },
  {
   "cell_type": "markdown",
   "metadata": {},
   "source": [
    "## Calculating the persistence length"
   ]
  },
  {
   "cell_type": "markdown",
   "metadata": {},
   "source": [
    "The persistence length is the length at which two points on the polymer chain become decorrelated. This is determined by first measuring the autocorrelation $C(n)$ of two bond vectors $(\\mathbf{a}_i, \\mathbf{a}_{i + n})$ separated by $n$ bonds, where\n",
    "\n",
    "$$ C(n) = \\langle \\cos\\theta_{i, i+n} \\rangle = \\langle \\mathbf{a_i} \\cdot \\mathbf{a_{i+n}} \\rangle $$\n",
    "\n",
    "An exponential decay is then fitted to this, which yields the persistence length $l_P$ from the average bond length $\\bar{l_B}$.\n",
    "\n",
    "$$ C(n) \\approx \\exp\\left( - \\frac{n \\bar{l_B}}{l_P} \\right)$$\n",
    "\n",
    "We set up our `PersistenceLength` class ([API docs](https://docs.mdanalysis.org/stable/documentation_pages/analysis/polymer.html)). Note that every chain we pass into it must have the same length."
   ]
  },
  {
   "cell_type": "code",
   "execution_count": 6,
   "metadata": {
    "execution": {
     "iopub.execute_input": "2021-05-19T06:17:40.718809Z",
     "iopub.status.busy": "2021-05-19T06:17:40.718167Z",
     "iopub.status.idle": "2021-05-19T06:17:40.853094Z",
     "shell.execute_reply": "2021-05-19T06:17:40.853886Z"
    }
   },
   "outputs": [
    {
     "data": {
      "text/plain": [
       "<MDAnalysis.analysis.polymer.PersistenceLength at 0x7f4b7ddfd160>"
      ]
     },
     "execution_count": 6,
     "metadata": {},
     "output_type": "execute_result"
    }
   ],
   "source": [
    "plen = polymer.PersistenceLength(sorted_bb)\n",
    "plen.run()"
   ]
  },
  {
   "attachments": {},
   "cell_type": "markdown",
   "metadata": {},
   "source": [
    "The average bond length is found at `plen.results.lb`, the calculated persistence length at `plen.results.lp`, the measured autocorrelation at `plen.results` and the modelled decorrelation fit at `plen.results.fit`."
   ]
  },
  {
   "cell_type": "code",
   "execution_count": 20,
   "metadata": {
    "execution": {
     "iopub.execute_input": "2021-05-19T06:17:40.859365Z",
     "iopub.status.busy": "2021-05-19T06:17:40.858478Z",
     "iopub.status.idle": "2021-05-19T06:17:40.861400Z",
     "shell.execute_reply": "2021-05-19T06:17:40.862437Z"
    }
   },
   "outputs": [
    {
     "name": "stdout",
     "output_type": "stream",
     "text": [
      "(179,)\n",
      "The persistence length is 6.917\n"
     ]
    }
   ],
   "source": [
    "print(plen.results.fit.shape)\n",
    "print('The persistence length is {:.3f}'.format(plen.results.lp))"
   ]
  },
  {
   "cell_type": "markdown",
   "metadata": {},
   "source": [
    "`MDAnalysis.analysis.polymer.PersistenceLength` provides a convenience method to plot the results."
   ]
  },
  {
   "cell_type": "code",
   "execution_count": 21,
   "metadata": {
    "execution": {
     "iopub.execute_input": "2021-05-19T06:17:40.887817Z",
     "iopub.status.busy": "2021-05-19T06:17:40.885343Z",
     "iopub.status.idle": "2021-05-19T06:17:41.304662Z",
     "shell.execute_reply": "2021-05-19T06:17:41.305599Z"
    }
   },
   "outputs": [
    {
     "data": {
      "text/plain": [
       "<AxesSubplot:xlabel='x', ylabel='$C(x)$'>"
      ]
     },
     "execution_count": 21,
     "metadata": {},
     "output_type": "execute_result"
    },
    {
     "data": {
      "image/png": "[encoded data removed]",
      "text/plain": [
       "<Figure size 432x288 with 1 Axes>"
      ]
     },
     "metadata": {
      "needs_background": "light"
     },
     "output_type": "display_data"
    }
   ],
   "source": [
    "plen.plot()"
   ]
  },
  {
   "cell_type": "markdown",
   "metadata": {},
   "source": [
    "## References\n",
    "\n",
    "[1] Richard&nbsp;J. Gowers, Max Linke, Jonathan Barnoud, Tyler J.&nbsp;E. Reddy, Manuel&nbsp;N. Melo, Sean&nbsp;L. Seyler, Jan Domański, David&nbsp;L. Dotson, Sébastien Buchoux, Ian&nbsp;M. Kenney, and Oliver Beckstein.\n",
    "<span class=\"bibtex-protected\">MDAnalysis</span>: <span class=\"bibtex-protected\">A</span> <span class=\"bibtex-protected\">Python</span> <span class=\"bibtex-protected\">Package</span> for the <span class=\"bibtex-protected\">Rapid</span> <span class=\"bibtex-protected\">Analysis</span> of <span class=\"bibtex-protected\">Molecular</span> <span class=\"bibtex-protected\">Dynamics</span> <span class=\"bibtex-protected\">Simulations</span>.\n",
    "<em>Proceedings of the 15th Python in Science Conference</em>, pages 98–105, 2016.\n",
    "00152.\n",
    "URL: <a href=\"https://conference.scipy.org/proceedings/scipy2016/oliver_beckstein.html\">https://conference.scipy.org/proceedings/scipy2016/oliver_beckstein.html</a>, <a href=\"https://doi.org/10.25080/Majora-629e541a-00e\">doi:10.25080/Majora-629e541a-00e</a>.\n",
    "\n",
    "[2] Naveen Michaud-Agrawal, Elizabeth&nbsp;J. Denning, Thomas&nbsp;B. Woolf, and Oliver Beckstein.\n",
    "<span class=\"bibtex-protected\">MDAnalysis</span>: <span class=\"bibtex-protected\">A</span> toolkit for the analysis of molecular dynamics simulations.\n",
    "<em>Journal of Computational Chemistry</em>, 32(10):2319–2327, July 2011.\n",
    "00778.\n",
    "URL: <a href=\"http://doi.wiley.com/10.1002/jcc.21787\">http://doi.wiley.com/10.1002/jcc.21787</a>, <a href=\"https://doi.org/10.1002/jcc.21787\">doi:10.1002/jcc.21787</a>."
   ]
  }
 ],
 "metadata": {
  "kernelspec": {
   "display_name": "Python 3.9.15 ('mda-user-guide')",
   "language": "python",
   "name": "python3"
  },
  "language_info": {
   "codemirror_mode": {
    "name": "ipython",
    "version": 3
   },
   "file_extension": ".py",
   "mimetype": "text/x-python",
   "name": "python",
   "nbconvert_exporter": "python",
   "pygments_lexer": "ipython3",
   "version": "3.9.15"
  },
  "toc": {
   "base_numbering": 1,
   "nav_menu": {},
   "number_sections": false,
   "sideBar": true,
   "skip_h1_title": false,
   "title_cell": "Table of Contents",
   "title_sidebar": "Contents",
   "toc_cell": false,
   "toc_position": {},
   "toc_section_display": true,
   "toc_window_display": false
  },
  "vscode": {
   "interpreter": {
    "hash": "7b52aa17ef4e9358c0e91ff3f0bf50d10667bb8b55636d4b9fb967a2ff94bd8c"
   }
  }
 },
 "nbformat": 4,
 "nbformat_minor": 2
}
