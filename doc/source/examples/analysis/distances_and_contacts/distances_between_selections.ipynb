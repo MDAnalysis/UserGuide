{
 "cells": [
  {
   "cell_type": "markdown",
   "metadata": {},
   "source": [
    "# All distances between two selections\n",
    "\n",
    "Here we use ``distances.distance_array`` to quantify the distances between each atom of a target set to each atom in a reference set, and show how we can extend that to calculating the distances between the centers-of-mass of residues.\n",
    "\n",
    "**Last executed:** May 18, 2021 with MDAnalysis 1.1.1\n",
    "\n",
    "**Last updated:** January 2020\n",
    "\n",
    "**Minimum version of MDAnalysis:** 0.19.0\n",
    "\n",
    "**Packages required:**\n",
    "    \n",
    "* MDAnalysis (<a data-cite=\"michaud-agrawal_mdanalysis_2011\" href=\"https://doi.org/10.1002/jcc.21787\">Michaud-Agrawal *et al.*, 2011</a>, <a data-cite=\"gowers_mdanalysis_2016\" href=\"https://doi.org/10.25080/Majora-629e541a-00e\">Gowers *et al.*, 2016</a>)\n",
    "* MDAnalysisTests\n",
    "   \n",
    "**Optional packages for visualisation:**\n",
    "\n",
    "* [matplotlib](https://matplotlib.org)\n",
    "\n"
   ]
  },
  {
   "cell_type": "code",
   "execution_count": 1,
   "metadata": {
    "execution": {
     "iopub.execute_input": "2021-05-19T05:57:18.511813Z",
     "iopub.status.busy": "2021-05-19T05:57:18.511175Z",
     "iopub.status.idle": "2021-05-19T05:57:19.158622Z",
     "shell.execute_reply": "2021-05-19T05:57:19.159054Z"
    }
   },
   "outputs": [],
   "source": [
    "import MDAnalysis as mda\n",
    "from MDAnalysis.tests.datafiles import PDB_small\n",
    "from MDAnalysis.analysis import distances\n",
    "\n",
    "import numpy as np\n",
    "import matplotlib.pyplot as plt\n",
    "%matplotlib inline"
   ]
  },
  {
   "cell_type": "markdown",
   "metadata": {},
   "source": [
    "## Loading files"
   ]
  },
  {
   "cell_type": "markdown",
   "metadata": {},
   "source": [
    "The test files we will be working with here feature adenylate kinase (AdK), a phosophotransferase enzyme. (<a data-cite=\"beckstein_zipping_2009\" href=\"https://doi.org/10.1016/j.jmb.2009.09.009\">Beckstein *et al.*, 2009</a>) AdK has three domains: \n",
    "\n",
    "  * CORE\n",
    "  * LID: an ATP-binding domain (residues 122-159)\n",
    "  * NMP: an AMP-binding domain (residues 30-59)\n",
    "  "
   ]
  },
  {
   "cell_type": "code",
   "execution_count": 2,
   "metadata": {
    "execution": {
     "iopub.execute_input": "2021-05-19T05:57:19.163708Z",
     "iopub.status.busy": "2021-05-19T05:57:19.163183Z",
     "iopub.status.idle": "2021-05-19T05:57:19.318656Z",
     "shell.execute_reply": "2021-05-19T05:57:19.319052Z"
    }
   },
   "outputs": [],
   "source": [
    "u = mda.Universe(PDB_small)   # open AdK"
   ]
  },
  {
   "cell_type": "markdown",
   "metadata": {},
   "source": [
    "## Calculating atom-to-atom distances between non-matching coordinate arrays"
   ]
  },
  {
   "cell_type": "markdown",
   "metadata": {},
   "source": [
    "We select the alpha-carbon atoms of each domain."
   ]
  },
  {
   "cell_type": "code",
   "execution_count": 3,
   "metadata": {
    "execution": {
     "iopub.execute_input": "2021-05-19T05:57:19.323326Z",
     "iopub.status.busy": "2021-05-19T05:57:19.322771Z",
     "iopub.status.idle": "2021-05-19T05:57:19.326254Z",
     "shell.execute_reply": "2021-05-19T05:57:19.326616Z"
    }
   },
   "outputs": [
    {
     "name": "stdout",
     "output_type": "stream",
     "text": [
      "LID has 38 residues and NMP has 30 residues\n"
     ]
    }
   ],
   "source": [
    "LID_ca = u.select_atoms('name CA and resid 122-159')\n",
    "NMP_ca = u.select_atoms('name CA and resid 30-59')\n",
    "\n",
    "n_LID = len(LID_ca)\n",
    "n_NMP = len(NMP_ca)\n",
    "print('LID has {} residues and NMP has {} residues'.format(n_LID, n_NMP))"
   ]
  },
  {
   "cell_type": "markdown",
   "metadata": {},
   "source": [
    "`distances.distance_array`([API docs](https://docs.mdanalysis.org/stable/documentation_pages/analysis/distances.html#MDAnalysis.analysis.distances.distance_array)) will produce an array with shape `(n, m)` distances if there are `n` positions in the reference array and `m` positions in the other configuration. If you want to calculate distances following the minimum image convention, you *must* pass the universe dimensions into the ``box`` keyword."
   ]
  },
  {
   "cell_type": "code",
   "execution_count": 4,
   "metadata": {
    "execution": {
     "iopub.execute_input": "2021-05-19T05:57:19.332303Z",
     "iopub.status.busy": "2021-05-19T05:57:19.331707Z",
     "iopub.status.idle": "2021-05-19T05:57:19.333831Z",
     "shell.execute_reply": "2021-05-19T05:57:19.334305Z"
    }
   },
   "outputs": [
    {
     "data": {
      "text/plain": [
       "(38, 30)"
      ]
     },
     "execution_count": 1,
     "metadata": {},
     "output_type": "execute_result"
    }
   ],
   "source": [
    "dist_arr = distances.distance_array(LID_ca.positions, # reference\n",
    "                                    NMP_ca.positions, # configuration\n",
    "                                    box=u.dimensions)\n",
    "dist_arr.shape"
   ]
  },
  {
   "cell_type": "markdown",
   "metadata": {},
   "source": [
    "### Plotting distance as a heatmap"
   ]
  },
  {
   "cell_type": "code",
   "execution_count": 5,
   "metadata": {
    "execution": {
     "iopub.execute_input": "2021-05-19T05:57:19.362840Z",
     "iopub.status.busy": "2021-05-19T05:57:19.351895Z",
     "iopub.status.idle": "2021-05-19T05:57:19.476555Z",
     "shell.execute_reply": "2021-05-19T05:57:19.476918Z"
    },
    "scrolled": true
   },
   "outputs": [
    {
     "data": {
      "text/plain": [
       "Text(0, 0.5, 'Distance (Angstrom)')"
      ]
     },
     "execution_count": 1,
     "metadata": {},
     "output_type": "execute_result"
    },
    {
     "data": {
      "image/png": "[encoded data removed]",
      "text/plain": [
       "<Figure size 432x288 with 2 Axes>"
      ]
     },
     "metadata": {
      "needs_background": "light"
     },
     "output_type": "display_data"
    }
   ],
   "source": [
    "fig, ax = plt.subplots()\n",
    "im = ax.imshow(dist_arr, origin='upper')\n",
    "\n",
    "# add residue ID labels to axes\n",
    "tick_interval = 5\n",
    "ax.set_yticks(np.arange(n_LID)[::tick_interval])\n",
    "ax.set_xticks(np.arange(n_NMP)[::tick_interval])\n",
    "ax.set_yticklabels(LID_ca.resids[::tick_interval])\n",
    "ax.set_xticklabels(NMP_ca.resids[::tick_interval])\n",
    "\n",
    "# add figure labels and titles\n",
    "plt.ylabel('LID')\n",
    "plt.xlabel('NMP')\n",
    "plt.title('Distance between alpha-carbon')\n",
    "\n",
    "# colorbar\n",
    "cbar = fig.colorbar(im)\n",
    "cbar.ax.set_ylabel('Distance (Angstrom)')"
   ]
  },
  {
   "cell_type": "markdown",
   "metadata": {},
   "source": [
    "## Calculating residue-to-residue distances"
   ]
  },
  {
   "cell_type": "markdown",
   "metadata": {},
   "source": [
    "As `distances.distance_array` just takes coordinate arrays as input, it is very flexible in calculating distances between each atom, or centers-of-masses, centers-of-geometries, and so on.\n",
    "\n",
    "Instead of calculating the distance between the alpha-carbon of each residue, we could look at the distances between the centers-of-mass instead. The process is very similar to the atom-wise distances above, but we give `distances.distance_array` an array of residue center-of-mass coordinates instead."
   ]
  },
  {
   "cell_type": "code",
   "execution_count": 6,
   "metadata": {
    "execution": {
     "iopub.execute_input": "2021-05-19T05:57:19.481709Z",
     "iopub.status.busy": "2021-05-19T05:57:19.480981Z",
     "iopub.status.idle": "2021-05-19T05:57:19.486125Z",
     "shell.execute_reply": "2021-05-19T05:57:19.486578Z"
    }
   },
   "outputs": [
    {
     "name": "stdout",
     "output_type": "stream",
     "text": [
      "LID has 38 residues and NMP has 30 residues\n"
     ]
    }
   ],
   "source": [
    "LID = u.select_atoms('resid 122-159')\n",
    "NMP = u.select_atoms('resid 30-59')\n",
    "\n",
    "LID_com = LID.center_of_mass(compound='residues')\n",
    "NMP_com = NMP.center_of_mass(compound='residues')\n",
    "\n",
    "n_LID = len(LID_com)\n",
    "n_NMP = len(NMP_com)\n",
    "\n",
    "print('LID has {} residues and NMP has {} residues'.format(n_LID, n_NMP))"
   ]
  },
  {
   "cell_type": "markdown",
   "metadata": {},
   "source": [
    "We can pass these center-of-mass arrays directly into `distances.distance_array`."
   ]
  },
  {
   "cell_type": "code",
   "execution_count": 7,
   "metadata": {
    "execution": {
     "iopub.execute_input": "2021-05-19T05:57:19.490543Z",
     "iopub.status.busy": "2021-05-19T05:57:19.489581Z",
     "iopub.status.idle": "2021-05-19T05:57:19.492443Z",
     "shell.execute_reply": "2021-05-19T05:57:19.493076Z"
    }
   },
   "outputs": [],
   "source": [
    "res_dist = distances.distance_array(LID_com, NMP_com,\n",
    "                                    box=u.dimensions)"
   ]
  },
  {
   "cell_type": "markdown",
   "metadata": {},
   "source": [
    "### Plotting"
   ]
  },
  {
   "cell_type": "code",
   "execution_count": 8,
   "metadata": {
    "execution": {
     "iopub.execute_input": "2021-05-19T05:57:19.531609Z",
     "iopub.status.busy": "2021-05-19T05:57:19.530573Z",
     "iopub.status.idle": "2021-05-19T05:57:19.659680Z",
     "shell.execute_reply": "2021-05-19T05:57:19.660426Z"
    }
   },
   "outputs": [
    {
     "data": {
      "text/plain": [
       "Text(0, 0.5, 'Distance (Angstrom)')"
      ]
     },
     "execution_count": 1,
     "metadata": {},
     "output_type": "execute_result"
    },
    {
     "data": {
      "image/png": "[encoded data removed]",
      "text/plain": [
       "<Figure size 432x288 with 2 Axes>"
      ]
     },
     "metadata": {
      "needs_background": "light"
     },
     "output_type": "display_data"
    }
   ],
   "source": [
    "fig2, ax2 = plt.subplots()\n",
    "im2 = ax2.imshow(res_dist, origin='upper')\n",
    "\n",
    "# add residue ID labels to axes\n",
    "tick_interval = 5\n",
    "ax2.set_yticks(np.arange(n_LID)[::tick_interval])\n",
    "ax2.set_xticks(np.arange(n_NMP)[::tick_interval])\n",
    "ax2.set_yticklabels(LID.residues.resids[::tick_interval])\n",
    "ax2.set_xticklabels(NMP.residues.resids[::tick_interval])\n",
    "\n",
    "# add figure labels and titles\n",
    "plt.ylabel('LID')\n",
    "plt.xlabel('NMP')\n",
    "plt.title('Distance between center-of-mass')\n",
    "\n",
    "# colorbar\n",
    "cbar2 = fig2.colorbar(im)\n",
    "cbar2.ax.set_ylabel('Distance (Angstrom)')"
   ]
  },
  {
   "cell_type": "markdown",
   "metadata": {},
   "source": [
    "## References\n",
    "\n",
    "[1] Oliver Beckstein, Elizabeth&nbsp;J. Denning, Juan&nbsp;R. Perilla, and Thomas&nbsp;B. Woolf.\n",
    "Zipping and <span class=\"bibtex-protected\">Unzipping</span> of <span class=\"bibtex-protected\">Adenylate</span> <span class=\"bibtex-protected\">Kinase</span>: <span class=\"bibtex-protected\">Atomistic</span> <span class=\"bibtex-protected\">Insights</span> into the <span class=\"bibtex-protected\">Ensemble</span> of <span class=\"bibtex-protected\">Open</span>↔<span class=\"bibtex-protected\">Closed</span> <span class=\"bibtex-protected\">Transitions</span>.\n",
    "<em>Journal of Molecular Biology</em>, 394(1):160–176, November 2009.\n",
    "00107.\n",
    "URL: <a href=\"https://linkinghub.elsevier.com/retrieve/pii/S0022283609011164\">https://linkinghub.elsevier.com/retrieve/pii/S0022283609011164</a>, <a href=\"https://doi.org/10.1016/j.jmb.2009.09.009\">doi:10.1016/j.jmb.2009.09.009</a>.\n",
    "\n",
    "[2] Richard&nbsp;J. Gowers, Max Linke, Jonathan Barnoud, Tyler J.&nbsp;E. Reddy, Manuel&nbsp;N. Melo, Sean&nbsp;L. Seyler, Jan Domański, David&nbsp;L. Dotson, Sébastien Buchoux, Ian&nbsp;M. Kenney, and Oliver Beckstein.\n",
    "<span class=\"bibtex-protected\">MDAnalysis</span>: <span class=\"bibtex-protected\">A</span> <span class=\"bibtex-protected\">Python</span> <span class=\"bibtex-protected\">Package</span> for the <span class=\"bibtex-protected\">Rapid</span> <span class=\"bibtex-protected\">Analysis</span> of <span class=\"bibtex-protected\">Molecular</span> <span class=\"bibtex-protected\">Dynamics</span> <span class=\"bibtex-protected\">Simulations</span>.\n",
    "<em>Proceedings of the 15th Python in Science Conference</em>, pages 98–105, 2016.\n",
    "00152.\n",
    "URL: <a href=\"https://conference.scipy.org/proceedings/scipy2016/oliver_beckstein.html\">https://conference.scipy.org/proceedings/scipy2016/oliver_beckstein.html</a>, <a href=\"https://doi.org/10.25080/Majora-629e541a-00e\">doi:10.25080/Majora-629e541a-00e</a>.\n",
    "\n",
    "[3] Naveen Michaud-Agrawal, Elizabeth&nbsp;J. Denning, Thomas&nbsp;B. Woolf, and Oliver Beckstein.\n",
    "<span class=\"bibtex-protected\">MDAnalysis</span>: <span class=\"bibtex-protected\">A</span> toolkit for the analysis of molecular dynamics simulations.\n",
    "<em>Journal of Computational Chemistry</em>, 32(10):2319–2327, July 2011.\n",
    "00778.\n",
    "URL: <a href=\"http://doi.wiley.com/10.1002/jcc.21787\">http://doi.wiley.com/10.1002/jcc.21787</a>, <a href=\"https://doi.org/10.1002/jcc.21787\">doi:10.1002/jcc.21787</a>."
   ]
  }
 ],
 "metadata": {
  "kernelspec": {
   "display_name": "Python (mda-user-guide)",
   "language": "python",
   "name": "mda-user-guide"
  },
  "language_info": {
   "codemirror_mode": {
    "name": "ipython",
    "version": 3
   },
   "file_extension": ".py",
   "mimetype": "text/x-python",
   "name": "python",
   "nbconvert_exporter": "python",
   "pygments_lexer": "ipython3",
   "version": "3.7.10"
  },
  "toc": {
   "base_numbering": 1,
   "nav_menu": {},
   "number_sections": false,
   "sideBar": true,
   "skip_h1_title": false,
   "title_cell": "Table of Contents",
   "title_sidebar": "Contents",
   "toc_cell": false,
   "toc_position": {},
   "toc_section_display": true,
   "toc_window_display": true
  }
 },
 "nbformat": 4,
 "nbformat_minor": 2
}
