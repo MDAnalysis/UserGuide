{
 "cells": [
  {
   "cell_type": "markdown",
   "metadata": {},
   "source": [
    "# Quick start guide"
   ]
  },
  {
   "cell_type": "markdown",
   "metadata": {},
   "source": [
    "MDAnalysis version: ≥ 0.18.0\n",
    "\n",
    "Last updated: November 2019\n",
    "\n",
    "This guide is designed as a basic introduction to MDAnalysis to get you up and running. You can see more complex tasks in our [Example notebooks](https://mdanalysis.org/UserGuide/examples/README.html). This page outlines how to:\n",
    "\n",
    "* [load a molecular dynamics structure or trajectory](#Loading-a-structure-or-trajectory)\n",
    "* [work with AtomGroups, a central data structure in MDAnalysis](#Working-with-groups-of-atoms)\n",
    "* [work with a trajectory](#Working-with-trajectories)\n",
    "* [write out coordinates](#Writing-out-coordinates)\n",
    "<!--* [select groups via selection language or indexing](#Selection)-->\n",
    "* [use the analysis algorithms in MDAnalysis](#Analysis)\n",
    "* [correct and automated citation of MDAnalysis and algorithms](#References)"
   ]
  },
  {
   "cell_type": "code",
   "execution_count": 1,
   "metadata": {},
   "outputs": [
    {
     "name": "stdout",
     "output_type": "stream",
     "text": [
      "<Universe with 3341 atoms>\n",
      "0.18.0\n"
     ]
    }
   ],
   "source": [
    "import MDAnalysis as mda\n",
    "from MDAnalysis.tests.datafiles import PSF, DCD, GRO, XTC\n",
    "\n",
    "print(mda.Universe(PSF, DCD))\n",
    "print(mda.__version__)"
   ]
  },
  {
   "cell_type": "markdown",
   "metadata": {},
   "source": [
    "This tutorial assumes that you already have MDAnalysis installed. Running the cell above should give something similar to:\n",
    "\n",
    "```console\n",
    "<Universe with 3341 atoms>\n",
    "0.18.0\n",
    "```\n",
    "If you get an error message, you need to install MDAnalysis. If your version is under `0.18.0`, you need to upgrade MDAnalysis. [Instructions for both are here.](https://www.mdanalysis.org/UserGuide/installation) After installing, restart this notebook."
   ]
  },
  {
   "cell_type": "markdown",
   "metadata": {},
   "source": [
    "## Overview"
   ]
  },
  {
   "cell_type": "markdown",
   "metadata": {},
   "source": [
    "MDAnalysis is a Python package that provides tools to access and analyse data in molecular dynamics trajectories. Several key data structures form the backbone of MDAnalysis.\n",
    "\n",
    "* A molecular system consists of particles. A particle is represented as an `Atom` object, even if it is a coarse-grained bead. \n",
    "* `Atom`s are grouped into [AtomGroup](https://www.mdanalysis.org/UserGuide/atomgroup)s. The `AtomGroup` is probably the most important class in MDAnalysis, as almost everything can be accessed through it. See [Working with atoms](#Working-with-groups-of-atoms) below. \n",
    "* A `Universe` contains all the particles in a molecular system in an `AtomGroup` accessible at the `.atoms` attribute, and combines it with a trajectory at `.trajectory`. \n",
    "\n",
    "A fundamental concept in MDAnalysis is that at any one time, \n",
    "only one time frame of the trajectory is being accessed. The \n",
    "`trajectory` attribute of a `Universe` is usually a file reader. \n",
    "Think of the trajectory as a function $X(t)$ of the frame index $t$ \n",
    "that only makes the data from this specific frame available. This structure is important \n",
    "because it allows MDAnalysis to work with trajectory files too large to fit \n",
    "into the computer's memory. \n"
   ]
  },
  {
   "cell_type": "markdown",
   "metadata": {},
   "source": [
    "## Loading a structure or trajectory"
   ]
  },
  {
   "cell_type": "markdown",
   "metadata": {},
   "source": [
    "Working with MDAnalysis typically starts with loading data into a `Universe`, the central data structure in MDAnalysis. The [user guide](https://www.mdanalysis.org/UserGuide/universe) has a complete explanation of ways to create and manipulate a `Universe`.\n",
    "\n",
    "\n",
    "The first arguments for creating a `Universe` are topology and trajectory files.\n",
    "\n",
    "* A **topology file** is always required for loading data into a Universe. A topology file lists atoms, residues, and their connectivity. MDAnalysis accepts the PSF, PDB, CRD, and GRO formats.\n",
    "\n",
    "* A topology file can then be followed by **any number of trajectory files**. A trajectory file contains a list of coordinates in the order defined in the topology. If no trajectory files are given, then only a structure is loaded. If multiple trajectory files are given, the trajectories are concatenated in the given order. MDAnalysis accepts single frames (e.g. PDB, CRD, GRO) and timeseries data (e.g. DCD, XTC, TRR, XYZ). "
   ]
  },
  {
   "cell_type": "code",
   "execution_count": 2,
   "metadata": {
    "scrolled": true
   },
   "outputs": [
    {
     "name": "stdout",
     "output_type": "stream",
     "text": [
      "<Universe with 3341 atoms>\n",
      "False\n"
     ]
    }
   ],
   "source": [
    "psf = mda.Universe(PSF)\n",
    "print(psf)\n",
    "print(hasattr(psf, 'trajectory'))"
   ]
  },
  {
   "cell_type": "markdown",
   "metadata": {},
   "source": [
    "As PSF files don't contain any coordinate information and no trajectory file has been loaded, the `structure_only` universe does not contain a trajectory. If the topology file does contain coordinate information, a trajectory of 1 frame is created."
   ]
  },
  {
   "cell_type": "code",
   "execution_count": 3,
   "metadata": {},
   "outputs": [
    {
     "name": "stdout",
     "output_type": "stream",
     "text": [
      "<Universe with 47681 atoms>\n",
      "1\n"
     ]
    }
   ],
   "source": [
    "gro = mda.Universe(GRO)\n",
    "print(gro)\n",
    "print(len(gro.trajectory))"
   ]
  },
  {
   "cell_type": "markdown",
   "metadata": {},
   "source": [
    "For the remainder of this guide we will work with the universe `u`, created below. This is a simulation where the enzyme adenylate kinase samples a transition from a closed to an open conformation [(Beckstein *et al.*, 2009)](https://doi.org/10.1016/j.jmb.2009.09.009)."
   ]
  },
  {
   "cell_type": "code",
   "execution_count": 4,
   "metadata": {},
   "outputs": [
    {
     "name": "stdout",
     "output_type": "stream",
     "text": [
      "<Universe with 3341 atoms>\n",
      "98\n"
     ]
    }
   ],
   "source": [
    "u = mda.Universe(PSF, DCD)\n",
    "print(u)\n",
    "print(len(u.trajectory))"
   ]
  },
  {
   "cell_type": "markdown",
   "metadata": {},
   "source": [
    "<div class=\"alert alert-info\">\n",
    "\n",
    "**Note**\n",
    "\n",
    "The MDAnalysis test suite is packaged with a bunch of test files and trajectories, which are named after their file format. We are using these files throughout this guide for convenience. To analyse your own files, simply replace the `PSF` and `DCD` above with paths to your own files. For example:\n",
    "\n",
    "```python\n",
    "structure_only = mda.Universe(\"my_pdb_file.pdb\")\n",
    "```\n",
    "</div>"
   ]
  },
  {
   "cell_type": "markdown",
   "metadata": {},
   "source": [
    "## Working with groups of atoms"
   ]
  },
  {
   "cell_type": "markdown",
   "metadata": {},
   "source": [
    "Most analysis requires creating and working with an `AtomGroup`, a collection of `Atom`s. For convenience, you can also work with chemically meaningful groups of `Atoms` such as a `Residue` or a `Segment`. These come with analogous containers to `AtomGroup`: `ResidueGroup` and `SegmentGroup`. For instance, the `.residues` attribute of a `Universe` returns a `ResidueGroup`."
   ]
  },
  {
   "cell_type": "code",
   "execution_count": 5,
   "metadata": {},
   "outputs": [
    {
     "name": "stdout",
     "output_type": "stream",
     "text": [
      "<ResidueGroup [<Residue MET, 1>, <Residue ARG, 2>, <Residue ILE, 3>, ..., <Residue ILE, 212>, <Residue LEU, 213>, <Residue GLY, 214>]>\n"
     ]
    }
   ],
   "source": [
    "print(u.residues)"
   ]
  },
  {
   "cell_type": "markdown",
   "metadata": {},
   "source": [
    "### Selecting atoms"
   ]
  },
  {
   "cell_type": "markdown",
   "metadata": {},
   "source": [
    "The easiest way to access the particles of your `Universe` is with the `atoms` attribute:"
   ]
  },
  {
   "cell_type": "code",
   "execution_count": 6,
   "metadata": {},
   "outputs": [
    {
     "data": {
      "text/plain": [
       "<AtomGroup with 3341 atoms>"
      ]
     },
     "execution_count": 6,
     "metadata": {},
     "output_type": "execute_result"
    }
   ],
   "source": [
    "u.atoms"
   ]
  },
  {
   "cell_type": "markdown",
   "metadata": {},
   "source": [
    "This returns an `AtomGroup`, which can be thought of as a list of `Atom` objects. Most analysis involves working with groups of atoms in `AtomGroup`s. `AtomGroup`s can easily be created by slicing another `AtomGroup`. For example, the below slice returns the last five atoms."
   ]
  },
  {
   "cell_type": "code",
   "execution_count": 7,
   "metadata": {
    "scrolled": true
   },
   "outputs": [
    {
     "name": "stdout",
     "output_type": "stream",
     "text": [
      "<AtomGroup [<Atom 3337: HA1 of type 6 of resname GLY, resid 214 and segid 4AKE>, <Atom 3338: HA2 of type 6 of resname GLY, resid 214 and segid 4AKE>, <Atom 3339: C of type 32 of resname GLY, resid 214 and segid 4AKE>, <Atom 3340: OT1 of type 72 of resname GLY, resid 214 and segid 4AKE>, <Atom 3341: OT2 of type 72 of resname GLY, resid 214 and segid 4AKE>]>\n"
     ]
    }
   ],
   "source": [
    "last_five = u.atoms[-5:]\n",
    "print(last_five)"
   ]
  },
  {
   "cell_type": "markdown",
   "metadata": {},
   "source": [
    "MDAnalysis supports fancy indexing: passing an array or list of indices to get a new AtomGroup with the atoms at those indices in the old AtomGroup."
   ]
  },
  {
   "cell_type": "code",
   "execution_count": 8,
   "metadata": {},
   "outputs": [
    {
     "name": "stdout",
     "output_type": "stream",
     "text": [
      "<AtomGroup [<Atom 3337: HA1 of type 6 of resname GLY, resid 214 and segid 4AKE>, <Atom 3340: OT1 of type 72 of resname GLY, resid 214 and segid 4AKE>, <Atom 3341: OT2 of type 72 of resname GLY, resid 214 and segid 4AKE>, <Atom 3338: HA2 of type 6 of resname GLY, resid 214 and segid 4AKE>, <Atom 3340: OT1 of type 72 of resname GLY, resid 214 and segid 4AKE>, <Atom 3337: HA1 of type 6 of resname GLY, resid 214 and segid 4AKE>]>\n"
     ]
    }
   ],
   "source": [
    "print(last_five[[0, 3, -1, 1, 3, 0]])"
   ]
  },
  {
   "cell_type": "markdown",
   "metadata": {},
   "source": [
    "MDAnalysis has also implemented a [powerful atom selection language](https://www.mdanalysis.org/UserGuide/selections) that is similar to existing languages in VMD, PyMol, and other packages. This is available with the `.select_atoms()` function  of an `AtomGroup` or `Universe` instance:"
   ]
  },
  {
   "cell_type": "code",
   "execution_count": 9,
   "metadata": {
    "scrolled": true
   },
   "outputs": [
    {
     "name": "stdout",
     "output_type": "stream",
     "text": [
      "<AtomGroup [<Atom 318: N of type 54 of resname GLU, resid 22 and segid 4AKE>, <Atom 319: HN of type 1 of resname GLU, resid 22 and segid 4AKE>, <Atom 320: CA of type 22 of resname GLU, resid 22 and segid 4AKE>, ..., <Atom 3271: OE2 of type 72 of resname GLU, resid 210 and segid 4AKE>, <Atom 3272: C of type 20 of resname GLU, resid 210 and segid 4AKE>, <Atom 3273: O of type 70 of resname GLU, resid 210 and segid 4AKE>]>\n"
     ]
    }
   ],
   "source": [
    "print(u.select_atoms('resname ASP or resname GLU'))"
   ]
  },
  {
   "cell_type": "markdown",
   "metadata": {},
   "source": [
    "Numerical ranges can be written as `first-last` or `first:last` where the range is **inclusive**. Note that in slicing, the `last` index is not included."
   ]
  },
  {
   "cell_type": "code",
   "execution_count": 10,
   "metadata": {},
   "outputs": [
    {
     "name": "stdout",
     "output_type": "stream",
     "text": [
      "51\n",
      "50\n"
     ]
    }
   ],
   "source": [
    "print(u.select_atoms('resid 50-100').n_residues)\n",
    "print(u.residues[50:100].n_residues)"
   ]
  },
  {
   "cell_type": "markdown",
   "metadata": {},
   "source": [
    "Selections can also be combined with boolean operators, and allow wildcards. \n",
    "\n",
    "For example, the command below selects the $C_{\\alpha}$ atoms of glutamic acid and histidine in the first 100 residues of the protein. Glutamic acid is typically named \"GLU\", but histidine can be named \"HIS\", \"HSD\", or \"HSE\" depending on its protonation state and the force field used."
   ]
  },
  {
   "cell_type": "code",
   "execution_count": 11,
   "metadata": {},
   "outputs": [
    {
     "data": {
      "text/plain": [
       "<AtomGroup with 6 atoms>"
      ]
     },
     "execution_count": 11,
     "metadata": {},
     "output_type": "execute_result"
    }
   ],
   "source": [
    "u.select_atoms(\"(resname GLU or resname HS*) and name CA and (resid 1:100)\")"
   ]
  },
  {
   "cell_type": "markdown",
   "metadata": {},
   "source": [
    "<div class=\"alert alert-info\">\n",
    "\n",
    "**Note**\n",
    "\n",
    "An `AtomGroup` created from a selection is sorted and duplicate elements are removed. This is not true for an `AtomGroup` produced by slicing. Thus, slicing can be used when the order of atoms is crucial.\n",
    "</div>\n",
    "\n",
    "\n",
    "\n",
    "The [user guide](https://www.mdanalysis.org/UserGuide/atomgroup) has a complete rundown of creating AtomGroups through indexing, selection language, and set methods."
   ]
  },
  {
   "cell_type": "markdown",
   "metadata": {},
   "source": [
    "### Getting atom information from AtomGroups"
   ]
  },
  {
   "cell_type": "markdown",
   "metadata": {},
   "source": [
    "An `AtomGroup` can tell you information about the atoms inside it with a number of convenient attributes."
   ]
  },
  {
   "cell_type": "code",
   "execution_count": 12,
   "metadata": {},
   "outputs": [
    {
     "name": "stdout",
     "output_type": "stream",
     "text": [
      "['N' 'HT1' 'HT2' 'HT3' 'CA' 'HA' 'CB' 'HB1' 'HB2' 'CG' 'HG1' 'HG2' 'SD'\n",
      " 'CE' 'HE1' 'HE2' 'HE3' 'C' 'O' 'N']\n"
     ]
    }
   ],
   "source": [
    "print(u.atoms[:20].names)"
   ]
  },
  {
   "cell_type": "code",
   "execution_count": 13,
   "metadata": {},
   "outputs": [
    {
     "name": "stdout",
     "output_type": "stream",
     "text": [
      "[ 1.008  1.008  1.008 12.011  1.008  1.008 12.011  1.008  1.008  1.008\n",
      " 12.011 15.999 14.007  1.008 12.011  1.008 12.011  1.008 12.011  1.008]\n"
     ]
    }
   ],
   "source": [
    "print(u.atoms[50:70].masses)"
   ]
  },
  {
   "cell_type": "markdown",
   "metadata": {},
   "source": [
    "It also knows which residues and segments the atoms belong to. The `.residues` and `.segments` return a `ResidueGroup` and `SegmentGroup`, respectively."
   ]
  },
  {
   "cell_type": "code",
   "execution_count": 14,
   "metadata": {},
   "outputs": [
    {
     "name": "stdout",
     "output_type": "stream",
     "text": [
      "<ResidueGroup [<Residue MET, 1>, <Residue ARG, 2>]>\n",
      "<SegmentGroup [<Segment 4AKE>]>\n"
     ]
    }
   ],
   "source": [
    "print(u.atoms[:20].residues)\n",
    "print(u.atoms[-20:].segments)"
   ]
  },
  {
   "cell_type": "markdown",
   "metadata": {},
   "source": [
    "Note that there are no duplicates in the `ResidueGroup` and `SegmentGroup` above. To get residue attributes atom-wise, you can access them directly through `AtomGroup`."
   ]
  },
  {
   "cell_type": "code",
   "execution_count": 15,
   "metadata": {
    "scrolled": true
   },
   "outputs": [
    {
     "name": "stdout",
     "output_type": "stream",
     "text": [
      "['MET' 'MET' 'MET' 'MET' 'MET' 'MET' 'MET' 'MET' 'MET' 'MET' 'MET' 'MET'\n",
      " 'MET' 'MET' 'MET' 'MET' 'MET' 'MET' 'MET' 'ARG']\n"
     ]
    }
   ],
   "source": [
    "print(u.atoms[:20].resnames)"
   ]
  },
  {
   "cell_type": "markdown",
   "metadata": {},
   "source": [
    "You can group atoms together by topology attributes.\n",
    "\n",
    "For example, to group atoms with the same residue name and mass together:"
   ]
  },
  {
   "cell_type": "code",
   "execution_count": 16,
   "metadata": {},
   "outputs": [
    {
     "data": {
      "text/plain": [
       "{('ASP', 'N'): <AtomGroup with 1 atom>,\n",
       " ('ASP', 'C'): <AtomGroup with 1 atom>,\n",
       " ('GLU', 'N'): <AtomGroup with 1 atom>,\n",
       " ('LEU', 'N'): <AtomGroup with 1 atom>,\n",
       " ('ASN', 'O'): <AtomGroup with 1 atom>,\n",
       " ('GLN', 'C'): <AtomGroup with 1 atom>,\n",
       " ('THR', 'N'): <AtomGroup with 1 atom>,\n",
       " ('ARG', 'N'): <AtomGroup with 1 atom>,\n",
       " ('ALA', 'HN'): <AtomGroup with 2 atoms>,\n",
       " ('ALA', 'C'): <AtomGroup with 1 atom>,\n",
       " ('LYS', 'N'): <AtomGroup with 1 atom>,\n",
       " ('ILE', 'C'): <AtomGroup with 2 atoms>}"
      ]
     },
     "execution_count": 16,
     "metadata": {},
     "output_type": "execute_result"
    }
   ],
   "source": [
    "near_met = u.select_atoms('not resname MET and (around 2 resname MET)')\n",
    "near_met.groupby(['resnames', 'names'])"
   ]
  },
  {
   "cell_type": "markdown",
   "metadata": {},
   "source": [
    "A complete list of topology attributes can be found [in the user guide.](https://www.mdanalysis.org/UserGuide/topology_system.html#topology-attributes)"
   ]
  },
  {
   "cell_type": "markdown",
   "metadata": {},
   "source": [
    "### AtomGroup positions and methods"
   ]
  },
  {
   "cell_type": "markdown",
   "metadata": {},
   "source": [
    "The `.positions` attribute is probably the most important information you can get from an `AtomGroup`: a `numpy.ndarray` of coordinates, with the shape (n_atoms, 3)."
   ]
  },
  {
   "cell_type": "code",
   "execution_count": 17,
   "metadata": {},
   "outputs": [
    {
     "name": "stdout",
     "output_type": "stream",
     "text": [
      "[[11.664622    8.393473   -8.983231  ]\n",
      " [11.414839    5.4344215  -6.5134845 ]\n",
      " [ 8.959755    5.612923   -3.6132305 ]\n",
      " [ 8.290068    3.075991   -0.79665166]\n",
      " [ 5.011126    3.7638984   1.130355  ]]\n",
      "(5, 3)\n"
     ]
    }
   ],
   "source": [
    "ca = u.select_atoms('resid 1-5 and name CA')\n",
    "print(ca.positions)\n",
    "print(ca.positions.shape)"
   ]
  },
  {
   "cell_type": "markdown",
   "metadata": {},
   "source": [
    "A number of other quantities have been defined for an AtomGroup, including:\n",
    "\n",
    "* `.center_of_mass()`\n",
    "* `.center_of_geometry()`\n",
    "* `.total_mass()`\n",
    "* `.total_charge()`\n",
    "* `.radius_of_gyration()`\n",
    "* `.bsphere()` (the bounding sphere of the selection)\n",
    "\n",
    "See the [user guide](https://www.mdanalysis.org/UserGuide/topology_system.html#topology-specific-methods) for a complete list and description of AtomGroup methods."
   ]
  },
  {
   "cell_type": "code",
   "execution_count": 18,
   "metadata": {},
   "outputs": [
    {
     "name": "stdout",
     "output_type": "stream",
     "text": [
      "[ 9.06808195  5.25614133 -3.75524844]\n"
     ]
    }
   ],
   "source": [
    "print(ca.center_of_mass())"
   ]
  },
  {
   "cell_type": "markdown",
   "metadata": {},
   "source": [
    "<div class=\"alert alert-info\">\n",
    "\n",
    "**Note**\n",
    "\n",
    "The `.center_of_mass()` function, like many of the analysis modules in MDAnalysis, relies on having accurate mass properties available. **[Particle masses may not always be available or accurate!](https://www.mdanalysis.org/UserGuide/formats/guessing.html#masses)**\n",
    "\n",
    "Currently, MDAnalysis assigns masses to particles based on their element or 'atom type', which is guessed from the particle name. If MDAnalysis guesses incorrectly (e.g. a calcium atom called CA is treated as a $C_{\\alpha}$), the mass of that atom will be inaccurate. If MDAnalysis has no idea what the particle is (e.g. coarse-grained beads), it will raise a warning, and give that particle a mass of 0. \n",
    "\n",
    "To be certain that MDAnalysis is using the correct masses, you can set them manually.\n",
    "</div>"
   ]
  },
  {
   "cell_type": "markdown",
   "metadata": {},
   "source": [
    "MDAnalysis can also create [topology geometries](https://www.mdanalysis.org/UserGuide/topology_system.html#topology-objects) such as bonds, angles, dihedral angles, and improper angles from an `AtomGroup`. This `AtomGroup` has a special requirement: only the atoms involved in the geometry can be in the group. For example, an `AtomGroup` used to create a bond can only have 2 atoms in it; an `AtomGroup` used to create a dihedral or improper angle must have 4 atoms."
   ]
  },
  {
   "cell_type": "code",
   "execution_count": 19,
   "metadata": {},
   "outputs": [
    {
     "name": "stdout",
     "output_type": "stream",
     "text": [
      "['N' 'HT1' 'HT2']\n"
     ]
    }
   ],
   "source": [
    "nhh = u.atoms[:3]\n",
    "print(nhh.names)"
   ]
  },
  {
   "cell_type": "markdown",
   "metadata": {},
   "source": [
    "After a topology object such as an angle is created, the value of the angle (in degrees) can be calculated based on the positions of the atoms."
   ]
  },
  {
   "cell_type": "code",
   "execution_count": 20,
   "metadata": {},
   "outputs": [
    {
     "name": "stdout",
     "output_type": "stream",
     "text": [
      "37.992344\n"
     ]
    }
   ],
   "source": [
    "angle_nhh = nhh.angle\n",
    "print(angle_nhh.value())"
   ]
  },
  {
   "cell_type": "markdown",
   "metadata": {},
   "source": [
    "Note that the order of the atoms matters for angles, dihedrals, and impropers. The value returned for an angle is the angle between first and third atom, with the apex at the second. Fancy indexing is one way to get an ordered AtomGroup.\n",
    "```\n",
    "   3\n",
    "  /\n",
    " /\n",
    "2------1\n",
    "```"
   ]
  },
  {
   "cell_type": "code",
   "execution_count": 21,
   "metadata": {
    "scrolled": true
   },
   "outputs": [
    {
     "name": "stdout",
     "output_type": "stream",
     "text": [
      "['HT1' 'N' 'HT2']\n"
     ]
    }
   ],
   "source": [
    "hnh = u.atoms[[1, 0, 2]]\n",
    "print(hnh.names)"
   ]
  },
  {
   "cell_type": "code",
   "execution_count": 22,
   "metadata": {},
   "outputs": [
    {
     "name": "stdout",
     "output_type": "stream",
     "text": [
      "106.203636\n"
     ]
    }
   ],
   "source": [
    "angle_hnh = hnh.angle\n",
    "print(angle_hnh.value())"
   ]
  },
  {
   "cell_type": "markdown",
   "metadata": {},
   "source": [
    "## Working with trajectories"
   ]
  },
  {
   "cell_type": "markdown",
   "metadata": {},
   "source": [
    "The [trajectory of a Universe contains the changing coordinate information](https://mdanalysis.org/UserGuide/trajectories/trajectories.html). The number of frames in a trajectory is its length:"
   ]
  },
  {
   "cell_type": "code",
   "execution_count": 23,
   "metadata": {},
   "outputs": [
    {
     "name": "stdout",
     "output_type": "stream",
     "text": [
      "98\n"
     ]
    }
   ],
   "source": [
    "print(len(u.trajectory))"
   ]
  },
  {
   "cell_type": "markdown",
   "metadata": {},
   "source": [
    "The standard way to assess the information of each frame in a trajectory is to iterate over it. When the timestep changes, the universe only contains information associated with that timestep."
   ]
  },
  {
   "cell_type": "code",
   "execution_count": 24,
   "metadata": {
    "scrolled": true
   },
   "outputs": [
    {
     "name": "stdout",
     "output_type": "stream",
     "text": [
      "Frame:   0, Time:    1 ps, Rgyr: 16.669 A\n",
      "Frame:   1, Time:    2 ps, Rgyr: 16.6732 A\n",
      "Frame:   2, Time:    3 ps, Rgyr: 16.7315 A\n",
      "Frame:   3, Time:    4 ps, Rgyr: 16.7223 A\n",
      "Frame:   4, Time:    5 ps, Rgyr: 16.744 A\n",
      "Frame:   5, Time:    6 ps, Rgyr: 16.7185 A\n",
      "Frame:   6, Time:    7 ps, Rgyr: 16.7741 A\n",
      "Frame:   7, Time:    8 ps, Rgyr: 16.7764 A\n",
      "Frame:   8, Time:    9 ps, Rgyr: 16.7894 A\n",
      "Frame:   9, Time:   10 ps, Rgyr: 16.8289 A\n",
      "Frame:  10, Time:   11 ps, Rgyr: 16.8521 A\n",
      "Frame:  11, Time:   12 ps, Rgyr: 16.8549 A\n",
      "Frame:  12, Time:   13 ps, Rgyr: 16.8723 A\n",
      "Frame:  13, Time:   14 ps, Rgyr: 16.9108 A\n",
      "Frame:  14, Time:   15 ps, Rgyr: 16.9494 A\n",
      "Frame:  15, Time:   16 ps, Rgyr: 16.981 A\n",
      "Frame:  16, Time:   17 ps, Rgyr: 17.0033 A\n",
      "Frame:  17, Time:   18 ps, Rgyr: 17.0196 A\n",
      "Frame:  18, Time:   19 ps, Rgyr: 17.0784 A\n",
      "Frame:  19, Time:   20 ps, Rgyr: 17.1265 A\n"
     ]
    }
   ],
   "source": [
    "for ts in u.trajectory[:20]:\n",
    "    time = u.trajectory.time\n",
    "    rgyr = u.atoms.radius_of_gyration()\n",
    "    print(\"Frame: {:3d}, Time: {:4.0f} ps, Rgyr: {:g} A\".format(ts.frame, time, rgyr))"
   ]
  },
  {
   "cell_type": "markdown",
   "metadata": {},
   "source": [
    "After iteration, the trajectory 'resets' back to the first frame. Please see [the user guide](https://mdanalysis.org/UserGuide/trajectories/trajectories.html) for more information."
   ]
  },
  {
   "cell_type": "code",
   "execution_count": 25,
   "metadata": {},
   "outputs": [
    {
     "name": "stdout",
     "output_type": "stream",
     "text": [
      "0\n"
     ]
    }
   ],
   "source": [
    "print(u.trajectory.frame)"
   ]
  },
  {
   "cell_type": "markdown",
   "metadata": {},
   "source": [
    "You can set the timestep of the trajectory with the frame index:"
   ]
  },
  {
   "cell_type": "code",
   "execution_count": 26,
   "metadata": {},
   "outputs": [
    {
     "name": "stdout",
     "output_type": "stream",
     "text": [
      "10\n"
     ]
    }
   ],
   "source": [
    "print(u.trajectory[10].frame)"
   ]
  },
  {
   "cell_type": "markdown",
   "metadata": {},
   "source": [
    "This persists until the timestep is next changed."
   ]
  },
  {
   "cell_type": "code",
   "execution_count": 27,
   "metadata": {},
   "outputs": [
    {
     "name": "stdout",
     "output_type": "stream",
     "text": [
      "Frame:  10, Time:   11 ps, Rgyr: 16.8521 A\n"
     ]
    }
   ],
   "source": [
    "frame = u.trajectory.frame\n",
    "time = u.trajectory.time\n",
    "rgyr = u.atoms.radius_of_gyration()\n",
    "print(\"Frame: {:3d}, Time: {:4.0f} ps, Rgyr: {:g} A\".format(frame, time, rgyr))"
   ]
  },
  {
   "cell_type": "markdown",
   "metadata": {},
   "source": [
    "Generally, trajectory analysis first collects frame-wise data in a list."
   ]
  },
  {
   "cell_type": "code",
   "execution_count": 28,
   "metadata": {},
   "outputs": [],
   "source": [
    "rgyr = []\n",
    "time = []\n",
    "protein = u.select_atoms(\"protein\")\n",
    "for ts in u.trajectory:\n",
    "    time.append(u.trajectory.time)\n",
    "    rgyr.append(protein.radius_of_gyration())"
   ]
  },
  {
   "cell_type": "markdown",
   "metadata": {},
   "source": [
    "This can then be converted into other data structures, such as a numpy array or a pandas DataFrame. It can be plotted (as below), or used for further analysis. The following section requires the [pandas](https://pandas.pydata.org) package, which can be installed with:\n",
    "\n",
    "``conda install pandas``\n",
    "\n",
    "or \n",
    "\n",
    "``pip install pandas``"
   ]
  },
  {
   "cell_type": "code",
   "execution_count": 29,
   "metadata": {},
   "outputs": [
    {
     "data": {
      "text/html": [
       "<div>\n",
       "<style scoped>\n",
       "    .dataframe tbody tr th:only-of-type {\n",
       "        vertical-align: middle;\n",
       "    }\n",
       "\n",
       "    .dataframe tbody tr th {\n",
       "        vertical-align: top;\n",
       "    }\n",
       "\n",
       "    .dataframe thead th {\n",
       "        text-align: right;\n",
       "    }\n",
       "</style>\n",
       "<table border=\"1\" class=\"dataframe\">\n",
       "  <thead>\n",
       "    <tr style=\"text-align: right;\">\n",
       "      <th></th>\n",
       "      <th>Radius of gyration (A)</th>\n",
       "    </tr>\n",
       "    <tr>\n",
       "      <th>Time (ps)</th>\n",
       "      <th></th>\n",
       "    </tr>\n",
       "  </thead>\n",
       "  <tbody>\n",
       "    <tr>\n",
       "      <th>1.0</th>\n",
       "      <td>16.669018</td>\n",
       "    </tr>\n",
       "    <tr>\n",
       "      <th>2.0</th>\n",
       "      <td>16.673217</td>\n",
       "    </tr>\n",
       "    <tr>\n",
       "      <th>3.0</th>\n",
       "      <td>16.731454</td>\n",
       "    </tr>\n",
       "    <tr>\n",
       "      <th>4.0</th>\n",
       "      <td>16.722283</td>\n",
       "    </tr>\n",
       "    <tr>\n",
       "      <th>5.0</th>\n",
       "      <td>16.743961</td>\n",
       "    </tr>\n",
       "  </tbody>\n",
       "</table>\n",
       "</div>"
      ],
      "text/plain": [
       "           Radius of gyration (A)\n",
       "Time (ps)                        \n",
       "1.0                     16.669018\n",
       "2.0                     16.673217\n",
       "3.0                     16.731454\n",
       "4.0                     16.722283\n",
       "5.0                     16.743961"
      ]
     },
     "execution_count": 29,
     "metadata": {},
     "output_type": "execute_result"
    }
   ],
   "source": [
    "import pandas as pd\n",
    "rgyr_df = pd.DataFrame(rgyr, columns=['Radius of gyration (A)'], index=time)\n",
    "rgyr_df.index.name = 'Time (ps)'\n",
    "\n",
    "rgyr_df.head()"
   ]
  },
  {
   "cell_type": "code",
   "execution_count": 30,
   "metadata": {},
   "outputs": [
    {
     "data": {
      "text/plain": [
       "<matplotlib.axes._subplots.AxesSubplot at 0x10d5d0fd0>"
      ]
     },
     "execution_count": 30,
     "metadata": {},
     "output_type": "execute_result"
    },
    {
     "data": {
      "image/png": "[encoded data removed]",
      "text/plain": [
       "<Figure size 432x288 with 1 Axes>"
      ]
     },
     "metadata": {
      "needs_background": "light"
     },
     "output_type": "display_data"
    }
   ],
   "source": [
    "%matplotlib inline\n",
    "\n",
    "rgyr_df.plot(title='Radius of gyration')"
   ]
  },
  {
   "cell_type": "markdown",
   "metadata": {},
   "source": [
    "### Dynamic selection"
   ]
  },
  {
   "cell_type": "markdown",
   "metadata": {},
   "source": [
    "As seen above, coordinates change while iterating over the trajectory. Therefore, properties calculated from the coordinates, such as the radius of gyration, also change. \n",
    "\n",
    "Selections are often defined on static properties that do not change when moving through a trajectory. Above, the static selection is all the atoms that are in a protein. You can define the selection once and then recalculate the property of interest for each frame of the trajectory.\n",
    "\n",
    "However, some selections contain distance-dependent queries (such as `around` or `point`, [see selection keywords for more details](https://www.mdanalysis.org/UserGuide/selections)). In this case, the selection should be updated for each time step using a dynamic selection by setting the keyword `updating=True`. This command gives an `UpdatingAtomGroup` rather than a static `AtomGroup`.\n",
    "\n"
   ]
  },
  {
   "cell_type": "code",
   "execution_count": 31,
   "metadata": {},
   "outputs": [
    {
     "name": "stdout",
     "output_type": "stream",
     "text": [
      "<class 'MDAnalysis.core.groups.UpdatingAtomGroup'>\n"
     ]
    },
    {
     "data": {
      "text/plain": [
       "<AtomGroup with 54 atoms, with selection 'around 2 resname ALA' on the entire Universe.>"
      ]
     },
     "execution_count": 31,
     "metadata": {},
     "output_type": "execute_result"
    }
   ],
   "source": [
    "dynamic = u.select_atoms('around 2 resname ALA', updating=True)\n",
    "print(type(dynamic))\n",
    "dynamic"
   ]
  },
  {
   "cell_type": "code",
   "execution_count": 32,
   "metadata": {},
   "outputs": [
    {
     "name": "stdout",
     "output_type": "stream",
     "text": [
      "<class 'MDAnalysis.core.groups.AtomGroup'>\n"
     ]
    },
    {
     "data": {
      "text/plain": [
       "<AtomGroup with 54 atoms>"
      ]
     },
     "execution_count": 32,
     "metadata": {},
     "output_type": "execute_result"
    }
   ],
   "source": [
    "static = u.select_atoms('around 2 resname ALA')\n",
    "print(type(static))\n",
    "static"
   ]
  },
  {
   "cell_type": "markdown",
   "metadata": {},
   "source": [
    "When you call the next frame of the universe, the atoms in the dynamic selection are updated, whereas the atoms in the static selection remain the same."
   ]
  },
  {
   "cell_type": "code",
   "execution_count": 33,
   "metadata": {},
   "outputs": [
    {
     "data": {
      "text/plain": [
       "<AtomGroup with 56 atoms, with selection 'around 2 resname ALA' on the entire Universe.>"
      ]
     },
     "execution_count": 33,
     "metadata": {},
     "output_type": "execute_result"
    }
   ],
   "source": [
    "u.trajectory.next()\n",
    "dynamic"
   ]
  },
  {
   "cell_type": "code",
   "execution_count": 34,
   "metadata": {},
   "outputs": [
    {
     "data": {
      "text/plain": [
       "<AtomGroup with 54 atoms>"
      ]
     },
     "execution_count": 34,
     "metadata": {},
     "output_type": "execute_result"
    }
   ],
   "source": [
    "static"
   ]
  },
  {
   "cell_type": "markdown",
   "metadata": {},
   "source": [
    "## Writing out coordinates"
   ]
  },
  {
   "cell_type": "markdown",
   "metadata": {},
   "source": [
    "MDAnalysis supports [writing data out](https://www.mdanalysis.org/UserGuide/reading_and_writing.html#output) into a range of file formats, including both single frame formats (e.g. PDB, GRO) and trajectory writers (e.g. XTC, DCD, and multi-frame PDB files). The user guide has a [complete list of formats](https://mdanalysis.org/UserGuide/formats/index.html), each with their own [reference pages](https://mdanalysis.org/UserGuide/formats/format_reference.html)."
   ]
  },
  {
   "cell_type": "markdown",
   "metadata": {},
   "source": [
    "### Single frame"
   ]
  },
  {
   "cell_type": "markdown",
   "metadata": {},
   "source": [
    "The most straightforward way to write to a file that can only hold a single frame is to use the `write()` method of any `AtomGroup`. MDAnalysis uses the file extension to determine the output file format. For instance, to only write out the $C_{\\alpha}$ atoms to a file in GRO format:\n",
    "\n",
    "```python\n",
    "ca = u.select_atoms('name CA')\n",
    "ca.write('calphas.gro')\n",
    "```"
   ]
  },
  {
   "cell_type": "markdown",
   "metadata": {},
   "source": [
    "### Trajectories"
   ]
  },
  {
   "cell_type": "markdown",
   "metadata": {},
   "source": [
    "The [standard way to write out trajectories](https://www.mdanalysis.org/UserGuide/reading_and_writing.html#output) is to:\n",
    "\n",
    "1. Open a trajectory `Writer` and specify how many atoms a frame will contain\n",
    "2. Iterate through the trajectory and write coordinates frame-by-frame with `Writer.write()`\n",
    "3. If you do not use the context manager and the `with` statement below, you then need to close the trajectory with `.close()`.\n",
    "\n",
    "For instance, to write out the $C_{\\alpha}$ atoms to a trajectory in the XTC format:\n",
    "\n",
    "```python\n",
    "ca = u.select_atoms('name CA')\n",
    "with mda.Writer('calphas.xtc', ca.n_atoms) as w:\n",
    "    for ts in u.trajectory:\n",
    "        w.write(ca)\n",
    "```"
   ]
  },
  {
   "cell_type": "markdown",
   "metadata": {},
   "source": [
    "## Analysis"
   ]
  },
  {
   "cell_type": "markdown",
   "metadata": {},
   "source": [
    "MDAnalysis comes with a [diverse set of analysis modules](https://www.mdanalysis.org/UserGuide/analysis), and the building blocks to [implement your own](https://mdanalysis.org/UserGuide/examples/analysis/custom_trajectory_analysis.html).\n",
    "\n",
    "The majority of these follow a common interface:\n",
    "\n",
    "1. Initialise the analysis with a `Universe` and other required parameters.\n",
    "2. Run the analysis with `.run()`. Optional arguments are the `start` frame index, `stop` frame index, `step` size, and toggling `verbose`. The default is to run analysis on the whole trajectory.\n",
    "3. Results are stored within the class.\n",
    "4. Often, a function is available to operate on single frames.\n",
    "\n",
    "**However, not all analysis uses this model. It is important to check the documentation for each analysis.** You can also see examples in the [Example gallery](https://www.mdanalysis.org/UserGuide/examples/).\n",
    "\n",
    "Below, simple RMSD analysis is shown. The `rms` module follows the interface above."
   ]
  },
  {
   "cell_type": "markdown",
   "metadata": {},
   "source": [
    "### RMSD"
   ]
  },
  {
   "cell_type": "markdown",
   "metadata": {},
   "source": [
    "Not all sub-modules of MDAnalysis are imported with `import MDAnalysis`. Most analysis modules have to be imported explicitly. "
   ]
  },
  {
   "cell_type": "code",
   "execution_count": 35,
   "metadata": {},
   "outputs": [],
   "source": [
    "from MDAnalysis.analysis import rms"
   ]
  },
  {
   "cell_type": "markdown",
   "metadata": {},
   "source": [
    "MDAnalysis provides a `rmsd()` function for calculating the RMSD between two numpy arrays of coordinates."
   ]
  },
  {
   "cell_type": "code",
   "execution_count": 36,
   "metadata": {},
   "outputs": [
    {
     "data": {
      "text/plain": [
       "6.852774844656239"
      ]
     },
     "execution_count": 36,
     "metadata": {},
     "output_type": "execute_result"
    }
   ],
   "source": [
    "bb = u.select_atoms('backbone')\n",
    "\n",
    "u.trajectory[0] # first frame\n",
    "first = bb.positions\n",
    "\n",
    "u.trajectory[-1] #last frame\n",
    "last = bb.positions\n",
    "\n",
    "rms.rmsd(first, last)"
   ]
  },
  {
   "cell_type": "markdown",
   "metadata": {},
   "source": [
    "An `RMSD` class is also provided to operate on trajectories. \n",
    "\n",
    "Below, the `RMSD` class is created. \n",
    "* The first argument is the `AtomGroup` or `Universe` for which the RMSD is calculated. \n",
    "* As a reference `AtomGroup` or `Universe` is not given as the second argument, the default is to align to the current frame of the first argument. Here it is set to the first frame. \n",
    "* We choose to align the trajectory over the backbone atoms, and then compute the RMSD for the backbone atoms (`select`). \n",
    "* Then, without re-aligning the trajectory, the RMSD is also computed (`groupselections`) for the $C_{\\alpha}$ atoms (`name CA`) and every protein atom (`protein`).\n",
    "\n",
    "The RMSD is computed when we call `.run()`."
   ]
  },
  {
   "cell_type": "code",
   "execution_count": 37,
   "metadata": {},
   "outputs": [
    {
     "data": {
      "text/plain": [
       "<MDAnalysis.analysis.rms.RMSD at 0x10d56f160>"
      ]
     },
     "execution_count": 37,
     "metadata": {},
     "output_type": "execute_result"
    }
   ],
   "source": [
    "u.trajectory[0] # set to first frame\n",
    "rmsd_analysis = rms.RMSD(u, select='backbone', groupselections=['name CA', 'protein'])\n",
    "rmsd_analysis.run()"
   ]
  },
  {
   "cell_type": "markdown",
   "metadata": {},
   "source": [
    "The results are stored in the `.rmsd` attribute. This is an array with the shape (n_frames, 2 + n_selections)."
   ]
  },
  {
   "cell_type": "code",
   "execution_count": 38,
   "metadata": {},
   "outputs": [
    {
     "name": "stdout",
     "output_type": "stream",
     "text": [
      "(98, 5)\n"
     ]
    }
   ],
   "source": [
    "print(rmsd_analysis.rmsd.shape)"
   ]
  },
  {
   "cell_type": "markdown",
   "metadata": {},
   "source": [
    "We can interpret this as an array with 98 rows and 5 columns. Each row is the RMSD associated with a frame in the trajectory. The columns are as follows:\n",
    "\n",
    "1. Frame number\n",
    "2. Time (ps)\n",
    "3. RMSD (backbone)\n",
    "4. RMSD (C-alpha)\n",
    "5. RMSD (protein)\n",
    "\n",
    "We can turn this into a `pandas` DataFrame and plot the results."
   ]
  },
  {
   "cell_type": "code",
   "execution_count": 39,
   "metadata": {},
   "outputs": [
    {
     "data": {
      "text/html": [
       "<div>\n",
       "<style scoped>\n",
       "    .dataframe tbody tr th:only-of-type {\n",
       "        vertical-align: middle;\n",
       "    }\n",
       "\n",
       "    .dataframe tbody tr th {\n",
       "        vertical-align: top;\n",
       "    }\n",
       "\n",
       "    .dataframe thead th {\n",
       "        text-align: right;\n",
       "    }\n",
       "</style>\n",
       "<table border=\"1\" class=\"dataframe\">\n",
       "  <thead>\n",
       "    <tr style=\"text-align: right;\">\n",
       "      <th></th>\n",
       "      <th>Backbone</th>\n",
       "      <th>C-alphas</th>\n",
       "      <th>Protein</th>\n",
       "    </tr>\n",
       "    <tr>\n",
       "      <th>Time (ps)</th>\n",
       "      <th></th>\n",
       "      <th></th>\n",
       "      <th></th>\n",
       "    </tr>\n",
       "  </thead>\n",
       "  <tbody>\n",
       "    <tr>\n",
       "      <th>1.0</th>\n",
       "      <td>7.379926e-07</td>\n",
       "      <td>4.486855e-08</td>\n",
       "      <td>5.645801e-08</td>\n",
       "    </tr>\n",
       "    <tr>\n",
       "      <th>2.0</th>\n",
       "      <td>4.636592e-01</td>\n",
       "      <td>4.235205e-01</td>\n",
       "      <td>6.934167e-01</td>\n",
       "    </tr>\n",
       "    <tr>\n",
       "      <th>3.0</th>\n",
       "      <td>6.419340e-01</td>\n",
       "      <td>5.939111e-01</td>\n",
       "      <td>8.748416e-01</td>\n",
       "    </tr>\n",
       "    <tr>\n",
       "      <th>4.0</th>\n",
       "      <td>7.743983e-01</td>\n",
       "      <td>7.371346e-01</td>\n",
       "      <td>1.052780e+00</td>\n",
       "    </tr>\n",
       "    <tr>\n",
       "      <th>5.0</th>\n",
       "      <td>8.588600e-01</td>\n",
       "      <td>8.279498e-01</td>\n",
       "      <td>1.154986e+00</td>\n",
       "    </tr>\n",
       "  </tbody>\n",
       "</table>\n",
       "</div>"
      ],
      "text/plain": [
       "               Backbone      C-alphas       Protein\n",
       "Time (ps)                                          \n",
       "1.0        7.379926e-07  4.486855e-08  5.645801e-08\n",
       "2.0        4.636592e-01  4.235205e-01  6.934167e-01\n",
       "3.0        6.419340e-01  5.939111e-01  8.748416e-01\n",
       "4.0        7.743983e-01  7.371346e-01  1.052780e+00\n",
       "5.0        8.588600e-01  8.279498e-01  1.154986e+00"
      ]
     },
     "execution_count": 39,
     "metadata": {},
     "output_type": "execute_result"
    }
   ],
   "source": [
    "import pandas as pd\n",
    "\n",
    "rmsd_df = pd.DataFrame(rmsd_analysis.rmsd[:, 2:],\n",
    "                       columns=['Backbone', 'C-alphas', 'Protein'],\n",
    "                       index=rmsd_analysis.rmsd[:, 1])\n",
    "rmsd_df.index.name = 'Time (ps)'\n",
    "rmsd_df.head()"
   ]
  },
  {
   "cell_type": "code",
   "execution_count": 40,
   "metadata": {},
   "outputs": [
    {
     "data": {
      "text/plain": [
       "<matplotlib.axes._subplots.AxesSubplot at 0x10d56d080>"
      ]
     },
     "execution_count": 40,
     "metadata": {},
     "output_type": "execute_result"
    },
    {
     "data": {
      "image/png": "[encoded data removed]",
      "text/plain": [
       "<Figure size 432x288 with 1 Axes>"
      ]
     },
     "metadata": {
      "needs_background": "light"
     },
     "output_type": "display_data"
    }
   ],
   "source": [
    "rmsd_df.plot(title='RMSD')"
   ]
  },
  {
   "cell_type": "markdown",
   "metadata": {},
   "source": [
    "See the [analysis documentation](https://mdanalysis.org/UserGuide/examples/README.html) for more information."
   ]
  },
  {
   "cell_type": "markdown",
   "metadata": {},
   "source": [
    "## References"
   ]
  },
  {
   "cell_type": "markdown",
   "metadata": {},
   "source": [
    "When using MDAnalysis in published work, please cite both these papers:\n",
    "\n",
    "* N. Michaud-Agrawal, E. J. Denning, T. B. Woolf, and O. Beckstein. MDAnalysis: A Toolkit for the Analysis of Molecular Dynamics Simulations. *J. Comput. Chem.* **32** (2011), 2319–2327. doi:[10.1002/jcc.21787](http://dx.doi.org/10.1002/jcc.21787)\n",
    "\n",
    "* R. J. Gowers, M. Linke, J. Barnoud, T. J. E. Reddy, M. N.\n",
    "   Melo, S. L. Seyler, D. L. Dotson, J. Domanski, S. Buchoux, I. M. Kenney,\n",
    "   and O. Beckstein. [MDAnalysis: A Python package for the rapid analysis of\n",
    "   molecular dynamics simulations](http://conference.scipy.org/proceedings/scipy2016/oliver_beckstein.html). In S. Benthall and S. Rostrup, editors,\n",
    "   *Proceedings of the 15th Python in Science Conference*, pages 98-105,\n",
    "   Austin, TX, 2016. SciPy. doi:[10.25080/Majora-629e541a-00e](https://doi.org/10.25080/Majora-629e541a-00e)\n",
    "   \n",
    "MDAnalysis includes many algorithms and modules that should also be individually cited. For example, if you use the `MDAnalysis.analysis.rms` or `MDAnalysis.analysis.align` modules, please cite:\n",
    "\n",
    "* Douglas L. Theobald. Rapid calculation of RMSD using a\n",
    "   quaternion-based characteristic polynomial. *Acta Crystallographica A*\n",
    "   **61** (2005), 478-480.\n",
    "* Pu Liu, Dmitris K. Agrafiotis, and Douglas L. Theobald. Fast\n",
    "   determination of the optimal rotational matrix for macromolecular\n",
    "   superpositions. *J. Comput. Chem.* **31** (2010), 1561–1563.\n",
    "   \n",
    "The primary sources of each module will be in their documentation."
   ]
  },
  {
   "cell_type": "markdown",
   "metadata": {},
   "source": [
    "### Automatic citations with duecredit"
   ]
  },
  {
   "cell_type": "markdown",
   "metadata": {},
   "source": [
    "Citations can be also be automatically generated using `duecredit`. [Complete installation and usage instructions can be found in the user guide](https://mdanalysis.org/UserGuide/references.html), but it is simple to generate a list of citations for your python script `my_script.py`.\n",
    "\n",
    "```console\n",
    "$ python -m duecredit my_script.py\n",
    "```\n",
    "\n",
    "This extracts citations into a hidden file, which can then be exported to different formats. For example, to display them as BibTeX, use the command:\n",
    "\n",
    "```console\n",
    "$ duecredit summary --format=bibtex\n",
    "```"
   ]
  }
 ],
 "metadata": {
  "celltoolbar": "Raw Cell Format",
  "kernelspec": {
   "display_name": "Python (mda0180)",
   "language": "python",
   "name": "mda0180"
  },
  "language_info": {
   "codemirror_mode": {
    "name": "ipython",
    "version": 3
   },
   "file_extension": ".py",
   "mimetype": "text/x-python",
   "name": "python",
   "nbconvert_exporter": "python",
   "pygments_lexer": "ipython3",
   "version": "3.6.7"
  },
  "nbsphinx-toctree": {
   "maxdepth": 2,
   "numbered": true
  },
  "toc": {
   "base_numbering": 1,
   "nav_menu": {},
   "number_sections": false,
   "sideBar": true,
   "skip_h1_title": false,
   "title_cell": "Table of Contents",
   "title_sidebar": "Contents",
   "toc_cell": false,
   "toc_position": {},
   "toc_section_display": true,
   "toc_window_display": false
  },
  "widgets": {
   "application/vnd.jupyter.widget-state+json": {
    "state": {},
    "version_major": 2,
    "version_minor": 0
   }
  }
 },
 "nbformat": 4,
 "nbformat_minor": 2
}
